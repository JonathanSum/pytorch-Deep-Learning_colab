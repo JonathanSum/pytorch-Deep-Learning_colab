{
  "nbformat": 4,
  "nbformat_minor": 0,
  "metadata": {
    "colab": {
      "name": "Ch8 part 1.ipynb",
      "provenance": [],
      "authorship_tag": "ABX9TyM+rYxlRnm6SP9oMNEfsES8",
      "include_colab_link": true
    },
    "kernelspec": {
      "name": "python3",
      "display_name": "Python 3"
    },
    "accelerator": "GPU",
    "widgets": {
      "application/vnd.jupyter.widget-state+json": {
        "6ea0f2dc5ac4493093af30175e548bbe": {
          "model_module": "@jupyter-widgets/controls",
          "model_name": "HBoxModel",
          "state": {
            "_view_name": "HBoxView",
            "_dom_classes": [],
            "_model_name": "HBoxModel",
            "_view_module": "@jupyter-widgets/controls",
            "_model_module_version": "1.5.0",
            "_view_count": null,
            "_view_module_version": "1.5.0",
            "box_style": "",
            "layout": "IPY_MODEL_335646ffc12541519b0c05e56d783e60",
            "_model_module": "@jupyter-widgets/controls",
            "children": [
              "IPY_MODEL_71eab58bc4244e6e87a88d7a3b250716",
              "IPY_MODEL_69eb4e2ba8a14c94be07c669bfc2bd64"
            ]
          }
        },
        "335646ffc12541519b0c05e56d783e60": {
          "model_module": "@jupyter-widgets/base",
          "model_name": "LayoutModel",
          "state": {
            "_view_name": "LayoutView",
            "grid_template_rows": null,
            "right": null,
            "justify_content": null,
            "_view_module": "@jupyter-widgets/base",
            "overflow": null,
            "_model_module_version": "1.2.0",
            "_view_count": null,
            "flex_flow": null,
            "width": null,
            "min_width": null,
            "border": null,
            "align_items": null,
            "bottom": null,
            "_model_module": "@jupyter-widgets/base",
            "top": null,
            "grid_column": null,
            "overflow_y": null,
            "overflow_x": null,
            "grid_auto_flow": null,
            "grid_area": null,
            "grid_template_columns": null,
            "flex": null,
            "_model_name": "LayoutModel",
            "justify_items": null,
            "grid_row": null,
            "max_height": null,
            "align_content": null,
            "visibility": null,
            "align_self": null,
            "height": null,
            "min_height": null,
            "padding": null,
            "grid_auto_rows": null,
            "grid_gap": null,
            "max_width": null,
            "order": null,
            "_view_module_version": "1.2.0",
            "grid_template_areas": null,
            "object_position": null,
            "object_fit": null,
            "grid_auto_columns": null,
            "margin": null,
            "display": null,
            "left": null
          }
        },
        "71eab58bc4244e6e87a88d7a3b250716": {
          "model_module": "@jupyter-widgets/controls",
          "model_name": "FloatProgressModel",
          "state": {
            "_view_name": "ProgressView",
            "style": "IPY_MODEL_1e24ea94e85945989d86383a0aca7e43",
            "_dom_classes": [],
            "description": "",
            "_model_name": "FloatProgressModel",
            "bar_style": "info",
            "max": 1,
            "_view_module": "@jupyter-widgets/controls",
            "_model_module_version": "1.5.0",
            "value": 1,
            "_view_count": null,
            "_view_module_version": "1.5.0",
            "orientation": "horizontal",
            "min": 0,
            "description_tooltip": null,
            "_model_module": "@jupyter-widgets/controls",
            "layout": "IPY_MODEL_37379f76fc09456ab484b991000c5867"
          }
        },
        "69eb4e2ba8a14c94be07c669bfc2bd64": {
          "model_module": "@jupyter-widgets/controls",
          "model_name": "HTMLModel",
          "state": {
            "_view_name": "HTMLView",
            "style": "IPY_MODEL_e6862b12d04849c89061f81c77518dc9",
            "_dom_classes": [],
            "description": "",
            "_model_name": "HTMLModel",
            "placeholder": "​",
            "_view_module": "@jupyter-widgets/controls",
            "_model_module_version": "1.5.0",
            "value": " 170500096/? [00:19&lt;00:00, 33723829.69it/s]",
            "_view_count": null,
            "_view_module_version": "1.5.0",
            "description_tooltip": null,
            "_model_module": "@jupyter-widgets/controls",
            "layout": "IPY_MODEL_c6b439e04349489fb743d9c3e7721dcb"
          }
        },
        "1e24ea94e85945989d86383a0aca7e43": {
          "model_module": "@jupyter-widgets/controls",
          "model_name": "ProgressStyleModel",
          "state": {
            "_view_name": "StyleView",
            "_model_name": "ProgressStyleModel",
            "description_width": "initial",
            "_view_module": "@jupyter-widgets/base",
            "_model_module_version": "1.5.0",
            "_view_count": null,
            "_view_module_version": "1.2.0",
            "bar_color": null,
            "_model_module": "@jupyter-widgets/controls"
          }
        },
        "37379f76fc09456ab484b991000c5867": {
          "model_module": "@jupyter-widgets/base",
          "model_name": "LayoutModel",
          "state": {
            "_view_name": "LayoutView",
            "grid_template_rows": null,
            "right": null,
            "justify_content": null,
            "_view_module": "@jupyter-widgets/base",
            "overflow": null,
            "_model_module_version": "1.2.0",
            "_view_count": null,
            "flex_flow": null,
            "width": null,
            "min_width": null,
            "border": null,
            "align_items": null,
            "bottom": null,
            "_model_module": "@jupyter-widgets/base",
            "top": null,
            "grid_column": null,
            "overflow_y": null,
            "overflow_x": null,
            "grid_auto_flow": null,
            "grid_area": null,
            "grid_template_columns": null,
            "flex": null,
            "_model_name": "LayoutModel",
            "justify_items": null,
            "grid_row": null,
            "max_height": null,
            "align_content": null,
            "visibility": null,
            "align_self": null,
            "height": null,
            "min_height": null,
            "padding": null,
            "grid_auto_rows": null,
            "grid_gap": null,
            "max_width": null,
            "order": null,
            "_view_module_version": "1.2.0",
            "grid_template_areas": null,
            "object_position": null,
            "object_fit": null,
            "grid_auto_columns": null,
            "margin": null,
            "display": null,
            "left": null
          }
        },
        "e6862b12d04849c89061f81c77518dc9": {
          "model_module": "@jupyter-widgets/controls",
          "model_name": "DescriptionStyleModel",
          "state": {
            "_view_name": "StyleView",
            "_model_name": "DescriptionStyleModel",
            "description_width": "",
            "_view_module": "@jupyter-widgets/base",
            "_model_module_version": "1.5.0",
            "_view_count": null,
            "_view_module_version": "1.2.0",
            "_model_module": "@jupyter-widgets/controls"
          }
        },
        "c6b439e04349489fb743d9c3e7721dcb": {
          "model_module": "@jupyter-widgets/base",
          "model_name": "LayoutModel",
          "state": {
            "_view_name": "LayoutView",
            "grid_template_rows": null,
            "right": null,
            "justify_content": null,
            "_view_module": "@jupyter-widgets/base",
            "overflow": null,
            "_model_module_version": "1.2.0",
            "_view_count": null,
            "flex_flow": null,
            "width": null,
            "min_width": null,
            "border": null,
            "align_items": null,
            "bottom": null,
            "_model_module": "@jupyter-widgets/base",
            "top": null,
            "grid_column": null,
            "overflow_y": null,
            "overflow_x": null,
            "grid_auto_flow": null,
            "grid_area": null,
            "grid_template_columns": null,
            "flex": null,
            "_model_name": "LayoutModel",
            "justify_items": null,
            "grid_row": null,
            "max_height": null,
            "align_content": null,
            "visibility": null,
            "align_self": null,
            "height": null,
            "min_height": null,
            "padding": null,
            "grid_auto_rows": null,
            "grid_gap": null,
            "max_width": null,
            "order": null,
            "_view_module_version": "1.2.0",
            "grid_template_areas": null,
            "object_position": null,
            "object_fit": null,
            "grid_auto_columns": null,
            "margin": null,
            "display": null,
            "left": null
          }
        }
      }
    }
  },
  "cells": [
    {
      "cell_type": "markdown",
      "metadata": {
        "id": "view-in-github",
        "colab_type": "text"
      },
      "source": [
        "<a href=\"https://colab.research.google.com/github/JonathanSum/pytorch-Deep-Learning_colab/blob/master/Ch8_part_1.ipynb\" target=\"_parent\"><img src=\"https://colab.research.google.com/assets/colab-badge.svg\" alt=\"Open In Colab\"/></a>"
      ]
    },
    {
      "cell_type": "code",
      "metadata": {
        "id": "_w_2Y1MzX4jP"
      },
      "source": [
        "import torch\r\n"
      ],
      "execution_count": 1,
      "outputs": []
    },
    {
      "cell_type": "code",
      "metadata": {
        "colab": {
          "base_uri": "https://localhost:8080/"
        },
        "id": "69oGNKnLkJce",
        "outputId": "308d533c-512e-4785-bdf1-4d14c4359479"
      },
      "source": [
        "%matplotlib inline\r\n",
        "from matplotlib import pyplot as plt\r\n",
        "import numpy as np\r\n",
        "import collections\r\n",
        "\r\n",
        "import torch\r\n",
        "import torch.nn as nn\r\n",
        "import torch.nn.functional as F\r\n",
        "import torch.optim as optim\r\n",
        "\r\n",
        "torch.set_printoptions(edgeitems=2)\r\n",
        "torch.manual_seed(123)"
      ],
      "execution_count": 2,
      "outputs": [
        {
          "output_type": "execute_result",
          "data": {
            "text/plain": [
              "<torch._C.Generator at 0x7fed4ca0bb58>"
            ]
          },
          "metadata": {
            "tags": []
          },
          "execution_count": 2
        }
      ]
    },
    {
      "cell_type": "code",
      "metadata": {
        "id": "lKjQ4Ogik6xO"
      },
      "source": [
        "class_names = ['airplane','automobile','bird','cat','deer',\r\n",
        "               'dog','frog','horse','ship','truck']"
      ],
      "execution_count": 3,
      "outputs": []
    },
    {
      "cell_type": "code",
      "metadata": {
        "colab": {
          "base_uri": "https://localhost:8080/",
          "height": 82,
          "referenced_widgets": [
            "6ea0f2dc5ac4493093af30175e548bbe",
            "335646ffc12541519b0c05e56d783e60",
            "71eab58bc4244e6e87a88d7a3b250716",
            "69eb4e2ba8a14c94be07c669bfc2bd64",
            "1e24ea94e85945989d86383a0aca7e43",
            "37379f76fc09456ab484b991000c5867",
            "e6862b12d04849c89061f81c77518dc9",
            "c6b439e04349489fb743d9c3e7721dcb"
          ]
        },
        "id": "CHESICPlcS30",
        "outputId": "23650433-19bf-498b-861b-e8b28a822146"
      },
      "source": [
        "from torchvision import datasets, transforms\r\n",
        "data_path = '../data-unversioned/p1ch6/'\r\n",
        "cifar10 = datasets.CIFAR10(\r\n",
        "    data_path, train=True, download=True,\r\n",
        "    transform=transforms.Compose([\r\n",
        "        transforms.ToTensor(),\r\n",
        "        transforms.Normalize((0.4915, 0.4823, 0.4468),\r\n",
        "                             (0.2470, 0.2435, 0.2616))\r\n",
        "    ]))"
      ],
      "execution_count": 4,
      "outputs": [
        {
          "output_type": "stream",
          "text": [
            "Downloading https://www.cs.toronto.edu/~kriz/cifar-10-python.tar.gz to ../data-unversioned/p1ch6/cifar-10-python.tar.gz\n"
          ],
          "name": "stdout"
        },
        {
          "output_type": "display_data",
          "data": {
            "application/vnd.jupyter.widget-view+json": {
              "model_id": "6ea0f2dc5ac4493093af30175e548bbe",
              "version_minor": 0,
              "version_major": 2
            },
            "text/plain": [
              "HBox(children=(FloatProgress(value=1.0, bar_style='info', max=1.0), HTML(value='')))"
            ]
          },
          "metadata": {
            "tags": []
          }
        },
        {
          "output_type": "stream",
          "text": [
            "Extracting ../data-unversioned/p1ch6/cifar-10-python.tar.gz to ../data-unversioned/p1ch6/\n"
          ],
          "name": "stdout"
        }
      ]
    },
    {
      "cell_type": "code",
      "metadata": {
        "colab": {
          "base_uri": "https://localhost:8080/"
        },
        "id": "L2Rvra59lASN",
        "outputId": "9a6d3161-1e7e-447e-9709-04c4967abc00"
      },
      "source": [
        "cifar10_val = datasets.CIFAR10(\r\n",
        "    data_path, train=False, download=True,\r\n",
        "    transform=transforms.Compose([\r\n",
        "        transforms.ToTensor(),\r\n",
        "        transforms.Normalize((0.4915, 0.4823, 0.4468),\r\n",
        "                             (0.2470, 0.2435, 0.2616))\r\n",
        "    ]))"
      ],
      "execution_count": 5,
      "outputs": [
        {
          "output_type": "stream",
          "text": [
            "Files already downloaded and verified\n"
          ],
          "name": "stdout"
        }
      ]
    },
    {
      "cell_type": "code",
      "metadata": {
        "id": "-tvcPZjRlGzx"
      },
      "source": [
        "label_map = {0: 0, 2: 1}\r\n",
        "class_names = ['airplane', 'bird']\r\n",
        "cifar2 = [(img, label_map[label])\r\n",
        "          for img, label in cifar10\r\n",
        "          if label in [0, 2]]\r\n",
        "cifar2_val = [(img, label_map[label])\r\n",
        "              for img, label in cifar10_val\r\n",
        "              if label in [0, 2]]\r\n"
      ],
      "execution_count": 6,
      "outputs": []
    },
    {
      "cell_type": "code",
      "metadata": {
        "id": "1ysZMi2olZsG"
      },
      "source": [
        "connected_model = nn.Sequential(\r\n",
        "            nn.Linear(3072, 1024),\r\n",
        "            nn.Tanh(),\r\n",
        "            nn.Linear(1024, 512),\r\n",
        "            nn.Tanh(),\r\n",
        "            nn.Linear(512, 128),\r\n",
        "            nn.Tanh(),\r\n",
        "            nn.Linear(128, 2))"
      ],
      "execution_count": 73,
      "outputs": []
    },
    {
      "cell_type": "code",
      "metadata": {
        "colab": {
          "base_uri": "https://localhost:8080/"
        },
        "id": "vLldbQ3RldbI",
        "outputId": "6b7d17f9-14c2-44ea-e8e3-9e9955330754"
      },
      "source": [
        "numel_list = [p.numel()\r\n",
        "              for p in connected_model.parameters()\r\n",
        "              if p.requires_grad == True]\r\n",
        "sum(numel_list), numel_list"
      ],
      "execution_count": 74,
      "outputs": [
        {
          "output_type": "execute_result",
          "data": {
            "text/plain": [
              "(3737474, [3145728, 1024, 524288, 512, 65536, 128, 256, 2])"
            ]
          },
          "metadata": {
            "tags": []
          },
          "execution_count": 74
        }
      ]
    },
    {
      "cell_type": "code",
      "metadata": {
        "id": "MkZHczC6lgeu"
      },
      "source": [
        "first_model = nn.Sequential(\r\n",
        "                nn.Linear(3072, 512),\r\n",
        "                nn.Tanh(),\r\n",
        "                nn.Linear(512, 2),\r\n",
        "                nn.LogSoftmax(dim=1))"
      ],
      "execution_count": 9,
      "outputs": []
    },
    {
      "cell_type": "code",
      "metadata": {
        "colab": {
          "base_uri": "https://localhost:8080/"
        },
        "id": "8-ocs6otliVV",
        "outputId": "9eb6d5e3-dc20-40b9-8aa1-ff7a8dcf1d67"
      },
      "source": [
        "numel_list = [p.numel() for p in first_model.parameters()]\r\n",
        "sum(numel_list), numel_list"
      ],
      "execution_count": 10,
      "outputs": [
        {
          "output_type": "execute_result",
          "data": {
            "text/plain": [
              "(1574402, [1572864, 512, 1024, 2])"
            ]
          },
          "metadata": {
            "tags": []
          },
          "execution_count": 10
        }
      ]
    },
    {
      "cell_type": "code",
      "metadata": {
        "colab": {
          "base_uri": "https://localhost:8080/"
        },
        "id": "AlY56cnQlkin",
        "outputId": "6f7e2e9c-b2d7-4abb-d372-e7327ee8967a"
      },
      "source": [
        "nn.Linear(3072, 512).weight.shape"
      ],
      "execution_count": 11,
      "outputs": [
        {
          "output_type": "execute_result",
          "data": {
            "text/plain": [
              "torch.Size([512, 3072])"
            ]
          },
          "metadata": {
            "tags": []
          },
          "execution_count": 11
        }
      ]
    },
    {
      "cell_type": "code",
      "metadata": {
        "colab": {
          "base_uri": "https://localhost:8080/"
        },
        "id": "Zq9Ub1uxl1M5",
        "outputId": "a0e2d653-f5c6-4e7e-d637-4f92a0ea8c1a"
      },
      "source": [
        "linear = nn.Linear(3072, 1024)\r\n",
        "\r\n",
        "linear.weight.shape, linear.bias.shape"
      ],
      "execution_count": 12,
      "outputs": [
        {
          "output_type": "execute_result",
          "data": {
            "text/plain": [
              "(torch.Size([1024, 3072]), torch.Size([1024]))"
            ]
          },
          "metadata": {
            "tags": []
          },
          "execution_count": 12
        }
      ]
    },
    {
      "cell_type": "code",
      "metadata": {
        "colab": {
          "base_uri": "https://localhost:8080/"
        },
        "id": "xNjOV_GLmAmH",
        "outputId": "76ddb667-a168-489a-cbf9-cceac910bc67"
      },
      "source": [
        "conv = nn.Conv2d(3, 16, kernel_size=3) # <1>\r\n",
        "conv"
      ],
      "execution_count": 13,
      "outputs": [
        {
          "output_type": "execute_result",
          "data": {
            "text/plain": [
              "Conv2d(3, 16, kernel_size=(3, 3), stride=(1, 1))"
            ]
          },
          "metadata": {
            "tags": []
          },
          "execution_count": 13
        }
      ]
    },
    {
      "cell_type": "code",
      "metadata": {
        "colab": {
          "base_uri": "https://localhost:8080/"
        },
        "id": "cwlJA7xsmDvF",
        "outputId": "dec0d678-005f-40d8-daeb-24f35a8865f1"
      },
      "source": [
        "conv.weight.shape, conv.bias.shape"
      ],
      "execution_count": 14,
      "outputs": [
        {
          "output_type": "execute_result",
          "data": {
            "text/plain": [
              "(torch.Size([16, 3, 3, 3]), torch.Size([16]))"
            ]
          },
          "metadata": {
            "tags": []
          },
          "execution_count": 14
        }
      ]
    },
    {
      "cell_type": "code",
      "metadata": {
        "colab": {
          "base_uri": "https://localhost:8080/"
        },
        "id": "Fr7xLM3yoWpp",
        "outputId": "1dbc20a0-c88d-48ba-a012-65e75fc2e1d8"
      },
      "source": [
        "cifar2[0][0].unsqueeze(0).shape"
      ],
      "execution_count": 15,
      "outputs": [
        {
          "output_type": "execute_result",
          "data": {
            "text/plain": [
              "torch.Size([1, 3, 32, 32])"
            ]
          },
          "metadata": {
            "tags": []
          },
          "execution_count": 15
        }
      ]
    },
    {
      "cell_type": "code",
      "metadata": {
        "colab": {
          "base_uri": "https://localhost:8080/"
        },
        "id": "vL0OpTahnJK5",
        "outputId": "8a855101-c918-4808-8b4c-9fbcbad2a314"
      },
      "source": [
        "img, _ = cifar2[0]\r\n",
        "output = conv(img.unsqueeze(0))\r\n",
        "img.unsqueeze(0).shape, output.shape"
      ],
      "execution_count": 16,
      "outputs": [
        {
          "output_type": "execute_result",
          "data": {
            "text/plain": [
              "(torch.Size([1, 3, 32, 32]), torch.Size([1, 16, 30, 30]))"
            ]
          },
          "metadata": {
            "tags": []
          },
          "execution_count": 16
        }
      ]
    },
    {
      "cell_type": "code",
      "metadata": {
        "colab": {
          "base_uri": "https://localhost:8080/"
        },
        "id": "RYFAiwhGnM9Y",
        "outputId": "871bdc66-88ca-43b5-96f8-719ab0f2b23c"
      },
      "source": [
        "img.unsqueeze(0).shape"
      ],
      "execution_count": 17,
      "outputs": [
        {
          "output_type": "execute_result",
          "data": {
            "text/plain": [
              "torch.Size([1, 3, 32, 32])"
            ]
          },
          "metadata": {
            "tags": []
          },
          "execution_count": 17
        }
      ]
    },
    {
      "cell_type": "code",
      "metadata": {
        "colab": {
          "base_uri": "https://localhost:8080/",
          "height": 266
        },
        "id": "SJ_-D6YdnQPV",
        "outputId": "3bb80e0a-fbea-41fe-e700-7e111deb5a04"
      },
      "source": [
        "plt.imshow(img.mean(0))\r\n",
        "plt.show()"
      ],
      "execution_count": 18,
      "outputs": [
        {
          "output_type": "display_data",
          "data": {
            "image/png": "[encoded data removed]",
            "text/plain": [
              "<Figure size 432x288 with 1 Axes>"
            ]
          },
          "metadata": {
            "tags": [],
            "needs_background": "light"
          }
        }
      ]
    },
    {
      "cell_type": "code",
      "metadata": {
        "colab": {
          "base_uri": "https://localhost:8080/",
          "height": 266
        },
        "id": "5yl7ygVsotyb",
        "outputId": "43c3ec2b-166d-4ca1-8d5e-d28254313a40"
      },
      "source": [
        "plt.imshow(img.mean(0), cmap='gray')\r\n",
        "plt.show()"
      ],
      "execution_count": 19,
      "outputs": [
        {
          "output_type": "display_data",
          "data": {
            "image/png": "[encoded data removed]",
            "text/plain": [
              "<Figure size 432x288 with 1 Axes>"
            ]
          },
          "metadata": {
            "tags": [],
            "needs_background": "light"
          }
        }
      ]
    },
    {
      "cell_type": "code",
      "metadata": {
        "colab": {
          "base_uri": "https://localhost:8080/"
        },
        "id": "karbIi4jp_PB",
        "outputId": "520857e2-7e90-4f7b-f261-ed2b34de658c"
      },
      "source": [
        "output[0, 0].shape"
      ],
      "execution_count": 20,
      "outputs": [
        {
          "output_type": "execute_result",
          "data": {
            "text/plain": [
              "torch.Size([30, 30])"
            ]
          },
          "metadata": {
            "tags": []
          },
          "execution_count": 20
        }
      ]
    },
    {
      "cell_type": "code",
      "metadata": {
        "colab": {
          "base_uri": "https://localhost:8080/",
          "height": 318
        },
        "id": "j8SgXKXoozeh",
        "outputId": "403a99d0-a94d-45fe-dbc5-c5982800482e"
      },
      "source": [
        "plt.figure(figsize=(10, 4.8))  # bookskip\r\n",
        "ax1 = plt.subplot(1, 2, 1)   # bookskip\r\n",
        "plt.title('output')   # bookskip\r\n",
        "plt.imshow(output[0, 0].detach(), cmap='gray')\r\n",
        "plt.subplot(1, 2, 2, sharex=ax1, sharey=ax1)  # bookskip\r\n",
        "plt.imshow(img.mean(0), cmap='gray')  # bookskip\r\n",
        "plt.title('input')  # bookskip\r\n",
        "plt.savefig('Ch8_F2_PyTorch.png')  # bookskip\r\n",
        "plt.show()"
      ],
      "execution_count": 21,
      "outputs": [
        {
          "output_type": "display_data",
          "data": {
            "image/png": "[encoded data removed]",
            "text/plain": [
              "<Figure size 720x345.6 with 2 Axes>"
            ]
          },
          "metadata": {
            "tags": [],
            "needs_background": "light"
          }
        }
      ]
    },
    {
      "cell_type": "code",
      "metadata": {
        "colab": {
          "base_uri": "https://localhost:8080/"
        },
        "id": "7aEizl1gpkAW",
        "outputId": "1a76ab2e-86ec-4f69-c436-d2f9c8e3e188"
      },
      "source": [
        "conv = nn.Conv2d(3, 1, kernel_size=3, padding=1) # <1>\r\n",
        "output = conv(img.unsqueeze(0))\r\n",
        "img.unsqueeze(0).shape, output.shape"
      ],
      "execution_count": 22,
      "outputs": [
        {
          "output_type": "execute_result",
          "data": {
            "text/plain": [
              "(torch.Size([1, 3, 32, 32]), torch.Size([1, 1, 32, 32]))"
            ]
          },
          "metadata": {
            "tags": []
          },
          "execution_count": 22
        }
      ]
    },
    {
      "cell_type": "code",
      "metadata": {
        "id": "zqoaBmqlqOrz"
      },
      "source": [
        "with torch.no_grad():\r\n",
        "    conv.bias.zero_()\r\n",
        "    \r\n",
        "with torch.no_grad():\r\n",
        "    conv.weight.fill_(1.0 / 9.0)"
      ],
      "execution_count": 23,
      "outputs": []
    },
    {
      "cell_type": "code",
      "metadata": {
        "colab": {
          "base_uri": "https://localhost:8080/",
          "height": 318
        },
        "id": "Ig1p6_E2qVvs",
        "outputId": "bf705938-ae2f-4479-f6bf-06a9aeaaf383"
      },
      "source": [
        "output = conv(img.unsqueeze(0))\r\n",
        "plt.figure(figsize=(10, 4.8))  # bookskip\r\n",
        "ax1 = plt.subplot(1, 2, 1)   # bookskip\r\n",
        "plt.title('output')   # bookskip\r\n",
        "plt.imshow(output[0, 0].detach(), cmap='gray')\r\n",
        "plt.subplot(1, 2, 2, sharex=ax1, sharey=ax1)  # bookskip\r\n",
        "plt.imshow(img.mean(0), cmap='gray')  # bookskip\r\n",
        "plt.title('input')  # bookskip\r\n",
        "plt.savefig('Ch8_F4_PyTorch.png')  # bookskip\r\n",
        "plt.show()"
      ],
      "execution_count": 24,
      "outputs": [
        {
          "output_type": "display_data",
          "data": {
            "image/png": "[encoded data removed]",
            "text/plain": [
              "<Figure size 720x345.6 with 2 Axes>"
            ]
          },
          "metadata": {
            "tags": [],
            "needs_background": "light"
          }
        }
      ]
    },
    {
      "cell_type": "code",
      "metadata": {
        "colab": {
          "base_uri": "https://localhost:8080/"
        },
        "id": "heDhoia1qlwa",
        "outputId": "081b5ddd-34ef-4457-b6ad-41e2b84f30d7"
      },
      "source": [
        "output"
      ],
      "execution_count": 25,
      "outputs": [
        {
          "output_type": "execute_result",
          "data": {
            "text/plain": [
              "tensor([[[[ 0.1996, -0.0273,  ..., -0.5446, -0.4305],\n",
              "          [ 0.3406,  0.1158,  ..., -0.9808, -0.8079],\n",
              "          ...,\n",
              "          [ 0.5163,  0.6754,  ..., -1.1325, -0.5512],\n",
              "          [ 0.4821,  0.6350,  ..., -0.7778, -0.3840]]]],\n",
              "       grad_fn=<ThnnConv2DBackward>)"
            ]
          },
          "metadata": {
            "tags": []
          },
          "execution_count": 25
        }
      ]
    },
    {
      "cell_type": "code",
      "metadata": {
        "id": "7jvcprsLqlMa"
      },
      "source": [
        "conv = nn.Conv2d(3, 1, kernel_size=3, padding=1)\r\n",
        "\r\n",
        "with torch.no_grad():\r\n",
        "    conv.weight[:] = torch.tensor([[-1.0, 0.0, 1.0],\r\n",
        "                                   [-1.0, 0.0, 1.0],\r\n",
        "                                   [-1.0, 0.0, 1.0]])\r\n",
        "    conv.bias.zero_()"
      ],
      "execution_count": 26,
      "outputs": []
    },
    {
      "cell_type": "code",
      "metadata": {
        "colab": {
          "base_uri": "https://localhost:8080/",
          "height": 318
        },
        "id": "18XjwfJ3s1QT",
        "outputId": "a9164371-3894-44c3-b36d-033d98b03962"
      },
      "source": [
        "output = conv(img.unsqueeze(0))\r\n",
        "plt.figure(figsize=(10, 4.8))  # bookskip\r\n",
        "ax1 = plt.subplot(1, 2, 1)   # bookskip\r\n",
        "plt.title('output')   # bookskip\r\n",
        "plt.imshow(output[0, 0].detach(), cmap='gray')\r\n",
        "plt.subplot(1, 2, 2, sharex=ax1, sharey=ax1)  # bookskip\r\n",
        "plt.imshow(img.mean(0), cmap='gray')  # bookskip\r\n",
        "plt.title('input')  # bookskip\r\n",
        "plt.savefig('Ch8_F5_PyTorch.png')  # bookskip\r\n",
        "plt.show()"
      ],
      "execution_count": 27,
      "outputs": [
        {
          "output_type": "display_data",
          "data": {
            "image/png": "[encoded data removed]",
            "text/plain": [
              "<Figure size 720x345.6 with 2 Axes>"
            ]
          },
          "metadata": {
            "tags": [],
            "needs_background": "light"
          }
        }
      ]
    },
    {
      "cell_type": "code",
      "metadata": {
        "colab": {
          "base_uri": "https://localhost:8080/"
        },
        "id": "XXhxYvMiFdZd",
        "outputId": "6bcfcfa0-53af-41f6-a6ad-adad6b68e306"
      },
      "source": [
        "pool = nn.MaxPool2d(2)\r\n",
        "output = pool(img.unsqueeze(0))\r\n",
        "\r\n",
        "img.unsqueeze(0).shape, output.shape"
      ],
      "execution_count": 28,
      "outputs": [
        {
          "output_type": "execute_result",
          "data": {
            "text/plain": [
              "(torch.Size([1, 3, 32, 32]), torch.Size([1, 3, 16, 16]))"
            ]
          },
          "metadata": {
            "tags": []
          },
          "execution_count": 28
        }
      ]
    },
    {
      "cell_type": "markdown",
      "metadata": {
        "id": "Gdge01-pKwvU"
      },
      "source": [
        "which performs the difference of all pixels on the right of i22 minus the pixels on the\r\n",
        "left of i22. If the kernel is applied on a vertical boundary between two adjacent regions\r\n",
        "of different intensity, o22 will have a high value. If the kernel is applied on a region of\r\n",
        "uniform intensity, o22 will be zero. It’s an edge-detection kernel: the kernel highlights the\r\n",
        "vertical edge between two horizontally adjacent regions.\r\n",
        " Applying the convolution kernel to our image, we see the result shown in figure\r\n",
        "8.5. As expected, the convolution kernel enhances the vertical edges. We could build"
      ]
    },
    {
      "cell_type": "code",
      "metadata": {
        "id": "OQk16rMYFiLr"
      },
      "source": [
        "model = nn.Sequential(\r\n",
        "            nn.Conv2d(3, 16, kernel_size=3, padding=1),\r\n",
        "            nn.Tanh(),\r\n",
        "            nn.MaxPool2d(2),\r\n",
        "            nn.Conv2d(16, 8, kernel_size=3, padding=1),\r\n",
        "            nn.Tanh(),\r\n",
        "            nn.MaxPool2d(2),\r\n",
        "            # ...\r\n",
        "            )"
      ],
      "execution_count": 29,
      "outputs": []
    },
    {
      "cell_type": "code",
      "metadata": {
        "colab": {
          "base_uri": "https://localhost:8080/"
        },
        "id": "-DumtZVAYT4K",
        "outputId": "0e0df1b7-fe29-4e2a-de96-9aa3bf5eb51b"
      },
      "source": [
        "numel_list = [p.numel() for p in model.parameters()]\r\n",
        "sum(numel_list), numel_list"
      ],
      "execution_count": 30,
      "outputs": [
        {
          "output_type": "execute_result",
          "data": {
            "text/plain": [
              "(1608, [432, 16, 1152, 8])"
            ]
          },
          "metadata": {
            "tags": []
          },
          "execution_count": 30
        }
      ]
    },
    {
      "cell_type": "code",
      "metadata": {
        "colab": {
          "base_uri": "https://localhost:8080/"
        },
        "id": "p20yu4JpbKrc",
        "outputId": "e83d82b6-c114-4e74-d9af-6c1cda9300f7"
      },
      "source": [
        "pool = nn.MaxPool2d(2)\r\n",
        "output = pool(img.unsqueeze(0))\r\n",
        "img.unsqueeze(0).shape, output.shape"
      ],
      "execution_count": 31,
      "outputs": [
        {
          "output_type": "execute_result",
          "data": {
            "text/plain": [
              "(torch.Size([1, 3, 32, 32]), torch.Size([1, 3, 16, 16]))"
            ]
          },
          "metadata": {
            "tags": []
          },
          "execution_count": 31
        }
      ]
    },
    {
      "cell_type": "code",
      "metadata": {
        "colab": {
          "base_uri": "https://localhost:8080/"
        },
        "id": "9XqLxG5eYeMH",
        "outputId": "c0e06905-2fad-47b9-99d9-2e416b3e32f9"
      },
      "source": [
        "model = nn.Sequential(\r\n",
        "            nn.Conv2d(3, 16, kernel_size=3, padding=1),\r\n",
        "            nn.Tanh(),\r\n",
        "            nn.MaxPool2d(2),\r\n",
        "            nn.Conv2d(16, 8, kernel_size=3, padding=1),\r\n",
        "            nn.Tanh(),\r\n",
        "            nn.MaxPool2d(2),\r\n",
        "            # ... <1>\r\n",
        "            nn.Linear(8 * 8 * 8, 32),\r\n",
        "            nn.Tanh(),\r\n",
        "            nn.Linear(32, 2))\r\n",
        "numel_list = [p.numel() for p in model.parameters()]\r\n",
        "sum(numel_list), numel_list"
      ],
      "execution_count": 32,
      "outputs": [
        {
          "output_type": "execute_result",
          "data": {
            "text/plain": [
              "(18090, [432, 16, 1152, 8, 16384, 32, 64, 2])"
            ]
          },
          "metadata": {
            "tags": []
          },
          "execution_count": 32
        }
      ]
    },
    {
      "cell_type": "code",
      "metadata": {
        "colab": {
          "base_uri": "https://localhost:8080/"
        },
        "id": "Byd6XpNiY9ql",
        "outputId": "212561d3-f4a1-4680-b3e2-d23a1165c0f1"
      },
      "source": [
        "nn.Conv2d(3, 16, kernel_size=3, padding=1).weight.shape"
      ],
      "execution_count": 33,
      "outputs": [
        {
          "output_type": "execute_result",
          "data": {
            "text/plain": [
              "torch.Size([16, 3, 3, 3])"
            ]
          },
          "metadata": {
            "tags": []
          },
          "execution_count": 33
        }
      ]
    },
    {
      "cell_type": "code",
      "metadata": {
        "id": "yTYazg8WZB2F"
      },
      "source": [
        "# model(img.unsqueeze(0))"
      ],
      "execution_count": 34,
      "outputs": []
    },
    {
      "cell_type": "code",
      "metadata": {
        "colab": {
          "base_uri": "https://localhost:8080/"
        },
        "id": "L1dQM1pDzidO",
        "outputId": "8de59ca2-7fc8-44ec-eedc-a71903e897a8"
      },
      "source": [
        "nn.Linear(8 * 8 * 8, 32).weight.shape"
      ],
      "execution_count": 35,
      "outputs": [
        {
          "output_type": "execute_result",
          "data": {
            "text/plain": [
              "torch.Size([32, 512])"
            ]
          },
          "metadata": {
            "tags": []
          },
          "execution_count": 35
        }
      ]
    },
    {
      "cell_type": "code",
      "metadata": {
        "id": "-YAauyhv8XUf"
      },
      "source": [
        "class Net(nn.Module):\r\n",
        "    def __init__(self):\r\n",
        "        super().__init__()\r\n",
        "        self.conv1 = nn.Conv2d(3, 16, kernel_size=3, padding=1)\r\n",
        "        self.act1 = nn.Tanh()\r\n",
        "        self.pool1 = nn.MaxPool2d(2)\r\n",
        "        self.conv2 = nn.Conv2d(16, 8, kernel_size=3, padding=1)\r\n",
        "        self.act2 = nn.Tanh()\r\n",
        "        self.pool2 = nn.MaxPool2d(2)\r\n",
        "        self.fc1 = nn.Linear(8 * 8 * 8, 32)\r\n",
        "        self.act3 = nn.Tanh()\r\n",
        "        self.fc2 = nn.Linear(32, 2)\r\n",
        "\r\n",
        "    def forward(self, x):\r\n",
        "        out = self.pool1(self.act1(self.conv1(x)))\r\n",
        "        out = self.pool2(self.act2(self.conv2(out)))\r\n",
        "        out = out.view(-1, 8 * 8 * 8)\r\n",
        "        out = self.act3(self.fc1(out))\r\n",
        "        out = self.fc2(out)\r\n",
        "        return out"
      ],
      "execution_count": 36,
      "outputs": []
    },
    {
      "cell_type": "markdown",
      "metadata": {
        "id": "T6I_n_XPxq4A"
      },
      "source": [
        "Note! p.e. 239\r\n",
        "\r\n",
        "\r\n",
        "We can call arbitrary methods of an nn.Module subclass. For example, for a model\r\n",
        "where training is substantially different than its use, say, for prediction, it may make\r\n",
        "sense to have a predict method. Be aware that calling such methods will be similar to\r\n",
        "calling forward instead of the module itself—they will be ignorant of hooks, and the\r\n",
        "JIT does not see the module structure when using them because we are missing the\r\n",
        "equivalent of the __call__ bits shown in section 6.2.1.\r\n",
        " This allows Net to have access to the parameters of its submodules without further\r\n",
        "action by the user:"
      ]
    },
    {
      "cell_type": "code",
      "metadata": {
        "colab": {
          "base_uri": "https://localhost:8080/"
        },
        "id": "VTGp1p1omGFY",
        "outputId": "fcce713d-68e1-43c5-a605-1f8c47c5f51c"
      },
      "source": [
        "model = Net()\r\n",
        "numel_list = [p.numel() for p in model.parameters()]\r\n",
        "sum(numel_list), numel_list"
      ],
      "execution_count": 37,
      "outputs": [
        {
          "output_type": "execute_result",
          "data": {
            "text/plain": [
              "(18090, [432, 16, 1152, 8, 16384, 32, 64, 2])"
            ]
          },
          "metadata": {
            "tags": []
          },
          "execution_count": 37
        }
      ]
    },
    {
      "cell_type": "code",
      "metadata": {
        "id": "eYkJ1kEqhjP1"
      },
      "source": [
        "import datetime"
      ],
      "execution_count": 38,
      "outputs": []
    },
    {
      "cell_type": "code",
      "metadata": {
        "id": "LElHMOzuwF7c"
      },
      "source": [
        "import torch.nn.functional as F\r\n",
        "class Net(nn.Module):\r\n",
        "    def __init__(self):\r\n",
        "        super().__init__()\r\n",
        "        self.conv1 = nn.Conv2d(3, 16, kernel_size=3, padding=1)\r\n",
        "        self.conv2 = nn.Conv2d(16, 8, kernel_size=3, padding=1)\r\n",
        "        self.fc1 = nn.Linear(8 * 8 * 8, 32)\r\n",
        "        self.fc2 = nn.Linear(32, 2)\r\n",
        "\r\n",
        "\r\n",
        "    def forward(self, x):\r\n",
        "        out = F.max_pool2d(torch.tanh(self.conv1(x)), 2)\r\n",
        "        out = F.max_pool2d(torch.tanh(self.conv2(out)), 2)\r\n",
        "        out = out.view(-1, 8 * 8 * 8)\r\n",
        "        out = torch.tanh(self.fc1(out))\r\n",
        "        out = self.fc2(out)\r\n",
        "        return out"
      ],
      "execution_count": 39,
      "outputs": []
    },
    {
      "cell_type": "code",
      "metadata": {
        "id": "m8P3vwno0Dlh",
        "colab": {
          "base_uri": "https://localhost:8080/"
        },
        "outputId": "de716c86-6e99-4d1a-992e-5ce6be3cc611"
      },
      "source": [
        "model = Net()\r\n",
        "model(img.unsqueeze(0))"
      ],
      "execution_count": 40,
      "outputs": [
        {
          "output_type": "execute_result",
          "data": {
            "text/plain": [
              "tensor([[ 0.1946, -0.0775]], grad_fn=<AddmmBackward>)"
            ]
          },
          "metadata": {
            "tags": []
          },
          "execution_count": 40
        }
      ]
    },
    {
      "cell_type": "code",
      "metadata": {
        "id": "nEFluvUL5a9o"
      },
      "source": [
        "def training_loop(n_epochs, optimizer, model, loss_fn, train_loader):\r\n",
        "    for epoch in range(1, n_epochs + 1):\r\n",
        "        loss_train = 0.0\r\n",
        "        for imgs, labels in train_loader:\r\n",
        "            outputs = model(imgs)\r\n",
        "            loss = loss_fn(outputs, labels)\r\n",
        "            optimizer.zero_grad()\r\n",
        "            loss.backward()\r\n",
        "            optimizer.step()\r\n",
        "            loss_train += loss.item()\r\n",
        "        if epoch == 1 or epoch % 10 == 0:\r\n",
        "            print('{} Epoch {}, Training loss {}'.format(\r\n",
        "            datetime.datetime.now(), epoch,\r\n",
        "            loss_train / len(train_loader)))"
      ],
      "execution_count": 41,
      "outputs": []
    },
    {
      "cell_type": "code",
      "metadata": {
        "id": "EYED4pjAe19L"
      },
      "source": [
        "train_loader = torch.utils.data.DataLoader(cifar2, batch_size=64,\r\n",
        "shuffle=True)"
      ],
      "execution_count": 42,
      "outputs": []
    },
    {
      "cell_type": "code",
      "metadata": {
        "id": "f1waGr9Ce7-J"
      },
      "source": [
        "model = Net()"
      ],
      "execution_count": 43,
      "outputs": []
    },
    {
      "cell_type": "code",
      "metadata": {
        "id": "YCe9XJOFe9o6"
      },
      "source": [
        "optimizer = optim.SGD(model.parameters(), lr=1e-2)"
      ],
      "execution_count": 44,
      "outputs": []
    },
    {
      "cell_type": "code",
      "metadata": {
        "id": "moJVybM0e_IW"
      },
      "source": [
        "loss_fn = nn.CrossEntropyLoss() "
      ],
      "execution_count": 45,
      "outputs": []
    },
    {
      "cell_type": "code",
      "metadata": {
        "colab": {
          "base_uri": "https://localhost:8080/"
        },
        "id": "yMgEdvYafKib",
        "outputId": "06c8b2da-049d-4c44-8712-79e88e9d8fa7"
      },
      "source": [
        "train_loader"
      ],
      "execution_count": 46,
      "outputs": [
        {
          "output_type": "execute_result",
          "data": {
            "text/plain": [
              "<torch.utils.data.dataloader.DataLoader at 0x7fecfba5b630>"
            ]
          },
          "metadata": {
            "tags": []
          },
          "execution_count": 46
        }
      ]
    },
    {
      "cell_type": "code",
      "metadata": {
        "colab": {
          "base_uri": "https://localhost:8080/"
        },
        "id": "SVZo8t7ofC8S",
        "outputId": "cefc0f6e-c1e8-4c88-e248-517eb5609945"
      },
      "source": [
        "training_loop(\r\n",
        "n_epochs = 100,\r\n",
        "optimizer = optimizer,\r\n",
        "model = model,\r\n",
        "loss_fn = loss_fn,\r\n",
        "train_loader = train_loader,\r\n",
        ")"
      ],
      "execution_count": 47,
      "outputs": [
        {
          "output_type": "stream",
          "text": [
            "2021-01-16 12:38:31.564443 Epoch 1, Training loss 0.554206982919365\n",
            "2021-01-16 12:39:08.118744 Epoch 10, Training loss 0.3299890095071428\n",
            "2021-01-16 12:39:47.909236 Epoch 20, Training loss 0.2981553532325538\n",
            "2021-01-16 12:40:28.134883 Epoch 30, Training loss 0.27704400070913276\n",
            "2021-01-16 12:41:08.494079 Epoch 40, Training loss 0.2565057974332457\n",
            "2021-01-16 12:41:48.817405 Epoch 50, Training loss 0.23637647480721685\n",
            "2021-01-16 12:42:29.065783 Epoch 60, Training loss 0.21770553314571928\n",
            "2021-01-16 12:43:09.035093 Epoch 70, Training loss 0.20517446352228239\n",
            "2021-01-16 12:43:48.981557 Epoch 80, Training loss 0.18935951419696687\n",
            "2021-01-16 12:44:29.311151 Epoch 90, Training loss 0.17208557537976343\n",
            "2021-01-16 12:45:09.993334 Epoch 100, Training loss 0.1574317149011193\n"
          ],
          "name": "stdout"
        }
      ]
    },
    {
      "cell_type": "code",
      "metadata": {
        "id": "t-vtzp7dfEBY"
      },
      "source": [
        "train_loader = torch.utils.data.DataLoader(cifar2, batch_size=64,\r\n",
        "shuffle=False)\r\n",
        "val_loader = torch.utils.data.DataLoader(cifar2_val, batch_size=64,\r\n",
        "shuffle=False)"
      ],
      "execution_count": 48,
      "outputs": []
    },
    {
      "cell_type": "code",
      "metadata": {
        "colab": {
          "base_uri": "https://localhost:8080/"
        },
        "id": "e6jRM3veiiV-",
        "outputId": "96ac58e4-b4d1-4710-9da8-e43e733c2e6f"
      },
      "source": [
        "def validate(model, train_loader, val_loader):\r\n",
        "    for name, loader in [(\"train\", train_loader), (\"val\", val_loader)]:\r\n",
        "        correct = 0\r\n",
        "        total = 0\r\n",
        "\r\n",
        "        with torch.no_grad():\r\n",
        "            for imgs, labels in loader:\r\n",
        "                outputs = model(imgs)\r\n",
        "                _, predicted = torch.max(outputs, dim=1)\r\n",
        "                total += labels.shape[0]\r\n",
        "                correct += int((predicted == labels).sum())\r\n",
        "\r\n",
        "        print(\"Accuracy {}: {:.2f}\".format(name , correct / total))\r\n",
        "validate(model, train_loader, val_loader)"
      ],
      "execution_count": 49,
      "outputs": [
        {
          "output_type": "stream",
          "text": [
            "Accuracy train: 0.94\n",
            "Accuracy val: 0.89\n"
          ],
          "name": "stdout"
        }
      ]
    },
    {
      "cell_type": "code",
      "metadata": {
        "colab": {
          "base_uri": "https://localhost:8080/",
          "height": 35
        },
        "id": "pOAj9bVZmRU3",
        "outputId": "9deff4de-1a30-458c-950d-d676fdff26c7"
      },
      "source": [
        "data_path"
      ],
      "execution_count": 50,
      "outputs": [
        {
          "output_type": "execute_result",
          "data": {
            "application/vnd.google.colaboratory.intrinsic+json": {
              "type": "string"
            },
            "text/plain": [
              "'../data-unversioned/p1ch6/'"
            ]
          },
          "metadata": {
            "tags": []
          },
          "execution_count": 50
        }
      ]
    },
    {
      "cell_type": "code",
      "metadata": {
        "id": "QvBOdn5ZmQhR"
      },
      "source": [
        "torch.save(model.state_dict(), data_path + 'birds_vs_airplanes.pt')"
      ],
      "execution_count": 51,
      "outputs": []
    },
    {
      "cell_type": "code",
      "metadata": {
        "colab": {
          "base_uri": "https://localhost:8080/"
        },
        "id": "Qa-LQ5csmZ2g",
        "outputId": "5f6c0a20-cc40-457e-fd07-bdd5449743a3"
      },
      "source": [
        "loaded_model = Net()\r\n",
        "loaded_model.load_state_dict(torch.load(data_path\r\n",
        "+ 'birds_vs_airplanes.pt'))\r\n"
      ],
      "execution_count": 52,
      "outputs": [
        {
          "output_type": "execute_result",
          "data": {
            "text/plain": [
              "<All keys matched successfully>"
            ]
          },
          "metadata": {
            "tags": []
          },
          "execution_count": 52
        }
      ]
    },
    {
      "cell_type": "code",
      "metadata": {
        "colab": {
          "base_uri": "https://localhost:8080/"
        },
        "id": "wokymjCNP_cA",
        "outputId": "84f9a002-ca73-4cb3-eabf-7ff7101c64fe"
      },
      "source": [
        "device = (torch.device('cuda') if torch.cuda.is_available()\r\n",
        "else torch.device('cpu'))\r\n",
        "print(f\"Training on device {device}.\")\r\n"
      ],
      "execution_count": 53,
      "outputs": [
        {
          "output_type": "stream",
          "text": [
            "Training on device cuda.\n"
          ],
          "name": "stdout"
        }
      ]
    },
    {
      "cell_type": "code",
      "metadata": {
        "id": "Dqmbs9n-XM55"
      },
      "source": [
        "import datetime\r\n",
        "def training_loop(n_epochs, optimizer, model, loss_fn, train_loader):\r\n",
        "    for epoch in range(1, n_epochs + 1):\r\n",
        "        loss_train = 0.0\r\n",
        "\r\n",
        "        for imgs, labels in train_loader:\r\n",
        "            imgs = imgs.to(device=device)\r\n",
        "            labels = labels.to(device=device)\r\n",
        "            outputs = model(imgs)\r\n",
        "            loss = loss_fn(outputs, labels)\r\n",
        "\r\n",
        "            optimizer.zero_grad()\r\n",
        "            loss.backward()\r\n",
        "            optimizer.step()\r\n",
        "\r\n",
        "            loss_train += loss.item()\r\n",
        "\r\n",
        "        if epoch == 1 or epoch % 10 == 0:\r\n",
        "            print('{} Epoch {}, Training loss {}'.format(\r\n",
        "                datetime.datetime.now(), epoch,\r\n",
        "                loss_train / len(train_loader)))"
      ],
      "execution_count": 54,
      "outputs": []
    },
    {
      "cell_type": "code",
      "metadata": {
        "id": "7c3Sk8fGY5Oi"
      },
      "source": [
        "train_loader = torch.utils.data.DataLoader(cifar2, batch_size=64,\r\n",
        "                shuffle=True) "
      ],
      "execution_count": 55,
      "outputs": []
    },
    {
      "cell_type": "code",
      "metadata": {
        "id": "YP8WEcNcaf0c"
      },
      "source": [
        "model = Net().to(device=device)\r\n",
        "optimizer = optim.SGD(model.parameters(), lr=1e-2)\r\n",
        "loss_fn = nn.CrossEntropyLoss()"
      ],
      "execution_count": 56,
      "outputs": []
    },
    {
      "cell_type": "code",
      "metadata": {
        "colab": {
          "base_uri": "https://localhost:8080/"
        },
        "id": "SQNVe1yshdSf",
        "outputId": "5e96ef28-5a36-4732-bc5e-4bf476f2e3a2"
      },
      "source": [
        "training_loop(\r\n",
        "    n_epochs = 100,\r\n",
        "    optimizer = optimizer,\r\n",
        "    model = model,\r\n",
        "    loss_fn = loss_fn,\r\n",
        "    train_loader = train_loader,\r\n",
        ")"
      ],
      "execution_count": 57,
      "outputs": [
        {
          "output_type": "stream",
          "text": [
            "2021-01-16 12:45:21.354364 Epoch 1, Training loss 0.5695670556490589\n",
            "2021-01-16 12:45:25.177138 Epoch 10, Training loss 0.3246237195221482\n",
            "2021-01-16 12:45:29.395573 Epoch 20, Training loss 0.29240133508944965\n",
            "2021-01-16 12:45:33.643830 Epoch 30, Training loss 0.2666718756222421\n",
            "2021-01-16 12:45:37.858604 Epoch 40, Training loss 0.24578893616510805\n",
            "2021-01-16 12:45:42.104481 Epoch 50, Training loss 0.22690024848576565\n",
            "2021-01-16 12:45:46.317652 Epoch 60, Training loss 0.21079600554932454\n",
            "2021-01-16 12:45:50.556966 Epoch 70, Training loss 0.1946632027341302\n",
            "2021-01-16 12:45:54.769004 Epoch 80, Training loss 0.18056302797642482\n",
            "2021-01-16 12:45:58.963555 Epoch 90, Training loss 0.1658836473135432\n",
            "2021-01-16 12:46:03.173781 Epoch 100, Training loss 0.1549130949862064\n"
          ],
          "name": "stdout"
        }
      ]
    },
    {
      "cell_type": "markdown",
      "metadata": {
        "id": "cDr1vvD_twYH"
      },
      "source": [
        "There is a slight complication when loading network weights: PyTorch will attempt\r\n",
        "to load the weight to the same device it was saved from—that is, weights on the GPU\r\n",
        "will be restored to the GPU. As we don’t know whether we want the same device, we\r\n",
        "have two options: we could move the network to the CPU before saving it, or move it\r\n",
        "back after restoring. It is a bit more concise to instruct PyTorch to override the device\r\n",
        "information when loading weights. This is done by passing the map_location keyword\r\n",
        "argument to torch.load: (p.g. 247(pdf) or 217)"
      ]
    },
    {
      "cell_type": "code",
      "metadata": {
        "colab": {
          "base_uri": "https://localhost:8080/"
        },
        "id": "BiLdvDtingRR",
        "outputId": "29265914-89ac-4d1a-9cc0-e11203ede293"
      },
      "source": [
        "loaded_model = Net().to(device=device)\r\n",
        "loaded_model.load_state_dict(torch.load(data_path\r\n",
        "                          + 'birds_vs_airplanes.pt',\r\n",
        "                          map_location=device))"
      ],
      "execution_count": 58,
      "outputs": [
        {
          "output_type": "execute_result",
          "data": {
            "text/plain": [
              "<All keys matched successfully>"
            ]
          },
          "metadata": {
            "tags": []
          },
          "execution_count": 58
        }
      ]
    },
    {
      "cell_type": "code",
      "metadata": {
        "id": "Nk6HFxOPt4v5"
      },
      "source": [
        "class NetWidth(nn.Module):\r\n",
        "    def __init__(self):\r\n",
        "        super().__init__()\r\n",
        "        self.conv1 = nn.Conv2d(3, 32, kernel_size=3, padding=1)\r\n",
        "        self.conv2 = nn.Conv2d(32, 16, kernel_size=3, padding=1)\r\n",
        "        self.fc1 = nn.Linear(16 * 8 * 8, 32)\r\n",
        "        self.fc2 = nn.Linear(32, 2)\r\n",
        "\r\n",
        "    def forward(self, x):\r\n",
        "        out = F.max_pool2d(torch.tanh(self.conv1(x)), 2)\r\n",
        "        out = F.max_pool2d(torch.tanh(self.conv2(out)), 2)\r\n",
        "        out = out.view(-1, 16 * 8 * 8)\r\n",
        "        out = torch.tanh(self.fc1(out))\r\n",
        "        out = self.fc2(out)\r\n",
        "        return out"
      ],
      "execution_count": 59,
      "outputs": []
    },
    {
      "cell_type": "code",
      "metadata": {
        "id": "r2vkDdNfK41k"
      },
      "source": [
        "class NetWidth(nn.Module):\r\n",
        "  \r\n",
        "    def __init__(self):\r\n",
        "        super().__init__()\r\n",
        "        self.conv1 = nn.Conv2d(3, 32, kernel_size=3, padding=1)\r\n",
        "        self.conv2 = nn.Conv2d(32, 16, kernel_size=3, padding=1)\r\n",
        "        self.fc1 = nn.Linear(16 * 8 * 8, 32)\r\n",
        "        self.fc2 = nn.Linear(32, 2)\r\n",
        "\r\n",
        "    def forward(self, x):\r\n",
        "        out = F.max_pool2d(torch.tanh(self.conv1(x)), 2)\r\n",
        "        out = F.max_pool2d(torch.tanh(self.conv2(out)), 2)\r\n",
        "        out = out.view(-1, 16 * 8 * 8)\r\n",
        "        out = torch.tanh(self.fc1(out))\r\n",
        "        out = self.fc2(out)\r\n",
        "        return out"
      ],
      "execution_count": 60,
      "outputs": []
    },
    {
      "cell_type": "code",
      "metadata": {
        "id": "LZnOGcetSpGU"
      },
      "source": [
        "class NetWidth(nn.Module):\r\n",
        "    def __init__(self, n_chans1=32):\r\n",
        "        super().__init__()\r\n",
        "        self.n_chans1 = n_chans1\r\n",
        "        self.conv1 = nn.Conv2d(3, n_chans1, kernel_size=3, padding=1)\r\n",
        "        self.conv2 = nn.Conv2d(n_chans1, n_chans1 // 2, kernel_size=3,\r\n",
        "                                padding=1)\r\n",
        "        self.fc1 = nn.Linear(8 * 8 * n_chans1 // 2, 32)\r\n",
        "        self.fc2 = nn.Linear(32, 2)\r\n",
        "\r\n",
        "    def forward(self, x):\r\n",
        "        out = F.max_pool2d(torch.tanh(self.conv1(x)), 2)\r\n",
        "        out = F.max_pool2d(torch.tanh(self.conv2(out)), 2)\r\n",
        "        out = out.view(-1,8*8* self.n_chans1 // 2)\r\n",
        "        out = torch.tanh(self.fc1(out))\r\n",
        "        out = self.fc2(out)\r\n",
        "        return out"
      ],
      "execution_count": 75,
      "outputs": []
    },
    {
      "cell_type": "code",
      "metadata": {
        "id": "oPhfwj4uTWeO"
      },
      "source": [
        "model = NetWidth()"
      ],
      "execution_count": 76,
      "outputs": []
    },
    {
      "cell_type": "code",
      "metadata": {
        "id": "tk1lpN8Ph57J"
      },
      "source": [
        "#sum(p.numel for p in model.parameters())  #Error"
      ],
      "execution_count": null,
      "outputs": []
    },
    {
      "cell_type": "code",
      "metadata": {
        "colab": {
          "base_uri": "https://localhost:8080/"
        },
        "id": "Hq82oU5uTZdj",
        "outputId": "3b6eab9c-b5d4-4873-edb7-cfc4a61a31ce"
      },
      "source": [
        "sum(p.numel() for p in model.parameters())"
      ],
      "execution_count": 83,
      "outputs": [
        {
          "output_type": "execute_result",
          "data": {
            "text/plain": [
              "38386"
            ]
          },
          "metadata": {
            "tags": []
          },
          "execution_count": 83
        }
      ]
    },
    {
      "cell_type": "code",
      "metadata": {
        "id": "nemLvzaZgzOE"
      },
      "source": [
        "def training_loop_l2reg(n_epochs, optimizer, model, loss_fn,\r\n",
        "                        train_loader):\r\n",
        "    for epoch in range(1, n_epochs + 1):\r\n",
        "        loss_train = 0.0\r\n",
        "        for imgs, labels in train_loader:\r\n",
        "            imgs = imgs.to(device=device)\r\n",
        "            labels = labels.to(device=device)\r\n",
        "            outputs = model(imgs)\r\n",
        "            loss = loss_fn(outputs, labels)\r\n",
        "            \r\n",
        "            # Replaces pow(2.0)\r\n",
        "            # with abs() for L1\r\n",
        "            # regularization\r\n",
        "            l2_lambda = 0.001\r\n",
        "            l2_norm = sum(p.pow(2.0).sum()\r\n",
        "                          for p in model.parameters())\r\n",
        "            \r\n",
        "            loss = loss + l2_lambda * l2_norm\r\n",
        "\r\n",
        "            optimizer.zero_grad()\r\n",
        "            loss.backward()\r\n",
        "            optimizer.step()\r\n",
        "\r\n",
        "            loss_train += loss.item()\r\n",
        "        if epoch == 1 or epoch % 10 == 0:\r\n",
        "            print('{} Epoch {}, Training loss {}'.format(\r\n",
        "                datetime.datetime.now(), epoch,\r\n",
        "                loss_train / len(train_loader)))"
      ],
      "execution_count": 66,
      "outputs": []
    },
    {
      "cell_type": "code",
      "metadata": {
        "id": "xnoMj9hOkKCy"
      },
      "source": [
        "class NetDropout(nn.Module):\r\n",
        "    def __init__(self, n_chans1=32):\r\n",
        "        super().__init__()\r\n",
        "        self.n_chans1 = n_chans1\r\n",
        "        self.conv1 = nn.Conv2d(3, n_chans1, kernel_size=3, padding=1)\r\n",
        "        self.conv1_dropout = nn.Dropout2d(p=0.4)\r\n",
        "        self.conv2 = nn.Conv2d(n_chans1, n_chans1 // 2, kernel_size=3,\r\n",
        "                                padding=1)\r\n",
        "\r\n",
        "        self.conv2_dropout = nn.Dropout2d(p=0.4)\r\n",
        "        self.fc1 = nn.Linear(8 * 8 * n_chans1 // 2, 32)\r\n",
        "        self.fc2 = nn.Linear(32, 2)\r\n",
        "\r\n",
        "    def forward(self, x):\r\n",
        "        out = F.max_pool2d(torch.tanh(self.conv1(x)), 2)\r\n",
        "        out = self.conv1_dropout(out)\r\n",
        "        out = F.max_pool2d(torch.tanh(self.conv2(out)), 2)\r\n",
        "        out = self.conv2_dropout(out)\r\n",
        "        out = out.view(-1,8*8* self.n_chans1 // 2)\r\n",
        "        out = torch.tanh(self.fc1(out))\r\n",
        "        out = self.fc2(out)\r\n",
        "        return out"
      ],
      "execution_count": 67,
      "outputs": []
    },
    {
      "cell_type": "code",
      "metadata": {
        "id": "ZQ85Ho4T2X09"
      },
      "source": [
        "class NetResDeep(nn.Module):\r\n",
        "    def __init__(self, n_chans1=32, n_blocks=10):\r\n",
        "        super().__init__()\r\n",
        "        self.n_chans1 = n_chans1\r\n",
        "        self.conv1 = nn.Conv2d(3, n_chans1, kernel_size=3, padding=1)\r\n",
        "        self.resblocks = nn.Sequential(\r\n",
        "            *(n_blocks * [ResBlock(n_chans=n_chans1)]))\r\n",
        "        self.fc1 = nn.Linear(8 * 8 * n_chans1, 32)\r\n",
        "        self.fc2 = nn.Linear(32, 2)\r\n",
        "\r\n",
        "    def forward(self, x):\r\n",
        "        out = F.max_pool2d(torch.relu(self.conv1(x)), 2)\r\n",
        "        out = self.resblocks(out)\r\n",
        "        out = F.max_pool2d(out, 2)\r\n",
        "        out = out.view(-1,8*8* self.n_chans1)\r\n",
        "        out = torch.relu(self.fc1(out))\r\n",
        "        out = self.fc2(out)\r\n",
        "        return out"
      ],
      "execution_count": 68,
      "outputs": []
    },
    {
      "cell_type": "code",
      "metadata": {
        "id": "pAh8Vs_LSLG8"
      },
      "source": [
        ""
      ],
      "execution_count": 68,
      "outputs": []
    }
  ]
}