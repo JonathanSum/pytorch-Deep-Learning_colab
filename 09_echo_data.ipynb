{
  "nbformat": 4,
  "nbformat_minor": 0,
  "metadata": {
    "kernelspec": {
      "display_name": "Python [conda env:dl-minicourse] *",
      "language": "python",
      "name": "conda-env-dl-minicourse-py"
    },
    "language_info": {
      "codemirror_mode": {
        "name": "ipython",
        "version": 3
      },
      "file_extension": ".py",
      "mimetype": "text/x-python",
      "name": "python",
      "nbconvert_exporter": "python",
      "pygments_lexer": "ipython3",
      "version": "3.7.3"
    },
    "colab": {
      "name": "09-echo_data.ipynb",
      "provenance": [],
      "toc_visible": true,
      "include_colab_link": true
    }
  },
  "cells": [
    {
      "cell_type": "markdown",
      "metadata": {
        "id": "view-in-github",
        "colab_type": "text"
      },
      "source": [
        "<a href=\"https://colab.research.google.com/github/JonathanSum/pytorch-Deep-Learning_colab/blob/master/09_echo_data.ipynb\" target=\"_parent\"><img src=\"https://colab.research.google.com/assets/colab-badge.svg\" alt=\"Open In Colab\"/></a>"
      ]
    },
    {
      "cell_type": "markdown",
      "metadata": {
        "id": "nGhAALUUC8Y0",
        "colab_type": "text"
      },
      "source": [
        "#<img src=\"https://i.imgur.com/0mFHjmZ.png\" width=300>\n",
        "# Signal echoing\n",
        "\n",
        "Echoing signal `n` steps is an example of synchronized many-to-many task."
      ]
    },
    {
      "cell_type": "code",
      "metadata": {
        "id": "tnzEbl6pDEgl",
        "colab_type": "code",
        "colab": {
          "base_uri": "https://localhost:8080/",
          "height": 156
        },
        "outputId": "300482ce-c17e-4734-9b8f-b50ae06ec5ba"
      },
      "source": [
        "!git clone https://github.com/Atcold/pytorch-Deep-Learning.git \n",
        "!mv pytorch-Deep-Learning FolderPy"
      ],
      "execution_count": 4,
      "outputs": [
        {
          "output_type": "stream",
          "text": [
            "Cloning into 'pytorch-Deep-Learning'...\n",
            "remote: Enumerating objects: 34, done.\u001b[K\n",
            "remote: Counting objects: 100% (34/34), done.\u001b[K\n",
            "remote: Compressing objects: 100% (27/27), done.\u001b[K\n",
            "remote: Total 3909 (delta 13), reused 16 (delta 7), pack-reused 3875\u001b[K\n",
            "Receiving objects: 100% (3909/3909), 93.72 MiB | 32.69 MiB/s, done.\n",
            "Resolving deltas: 100% (2318/2318), done.\n",
            "mv: cannot move 'pytorch-Deep-Learning' to 'FolderPy/pytorch-Deep-Learning': Directory not empty\n"
          ],
          "name": "stdout"
        }
      ]
    },
    {
      "cell_type": "code",
      "metadata": {
        "id": "o2SIfR1aC8Y4",
        "colab_type": "code",
        "colab": {}
      },
      "source": [
        "from FolderPy.res.sequential_tasks import EchoData\n",
        "import torch\n",
        "import torch.nn as nn\n",
        "# import torch.nn.functional as F\n",
        "import torch.optim as optim\n",
        "\n",
        "torch.manual_seed(1);"
      ],
      "execution_count": 0,
      "outputs": []
    },
    {
      "cell_type": "code",
      "metadata": {
        "id": "sp7EcPBSC8ZI",
        "colab_type": "code",
        "colab": {}
      },
      "source": [
        "batch_size = 5\n",
        "echo_step = 3\n",
        "series_length = 20_000\n",
        "BPTT_T = 20\n",
        "\n",
        "train_data = EchoData(\n",
        "    echo_step=echo_step,\n",
        "    batch_size=batch_size,\n",
        "    series_length=series_length,\n",
        "    truncated_length=BPTT_T,\n",
        ")\n",
        "train_size = len(train_data)\n",
        "\n",
        "test_data = EchoData(\n",
        "    echo_step=echo_step,\n",
        "    batch_size=batch_size,\n",
        "    series_length=series_length,\n",
        "    truncated_length=BPTT_T,\n",
        ")\n",
        "test_size = len(test_data)"
      ],
      "execution_count": 0,
      "outputs": []
    },
    {
      "cell_type": "code",
      "metadata": {
        "id": "PyImcMjqC8ZT",
        "colab_type": "code",
        "colab": {
          "base_uri": "https://localhost:8080/",
          "height": 52
        },
        "outputId": "f9a40307-d9f0-4aa4-fc72-0bcdc5b4c35f"
      },
      "source": [
        "# Let's print first 20 timesteps of the first sequences to see the echo data:\n",
        "print('(1st input sequence)  x:', *train_data.x_batch[0, :20], '... ')\n",
        "print('(1st target sequence) y:', *train_data.y_batch[0, :20], '... ')"
      ],
      "execution_count": 7,
      "outputs": [
        {
          "output_type": "stream",
          "text": [
            "(1st input sequence)  x: 0 1 0 0 0 1 0 0 1 1 1 1 0 1 1 1 0 1 1 0 ... \n",
            "(1st target sequence) y: 0 0 0 0 1 0 0 0 1 0 0 1 1 1 1 0 1 1 1 0 ... \n"
          ],
          "name": "stdout"
        }
      ]
    },
    {
      "cell_type": "code",
      "metadata": {
        "id": "0sPjmqx0C8Zo",
        "colab_type": "code",
        "colab": {
          "base_uri": "https://localhost:8080/",
          "height": 277
        },
        "outputId": "52a927d8-d1ab-42e6-8150-e730c64fc2ac"
      },
      "source": [
        "# batch_size different sequences are created:\n",
        "print('x_batch:', *(str(d)[1:-1] + ' ...' for d in train_data.x_batch[:, :20]), sep='\\n')\n",
        "print('x_batch size:', train_data.x_batch.shape)\n",
        "print()\n",
        "print('y_batch:', *(str(d)[1:-1] + ' ...' for d in train_data.y_batch[:, :20]), sep='\\n')\n",
        "print('y_batch size:', train_data.y_batch.shape)"
      ],
      "execution_count": 8,
      "outputs": [
        {
          "output_type": "stream",
          "text": [
            "x_batch:\n",
            "0 1 0 0 0 1 0 0 1 1 1 1 0 1 1 1 0 1 1 0 ...\n",
            "0 1 1 0 0 1 1 0 0 0 0 0 1 0 0 1 0 0 1 1 ...\n",
            "1 1 1 1 1 1 0 0 1 0 0 0 0 0 1 0 0 1 1 1 ...\n",
            "1 1 1 1 1 1 0 0 1 0 0 1 0 1 0 1 0 1 0 1 ...\n",
            "1 1 0 1 1 0 0 1 1 1 1 1 1 0 0 1 1 1 1 1 ...\n",
            "x_batch size: (5, 20000)\n",
            "\n",
            "y_batch:\n",
            "0 0 0 0 1 0 0 0 1 0 0 1 1 1 1 0 1 1 1 0 ...\n",
            "0 0 0 0 1 1 0 0 1 1 0 0 0 0 0 1 0 0 1 0 ...\n",
            "0 0 0 1 1 1 1 1 1 0 0 1 0 0 0 0 0 1 0 0 ...\n",
            "0 0 0 1 1 1 1 1 1 0 0 1 0 0 1 0 1 0 1 0 ...\n",
            "0 0 0 1 1 0 1 1 0 0 1 1 1 1 1 1 0 0 1 1 ...\n",
            "y_batch size: (5, 20000)\n"
          ],
          "name": "stdout"
        }
      ]
    },
    {
      "cell_type": "code",
      "metadata": {
        "id": "pC6MbCRhC8Z5",
        "colab_type": "code",
        "colab": {
          "base_uri": "https://localhost:8080/",
          "height": 277
        },
        "outputId": "23dd9561-d47e-4185-850b-9a1a6757d2c8"
      },
      "source": [
        "# In order to use RNNs data is organized into temporal\n",
        "# chunks of size [batch_size, T, feature_dim]\n",
        "print('x_chunk:', *train_data.x_chunks[0].squeeze(), sep='\\n')\n",
        "print('1st x_chunk size:', train_data.x_chunks[0].shape)\n",
        "print()\n",
        "print('y_chunk:', *train_data.y_chunks[0].squeeze(), sep='\\n')\n",
        "print('1st y_chunk size:', train_data.y_chunks[0].shape)"
      ],
      "execution_count": 9,
      "outputs": [
        {
          "output_type": "stream",
          "text": [
            "x_chunk:\n",
            "[0 1 0 0 0 1 0 0 1 1 1 1 0 1 1 1 0 1 1 0]\n",
            "[0 1 1 0 0 1 1 0 0 0 0 0 1 0 0 1 0 0 1 1]\n",
            "[1 1 1 1 1 1 0 0 1 0 0 0 0 0 1 0 0 1 1 1]\n",
            "[1 1 1 1 1 1 0 0 1 0 0 1 0 1 0 1 0 1 0 1]\n",
            "[1 1 0 1 1 0 0 1 1 1 1 1 1 0 0 1 1 1 1 1]\n",
            "1st x_chunk size: (5, 20, 1)\n",
            "\n",
            "y_chunk:\n",
            "[0 0 0 0 1 0 0 0 1 0 0 1 1 1 1 0 1 1 1 0]\n",
            "[0 0 0 0 1 1 0 0 1 1 0 0 0 0 0 1 0 0 1 0]\n",
            "[0 0 0 1 1 1 1 1 1 0 0 1 0 0 0 0 0 1 0 0]\n",
            "[0 0 0 1 1 1 1 1 1 0 0 1 0 0 1 0 1 0 1 0]\n",
            "[0 0 0 1 1 0 1 1 0 0 1 1 1 1 1 1 0 0 1 1]\n",
            "1st y_chunk size: (5, 20, 1)\n"
          ],
          "name": "stdout"
        }
      ]
    },
    {
      "cell_type": "code",
      "metadata": {
        "id": "0eBPc5TUC8aH",
        "colab_type": "code",
        "colab": {}
      },
      "source": [
        "class SimpleRNN(nn.Module):\n",
        "    def __init__(self, input_size, rnn_hidden_size, output_size):\n",
        "        super().__init__()\n",
        "        self.rnn_hidden_size = rnn_hidden_size\n",
        "        self.rnn = torch.nn.RNN(\n",
        "            input_size=input_size,\n",
        "            hidden_size=rnn_hidden_size,\n",
        "            num_layers=1,\n",
        "            nonlinearity='relu',\n",
        "            batch_first=True\n",
        "        )\n",
        "        self.linear = torch.nn.Linear(\n",
        "            in_features=rnn_hidden_size,\n",
        "            out_features=1\n",
        "        )\n",
        "\n",
        "    def forward(self, x, hidden):\n",
        "        x, hidden = self.rnn(x, hidden)  \n",
        "        x = self.linear(x)\n",
        "        return x, hidden"
      ],
      "execution_count": 0,
      "outputs": []
    },
    {
      "cell_type": "code",
      "metadata": {
        "id": "AlLM1IhrC8aP",
        "colab_type": "code",
        "colab": {}
      },
      "source": [
        "device = torch.device(\"cuda:0\" if torch.cuda.is_available() else \"cpu\")"
      ],
      "execution_count": 0,
      "outputs": []
    },
    {
      "cell_type": "code",
      "metadata": {
        "id": "vFOKfHwEC8ae",
        "colab_type": "code",
        "colab": {}
      },
      "source": [
        "def train(hidden):\n",
        "    model.train()\n",
        "       \n",
        "    correct = 0\n",
        "    for batch_idx in range(train_size):\n",
        "        data, target = train_data[batch_idx]\n",
        "        data, target = torch.from_numpy(data).float().to(device), torch.from_numpy(target).float().to(device)\n",
        "        optimizer.zero_grad()\n",
        "        if hidden is not None: hidden.detach_()\n",
        "        logits, hidden = model(data, hidden)\n",
        "        loss = criterion(logits, target)\n",
        "        loss.backward()\n",
        "        optimizer.step()\n",
        "        \n",
        "        pred = (torch.sigmoid(logits) > 0.5)\n",
        "        correct += (pred == target.byte()).int().sum().item()\n",
        "        \n",
        "    return correct, loss.item(), hidden"
      ],
      "execution_count": 0,
      "outputs": []
    },
    {
      "cell_type": "code",
      "metadata": {
        "id": "yd7Ew5B_C8ap",
        "colab_type": "code",
        "colab": {}
      },
      "source": [
        "def test(hidden):\n",
        "    model.eval()   \n",
        "    correct = 0\n",
        "    with torch.no_grad():\n",
        "        for batch_idx in range(test_size):\n",
        "            data, target = test_data[batch_idx]\n",
        "            data, target = torch.from_numpy(data).float().to(device), torch.from_numpy(target).float().to(device)\n",
        "            logits, hidden = model(data, hidden)\n",
        "            \n",
        "            pred = (torch.sigmoid(logits) > 0.5)\n",
        "            correct += (pred == target.byte()).int().sum().item()\n",
        "\n",
        "    return correct"
      ],
      "execution_count": 0,
      "outputs": []
    },
    {
      "cell_type": "code",
      "metadata": {
        "id": "2eoRt6BMC8aw",
        "colab_type": "code",
        "colab": {}
      },
      "source": [
        "feature_dim = 1 #since we have a scalar series\n",
        "h_units = 4\n",
        "\n",
        "model = SimpleRNN(\n",
        "    input_size=1,\n",
        "    rnn_hidden_size=h_units,\n",
        "    output_size=feature_dim\n",
        ").to(device)\n",
        "hidden = None\n",
        "        \n",
        "criterion = torch.nn.BCEWithLogitsLoss()\n",
        "optimizer = torch.optim.RMSprop(model.parameters(), lr=0.001)"
      ],
      "execution_count": 0,
      "outputs": []
    },
    {
      "cell_type": "code",
      "metadata": {
        "id": "qQt45XvSC8a9",
        "colab_type": "code",
        "colab": {
          "base_uri": "https://localhost:8080/",
          "height": 121
        },
        "outputId": "5f6f5ec7-e17f-44f2-c3d1-c2cf3fffe77e"
      },
      "source": [
        "n_epochs = 5\n",
        "epoch = 0\n",
        "\n",
        "while epoch < n_epochs:\n",
        "    correct, loss, hidden = train(hidden)\n",
        "    epoch += 1\n",
        "    train_accuracy = float(correct) / train_size\n",
        "    print(f'Train Epoch: {epoch}/{n_epochs}, loss: {loss:.3f}, accuracy {train_accuracy:.1f}%')\n",
        "\n",
        "#test    \n",
        "correct = test(hidden)\n",
        "test_accuracy = float(correct) / test_size\n",
        "print(f'Test accuracy: {test_accuracy:.1f}%')"
      ],
      "execution_count": 15,
      "outputs": [
        {
          "output_type": "stream",
          "text": [
            "Train Epoch: 1/5, loss: 0.670, accuracy 54.0%\n",
            "Train Epoch: 2/5, loss: 0.647, accuracy 63.5%\n",
            "Train Epoch: 3/5, loss: 0.502, accuracy 69.0%\n",
            "Train Epoch: 4/5, loss: 0.298, accuracy 78.3%\n",
            "Train Epoch: 5/5, loss: 0.395, accuracy 84.8%\n",
            "Test accuracy: 85.4%\n"
          ],
          "name": "stdout"
        }
      ]
    },
    {
      "cell_type": "code",
      "metadata": {
        "id": "POZ4sjpXC8bM",
        "colab_type": "code",
        "colab": {
          "base_uri": "https://localhost:8080/",
          "height": 277
        },
        "outputId": "cfefdb6a-3ce0-41b2-e482-8729e2860209"
      },
      "source": [
        "# Let's try some echoing\n",
        "my_input = torch.empty(1, 100, 1).random_(2).to(device)\n",
        "hidden = None\n",
        "my_out, _ = model(my_input, hidden)\n",
        "print(my_input.view(1, -1).byte(), (my_out > 0).view(1, -1), sep='\\n')"
      ],
      "execution_count": 16,
      "outputs": [
        {
          "output_type": "stream",
          "text": [
            "tensor([[1, 1, 1, 1, 0, 0, 0, 1, 1, 1, 1, 1, 1, 0, 1, 1, 0, 0, 1, 0, 0, 1, 1, 1,\n",
            "         0, 1, 0, 0, 1, 1, 0, 1, 1, 1, 1, 0, 0, 1, 1, 0, 0, 0, 0, 1, 1, 1, 0, 1,\n",
            "         0, 0, 1, 1, 0, 1, 1, 0, 1, 0, 0, 1, 1, 1, 0, 1, 1, 0, 1, 1, 1, 1, 0, 0,\n",
            "         0, 0, 0, 1, 1, 1, 1, 1, 1, 1, 0, 0, 0, 0, 0, 0, 1, 1, 1, 1, 1, 1, 0, 0,\n",
            "         1, 1, 0, 0]], dtype=torch.uint8)\n",
            "tensor([[ True, False,  True, False, False, False,  True, False, False, False,\n",
            "          True, False, False, False,  True,  True, False,  True,  True, False,\n",
            "         False,  True, False, False,  True,  True,  True, False,  True, False,\n",
            "         False,  True,  True, False,  True,  True, False,  True, False, False,\n",
            "          True,  True, False,  True,  True, False,  True,  True,  True, False,\n",
            "          True, False, False,  True,  True, False,  True,  True, False,  True,\n",
            "         False, False,  True,  True,  True, False,  True,  True, False,  True,\n",
            "          True, False,  True,  True,  True,  True, False, False,  True, False,\n",
            "         False, False,  True,  True,  True, False,  True,  True,  True, False,\n",
            "         False,  True, False, False, False,  True,  True, False, False,  True]])\n"
          ],
          "name": "stdout"
        }
      ]
    }
  ]
}