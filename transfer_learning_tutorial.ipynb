{
  "nbformat": 4,
  "nbformat_minor": 0,
  "metadata": {
    "kernelspec": {
      "display_name": "Python 3",
      "language": "python",
      "name": "python3"
    },
    "language_info": {
      "codemirror_mode": {
        "name": "ipython",
        "version": 3
      },
      "file_extension": ".py",
      "mimetype": "text/x-python",
      "name": "python",
      "nbconvert_exporter": "python",
      "pygments_lexer": "ipython3",
      "version": "3.6.8"
    },
    "colab": {
      "name": "transfer_learning_tutorial.ipynb",
      "provenance": [],
      "toc_visible": true,
      "include_colab_link": true
    },
    "accelerator": "GPU"
  },
  "cells": [
    {
      "cell_type": "markdown",
      "metadata": {
        "id": "view-in-github",
        "colab_type": "text"
      },
      "source": [
        "<a href=\"https://colab.research.google.com/github/JonathanSum/pytorch-Deep-Learning_colab/blob/master/transfer_learning_tutorial.ipynb\" target=\"_parent\"><img src=\"https://colab.research.google.com/assets/colab-badge.svg\" alt=\"Open In Colab\"/></a>"
      ]
    },
    {
      "cell_type": "code",
      "metadata": {
        "id": "-gaEHVFLiOuF",
        "colab_type": "code",
        "colab": {}
      },
      "source": [
        "%matplotlib inline"
      ],
      "execution_count": 1,
      "outputs": []
    },
    {
      "cell_type": "markdown",
      "metadata": {
        "id": "eM0nB5O0iOud",
        "colab_type": "text"
      },
      "source": [
        "\n",
        "Transfer Learning for Computer Vision Tutorial\n",
        "==============================================\n",
        "**Author**: `Sasank Chilamkurthy <https://chsasank.github.io>`_\n",
        "\n",
        "In this tutorial, you will learn how to train a convolutional neural network for\n",
        "image classification using transfer learning. You can read more about the transfer\n",
        "learning at `cs231n notes <https://cs231n.github.io/transfer-learning/>`__\n",
        "\n",
        "Quoting these notes,\n",
        "\n",
        "    In practice, very few people train an entire Convolutional Network\n",
        "    from scratch (with random initialization), because it is relatively\n",
        "    rare to have a dataset of sufficient size. Instead, it is common to\n",
        "    pretrain a ConvNet on a very large dataset (e.g. ImageNet, which\n",
        "    contains 1.2 million images with 1000 categories), and then use the\n",
        "    ConvNet either as an initialization or a fixed feature extractor for\n",
        "    the task of interest.\n",
        "\n",
        "These two major transfer learning scenarios look as follows:\n",
        "\n",
        "-  **Finetuning the convnet**: Instead of random initializaion, we\n",
        "   initialize the network with a pretrained network, like the one that is\n",
        "   trained on imagenet 1000 dataset. Rest of the training looks as\n",
        "   usual.\n",
        "-  **ConvNet as fixed feature extractor**: Here, we will freeze the weights\n",
        "   for all of the network except that of the final fully connected\n",
        "   layer. This last fully connected layer is replaced with a new one\n",
        "   with random weights and only this layer is trained.\n",
        "\n",
        "\n"
      ]
    },
    {
      "cell_type": "code",
      "metadata": {
        "id": "rZo7dsC2iOui",
        "colab_type": "code",
        "colab": {}
      },
      "source": [
        "# License: BSD\n",
        "# Author: Sasank Chilamkurthy\n",
        "\n",
        "from __future__ import print_function, division\n",
        "\n",
        "import torch\n",
        "import torch.nn as nn\n",
        "import torch.optim as optim\n",
        "from torch.optim import lr_scheduler\n",
        "import numpy as np\n",
        "import torchvision\n",
        "from torchvision import datasets, models, transforms\n",
        "import matplotlib.pyplot as plt\n",
        "import time\n",
        "import os\n",
        "import copy\n",
        "\n",
        "plt.ion()   # interactive mode"
      ],
      "execution_count": 2,
      "outputs": []
    },
    {
      "cell_type": "markdown",
      "metadata": {
        "id": "Q6018of_iOuw",
        "colab_type": "text"
      },
      "source": [
        "Load Data\n",
        "---------\n",
        "\n",
        "We will use torchvision and torch.utils.data packages for loading the\n",
        "data.\n",
        "\n",
        "The problem we're going to solve today is to train a model to classify\n",
        "**ants** and **bees**. We have about 120 training images each for ants and bees.\n",
        "There are 75 validation images for each class. Usually, this is a very\n",
        "small dataset to generalize upon, if trained from scratch. Since we\n",
        "are using transfer learning, we should be able to generalize reasonably\n",
        "well.\n",
        "\n",
        "This dataset is a very small subset of imagenet.\n",
        "\n",
        ".. Note ::\n",
        "   Download the data from\n",
        "   `here <https://download.pytorch.org/tutorial/hymenoptera_data.zip>`_\n",
        "   and extract it to the current directory.\n",
        "\n"
      ]
    },
    {
      "cell_type": "code",
      "metadata": {
        "id": "2dLgDyaGj40l",
        "colab_type": "code",
        "colab": {
          "base_uri": "https://localhost:8080/",
          "height": 440
        },
        "outputId": "d03f5e1c-115f-4edc-c433-077767c4aff1"
      },
      "source": [
        "!wget --no-check-certificate \\\n",
        "    https://www.dropbox.com/s/hii00hqj9s1s7m6/Happy%20Sugar%20Life.7z?dl=0 \\\n",
        "    -O /content/data_set.7z"
      ],
      "execution_count": 3,
      "outputs": [
        {
          "output_type": "stream",
          "text": [
            "--2020-08-03 11:13:32--  https://www.dropbox.com/s/hii00hqj9s1s7m6/Happy%20Sugar%20Life.7z?dl=0\n",
            "Resolving www.dropbox.com (www.dropbox.com)... 162.125.5.1, 2620:100:601d:1::a27d:501\n",
            "Connecting to www.dropbox.com (www.dropbox.com)|162.125.5.1|:443... connected.\n",
            "HTTP request sent, awaiting response... 301 Moved Permanently\n",
            "Location: /s/raw/hii00hqj9s1s7m6/Happy%20Sugar%20Life.7z [following]\n",
            "--2020-08-03 11:13:32--  https://www.dropbox.com/s/raw/hii00hqj9s1s7m6/Happy%20Sugar%20Life.7z\n",
            "Reusing existing connection to www.dropbox.com:443.\n",
            "HTTP request sent, awaiting response... 302 Found\n",
            "Location: https://uce4db2fb4e503cc36aaaa9f0e30.dl.dropboxusercontent.com/cd/0/inline/A8zs7XsG5mPMBYl60lmInYfw-5AO10u-IwQinuvkXtKcYI3dc80yGz9hG7Ho82pcKrq51-it6xeKcVzAg5i_3CjPj3eWXWuHUVf51XeF4I7rnsK22Ouc-jXtzasY_duZrns/file# [following]\n",
            "--2020-08-03 11:13:33--  https://uce4db2fb4e503cc36aaaa9f0e30.dl.dropboxusercontent.com/cd/0/inline/A8zs7XsG5mPMBYl60lmInYfw-5AO10u-IwQinuvkXtKcYI3dc80yGz9hG7Ho82pcKrq51-it6xeKcVzAg5i_3CjPj3eWXWuHUVf51XeF4I7rnsK22Ouc-jXtzasY_duZrns/file\n",
            "Resolving uce4db2fb4e503cc36aaaa9f0e30.dl.dropboxusercontent.com (uce4db2fb4e503cc36aaaa9f0e30.dl.dropboxusercontent.com)... 162.125.5.15, 2620:100:601d:15::a27d:50f\n",
            "Connecting to uce4db2fb4e503cc36aaaa9f0e30.dl.dropboxusercontent.com (uce4db2fb4e503cc36aaaa9f0e30.dl.dropboxusercontent.com)|162.125.5.15|:443... connected.\n",
            "HTTP request sent, awaiting response... 302 Found\n",
            "Location: /cd/0/inline2/A8wVBvROrm4y_VR3BLaRgTO1M1rRo8zD8giZ41lZm7GEDHeK5pli6-dz8a7bpPfWTgQn8nZPwoSheOIBhoGE0eJOxr8_WArQ0RsyoYjqR-1dHqsPCZLAtF_kueXrnrpN3LVK1IUk9TYxFpyoqIZBKCT4erSPsmxRd9ZcGpP0-Lg-zjQWadIVGGI4ssTjwKtqr6CpuqfOMzeeOI1aaYQJyy6nPKR357USV4w6pvG0TTHkTCpukhqOR2xKf1xpUL9zjMAunLZ6_GVr8UzO0gZyTUoOx2MQ05HWUXwQlSFt15Kj7aD5HdBvpbdUt21n_l_nVJ3IP2gJ4U56JzLwjNjHcc5E7ZLYeFTuM5iV1UxP5x7kYQ/file [following]\n",
            "--2020-08-03 11:13:33--  https://uce4db2fb4e503cc36aaaa9f0e30.dl.dropboxusercontent.com/cd/0/inline2/A8wVBvROrm4y_VR3BLaRgTO1M1rRo8zD8giZ41lZm7GEDHeK5pli6-dz8a7bpPfWTgQn8nZPwoSheOIBhoGE0eJOxr8_WArQ0RsyoYjqR-1dHqsPCZLAtF_kueXrnrpN3LVK1IUk9TYxFpyoqIZBKCT4erSPsmxRd9ZcGpP0-Lg-zjQWadIVGGI4ssTjwKtqr6CpuqfOMzeeOI1aaYQJyy6nPKR357USV4w6pvG0TTHkTCpukhqOR2xKf1xpUL9zjMAunLZ6_GVr8UzO0gZyTUoOx2MQ05HWUXwQlSFt15Kj7aD5HdBvpbdUt21n_l_nVJ3IP2gJ4U56JzLwjNjHcc5E7ZLYeFTuM5iV1UxP5x7kYQ/file\n",
            "Reusing existing connection to uce4db2fb4e503cc36aaaa9f0e30.dl.dropboxusercontent.com:443.\n",
            "HTTP request sent, awaiting response... 200 OK\n",
            "Length: 49150094 (47M) [application/x-7z-compressed]\n",
            "Saving to: ‘/content/data_set.7z’\n",
            "\n",
            "/content/data_set.7 100%[===================>]  46.87M  50.6MB/s    in 0.9s    \n",
            "\n",
            "2020-08-03 11:13:35 (50.6 MB/s) - ‘/content/data_set.7z’ saved [49150094/49150094]\n",
            "\n"
          ],
          "name": "stdout"
        }
      ]
    },
    {
      "cell_type": "code",
      "metadata": {
        "id": "dO9FE7i5igZ7",
        "colab_type": "code",
        "colab": {
          "base_uri": "https://localhost:8080/",
          "height": 403
        },
        "outputId": "2a06f99c-97ef-4e6a-d532-b5a3dee0f678"
      },
      "source": [
        "!p7zip -d \"/content/data_set.7z\""
      ],
      "execution_count": 4,
      "outputs": [
        {
          "output_type": "stream",
          "text": [
            "\n",
            "7-Zip (a) [64] 16.02 : Copyright (c) 1999-2016 Igor Pavlov : 2016-05-21\n",
            "p7zip Version 16.02 (locale=en_US.UTF-8,Utf16=on,HugeFiles=on,64 bits,2 CPUs Intel(R) Xeon(R) CPU @ 2.30GHz (306F0),ASM,AES-NI)\n",
            "\n",
            "Scanning the drive for archives:\n",
            "  0M Scan /content/\b\b\b\b\b\b\b\b\b\b\b\b\b\b\b\b\b\b\b                   \b\b\b\b\b\b\b\b\b\b\b\b\b\b\b\b\b\b\b1 file, 49150094 bytes (47 MiB)\n",
            "\n",
            "Extracting archive: /content/data_set.7z\n",
            "--\n",
            "Path = /content/data_set.7z\n",
            "Type = 7z\n",
            "Physical Size = 49150094\n",
            "Headers Size = 24256\n",
            "Method = LZMA2:24\n",
            "Solid = +\n",
            "Blocks = 1\n",
            "\n",
            "  0%\b\b\b\b    \b\b\b\b  5% 133 - Happy Sugar Life/Asahi/Asahi_35 copy.png\b\b\b\b\b\b\b\b\b\b\b\b\b\b\b\b\b\b\b\b\b\b\b\b\b\b\b\b\b\b\b\b\b\b\b\b\b\b\b\b\b\b\b\b\b\b\b\b\b\b\b                                                   \b\b\b\b\b\b\b\b\b\b\b\b\b\b\b\b\b\b\b\b\b\b\b\b\b\b\b\b\b\b\b\b\b\b\b\b\b\b\b\b\b\b\b\b\b\b\b\b\b\b\b 12% 374 - Happy Sugar Life/Aunt/Aunt_40 copy.png\b\b\b\b\b\b\b\b\b\b\b\b\b\b\b\b\b\b\b\b\b\b\b\b\b\b\b\b\b\b\b\b\b\b\b\b\b\b\b\b\b\b\b\b\b\b\b\b\b                                                 \b\b\b\b\b\b\b\b\b\b\b\b\b\b\b\b\b\b\b\b\b\b\b\b\b\b\b\b\b\b\b\b\b\b\b\b\b\b\b\b\b\b\b\b\b\b\b\b\b 18% 498 - Happy Sugar Life/AuntManga/77.png\b\b\b\b\b\b\b\b\b\b\b\b\b\b\b\b\b\b\b\b\b\b\b\b\b\b\b\b\b\b\b\b\b\b\b\b\b\b\b\b\b\b\b\b                                            \b\b\b\b\b\b\b\b\b\b\b\b\b\b\b\b\b\b\b\b\b\b\b\b\b\b\b\b\b\b\b\b\b\b\b\b\b\b\b\b\b\b\b\b 24% 734 - Happy Sugar Life/Satou/Satou_111 copy.png\b\b\b\b\b\b\b\b\b\b\b\b\b\b\b\b\b\b\b\b\b\b\b\b\b\b\b\b\b\b\b\b\b\b\b\b\b\b\b\b\b\b\b\b\b\b\b\b\b\b\b\b                                                    \b\b\b\b\b\b\b\b\b\b\b\b\b\b\b\b\b\b\b\b\b\b\b\b\b\b\b\b\b\b\b\b\b\b\b\b\b\b\b\b\b\b\b\b\b\b\b\b\b\b\b\b 30% 849 - Happy Sugar Life/Satou/Satou_215 copy.png\b\b\b\b\b\b\b\b\b\b\b\b\b\b\b\b\b\b\b\b\b\b\b\b\b\b\b\b\b\b\b\b\b\b\b\b\b\b\b\b\b\b\b\b\b\b\b\b\b\b\b\b                                                    \b\b\b\b\b\b\b\b\b\b\b\b\b\b\b\b\b\b\b\b\b\b\b\b\b\b\b\b\b\b\b\b\b\b\b\b\b\b\b\b\b\b\b\b\b\b\b\b\b\b\b\b 35% 1078 - Happy Sugar Life/Satou/Satou_421 copy.png\b\b\b\b\b\b\b\b\b\b\b\b\b\b\b\b\b\b\b\b\b\b\b\b\b\b\b\b\b\b\b\b\b\b\b\b\b\b\b\b\b\b\b\b\b\b\b\b\b\b\b\b\b                                                     \b\b\b\b\b\b\b\b\b\b\b\b\b\b\b\b\b\b\b\b\b\b\b\b\b\b\b\b\b\b\b\b\b\b\b\b\b\b\b\b\b\b\b\b\b\b\b\b\b\b\b\b\b 41% 1196 - Happy Sugar Life/Satou/Satou_528 copy.png\b\b\b\b\b\b\b\b\b\b\b\b\b\b\b\b\b\b\b\b\b\b\b\b\b\b\b\b\b\b\b\b\b\b\b\b\b\b\b\b\b\b\b\b\b\b\b\b\b\b\b\b\b                                                     \b\b\b\b\b\b\b\b\b\b\b\b\b\b\b\b\b\b\b\b\b\b\b\b\b\b\b\b\b\b\b\b\b\b\b\b\b\b\b\b\b\b\b\b\b\b\b\b\b\b\b\b\b 48% 1428 - Happy Sugar Life/SatouManga/206.png\b\b\b\b\b\b\b\b\b\b\b\b\b\b\b\b\b\b\b\b\b\b\b\b\b\b\b\b\b\b\b\b\b\b\b\b\b\b\b\b\b\b\b\b\b\b\b                                               \b\b\b\b\b\b\b\b\b\b\b\b\b\b\b\b\b\b\b\b\b\b\b\b\b\b\b\b\b\b\b\b\b\b\b\b\b\b\b\b\b\b\b\b\b\b\b 55% 1659 - Happy Sugar Life/SatouManga/414.png\b\b\b\b\b\b\b\b\b\b\b\b\b\b\b\b\b\b\b\b\b\b\b\b\b\b\b\b\b\b\b\b\b\b\b\b\b\b\b\b\b\b\b\b\b\b\b                                               \b\b\b\b\b\b\b\b\b\b\b\b\b\b\b\b\b\b\b\b\b\b\b\b\b\b\b\b\b\b\b\b\b\b\b\b\b\b\b\b\b\b\b\b\b\b\b 62% 1913 - Happy Sugar Life/SatouManga/80.png\b\b\b\b\b\b\b\b\b\b\b\b\b\b\b\b\b\b\b\b\b\b\b\b\b\b\b\b\b\b\b\b\b\b\b\b\b\b\b\b\b\b\b\b\b\b                                              \b\b\b\b\b\b\b\b\b\b\b\b\b\b\b\b\b\b\b\b\b\b\b\b\b\b\b\b\b\b\b\b\b\b\b\b\b\b\b\b\b\b\b\b\b\b 68% 2029 - Happy Sugar Life/Shio/Shio_171 copy.png\b\b\b\b\b\b\b\b\b\b\b\b\b\b\b\b\b\b\b\b\b\b\b\b\b\b\b\b\b\b\b\b\b\b\b\b\b\b\b\b\b\b\b\b\b\b\b\b\b\b\b                                                   \b\b\b\b\b\b\b\b\b\b\b\b\b\b\b\b\b\b\b\b\b\b\b\b\b\b\b\b\b\b\b\b\b\b\b\b\b\b\b\b\b\b\b\b\b\b\b\b\b\b\b 72% 2149 - Happy Sugar Life/Shio/Shio_28 copy.png\b\b\b\b\b\b\b\b\b\b\b\b\b\b\b\b\b\b\b\b\b\b\b\b\b\b\b\b\b\b\b\b\b\b\b\b\b\b\b\b\b\b\b\b\b\b\b\b\b\b                                                  \b\b\b\b\b\b\b\b\b\b\b\b\b\b\b\b\b\b\b\b\b\b\b\b\b\b\b\b\b\b\b\b\b\b\b\b\b\b\b\b\b\b\b\b\b\b\b\b\b\b 79% 2384 - Happy Sugar Life/ShioManga/190.png\b\b\b\b\b\b\b\b\b\b\b\b\b\b\b\b\b\b\b\b\b\b\b\b\b\b\b\b\b\b\b\b\b\b\b\b\b\b\b\b\b\b\b\b\b\b                                              \b\b\b\b\b\b\b\b\b\b\b\b\b\b\b\b\b\b\b\b\b\b\b\b\b\b\b\b\b\b\b\b\b\b\b\b\b\b\b\b\b\b\b\b\b\b 87% 2639 - Happy Sugar Life/ShioManga/42.png\b\b\b\b\b\b\b\b\b\b\b\b\b\b\b\b\b\b\b\b\b\b\b\b\b\b\b\b\b\b\b\b\b\b\b\b\b\b\b\b\b\b\b\b\b                                             \b\b\b\b\b\b\b\b\b\b\b\b\b\b\b\b\b\b\b\b\b\b\b\b\b\b\b\b\b\b\b\b\b\b\b\b\b\b\b\b\b\b\b\b\b 91% 2761 - Happy Sugar Life/Shouko/Shouko_13 copy.png\b\b\b\b\b\b\b\b\b\b\b\b\b\b\b\b\b\b\b\b\b\b\b\b\b\b\b\b\b\b\b\b\b\b\b\b\b\b\b\b\b\b\b\b\b\b\b\b\b\b\b\b\b\b                                                      \b\b\b\b\b\b\b\b\b\b\b\b\b\b\b\b\b\b\b\b\b\b\b\b\b\b\b\b\b\b\b\b\b\b\b\b\b\b\b\b\b\b\b\b\b\b\b\b\b\b\b\b\b\b 97% 2999 - Happy Sugar Life/ShoukoManga/16.png\b\b\b\b\b\b\b\b\b\b\b\b\b\b\b\b\b\b\b\b\b\b\b\b\b\b\b\b\b\b\b\b\b\b\b\b\b\b\b\b\b\b\b\b\b\b\b                                               \b\b\b\b\b\b\b\b\b\b\b\b\b\b\b\b\b\b\b\b\b\b\b\b\b\b\b\b\b\b\b\b\b\b\b\b\b\b\b\b\b\b\b\b\b\b\bEverything is Ok\n",
            "\n",
            "Folders: 14\n",
            "Files: 3104\n",
            "Size:       109176156\n",
            "Compressed: 49150094\n"
          ],
          "name": "stdout"
        }
      ]
    },
    {
      "cell_type": "code",
      "metadata": {
        "id": "XUCNt2XtofEb",
        "colab_type": "code",
        "colab": {}
      },
      "source": [
        "!mv \"Happy Sugar Life\" \"happy_sugar_life\""
      ],
      "execution_count": 5,
      "outputs": []
    },
    {
      "cell_type": "code",
      "metadata": {
        "id": "dmuGp1kuiOuy",
        "colab_type": "code",
        "colab": {}
      },
      "source": [
        "# # Data augmentation and normalization for training\n",
        "# # Just normalization for validation\n",
        "# data_transforms = {\n",
        "#     'train': transforms.Compose([\n",
        "#         transforms.RandomResizedCrop(224),\n",
        "#         transforms.RandomHorizontalFlip(),\n",
        "#         transforms.ToTensor(),\n",
        "#         transforms.Normalize([0.485, 0.456, 0.406], [0.229, 0.224, 0.225])\n",
        "#     ]),\n",
        "#     'val': transforms.Compose([\n",
        "#         transforms.Resize(256),\n",
        "#         transforms.CenterCrop(224),\n",
        "#         transforms.ToTensor(),\n",
        "#         transforms.Normalize([0.485, 0.456, 0.406], [0.229, 0.224, 0.225])\n",
        "#     ]),\n",
        "# }\n",
        "\n",
        "# # data_dir = 'hymenoptera_data'\n",
        "# image_datasets = {x: datasets.ImageFolder(os.path.join(data_dir, x),\n",
        "#                                           data_transforms[x])\n",
        "#                   for x in ['train', 'val']}\n",
        "# dataloaders = {x: torch.utils.data.DataLoader(image_datasets[x], batch_size=4,\n",
        "#                                              shuffle=True, num_workers=4)\n",
        "#               for x in ['train', 'val']}\n",
        "# dataset_sizes = {x: len(image_datasets[x]) for x in ['train', 'val']}\n",
        "# class_names = image_datasets['train'].classes\n",
        "\n",
        "device = torch.device(\"cuda:0\" if torch.cuda.is_available() else \"cpu\")"
      ],
      "execution_count": 18,
      "outputs": []
    },
    {
      "cell_type": "code",
      "metadata": {
        "id": "jNtQbutpo5Kx",
        "colab_type": "code",
        "colab": {}
      },
      "source": [
        "# data_dir = '/content/happy_sugar_life'\n",
        "# tr1 = transforms.Compose([\n",
        "#         # transforms.RandomResizedCrop(100),\n",
        "#         transforms.RandomHorizontalFlip(),\n",
        "#         transforms.ToTensor(),\n",
        "#         transforms.Normalize([0.485, 0.456, 0.406], [0.229, 0.224, 0.225])\n",
        "#     ])"
      ],
      "execution_count": null,
      "outputs": []
    },
    {
      "cell_type": "code",
      "metadata": {
        "id": "ZmE-scn2pJqr",
        "colab_type": "code",
        "colab": {}
      },
      "source": [
        "# images_data = datasets.ImageFolder(data_dir, tr1)"
      ],
      "execution_count": null,
      "outputs": []
    },
    {
      "cell_type": "code",
      "metadata": {
        "id": "ffVgqlkdln5G",
        "colab_type": "code",
        "colab": {}
      },
      "source": [
        "# dataloaders_i = torch.utils.data.DataLoader(images_data, batch_size=4,\n",
        "#                                              shuffle=True)"
      ],
      "execution_count": null,
      "outputs": []
    },
    {
      "cell_type": "code",
      "metadata": {
        "id": "XgBN0MPXwFeJ",
        "colab_type": "code",
        "colab": {
          "base_uri": "https://localhost:8080/",
          "height": 218
        },
        "outputId": "15c1ba75-7f00-4071-ed41-c01d62c71e34"
      },
      "source": [
        "import torch\n",
        "from torchvision.datasets import ImageFolder\n",
        "from torch.utils.data import Subset\n",
        "from sklearn.model_selection import train_test_split\n",
        "from torchvision.transforms import Compose, ToTensor, Resize\n",
        "from torch.utils.data import DataLoader\n",
        "\n",
        "def train_val_dataset(dataset, val_split=0.25):\n",
        "    train_idx, val_idx = train_test_split(list(range(len(dataset))), test_size=val_split)\n",
        "    datasets = {}\n",
        "    datasets['train'] = Subset(dataset, train_idx)\n",
        "    datasets['val'] = Subset(dataset, val_idx)\n",
        "    return datasets\n",
        "\n",
        "dataset = ImageFolder('/content/happy_sugar_life', transform=Compose([Resize((100,100)),ToTensor()]))\n",
        "print(len(dataset))\n",
        "datasets = train_val_dataset(dataset)\n",
        "print(len(datasets['train']))\n",
        "print(len(datasets['val']))\n",
        "# The original dataset is available in the Subset class\n",
        "print(datasets['train'].dataset)\n",
        "\n",
        "dataloaders = {x:DataLoader(datasets[x],32, shuffle=True, num_workers=4) for x in ['train','val']}\n",
        "x,y = next(iter(dataloaders['train']))\n",
        "print(x.shape, y.shape)"
      ],
      "execution_count": 6,
      "outputs": [
        {
          "output_type": "stream",
          "text": [
            "3104\n",
            "2328\n",
            "776\n",
            "Dataset ImageFolder\n",
            "    Number of datapoints: 3104\n",
            "    Root location: /content/happy_sugar_life\n",
            "    StandardTransform\n",
            "Transform: Compose(\n",
            "               Resize(size=(100, 100), interpolation=PIL.Image.BILINEAR)\n",
            "               ToTensor()\n",
            "           )\n",
            "torch.Size([32, 3, 100, 100]) torch.Size([32])\n"
          ],
          "name": "stdout"
        }
      ]
    },
    {
      "cell_type": "code",
      "metadata": {
        "id": "EVwWYtgr2lNZ",
        "colab_type": "code",
        "colab": {
          "base_uri": "https://localhost:8080/",
          "height": 34
        },
        "outputId": "f0f27a0a-17dd-4a44-c6d1-838375435e4f"
      },
      "source": [
        "dataset_sizes = {x: len(datasets[x]) for x in ['train', 'val']}\n",
        "dataset_sizes"
      ],
      "execution_count": 7,
      "outputs": [
        {
          "output_type": "execute_result",
          "data": {
            "text/plain": [
              "{'train': 2328, 'val': 776}"
            ]
          },
          "metadata": {
            "tags": []
          },
          "execution_count": 7
        }
      ]
    },
    {
      "cell_type": "code",
      "metadata": {
        "id": "iiKu2r8JzIJL",
        "colab_type": "code",
        "colab": {
          "base_uri": "https://localhost:8080/",
          "height": 235
        },
        "outputId": "bbec80f4-4dc4-425e-cba1-d8513294f6f4"
      },
      "source": [
        "dataset.classes"
      ],
      "execution_count": 8,
      "outputs": [
        {
          "output_type": "execute_result",
          "data": {
            "text/plain": [
              "['Asahi',\n",
              " 'AsahiManga',\n",
              " 'Aunt',\n",
              " 'AuntManga',\n",
              " 'Kitaumekawa',\n",
              " 'Mitsuboshi',\n",
              " 'Satou',\n",
              " 'SatouManga',\n",
              " 'SatouShioManga',\n",
              " 'Shio',\n",
              " 'ShioManga',\n",
              " 'Shouko',\n",
              " 'ShoukoManga']"
            ]
          },
          "metadata": {
            "tags": []
          },
          "execution_count": 8
        }
      ]
    },
    {
      "cell_type": "code",
      "metadata": {
        "id": "xfOUqlQnxC09",
        "colab_type": "code",
        "colab": {
          "base_uri": "https://localhost:8080/",
          "height": 151
        },
        "outputId": "0d5e33f1-e273-4575-9ffc-6267e82afd73"
      },
      "source": [
        "dataset"
      ],
      "execution_count": 9,
      "outputs": [
        {
          "output_type": "execute_result",
          "data": {
            "text/plain": [
              "Dataset ImageFolder\n",
              "    Number of datapoints: 3104\n",
              "    Root location: /content/happy_sugar_life\n",
              "    StandardTransform\n",
              "Transform: Compose(\n",
              "               Resize(size=(100, 100), interpolation=PIL.Image.BILINEAR)\n",
              "               ToTensor()\n",
              "           )"
            ]
          },
          "metadata": {
            "tags": []
          },
          "execution_count": 9
        }
      ]
    },
    {
      "cell_type": "code",
      "metadata": {
        "id": "7B9YamS0jJo6",
        "colab_type": "code",
        "colab": {}
      },
      "source": [
        "\n",
        "class_names = dataset.classes"
      ],
      "execution_count": 10,
      "outputs": []
    },
    {
      "cell_type": "code",
      "metadata": {
        "id": "BZshNlkxrOk1",
        "colab_type": "code",
        "colab": {
          "base_uri": "https://localhost:8080/",
          "height": 235
        },
        "outputId": "047d614d-d909-499f-f827-7c4879d9d379"
      },
      "source": [
        "class_names"
      ],
      "execution_count": 11,
      "outputs": [
        {
          "output_type": "execute_result",
          "data": {
            "text/plain": [
              "['Asahi',\n",
              " 'AsahiManga',\n",
              " 'Aunt',\n",
              " 'AuntManga',\n",
              " 'Kitaumekawa',\n",
              " 'Mitsuboshi',\n",
              " 'Satou',\n",
              " 'SatouManga',\n",
              " 'SatouShioManga',\n",
              " 'Shio',\n",
              " 'ShioManga',\n",
              " 'Shouko',\n",
              " 'ShoukoManga']"
            ]
          },
          "metadata": {
            "tags": []
          },
          "execution_count": 11
        }
      ]
    },
    {
      "cell_type": "markdown",
      "metadata": {
        "id": "ywOlAgdriOvT",
        "colab_type": "text"
      },
      "source": [
        "Visualize a few images\n",
        "^^^^^^^^^^^^^^^^^^^^^^\n",
        "Let's visualize a few training images so as to understand the data\n",
        "augmentations.\n",
        "\n"
      ]
    },
    {
      "cell_type": "code",
      "metadata": {
        "id": "vD5Az_YSiOvV",
        "colab_type": "code",
        "colab": {
          "base_uri": "https://localhost:8080/",
          "height": 220
        },
        "outputId": "f40d9a83-df3c-49e2-e078-31e4de624a9d"
      },
      "source": [
        "def imshow(inp, title=None):\n",
        "    \"\"\"Imshow for Tensor.\"\"\"\n",
        "    inp = inp.numpy().transpose((1, 2, 0))\n",
        "    mean = np.array([0.485, 0.456, 0.406])\n",
        "    std = np.array([0.229, 0.224, 0.225])\n",
        "    inp = std * inp + mean\n",
        "    inp = np.clip(inp, 0, 1)\n",
        "    plt.imshow(inp)\n",
        "    if title is not None:\n",
        "        plt.title(title)\n",
        "    plt.pause(0.001)  # pause a bit so that plots are updated\n",
        "\n",
        "\n",
        "# Get a batch of training data\n",
        "inputs, classes = next(iter(dataloaders['train']))\n",
        "\n",
        "# Make a grid from batch\n",
        "out = torchvision.utils.make_grid(inputs)\n",
        "#title=[class_names[x] for x in classes]\n",
        "imshow(out, )\n",
        "title=[class_names[x] for x in classes]\n",
        "# title"
      ],
      "execution_count": 12,
      "outputs": [
        {
          "output_type": "display_data",
          "data": {
            "image/png": "[encoded data removed]",
            "text/plain": [
              "<Figure size 432x288 with 1 Axes>"
            ]
          },
          "metadata": {
            "tags": [],
            "needs_background": "light"
          }
        }
      ]
    },
    {
      "cell_type": "code",
      "metadata": {
        "id": "YzotrdDgBbrS",
        "colab_type": "code",
        "colab": {}
      },
      "source": [
        "title"
      ],
      "execution_count": null,
      "outputs": []
    },
    {
      "cell_type": "markdown",
      "metadata": {
        "id": "LFJ8qd6BiOv5",
        "colab_type": "text"
      },
      "source": [
        "Training the model\n",
        "------------------\n",
        "\n",
        "Now, let's write a general function to train a model. Here, we will\n",
        "illustrate:\n",
        "\n",
        "-  Scheduling the learning rate\n",
        "-  Saving the best model\n",
        "\n",
        "In the following, parameter ``scheduler`` is an LR scheduler object from\n",
        "``torch.optim.lr_scheduler``.\n",
        "\n"
      ]
    },
    {
      "cell_type": "code",
      "metadata": {
        "id": "PYT6fNZ0iOv6",
        "colab_type": "code",
        "colab": {}
      },
      "source": [
        "def train_model(model, criterion, optimizer, scheduler, num_epochs=25):\n",
        "    since = time.time()\n",
        "\n",
        "    best_model_wts = copy.deepcopy(model.state_dict())\n",
        "    best_acc = 0.0\n",
        "\n",
        "    for epoch in range(num_epochs):\n",
        "        print('Epoch {}/{}'.format(epoch, num_epochs - 1))\n",
        "        print('-' * 10)\n",
        "\n",
        "        # Each epoch has a training and validation phase\n",
        "        for phase in ['train', 'val']:\n",
        "            if phase == 'train':\n",
        "                model.train()  # Set model to training mode\n",
        "            else:\n",
        "                model.eval()   # Set model to evaluate mode\n",
        "\n",
        "            running_loss = 0.0\n",
        "            running_corrects = 0\n",
        "\n",
        "            # Iterate over data.\n",
        "            for inputs, labels in dataloaders[phase]:\n",
        "                inputs = inputs.to(device)\n",
        "                labels = labels.to(device)\n",
        "\n",
        "                # zero the parameter gradients\n",
        "                optimizer.zero_grad()\n",
        "\n",
        "                # forward\n",
        "                # track history if only in train\n",
        "                with torch.set_grad_enabled(phase == 'train'):\n",
        "                    outputs = model(inputs)\n",
        "                    _, preds = torch.max(outputs, 1)\n",
        "                    loss = criterion(outputs, labels)\n",
        "\n",
        "                    # backward + optimize only if in training phase\n",
        "                    if phase == 'train':\n",
        "                        loss.backward()\n",
        "                        optimizer.step()\n",
        "\n",
        "                # statistics\n",
        "                running_loss += loss.item() * inputs.size(0)\n",
        "                running_corrects += torch.sum(preds == labels.data)\n",
        "            if phase == 'train':\n",
        "                scheduler.step()\n",
        "\n",
        "            epoch_loss = running_loss / dataset_sizes[phase]\n",
        "            epoch_acc = running_corrects.double() / dataset_sizes[phase]\n",
        "\n",
        "            print('{} Loss: {:.4f} Acc: {:.4f}'.format(\n",
        "                phase, epoch_loss, epoch_acc))\n",
        "\n",
        "            # deep copy the model\n",
        "            if phase == 'val' and epoch_acc > best_acc:\n",
        "                best_acc = epoch_acc\n",
        "                best_model_wts = copy.deepcopy(model.state_dict())\n",
        "\n",
        "        print()\n",
        "\n",
        "    time_elapsed = time.time() - since\n",
        "    print('Training complete in {:.0f}m {:.0f}s'.format(\n",
        "        time_elapsed // 60, time_elapsed % 60))\n",
        "    print('Best val Acc: {:4f}'.format(best_acc))\n",
        "\n",
        "    # load best model weights\n",
        "    model.load_state_dict(best_model_wts)\n",
        "    return model"
      ],
      "execution_count": 20,
      "outputs": []
    },
    {
      "cell_type": "markdown",
      "metadata": {
        "id": "TgJ1oqSziOwD",
        "colab_type": "text"
      },
      "source": [
        "Visualizing the model predictions\n",
        "^^^^^^^^^^^^^^^^^^^^^^^^^^^^^^^^^\n",
        "\n",
        "Generic function to display predictions for a few images\n",
        "\n",
        "\n"
      ]
    },
    {
      "cell_type": "code",
      "metadata": {
        "id": "CAn3KHtgiOwE",
        "colab_type": "code",
        "colab": {}
      },
      "source": [
        "def visualize_model(model, num_images=6):\n",
        "    was_training = model.training\n",
        "    model.eval()\n",
        "    images_so_far = 0\n",
        "    fig = plt.figure()\n",
        "\n",
        "    with torch.no_grad():\n",
        "        for i, (inputs, labels) in enumerate(dataloaders['val']):\n",
        "            inputs = inputs.to(device)\n",
        "            labels = labels.to(device)\n",
        "\n",
        "            outputs = model(inputs)\n",
        "            _, preds = torch.max(outputs, 1)\n",
        "\n",
        "            for j in range(inputs.size()[0]):\n",
        "                images_so_far += 1\n",
        "                ax = plt.subplot(num_images//2, 2, images_so_far)\n",
        "                ax.axis('off')\n",
        "                ax.set_title('predicted: {}'.format(class_names[preds[j]]))\n",
        "                imshow(inputs.cpu().data[j])\n",
        "\n",
        "                if images_so_far == num_images:\n",
        "                    model.train(mode=was_training)\n",
        "                    return\n",
        "        model.train(mode=was_training)"
      ],
      "execution_count": 21,
      "outputs": []
    },
    {
      "cell_type": "markdown",
      "metadata": {
        "id": "wXcjd1uIiOwU",
        "colab_type": "text"
      },
      "source": [
        "Finetuning the convnet\n",
        "----------------------\n",
        "\n",
        "Load a pretrained model and reset final fully connected layer.\n",
        "\n",
        "\n"
      ]
    },
    {
      "cell_type": "code",
      "metadata": {
        "id": "XgIN_dnIiOwZ",
        "colab_type": "code",
        "colab": {}
      },
      "source": [
        "model_ft = models.resnet18(pretrained=True)\n",
        "num_ftrs = model_ft.fc.in_features\n",
        "# Here the size of each output sample is set to 2.\n",
        "# Alternatively, it can be generalized to nn.Linear(num_ftrs, len(class_names)).\n",
        "model_ft.fc = nn.Linear(num_ftrs, len(dataset.classes))\n",
        "\n",
        "model_ft = model_ft.to(device)\n",
        "\n",
        "criterion = nn.CrossEntropyLoss()\n",
        "\n",
        "# Observe that all parameters are being optimized\n",
        "optimizer_ft = optim.SGD(model_ft.parameters(), lr=0.001, momentum=0.9)\n",
        "\n",
        "# Decay LR by a factor of 0.1 every 7 epochs\n",
        "exp_lr_scheduler = lr_scheduler.StepLR(optimizer_ft, step_size=7, gamma=0.1)"
      ],
      "execution_count": 22,
      "outputs": []
    },
    {
      "cell_type": "markdown",
      "metadata": {
        "id": "w1fcvrzNiOwk",
        "colab_type": "text"
      },
      "source": [
        "Train and evaluate\n",
        "^^^^^^^^^^^^^^^^^^\n",
        "\n",
        "It should take around 15-25 min on CPU. On GPU though, it takes less than a\n",
        "minute.\n",
        "\n",
        "\n"
      ]
    },
    {
      "cell_type": "code",
      "metadata": {
        "id": "iQeqiM4SiOwm",
        "colab_type": "code",
        "colab": {
          "base_uri": "https://localhost:8080/",
          "height": 1000
        },
        "outputId": "148fbc94-db77-400b-e69f-47d6a894948d"
      },
      "source": [
        "model_ft = train_model(model_ft, criterion, optimizer_ft, exp_lr_scheduler,\n",
        "                       num_epochs=25)"
      ],
      "execution_count": 23,
      "outputs": [
        {
          "output_type": "stream",
          "text": [
            "Epoch 0/24\n",
            "----------\n",
            "train Loss: 1.2790 Acc: 0.6353\n",
            "val Loss: 0.6032 Acc: 0.8183\n",
            "\n",
            "Epoch 1/24\n",
            "----------\n",
            "train Loss: 0.3913 Acc: 0.8879\n",
            "val Loss: 0.3861 Acc: 0.8827\n",
            "\n",
            "Epoch 2/24\n",
            "----------\n",
            "train Loss: 0.2026 Acc: 0.9536\n",
            "val Loss: 0.3112 Acc: 0.9034\n",
            "\n",
            "Epoch 3/24\n",
            "----------\n",
            "train Loss: 0.1195 Acc: 0.9764\n",
            "val Loss: 0.2800 Acc: 0.9162\n",
            "\n",
            "Epoch 4/24\n",
            "----------\n",
            "train Loss: 0.0650 Acc: 0.9910\n",
            "val Loss: 0.2572 Acc: 0.9253\n",
            "\n",
            "Epoch 5/24\n",
            "----------\n",
            "train Loss: 0.0523 Acc: 0.9957\n",
            "val Loss: 0.2521 Acc: 0.9253\n",
            "\n",
            "Epoch 6/24\n",
            "----------\n",
            "train Loss: 0.0312 Acc: 0.9979\n",
            "val Loss: 0.2520 Acc: 0.9227\n",
            "\n",
            "Epoch 7/24\n",
            "----------\n",
            "train Loss: 0.0262 Acc: 0.9991\n",
            "val Loss: 0.2519 Acc: 0.9330\n",
            "\n",
            "Epoch 8/24\n",
            "----------\n",
            "train Loss: 0.0278 Acc: 0.9979\n",
            "val Loss: 0.2565 Acc: 0.9253\n",
            "\n",
            "Epoch 9/24\n",
            "----------\n",
            "train Loss: 0.0239 Acc: 0.9983\n",
            "val Loss: 0.2505 Acc: 0.9278\n",
            "\n",
            "Epoch 10/24\n",
            "----------\n",
            "train Loss: 0.0233 Acc: 0.9987\n",
            "val Loss: 0.2489 Acc: 0.9291\n",
            "\n",
            "Epoch 11/24\n",
            "----------\n",
            "train Loss: 0.0240 Acc: 0.9987\n",
            "val Loss: 0.2477 Acc: 0.9317\n",
            "\n",
            "Epoch 12/24\n",
            "----------\n",
            "train Loss: 0.0287 Acc: 0.9983\n",
            "val Loss: 0.2430 Acc: 0.9278\n",
            "\n",
            "Epoch 13/24\n",
            "----------\n",
            "train Loss: 0.0218 Acc: 0.9991\n",
            "val Loss: 0.2441 Acc: 0.9343\n",
            "\n",
            "Epoch 14/24\n",
            "----------\n",
            "train Loss: 0.0220 Acc: 0.9991\n",
            "val Loss: 0.2546 Acc: 0.9291\n",
            "\n",
            "Epoch 15/24\n",
            "----------\n",
            "train Loss: 0.0222 Acc: 0.9987\n",
            "val Loss: 0.2439 Acc: 0.9304\n",
            "\n",
            "Epoch 16/24\n",
            "----------\n",
            "train Loss: 0.0203 Acc: 0.9996\n",
            "val Loss: 0.2524 Acc: 0.9265\n",
            "\n",
            "Epoch 17/24\n",
            "----------\n",
            "train Loss: 0.0211 Acc: 0.9991\n",
            "val Loss: 0.2427 Acc: 0.9317\n",
            "\n",
            "Epoch 18/24\n",
            "----------\n",
            "train Loss: 0.0250 Acc: 0.9983\n",
            "val Loss: 0.2460 Acc: 0.9291\n",
            "\n",
            "Epoch 19/24\n",
            "----------\n",
            "train Loss: 0.0205 Acc: 0.9991\n",
            "val Loss: 0.2449 Acc: 0.9317\n",
            "\n",
            "Epoch 20/24\n",
            "----------\n",
            "train Loss: 0.0256 Acc: 0.9970\n",
            "val Loss: 0.2533 Acc: 0.9227\n",
            "\n",
            "Epoch 21/24\n",
            "----------\n",
            "train Loss: 0.0231 Acc: 0.9987\n",
            "val Loss: 0.2512 Acc: 0.9304\n",
            "\n",
            "Epoch 22/24\n",
            "----------\n",
            "train Loss: 0.0188 Acc: 0.9991\n",
            "val Loss: 0.2448 Acc: 0.9278\n",
            "\n",
            "Epoch 23/24\n",
            "----------\n",
            "train Loss: 0.0235 Acc: 0.9987\n",
            "val Loss: 0.2453 Acc: 0.9291\n",
            "\n",
            "Epoch 24/24\n",
            "----------\n",
            "train Loss: 0.0216 Acc: 0.9987\n",
            "val Loss: 0.2531 Acc: 0.9265\n",
            "\n",
            "Training complete in 1m 24s\n",
            "Best val Acc: 0.934278\n"
          ],
          "name": "stdout"
        }
      ]
    },
    {
      "cell_type": "code",
      "metadata": {
        "id": "LKguDCnfiOwv",
        "colab_type": "code",
        "colab": {
          "base_uri": "https://localhost:8080/",
          "height": 581
        },
        "outputId": "c22524d6-cb67-40cc-be40-cb96a987012f"
      },
      "source": [
        "visualize_model(model_ft)"
      ],
      "execution_count": 24,
      "outputs": [
        {
          "output_type": "display_data",
          "data": {
            "image/png": "[encoded data removed]",
            "text/plain": [
              "<Figure size 432x288 with 1 Axes>"
            ]
          },
          "metadata": {
            "tags": [],
            "needs_background": "light"
          }
        },
        {
          "output_type": "display_data",
          "data": {
            "image/png": "[encoded data removed]",
            "text/plain": [
              "<Figure size 432x288 with 1 Axes>"
            ]
          },
          "metadata": {
            "tags": [],
            "needs_background": "light"
          }
        },
        {
          "output_type": "display_data",
          "data": {
            "image/png": "[encoded data removed]",
            "text/plain": [
              "<Figure size 432x288 with 1 Axes>"
            ]
          },
          "metadata": {
            "tags": [],
            "needs_background": "light"
          }
        },
        {
          "output_type": "display_data",
          "data": {
            "image/png": "[encoded data removed]",
            "text/plain": [
              "<Figure size 432x288 with 1 Axes>"
            ]
          },
          "metadata": {
            "tags": [],
            "needs_background": "light"
          }
        },
        {
          "output_type": "display_data",
          "data": {
            "image/png": "[encoded data removed]",
            "text/plain": [
              "<Figure size 432x288 with 1 Axes>"
            ]
          },
          "metadata": {
            "tags": [],
            "needs_background": "light"
          }
        },
        {
          "output_type": "display_data",
          "data": {
            "image/png": "[encoded data removed]",
            "text/plain": [
              "<Figure size 432x288 with 1 Axes>"
            ]
          },
          "metadata": {
            "tags": [],
            "needs_background": "light"
          }
        }
      ]
    },
    {
      "cell_type": "markdown",
      "metadata": {
        "id": "iqsA14QniOw5",
        "colab_type": "text"
      },
      "source": [
        "ConvNet as fixed feature extractor\n",
        "----------------------------------\n",
        "\n",
        "Here, we need to freeze all the network except the final layer. We need\n",
        "to set ``requires_grad == False`` to freeze the parameters so that the\n",
        "gradients are not computed in ``backward()``.\n",
        "\n",
        "You can read more about this in the documentation\n",
        "`here <https://pytorch.org/docs/notes/autograd.html#excluding-subgraphs-from-backward>`__.\n",
        "\n",
        "\n"
      ]
    },
    {
      "cell_type": "code",
      "metadata": {
        "id": "7Wn78Cwq4MMk",
        "colab_type": "code",
        "colab": {
          "base_uri": "https://localhost:8080/",
          "height": 34
        },
        "outputId": "dc509061-e02f-435b-f356-957f0dcccd62"
      },
      "source": [
        "len(dataset.classes)"
      ],
      "execution_count": null,
      "outputs": [
        {
          "output_type": "execute_result",
          "data": {
            "text/plain": [
              "13"
            ]
          },
          "metadata": {
            "tags": []
          },
          "execution_count": 39
        }
      ]
    },
    {
      "cell_type": "code",
      "metadata": {
        "id": "U7W81mdH5LlQ",
        "colab_type": "code",
        "colab": {}
      },
      "source": [
        ""
      ],
      "execution_count": null,
      "outputs": []
    },
    {
      "cell_type": "code",
      "metadata": {
        "id": "6HSrkPD1iOw6",
        "colab_type": "code",
        "colab": {}
      },
      "source": [
        "model_conv = torchvision.models.resnet18(pretrained=True)\n",
        "for param in model_conv.parameters():\n",
        "    param.requires_grad = False\n",
        "\n",
        "# Parameters of newly constructed modules have requires_grad=True by default\n",
        "num_ftrs = model_conv.fc.in_features\n",
        "model_conv.fc = nn.Linear(num_ftrs, len(dataset.classes))\n",
        "\n",
        "model_conv = model_conv.to(device)\n",
        "\n",
        "criterion = nn.CrossEntropyLoss()\n",
        "\n",
        "# Observe that only parameters of final layer are being optimized as\n",
        "# opposed to before.\n",
        "optimizer_conv = optim.SGD(model_conv.fc.parameters(), lr=0.001, momentum=0.9)\n",
        "\n",
        "# Decay LR by a factor of 0.1 every 7 epochs\n",
        "exp_lr_scheduler = lr_scheduler.StepLR(optimizer_conv, step_size=7, gamma=0.1)"
      ],
      "execution_count": 25,
      "outputs": []
    },
    {
      "cell_type": "markdown",
      "metadata": {
        "id": "8F4wRpLqiOxI",
        "colab_type": "text"
      },
      "source": [
        "Train and evaluate\n",
        "^^^^^^^^^^^^^^^^^^\n",
        "\n",
        "On CPU this will take about half the time compared to previous scenario.\n",
        "This is expected as gradients don't need to be computed for most of the\n",
        "network. However, forward does need to be computed.\n",
        "\n",
        "\n"
      ]
    },
    {
      "cell_type": "code",
      "metadata": {
        "id": "n7sit4Y6iOxL",
        "colab_type": "code",
        "colab": {
          "base_uri": "https://localhost:8080/",
          "height": 1000
        },
        "outputId": "1e20ec58-2a21-4a7e-9cb4-6d4469191c14"
      },
      "source": [
        "model_conv = train_model(model_conv, criterion, optimizer_conv,\n",
        "                         exp_lr_scheduler, num_epochs=25)"
      ],
      "execution_count": 26,
      "outputs": [
        {
          "output_type": "stream",
          "text": [
            "Epoch 0/24\n",
            "----------\n",
            "train Loss: 1.7872 Acc: 0.4742\n",
            "val Loss: 1.2491 Acc: 0.6521\n",
            "\n",
            "Epoch 1/24\n",
            "----------\n",
            "train Loss: 1.0742 Acc: 0.7053\n",
            "val Loss: 0.9892 Acc: 0.7307\n",
            "\n",
            "Epoch 2/24\n",
            "----------\n",
            "train Loss: 0.8743 Acc: 0.7513\n",
            "val Loss: 0.8832 Acc: 0.7603\n",
            "\n",
            "Epoch 3/24\n",
            "----------\n",
            "train Loss: 0.7573 Acc: 0.7792\n",
            "val Loss: 0.8040 Acc: 0.7629\n",
            "\n",
            "Epoch 4/24\n",
            "----------\n",
            "train Loss: 0.6861 Acc: 0.7973\n",
            "val Loss: 0.7608 Acc: 0.7680\n",
            "\n",
            "Epoch 5/24\n",
            "----------\n",
            "train Loss: 0.6445 Acc: 0.8179\n",
            "val Loss: 0.7269 Acc: 0.7668\n",
            "\n",
            "Epoch 6/24\n",
            "----------\n",
            "train Loss: 0.6078 Acc: 0.8282\n",
            "val Loss: 0.7080 Acc: 0.7848\n",
            "\n",
            "Epoch 7/24\n",
            "----------\n",
            "train Loss: 0.5569 Acc: 0.8492\n",
            "val Loss: 0.6998 Acc: 0.7745\n",
            "\n",
            "Epoch 8/24\n",
            "----------\n",
            "train Loss: 0.5696 Acc: 0.8432\n",
            "val Loss: 0.6939 Acc: 0.7758\n",
            "\n",
            "Epoch 9/24\n",
            "----------\n",
            "train Loss: 0.5655 Acc: 0.8393\n",
            "val Loss: 0.6942 Acc: 0.7745\n",
            "\n",
            "Epoch 10/24\n",
            "----------\n",
            "train Loss: 0.5396 Acc: 0.8509\n",
            "val Loss: 0.6794 Acc: 0.7874\n",
            "\n",
            "Epoch 11/24\n",
            "----------\n",
            "train Loss: 0.5552 Acc: 0.8454\n",
            "val Loss: 0.6819 Acc: 0.7822\n",
            "\n",
            "Epoch 12/24\n",
            "----------\n",
            "train Loss: 0.5441 Acc: 0.8540\n",
            "val Loss: 0.6852 Acc: 0.7796\n",
            "\n",
            "Epoch 13/24\n",
            "----------\n",
            "train Loss: 0.5507 Acc: 0.8449\n",
            "val Loss: 0.6787 Acc: 0.7796\n",
            "\n",
            "Epoch 14/24\n",
            "----------\n",
            "train Loss: 0.5420 Acc: 0.8484\n",
            "val Loss: 0.6821 Acc: 0.7809\n",
            "\n",
            "Epoch 15/24\n",
            "----------\n",
            "train Loss: 0.5423 Acc: 0.8411\n",
            "val Loss: 0.6915 Acc: 0.7784\n",
            "\n",
            "Epoch 16/24\n",
            "----------\n",
            "train Loss: 0.5410 Acc: 0.8484\n",
            "val Loss: 0.6858 Acc: 0.7874\n",
            "\n",
            "Epoch 17/24\n",
            "----------\n",
            "train Loss: 0.5364 Acc: 0.8557\n",
            "val Loss: 0.6744 Acc: 0.7887\n",
            "\n",
            "Epoch 18/24\n",
            "----------\n",
            "train Loss: 0.5362 Acc: 0.8505\n",
            "val Loss: 0.6877 Acc: 0.7861\n",
            "\n",
            "Epoch 19/24\n",
            "----------\n",
            "train Loss: 0.5360 Acc: 0.8475\n",
            "val Loss: 0.6904 Acc: 0.7835\n",
            "\n",
            "Epoch 20/24\n",
            "----------\n",
            "train Loss: 0.5486 Acc: 0.8449\n",
            "val Loss: 0.6818 Acc: 0.7745\n",
            "\n",
            "Epoch 21/24\n",
            "----------\n",
            "train Loss: 0.5421 Acc: 0.8428\n",
            "val Loss: 0.6803 Acc: 0.7861\n",
            "\n",
            "Epoch 22/24\n",
            "----------\n",
            "train Loss: 0.5405 Acc: 0.8514\n",
            "val Loss: 0.6907 Acc: 0.7822\n",
            "\n",
            "Epoch 23/24\n",
            "----------\n",
            "train Loss: 0.5327 Acc: 0.8540\n",
            "val Loss: 0.6849 Acc: 0.7822\n",
            "\n",
            "Epoch 24/24\n",
            "----------\n",
            "train Loss: 0.5352 Acc: 0.8548\n",
            "val Loss: 0.6831 Acc: 0.7809\n",
            "\n",
            "Training complete in 1m 9s\n",
            "Best val Acc: 0.788660\n"
          ],
          "name": "stdout"
        }
      ]
    },
    {
      "cell_type": "code",
      "metadata": {
        "id": "8mZsqMiriOxg",
        "colab_type": "code",
        "colab": {
          "base_uri": "https://localhost:8080/",
          "height": 581
        },
        "outputId": "30f0b9f9-2c3f-4a2b-b919-7bc669bbb83c"
      },
      "source": [
        "visualize_model(model_conv)\n",
        "\n",
        "plt.ioff()\n",
        "plt.show()"
      ],
      "execution_count": 27,
      "outputs": [
        {
          "output_type": "display_data",
          "data": {
            "image/png": "[encoded data removed]",
            "text/plain": [
              "<Figure size 432x288 with 1 Axes>"
            ]
          },
          "metadata": {
            "tags": [],
            "needs_background": "light"
          }
        },
        {
          "output_type": "display_data",
          "data": {
            "image/png": "[encoded data removed]",
            "text/plain": [
              "<Figure size 432x288 with 1 Axes>"
            ]
          },
          "metadata": {
            "tags": [],
            "needs_background": "light"
          }
        },
        {
          "output_type": "display_data",
          "data": {
            "image/png": "[encoded data removed]",
            "text/plain": [
              "<Figure size 432x288 with 1 Axes>"
            ]
          },
          "metadata": {
            "tags": [],
            "needs_background": "light"
          }
        },
        {
          "output_type": "display_data",
          "data": {
            "image/png": "[encoded data removed]",
            "text/plain": [
              "<Figure size 432x288 with 1 Axes>"
            ]
          },
          "metadata": {
            "tags": [],
            "needs_background": "light"
          }
        },
        {
          "output_type": "display_data",
          "data": {
            "image/png": "[encoded data removed]",
            "text/plain": [
              "<Figure size 432x288 with 1 Axes>"
            ]
          },
          "metadata": {
            "tags": [],
            "needs_background": "light"
          }
        },
        {
          "output_type": "display_data",
          "data": {
            "image/png": "[encoded data removed]",
            "text/plain": [
              "<Figure size 432x288 with 1 Axes>"
            ]
          },
          "metadata": {
            "tags": [],
            "needs_background": "light"
          }
        }
      ]
    },
    {
      "cell_type": "markdown",
      "metadata": {
        "id": "IOyrtc6ziOxv",
        "colab_type": "text"
      },
      "source": [
        "Further Learning\n",
        "-----------------\n",
        "\n",
        "If you would like to learn more about the applications of transfer learning,\n",
        "checkout our `Quantized Transfer Learning for Computer Vision Tutorial <https://pytorch.org/tutorials/intermediate/quantized_transfer_learning_tutorial.html>`_.\n",
        "\n",
        "\n",
        "\n"
      ]
    }
  ]
}