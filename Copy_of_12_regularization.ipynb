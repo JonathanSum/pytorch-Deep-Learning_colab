{
  "nbformat": 4,
  "nbformat_minor": 0,
  "metadata": {
    "kernelspec": {
      "display_name": "Python [conda env:dl-minicourse] *",
      "language": "python",
      "name": "conda-env-dl-minicourse-py"
    },
    "language_info": {
      "codemirror_mode": {
        "name": "ipython",
        "version": 3
      },
      "file_extension": ".py",
      "mimetype": "text/x-python",
      "name": "python",
      "nbconvert_exporter": "python",
      "pygments_lexer": "ipython3",
      "version": "3.7.3"
    },
    "colab": {
      "name": "Copy of 12-regularization.ipynb",
      "provenance": [],
      "include_colab_link": true
    },
    "accelerator": "GPU"
  },
  "cells": [
    {
      "cell_type": "markdown",
      "metadata": {
        "id": "view-in-github",
        "colab_type": "text"
      },
      "source": [
        "<a href=\"https://colab.research.google.com/github/JonathanSum/pytorch-Deep-Learning_colab/blob/master/Copy_of_12_regularization.ipynb\" target=\"_parent\"><img src=\"https://colab.research.google.com/assets/colab-badge.svg\" alt=\"Open In Colab\"/></a>"
      ]
    },
    {
      "cell_type": "markdown",
      "metadata": {
        "id": "_WBK3FUdb1uF",
        "colab_type": "text"
      },
      "source": [
        "## Regularisation in NNs¶"
      ]
    },
    {
      "cell_type": "markdown",
      "metadata": {
        "id": "KYS6737hb1uI",
        "colab_type": "text"
      },
      "source": [
        "Before we start doing anything, I think it's important to understand for NLP, this is the intuitive process on what we are trying to do when we are processing our data in the IMDB dataset:\n",
        "1. Tokenization: break sentence into individual words\n",
        "    - Before: `\"PyTorch seems really easy to use!\"`\n",
        "    - After: `[\"PyTorch\", \"seems\", \"really\", \"easy\", \"to\", \"use\", \"!\"]`\n",
        "2. Building vocabulary: build an index of words associated with unique numbers\n",
        "    - Before: `[\"PyTorch\", \"seems\", \"really\", \"easy\", \"to\", \"use\", \"!\"]`\n",
        "    - After: `{\"Pytorch: 0, \"seems\": 1, \"really\": 2, ...}`\n",
        "3. Convert to numerals: map words to unique numbers (indices)\n",
        "    - Before: `{\"Pytorch: 0, \"seems\": 1, \"really\": 2, ...}`\n",
        "    - After: `[0, 1, 2, ...]`\n",
        "4. Embedding look-up: map sentences (indices now) to fixed matrices\n",
        "    - ```[[0.1, 0.4, 0.3],\n",
        "       [0.8, 0.1, 0.5],\n",
        "       ...]```"
      ]
    },
    {
      "cell_type": "code",
      "metadata": {
        "id": "pzYcvtH7b1uK",
        "colab_type": "code",
        "colab": {}
      },
      "source": [
        "# Critical plotting imports\n",
        "import matplotlib.pyplot as plt\n",
        "%matplotlib inline\n",
        "\n",
        "# PyTorch imports\n",
        "from torchtext import data, datasets\n",
        "import torch\n",
        "import torch.nn as nn\n",
        "import torch.nn.functional as F\n",
        "\n",
        "# Checking for iterable objects\n",
        "import collections\n",
        "import random"
      ],
      "execution_count": null,
      "outputs": []
    },
    {
      "cell_type": "code",
      "metadata": {
        "id": "TxvdhW-Db1uR",
        "colab_type": "code",
        "colab": {}
      },
      "source": [
        "# Set seed\n",
        "torch.manual_seed(1337)\n",
        "if torch.cuda.is_available():\n",
        "    torch.cuda.manual_seed_all(1337)"
      ],
      "execution_count": null,
      "outputs": []
    },
    {
      "cell_type": "code",
      "metadata": {
        "id": "KSSeLtGRb1uW",
        "colab_type": "code",
        "colab": {}
      },
      "source": [
        "# Set plotting style\n",
        "plt.style.use(('dark_background', 'bmh'))\n",
        "plt.rc('axes', facecolor='none')\n",
        "plt.rc('figure', figsize=(16, 4))"
      ],
      "execution_count": null,
      "outputs": []
    },
    {
      "cell_type": "code",
      "metadata": {
        "id": "uHZTPVoDb1uc",
        "colab_type": "code",
        "colab": {}
      },
      "source": [
        "# Create instances of fields\n",
        "# The important field here is fix_length: all examples using this field will be padded to, or None for flexible sequence lengths\n",
        "# We are fixing this because we will be using a FNN not an LSTM/RNN/GRU where we can go through uneven sequence lengths\n",
        "max_len = 80\n",
        "text = data.Field(sequential=True, fix_length=max_len, batch_first=True, lower=True, dtype=torch.long)\n",
        "label = data.LabelField(sequential=False, dtype=torch.float)"
      ],
      "execution_count": null,
      "outputs": []
    },
    {
      "cell_type": "code",
      "metadata": {
        "id": "CUFW-b_Db1ug",
        "colab_type": "code",
        "colab": {
          "base_uri": "https://localhost:8080/",
          "height": 50
        },
        "outputId": "c3071022-6845-49de-fb2e-af2417ef4618"
      },
      "source": [
        "# Calling splits() class method of datasets.IMDB to return a torchtext.data.Dataset object\n",
        "datasets.IMDB.download('./')\n",
        "ds_train, ds_test = datasets.IMDB.splits(text, label, path='./imdb/aclImdb/')"
      ],
      "execution_count": null,
      "outputs": [
        {
          "output_type": "stream",
          "text": [
            "downloading aclImdb_v1.tar.gz\n"
          ],
          "name": "stdout"
        },
        {
          "output_type": "stream",
          "text": [
            "aclImdb_v1.tar.gz: 100%|██████████| 84.1M/84.1M [00:07<00:00, 11.1MB/s]\n"
          ],
          "name": "stderr"
        }
      ]
    },
    {
      "cell_type": "code",
      "metadata": {
        "id": "OKKT1m7Wb1uj",
        "colab_type": "code",
        "colab": {
          "base_uri": "https://localhost:8080/",
          "height": 67
        },
        "outputId": "e6491643-f0ab-45b4-bfcd-719f89fac538"
      },
      "source": [
        "# Training and test set each 25k samples\n",
        "# 2 fields due to the way we split above\n",
        "print('train : ', len(ds_train))\n",
        "print('test : ', len(ds_test))\n",
        "print('train.fields :', ds_train.fields)"
      ],
      "execution_count": null,
      "outputs": [
        {
          "output_type": "stream",
          "text": [
            "train :  25000\n",
            "test :  25000\n",
            "train.fields : {'text': <torchtext.data.field.Field object at 0x7fb90801a898>, 'label': <torchtext.data.field.LabelField object at 0x7fb90801a8d0>}\n"
          ],
          "name": "stdout"
        }
      ]
    },
    {
      "cell_type": "code",
      "metadata": {
        "id": "kfgxfRNVb1ur",
        "colab_type": "code",
        "colab": {}
      },
      "source": [
        "# Get validation set\n",
        "seed_num = 1337\n",
        "ds_train, ds_valid = ds_train.split(random_state=random.seed(seed_num))"
      ],
      "execution_count": null,
      "outputs": []
    },
    {
      "cell_type": "code",
      "metadata": {
        "id": "hi0vkVIab1u0",
        "colab_type": "code",
        "colab": {
          "base_uri": "https://localhost:8080/",
          "height": 67
        },
        "outputId": "7542b24e-9b1d-44de-c4a5-6f78b390e6e4"
      },
      "source": [
        "# Now we've training, validation and test set\n",
        "print('train : ', len(ds_train))\n",
        "print('valid : ', len(ds_valid))\n",
        "print('valid : ', len(ds_test))"
      ],
      "execution_count": null,
      "outputs": [
        {
          "output_type": "stream",
          "text": [
            "train :  17500\n",
            "valid :  7500\n",
            "valid :  25000\n"
          ],
          "name": "stdout"
        }
      ]
    },
    {
      "cell_type": "code",
      "metadata": {
        "id": "2jyLjcVlb1u8",
        "colab_type": "code",
        "colab": {}
      },
      "source": [
        "# Build vocabulary\n",
        "# num_words = 25000\n",
        "num_words = 1000\n",
        "text.build_vocab(ds_train, max_size=num_words)\n",
        "label.build_vocab(ds_train)"
      ],
      "execution_count": null,
      "outputs": []
    },
    {
      "cell_type": "code",
      "metadata": {
        "id": "6x9v0YcWb1vD",
        "colab_type": "code",
        "colab": {
          "base_uri": "https://localhost:8080/",
          "height": 50
        },
        "outputId": "f5922f27-c5f2-47b6-ed1e-b21b9b0d6476"
      },
      "source": [
        "# Print vocab size\n",
        "print('Vocabulary size: {}'.format(len(text.vocab)))\n",
        "print('Label size: {}'.format(len(label.vocab)))"
      ],
      "execution_count": null,
      "outputs": [
        {
          "output_type": "stream",
          "text": [
            "Vocabulary size: 1002\n",
            "Label size: 2\n"
          ],
          "name": "stdout"
        }
      ]
    },
    {
      "cell_type": "code",
      "metadata": {
        "id": "JMXUj3Aeb1vK",
        "colab_type": "code",
        "colab": {
          "base_uri": "https://localhost:8080/",
          "height": 34
        },
        "outputId": "759405d9-8dc0-4203-82c0-ee9cf6557734"
      },
      "source": [
        "# Print most common vocabulary text\n",
        "most_common_samples = 10\n",
        "print(text.vocab.freqs.most_common(most_common_samples))"
      ],
      "execution_count": null,
      "outputs": [
        {
          "output_type": "stream",
          "text": [
            "[('the', 225726), ('a', 111654), ('and', 111119), ('of', 101151), ('to', 93730), ('is', 72897), ('in', 63486), ('i', 48964), ('this', 48754), ('that', 46345)]\n"
          ],
          "name": "stdout"
        }
      ]
    },
    {
      "cell_type": "code",
      "metadata": {
        "id": "SB74Qrslb1vV",
        "colab_type": "code",
        "colab": {
          "base_uri": "https://localhost:8080/",
          "height": 34
        },
        "outputId": "5da0ef5c-9887-41f3-fe33-4d5715634de1"
      },
      "source": [
        "# Print most common labels\n",
        "print(label.vocab.freqs.most_common())"
      ],
      "execution_count": null,
      "outputs": [
        {
          "output_type": "stream",
          "text": [
            "[('neg', 8835), ('pos', 8665)]\n"
          ],
          "name": "stdout"
        }
      ]
    },
    {
      "cell_type": "code",
      "metadata": {
        "id": "CdkIKC-Pb1vg",
        "colab_type": "code",
        "colab": {
          "base_uri": "https://localhost:8080/",
          "height": 35
        },
        "outputId": "179aa390-4fde-49b3-9699-f9b7aa7f4c44"
      },
      "source": [
        "# Sample 0 label\n",
        "ds_train[0].label"
      ],
      "execution_count": null,
      "outputs": [
        {
          "output_type": "execute_result",
          "data": {
            "application/vnd.google.colaboratory.intrinsic+json": {
              "type": "string"
            },
            "text/plain": [
              "'neg'"
            ]
          },
          "metadata": {
            "tags": []
          },
          "execution_count": 13
        }
      ]
    },
    {
      "cell_type": "code",
      "metadata": {
        "scrolled": true,
        "id": "gjkLWniZb1vm",
        "colab_type": "code",
        "colab": {
          "base_uri": "https://localhost:8080/",
          "height": 1000
        },
        "outputId": "d754005e-3e81-4f4e-b74d-66ce7723cb70"
      },
      "source": [
        "# Sample 0 text: broken down into individual portions\n",
        "ds_train[0].text"
      ],
      "execution_count": null,
      "outputs": [
        {
          "output_type": "execute_result",
          "data": {
            "text/plain": [
              "['somehow',\n",
              " 'they',\n",
              " 'summed',\n",
              " 'up',\n",
              " 'the',\n",
              " \"60's,\",\n",
              " 'ten',\n",
              " 'years',\n",
              " 'that',\n",
              " 'radically',\n",
              " 'changed',\n",
              " 'our',\n",
              " 'country,',\n",
              " 'in',\n",
              " 'four',\n",
              " 'hours.',\n",
              " 'and',\n",
              " 'what',\n",
              " 'a',\n",
              " 'painful',\n",
              " 'four',\n",
              " 'hours',\n",
              " 'it',\n",
              " 'was.',\n",
              " 'they',\n",
              " 'trivilized',\n",
              " 'the',\n",
              " 'major',\n",
              " 'events',\n",
              " 'and',\n",
              " 'happenings',\n",
              " 'and',\n",
              " 'they',\n",
              " '\"claimed\"',\n",
              " 'it',\n",
              " 'was',\n",
              " 'about',\n",
              " 'two',\n",
              " 'families',\n",
              " 'yet',\n",
              " 'you',\n",
              " 'barely',\n",
              " 'saw',\n",
              " 'the',\n",
              " 'african-american',\n",
              " 'family.',\n",
              " 'if',\n",
              " 'i',\n",
              " 'were',\n",
              " 'nbc',\n",
              " 'i',\n",
              " 'would',\n",
              " 'be',\n",
              " 'ashamed',\n",
              " 'and',\n",
              " 'embarrassed',\n",
              " 'for',\n",
              " 'airing',\n",
              " 'such',\n",
              " 'trash.',\n",
              " 'what',\n",
              " 'was',\n",
              " 'amusing',\n",
              " 'was',\n",
              " 'this',\n",
              " 'happy-go-lucky',\n",
              " 'family',\n",
              " 'you',\n",
              " 'saw',\n",
              " 'in',\n",
              " 'the',\n",
              " 'very',\n",
              " 'beginning',\n",
              " 'was',\n",
              " 'tortured',\n",
              " 'in',\n",
              " 'so',\n",
              " 'many',\n",
              " 'ways,',\n",
              " 'but',\n",
              " 'managed',\n",
              " 'to',\n",
              " 'attend',\n",
              " 'every',\n",
              " 'major',\n",
              " \"60's\",\n",
              " 'event',\n",
              " 'through',\n",
              " 'the',\n",
              " 'country.',\n",
              " 'and',\n",
              " 'the',\n",
              " 'second',\n",
              " 'family',\n",
              " 'was',\n",
              " 'such',\n",
              " 'a',\n",
              " 'non-factor.',\n",
              " 'they',\n",
              " 'devoted',\n",
              " 'maybe',\n",
              " 'five',\n",
              " 'or',\n",
              " 'six',\n",
              " 'scenes',\n",
              " 'total',\n",
              " 'to',\n",
              " 'this',\n",
              " 'family.',\n",
              " 'that',\n",
              " 'poor',\n",
              " 'son...',\n",
              " 'please',\n",
              " 'nbc,',\n",
              " 'do',\n",
              " 'not',\n",
              " 'make',\n",
              " 'any',\n",
              " 'movies',\n",
              " 'about',\n",
              " 'any',\n",
              " 'other',\n",
              " 'eras....leave',\n",
              " 'that',\n",
              " 'to',\n",
              " 'pbs',\n",
              " 'and',\n",
              " 'the',\n",
              " 'history',\n",
              " 'channel']"
            ]
          },
          "metadata": {
            "tags": []
          },
          "execution_count": 14
        }
      ]
    },
    {
      "cell_type": "code",
      "metadata": {
        "id": "FFU8XIUBb1vs",
        "colab_type": "code",
        "colab": {
          "base_uri": "https://localhost:8080/",
          "height": 54
        },
        "outputId": "2e119591-5b57-46df-c967-e9a67c8b231b"
      },
      "source": [
        "# Sample 0 text: human readeable sample\n",
        "def show_text(sample):\n",
        "    print(' '.join(word for word in sample))\n",
        "    \n",
        "show_text(ds_train[0].text)"
      ],
      "execution_count": null,
      "outputs": [
        {
          "output_type": "stream",
          "text": [
            "somehow they summed up the 60's, ten years that radically changed our country, in four hours. and what a painful four hours it was. they trivilized the major events and happenings and they \"claimed\" it was about two families yet you barely saw the african-american family. if i were nbc i would be ashamed and embarrassed for airing such trash. what was amusing was this happy-go-lucky family you saw in the very beginning was tortured in so many ways, but managed to attend every major 60's event through the country. and the second family was such a non-factor. they devoted maybe five or six scenes total to this family. that poor son... please nbc, do not make any movies about any other eras....leave that to pbs and the history channel\n"
          ],
          "name": "stdout"
        }
      ]
    },
    {
      "cell_type": "code",
      "metadata": {
        "id": "xOaD-nWzb1vz",
        "colab_type": "code",
        "colab": {}
      },
      "source": [
        "# Create and iterable object for our training, validation and testing datasets\n",
        "# Batches examples of similar lengths together that minimizes amount of padding needed\n",
        "batch_size = 64  # Change batch size from 1 to bigger number once explanation is done\n",
        "train_loader, valid_loader, test_loader = data.BucketIterator.splits(\n",
        "    (ds_train, ds_valid, ds_test), batch_size=batch_size, sort_key=lambda x: len(x.text), repeat=False\n",
        ")"
      ],
      "execution_count": null,
      "outputs": []
    },
    {
      "cell_type": "code",
      "metadata": {
        "id": "oHp0gmRFb1v1",
        "colab_type": "code",
        "colab": {
          "base_uri": "https://localhost:8080/",
          "height": 34
        },
        "outputId": "8b0c4e30-644e-44a1-cf5d-2385585ebf6a"
      },
      "source": [
        "# Check if iterator above is an iterable which should show True\n",
        "isinstance(train_loader, collections.Iterable)"
      ],
      "execution_count": null,
      "outputs": [
        {
          "output_type": "execute_result",
          "data": {
            "text/plain": [
              "True"
            ]
          },
          "metadata": {
            "tags": []
          },
          "execution_count": 17
        }
      ]
    },
    {
      "cell_type": "code",
      "metadata": {
        "id": "fXIzhIXJb1v_",
        "colab_type": "code",
        "colab": {
          "base_uri": "https://localhost:8080/",
          "height": 84
        },
        "outputId": "02ea0c30-ab80-49cb-b3b7-f02aa27255d7"
      },
      "source": [
        "# What's inside this iteratable object? Our text and label although now everything is in machine format (not \"words\") but in numbers!\n",
        "# The text we saw above becomes a matrix of size 1 x 80 represented by the fixed length we defined before that\n",
        "list(train_loader)[0]"
      ],
      "execution_count": null,
      "outputs": [
        {
          "output_type": "execute_result",
          "data": {
            "text/plain": [
              "\n",
              "[torchtext.data.batch.Batch of size 64]\n",
              "\t[.text]:[torch.LongTensor of size 64x80]\n",
              "\t[.label]:[torch.FloatTensor of size 64]"
            ]
          },
          "metadata": {
            "tags": []
          },
          "execution_count": 18
        }
      ]
    },
    {
      "cell_type": "code",
      "metadata": {
        "id": "tavE4Xs2b1wF",
        "colab_type": "code",
        "colab": {
          "base_uri": "https://localhost:8080/",
          "height": 84
        },
        "outputId": "19891f25-1e67-481f-8fc8-45feb11d373e"
      },
      "source": [
        "# Alternative to above, this is much faster but the above code is easy to understand and implement\n",
        "next(train_loader.__iter__())"
      ],
      "execution_count": null,
      "outputs": [
        {
          "output_type": "execute_result",
          "data": {
            "text/plain": [
              "\n",
              "[torchtext.data.batch.Batch of size 64]\n",
              "\t[.text]:[torch.LongTensor of size 64x80]\n",
              "\t[.label]:[torch.FloatTensor of size 64]"
            ]
          },
          "metadata": {
            "tags": []
          },
          "execution_count": 19
        }
      ]
    },
    {
      "cell_type": "code",
      "metadata": {
        "id": "dNQ6-exIb1wN",
        "colab_type": "code",
        "colab": {}
      },
      "source": [
        "test_batch = next(train_loader.__iter__())"
      ],
      "execution_count": null,
      "outputs": []
    },
    {
      "cell_type": "code",
      "metadata": {
        "id": "DPyO0H7Ob1wg",
        "colab_type": "code",
        "colab": {
          "base_uri": "https://localhost:8080/",
          "height": 34
        },
        "outputId": "f6524c89-43e6-4ae5-ebd0-21882a8510d9"
      },
      "source": [
        "# What methods can we call on this batch object? Text and label\n",
        "test_batch.fields"
      ],
      "execution_count": null,
      "outputs": [
        {
          "output_type": "execute_result",
          "data": {
            "text/plain": [
              "dict_keys(['text', 'label'])"
            ]
          },
          "metadata": {
            "tags": []
          },
          "execution_count": 21
        }
      ]
    },
    {
      "cell_type": "code",
      "metadata": {
        "id": "qC-R_qnEb1wo",
        "colab_type": "code",
        "colab": {
          "base_uri": "https://localhost:8080/",
          "height": 134
        },
        "outputId": "ea503ebf-497b-4248-8613-ec4db2248cad"
      },
      "source": [
        "# Let's break this down to check what's in a batch\n",
        "test_batch.text"
      ],
      "execution_count": null,
      "outputs": [
        {
          "output_type": "execute_result",
          "data": {
            "text/plain": [
              "tensor([[ 49,   0,   0,  ..., 364, 430,  15],\n",
              "        [149,   8,   0,  ...,   0,  63,   9],\n",
              "        [  0, 275, 202,  ..., 261,  57,  40],\n",
              "        ...,\n",
              "        [ 10,   7,   3,  ..., 188,  57,  29],\n",
              "        [  0,   0, 661,  ...,  41,   7,   3],\n",
              "        [ 91,  20,   0,  ..., 135,  15, 153]])"
            ]
          },
          "metadata": {
            "tags": []
          },
          "execution_count": 22
        }
      ]
    },
    {
      "cell_type": "code",
      "metadata": {
        "id": "7MZvhftIb1w0",
        "colab_type": "code",
        "colab": {
          "base_uri": "https://localhost:8080/",
          "height": 34
        },
        "outputId": "cbaf3895-8a49-4323-943c-57efd99248b8"
      },
      "source": [
        "# 1 comment per batch, each comment is limited to a size of 80 as we've defined\n",
        "test_batch.text.size()"
      ],
      "execution_count": null,
      "outputs": [
        {
          "output_type": "execute_result",
          "data": {
            "text/plain": [
              "torch.Size([64, 80])"
            ]
          },
          "metadata": {
            "tags": []
          },
          "execution_count": 23
        }
      ]
    },
    {
      "cell_type": "code",
      "metadata": {
        "id": "9CEQ--GAb1w9",
        "colab_type": "code",
        "colab": {
          "base_uri": "https://localhost:8080/",
          "height": 84
        },
        "outputId": "bb74367d-7cb7-47fb-a1ef-66c6b701064a"
      },
      "source": [
        "test_batch.label"
      ],
      "execution_count": null,
      "outputs": [
        {
          "output_type": "execute_result",
          "data": {
            "text/plain": [
              "tensor([1., 0., 0., 1., 1., 0., 1., 1., 1., 1., 0., 0., 1., 0., 1., 0., 0., 0.,\n",
              "        1., 0., 1., 0., 0., 0., 1., 0., 1., 0., 0., 0., 0., 1., 0., 1., 1., 1.,\n",
              "        0., 1., 1., 0., 1., 1., 1., 0., 0., 0., 0., 0., 0., 1., 0., 1., 0., 0.,\n",
              "        1., 1., 0., 0., 0., 1., 0., 1., 0., 1.])"
            ]
          },
          "metadata": {
            "tags": []
          },
          "execution_count": 24
        }
      ]
    },
    {
      "cell_type": "code",
      "metadata": {
        "id": "TqZndULmb1xI",
        "colab_type": "code",
        "colab": {}
      },
      "source": [
        "# Extremely weird problem in torchtext where BucketIterator returns a Batch object versus just a simple tuple of tensors containing our text index and labels\n",
        "# So let's fix this with a new class FixBatchGenerator\n",
        "\n",
        "class FixBatchGenerator:\n",
        "    def __init__(self, dl, x_field, y_field):\n",
        "        self.dl, self.x_field, self.y_field = dl, x_field, y_field\n",
        "        \n",
        "    def __len__(self):\n",
        "        return len(self.dl)\n",
        "    \n",
        "    def __iter__(self):\n",
        "        for batch in self.dl:\n",
        "            X = getattr(batch, self.x_field)\n",
        "            y = getattr(batch, self.y_field)\n",
        "            yield (X,y)\n",
        "            \n",
        "train_loader, valid_loader, test_loader = FixBatchGenerator(train_loader, 'text', 'label'), FixBatchGenerator(valid_loader, 'text', 'label'), FixBatchGenerator(test_loader, 'text', 'label')"
      ],
      "execution_count": null,
      "outputs": []
    },
    {
      "cell_type": "code",
      "metadata": {
        "id": "SetFxmQeb1xY",
        "colab_type": "code",
        "colab": {
          "base_uri": "https://localhost:8080/",
          "height": 202
        },
        "outputId": "2962ac6a-f760-471f-9136-7902cd017f97"
      },
      "source": [
        "# Text index\n",
        "print(next(train_loader.__iter__())[0])\n",
        "\n",
        "# Text label\n",
        "print(next(train_loader.__iter__())[1])"
      ],
      "execution_count": null,
      "outputs": [
        {
          "output_type": "stream",
          "text": [
            "tensor([[  6,   0,  10,  ...,   2,   0, 462],\n",
            "        [ 10,  24, 788,  ...,   1,   1,   1],\n",
            "        [ 95,  21, 393,  ...,   0, 927,   7],\n",
            "        ...,\n",
            "        [ 23,   0,   6,  ...,  47,   5, 404],\n",
            "        [  0,   0,   3,  ...,  80,  68,   2],\n",
            "        [  3, 288,  11,  ..., 108,   5,   3]])\n",
            "tensor([1., 0., 0., 0., 1., 0., 0., 1., 1., 1., 0., 0., 1., 1., 0., 1., 0., 1.,\n",
            "        0., 1., 1., 1., 0., 1., 1., 1., 1., 0., 0., 1., 1., 0., 1., 1., 0., 0.,\n",
            "        0., 1., 1., 1., 1., 1., 0., 1., 1., 1., 0., 1., 1., 1., 1., 0., 0., 1.,\n",
            "        0., 0., 0., 0., 1., 1., 1., 0., 1., 0.])\n"
          ],
          "name": "stdout"
        }
      ]
    },
    {
      "cell_type": "code",
      "metadata": {
        "id": "OBqxjm9Hb1xc",
        "colab_type": "code",
        "colab": {}
      },
      "source": [
        "class FeedforwardNeuralNetModel(nn.Module):\n",
        "    def __init__(self, input_dim, embedding_dim, hidden_dim, output_dim):\n",
        "        super(FeedforwardNeuralNetModel, self).__init__()\n",
        "        # Embedding layer\n",
        "        self.embedding = nn.Embedding(input_dim, embedding_dim)\n",
        "        \n",
        "        # Linear function\n",
        "        self.fc1 = nn.Linear(embedding_dim*embedding_dim, hidden_dim) \n",
        "\n",
        "        # Linear function (readout)\n",
        "        self.fc2 = nn.Linear(hidden_dim, output_dim)\n",
        "        \n",
        "    def forward(self, x):\n",
        "        # Embedding\n",
        "        embedded = self.embedding(x)\n",
        "        embedded = embedded.view(-1, embedding_dim*embedding_dim)\n",
        "        # Linear function\n",
        "        out = self.fc1(embedded)\n",
        "\n",
        "        # Non-linearity\n",
        "        out = torch.relu(out)\n",
        "        \n",
        "        # Toggle 3: Dropout\n",
        "        # out = torch.dropout(out, 0.8)\n",
        "\n",
        "        # Linear function (readout)\n",
        "        # Take note here use a final sigmoid function so your loss should not go through sigmoid again.\n",
        "        # BCELoss is the right class to use as it doesn't pass your output through a sigmoid function again.\n",
        "        # In multi-class problems you're used to softmax which can be simplified to a logistic,\n",
        "        # function when you have a two-class problem.\n",
        "        out = self.fc2(out)\n",
        "        out = torch.sigmoid(out)\n",
        "    \n",
        "        return out"
      ],
      "execution_count": null,
      "outputs": []
    },
    {
      "cell_type": "code",
      "metadata": {
        "id": "IYwraIfyb1xf",
        "colab_type": "code",
        "colab": {}
      },
      "source": [
        "input_dim = num_words + 2\n",
        "embedding_dim = max_len\n",
        "hidden_dim = 32\n",
        "output_dim = 1\n",
        "\n",
        "# Instantiate model class and assign to object\n",
        "model = FeedforwardNeuralNetModel(input_dim, embedding_dim, hidden_dim, output_dim)\n",
        "\n",
        "# Push model to CUDA device if available\n",
        "device = torch.device(\"cuda:0\" if torch.cuda.is_available() else \"cpu\")\n",
        "model.to(device)\n",
        "\n",
        "# Loss function\n",
        "criterion = nn.BCELoss()\n",
        "\n",
        "# Optimizer\n",
        "# Toggle 2: L2 Norm option - this is called weight decay\n",
        "# optimizer = torch.optim.Adam(model.parameters(), lr=1e-3, weight_decay=0.005)\n",
        "optimizer = torch.optim.Adam(model.parameters(), lr=1e-3)"
      ],
      "execution_count": null,
      "outputs": []
    },
    {
      "cell_type": "code",
      "metadata": {
        "id": "eu0TeuVib1xh",
        "colab_type": "code",
        "colab": {
          "base_uri": "https://localhost:8080/",
          "height": 151
        },
        "outputId": "15b45c06-2858-4a53-8637-fe9c027f7893"
      },
      "source": [
        "# Number of groups of parameters\n",
        "print('Number of groups of parameters {}'.format(len(list(model.parameters()))))\n",
        "print('-'*50)\n",
        "# Print parameters\n",
        "for i in range(len(list(model.parameters()))):\n",
        "    print(list(model.parameters())[i].size())\n",
        "print('-'*50)"
      ],
      "execution_count": null,
      "outputs": [
        {
          "output_type": "stream",
          "text": [
            "Number of groups of parameters 5\n",
            "--------------------------------------------------\n",
            "torch.Size([1002, 80])\n",
            "torch.Size([32, 6400])\n",
            "torch.Size([32])\n",
            "torch.Size([1, 32])\n",
            "torch.Size([1])\n",
            "--------------------------------------------------\n"
          ],
          "name": "stdout"
        }
      ]
    },
    {
      "cell_type": "code",
      "metadata": {
        "scrolled": true,
        "id": "xPsB85y9b1xk",
        "colab_type": "code",
        "colab": {
          "base_uri": "https://localhost:8080/",
          "height": 470
        },
        "outputId": "e32ee8d5-45ae-4cb2-c36c-76f72b5059fd"
      },
      "source": [
        "iter = 0\n",
        "num_epochs = 10\n",
        "history_train_acc, history_val_acc, history_train_loss, history_val_loss = [], [], [], []\n",
        "best_accuracy = 0\n",
        "for epoch in range(num_epochs):\n",
        "#     print('-'*50)\n",
        "    for i, (samples, labels) in enumerate(train_loader):\n",
        "        # Training mode\n",
        "        model.train()\n",
        "        \n",
        "        # Load samples\n",
        "        samples = samples.view(-1, max_len).to(device)\n",
        "        labels = labels.view(-1, 1).to(device)\n",
        "\n",
        "        # Clear gradients w.r.t. parameters\n",
        "        optimizer.zero_grad()\n",
        "\n",
        "        # Forward pass to get output/logits\n",
        "        outputs = model(samples)\n",
        "\n",
        "        # Calculate Loss: softmax --> cross entropy loss\n",
        "        loss = criterion(outputs, labels)\n",
        "        \n",
        "        # Toggle 1: L1 norm, add to original loss\n",
        "        # fc1_params = torch.cat([x.view(-1) for x in model.fc1.parameters()])\n",
        "        # loss += 0.001 * torch.norm(fc1_params, 1)\n",
        "    \n",
        "        # Getting gradients w.r.t. parameters\n",
        "        loss.backward()\n",
        "\n",
        "        # Updating parameters\n",
        "        optimizer.step()\n",
        "\n",
        "        iter += 1\n",
        "\n",
        "        if iter % 100 == 0:\n",
        "            # Get training statistics\n",
        "            train_loss = loss.data.item()\n",
        "            \n",
        "            # Testing mode\n",
        "            model.eval()\n",
        "            # Calculate Accuracy         \n",
        "            correct = 0\n",
        "            total = 0\n",
        "            # Iterate through test dataset\n",
        "            for samples, labels in valid_loader:\n",
        "                # Load samples\n",
        "                samples = samples.view(-1, max_len).to(device)\n",
        "                labels = labels.view(-1).to(device)\n",
        "\n",
        "                # Forward pass only to get logits/output\n",
        "                outputs = model(samples)\n",
        "                \n",
        "                # Val loss\n",
        "                val_loss = criterion(outputs.view(-1, 1), labels.view(-1, 1))\n",
        "                \n",
        "                # We use a threshold to define. \n",
        "                # There is another way to do this with one-hot label. Feel free to explore and understand what are the pros/cons of each.\n",
        "                # This opens up a whole topic on why it becomes problematic when we expand beyond 2 class to 10 classes.\n",
        "                # Why do we encode? Why can't we do 0, 1, 2, 3, 4 etc. without one-hot encoding?\n",
        "                predicted = outputs.ge(0.5).view(-1)\n",
        "\n",
        "                # Total number of labels\n",
        "                total += labels.size(0)\n",
        "\n",
        "                # Total correct predictions\n",
        "                correct += (predicted.type(torch.FloatTensor).cpu() == labels.type(torch.FloatTensor)).sum().item()\n",
        "                # correct = (predicted == labels.byte()).int().sum().item()\n",
        "            \n",
        "            accuracy = 100. * correct / total\n",
        "        \n",
        "            # Print Loss\n",
        "            print('Iter: {} | Train Loss: {} | Val Loss: {} | Val Accuracy: {}'.format(iter, train_loss, val_loss.item(), round(accuracy, 2)))\n",
        "            \n",
        "            # Append to history\n",
        "            history_val_loss.append(val_loss.data.item())\n",
        "            history_val_acc.append(round(accuracy, 2))\n",
        "            history_train_loss.append(train_loss)\n",
        "            \n",
        "            # Save model when accuracy beats best accuracy\n",
        "            if accuracy > best_accuracy:\n",
        "                best_accuracy = accuracy\n",
        "                # We can load this best model on the validation set later\n",
        "                torch.save(model.state_dict(), 'best_model.pth')"
      ],
      "execution_count": null,
      "outputs": [
        {
          "output_type": "stream",
          "text": [
            "Iter: 100 | Train Loss: 0.684203565120697 | Val Loss: 0.6770245432853699 | Val Accuracy: 53.29\n",
            "Iter: 200 | Train Loss: 0.6457594633102417 | Val Loss: 0.638010561466217 | Val Accuracy: 55.96\n",
            "Iter: 300 | Train Loss: 0.6318113207817078 | Val Loss: 0.6266926527023315 | Val Accuracy: 59.89\n",
            "Iter: 400 | Train Loss: 0.6371738910675049 | Val Loss: 0.5727934241294861 | Val Accuracy: 60.6\n",
            "Iter: 500 | Train Loss: 0.5194963216781616 | Val Loss: 0.592017412185669 | Val Accuracy: 63.24\n",
            "Iter: 600 | Train Loss: 0.4400683641433716 | Val Loss: 0.7329282164573669 | Val Accuracy: 64.49\n",
            "Iter: 700 | Train Loss: 0.5204858183860779 | Val Loss: 0.772387683391571 | Val Accuracy: 65.52\n",
            "Iter: 800 | Train Loss: 0.4244682192802429 | Val Loss: 0.6662936210632324 | Val Accuracy: 65.08\n",
            "Iter: 900 | Train Loss: 0.2588062584400177 | Val Loss: 0.8134243488311768 | Val Accuracy: 65.27\n",
            "Iter: 1000 | Train Loss: 0.249778613448143 | Val Loss: 0.9223599433898926 | Val Accuracy: 64.91\n",
            "Iter: 1100 | Train Loss: 0.1489972621202469 | Val Loss: 1.0326488018035889 | Val Accuracy: 65.11\n",
            "Iter: 1200 | Train Loss: 0.11386575549840927 | Val Loss: 1.1464924812316895 | Val Accuracy: 65.23\n",
            "Iter: 1300 | Train Loss: 0.1772155910730362 | Val Loss: 1.0820666551589966 | Val Accuracy: 65.32\n",
            "Iter: 1400 | Train Loss: 0.05609682574868202 | Val Loss: 0.9073605537414551 | Val Accuracy: 65.53\n",
            "Iter: 1500 | Train Loss: 0.07010345160961151 | Val Loss: 1.1746644973754883 | Val Accuracy: 65.35\n",
            "Iter: 1600 | Train Loss: 0.04748902842402458 | Val Loss: 1.3363943099975586 | Val Accuracy: 64.65\n",
            "Iter: 1700 | Train Loss: 0.03814788535237312 | Val Loss: 1.6224391460418701 | Val Accuracy: 65.03\n",
            "Iter: 1800 | Train Loss: 0.04074202477931976 | Val Loss: 1.5797151327133179 | Val Accuracy: 64.63\n",
            "Iter: 1900 | Train Loss: 0.04063935950398445 | Val Loss: 1.60368812084198 | Val Accuracy: 64.33\n",
            "Iter: 2000 | Train Loss: 0.00703601585701108 | Val Loss: 1.695536494255066 | Val Accuracy: 65.16\n",
            "Iter: 2100 | Train Loss: 0.007357751950621605 | Val Loss: 1.742034912109375 | Val Accuracy: 64.59\n",
            "Iter: 2200 | Train Loss: 0.0033792380709201097 | Val Loss: 1.7820810079574585 | Val Accuracy: 65.01\n",
            "Iter: 2300 | Train Loss: 0.004030488431453705 | Val Loss: 1.8504536151885986 | Val Accuracy: 64.87\n",
            "Iter: 2400 | Train Loss: 0.0034715174697339535 | Val Loss: 1.8973102569580078 | Val Accuracy: 64.97\n",
            "Iter: 2500 | Train Loss: 0.003697711741551757 | Val Loss: 2.0026049613952637 | Val Accuracy: 64.99\n",
            "Iter: 2600 | Train Loss: 0.002773873507976532 | Val Loss: 1.9817546606063843 | Val Accuracy: 65.09\n",
            "Iter: 2700 | Train Loss: 0.0038375183939933777 | Val Loss: 2.0338869094848633 | Val Accuracy: 65.03\n"
          ],
          "name": "stdout"
        }
      ]
    },
    {
      "cell_type": "code",
      "metadata": {
        "id": "43dXJs1Nb1xn",
        "colab_type": "code",
        "colab": {
          "base_uri": "https://localhost:8080/",
          "height": 279
        },
        "outputId": "f41b1722-c462-4e34-fc0e-c580e4fc8a5d"
      },
      "source": [
        "# Plotting loss graph\n",
        "plt.plot(history_train_loss, label='Train')\n",
        "plt.plot(history_val_loss, label='Validation')\n",
        "plt.title('Loss Graph')\n",
        "plt.legend()\n",
        "plt.show()"
      ],
      "execution_count": null,
      "outputs": [
        {
          "output_type": "display_data",
          "data": {
            "image/png": "[encoded data removed]",
            "text/plain": [
              "<Figure size 1152x288 with 1 Axes>"
            ]
          },
          "metadata": {
            "tags": []
          }
        }
      ]
    },
    {
      "cell_type": "code",
      "metadata": {
        "id": "QdRfiFrLb1xq",
        "colab_type": "code",
        "colab": {
          "base_uri": "https://localhost:8080/",
          "height": 296
        },
        "outputId": "de5d8f1b-452b-415d-c95c-112f3504178a"
      },
      "source": [
        "# Plotting validation accuracy graph\n",
        "plt.plot(history_val_acc)\n",
        "plt.title('Validation Accuracy')"
      ],
      "execution_count": null,
      "outputs": [
        {
          "output_type": "execute_result",
          "data": {
            "text/plain": [
              "Text(0.5, 1.0, 'Validation Accuracy')"
            ]
          },
          "metadata": {
            "tags": []
          },
          "execution_count": 32
        },
        {
          "output_type": "display_data",
          "data": {
            "image/png": "[encoded data removed]",
            "text/plain": [
              "<Figure size 1152x288 with 1 Axes>"
            ]
          },
          "metadata": {
            "tags": []
          }
        }
      ]
    },
    {
      "cell_type": "code",
      "metadata": {
        "id": "AKmtsIMzb1x0",
        "colab_type": "code",
        "colab": {
          "base_uri": "https://localhost:8080/",
          "height": 101
        },
        "outputId": "41499e16-52a5-4362-9176-2beba95ba46f"
      },
      "source": [
        "weights = torch.Tensor().to(device)\n",
        "for param_group in list(model.parameters()):\n",
        "    weights = torch.cat((param_group.view(-1), weights))\n",
        "    print(param_group.size())\n",
        "    \n",
        "# Toggle 0: No regularization\n",
        "weights_nothing = weights.cpu().detach().numpy()\n",
        "\n",
        "# Toggle 1: L1 norm on FC1\n",
        "weights_L1 = weights.cpu().detach().numpy()\n",
        "\n",
        "# Toggle 2: L2 norm\n",
        "weights_L2 = weights.cpu().detach().numpy()\n",
        "\n",
        "# Toggle 3: dropout\n",
        "weights_dropout = weights.cpu().detach().numpy()"
      ],
      "execution_count": null,
      "outputs": [
        {
          "output_type": "stream",
          "text": [
            "torch.Size([1002, 80])\n",
            "torch.Size([32, 6400])\n",
            "torch.Size([32])\n",
            "torch.Size([1, 32])\n",
            "torch.Size([1])\n"
          ],
          "name": "stdout"
        }
      ]
    },
    {
      "cell_type": "code",
      "metadata": {
        "id": "elAL4ACub1x6",
        "colab_type": "code",
        "colab": {
          "base_uri": "https://localhost:8080/",
          "height": 380
        },
        "outputId": "eadf45ae-3ca7-4afa-c6a3-db5967b7a282"
      },
      "source": [
        "plt.hist(weights_L1.reshape(-1), range=(-.5, .5), bins=20)"
      ],
      "execution_count": null,
      "outputs": [
        {
          "output_type": "execute_result",
          "data": {
            "text/plain": [
              "(array([ 1381.,  1464.,  1569.,  1548.,  1473.,  1590.,  2122.,  5967.,\n",
              "        27090., 73832., 72948., 27291.,  5980.,  2026.,  1579.,  1588.,\n",
              "         1553.,  1386.,  1365.,  1361.]),\n",
              " array([-0.5 , -0.45, -0.4 , -0.35, -0.3 , -0.25, -0.2 , -0.15, -0.1 ,\n",
              "        -0.05,  0.  ,  0.05,  0.1 ,  0.15,  0.2 ,  0.25,  0.3 ,  0.35,\n",
              "         0.4 ,  0.45,  0.5 ], dtype=float32),\n",
              " <a list of 20 Patch objects>)"
            ]
          },
          "metadata": {
            "tags": []
          },
          "execution_count": 40
        },
        {
          "output_type": "display_data",
          "data": {
            "image/png": "[encoded data removed]",
            "text/plain": [
              "<Figure size 1152x288 with 1 Axes>"
            ]
          },
          "metadata": {
            "tags": []
          }
        }
      ]
    },
    {
      "cell_type": "code",
      "metadata": {
        "id": "hmVjCbwJb1yD",
        "colab_type": "code",
        "colab": {
          "base_uri": "https://localhost:8080/",
          "height": 380
        },
        "outputId": "03f53911-b629-495a-db96-c1b0757a7c0d"
      },
      "source": [
        "plt.hist(weights_nothing.reshape(-1), range=(-.5, .5), bins=20)"
      ],
      "execution_count": null,
      "outputs": [
        {
          "output_type": "execute_result",
          "data": {
            "text/plain": [
              "(array([ 1381.,  1464.,  1569.,  1548.,  1473.,  1590.,  2122.,  5967.,\n",
              "        27090., 73832., 72948., 27291.,  5980.,  2026.,  1579.,  1588.,\n",
              "         1553.,  1386.,  1365.,  1361.]),\n",
              " array([-0.5 , -0.45, -0.4 , -0.35, -0.3 , -0.25, -0.2 , -0.15, -0.1 ,\n",
              "        -0.05,  0.  ,  0.05,  0.1 ,  0.15,  0.2 ,  0.25,  0.3 ,  0.35,\n",
              "         0.4 ,  0.45,  0.5 ], dtype=float32),\n",
              " <a list of 20 Patch objects>)"
            ]
          },
          "metadata": {
            "tags": []
          },
          "execution_count": 41
        },
        {
          "output_type": "display_data",
          "data": {
            "image/png": "[encoded data removed]",
            "text/plain": [
              "<Figure size 1152x288 with 1 Axes>"
            ]
          },
          "metadata": {
            "tags": []
          }
        }
      ]
    },
    {
      "cell_type": "code",
      "metadata": {
        "id": "hinTrYUWb1yI",
        "colab_type": "code",
        "colab": {
          "base_uri": "https://localhost:8080/",
          "height": 262
        },
        "outputId": "f5bbe83b-0a1f-429b-cefc-cccd867bafb3"
      },
      "source": [
        "# Show weight distribution\n",
        "plt.hist((\n",
        "    weights_nothing.reshape(-1),\n",
        "    weights_L1.reshape(-1),\n",
        "    weights_L2.reshape(-1),\n",
        "), 49, range=(-.5, .5), label=(\n",
        "    'No-reg',\n",
        "    'L1',\n",
        "    'L2',\n",
        "))\n",
        "plt.legend();"
      ],
      "execution_count": null,
      "outputs": [
        {
          "output_type": "display_data",
          "data": {
            "image/png": "[encoded data removed]",
            "text/plain": [
              "<Figure size 1152x288 with 1 Axes>"
            ]
          },
          "metadata": {
            "tags": []
          }
        }
      ]
    },
    {
      "cell_type": "code",
      "metadata": {
        "id": "boBbx2-_b1yL",
        "colab_type": "code",
        "colab": {}
      },
      "source": [
        ""
      ],
      "execution_count": null,
      "outputs": []
    }
  ]
}