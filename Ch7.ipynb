{
  "nbformat": 4,
  "nbformat_minor": 0,
  "metadata": {
    "colab": {
      "name": "Ch7.ipynb",
      "provenance": [],
      "collapsed_sections": [],
      "authorship_tag": "ABX9TyMudP/AeBGlTPNuigLYgfFw",
      "include_colab_link": true
    },
    "kernelspec": {
      "name": "python3",
      "display_name": "Python 3"
    },
    "accelerator": "GPU",
    "widgets": {
      "application/vnd.jupyter.widget-state+json": {
        "6446c48625cd410d898248fb96f86a65": {
          "model_module": "@jupyter-widgets/controls",
          "model_name": "HBoxModel",
          "state": {
            "_view_name": "HBoxView",
            "_dom_classes": [],
            "_model_name": "HBoxModel",
            "_view_module": "@jupyter-widgets/controls",
            "_model_module_version": "1.5.0",
            "_view_count": null,
            "_view_module_version": "1.5.0",
            "box_style": "",
            "layout": "IPY_MODEL_e98c7fbf64124316a70b767300f89088",
            "_model_module": "@jupyter-widgets/controls",
            "children": [
              "IPY_MODEL_358d8fe8bffb4df6b59a16838a294615",
              "IPY_MODEL_fde62288c1934811b159506ece988975"
            ]
          }
        },
        "e98c7fbf64124316a70b767300f89088": {
          "model_module": "@jupyter-widgets/base",
          "model_name": "LayoutModel",
          "state": {
            "_view_name": "LayoutView",
            "grid_template_rows": null,
            "right": null,
            "justify_content": null,
            "_view_module": "@jupyter-widgets/base",
            "overflow": null,
            "_model_module_version": "1.2.0",
            "_view_count": null,
            "flex_flow": null,
            "width": null,
            "min_width": null,
            "border": null,
            "align_items": null,
            "bottom": null,
            "_model_module": "@jupyter-widgets/base",
            "top": null,
            "grid_column": null,
            "overflow_y": null,
            "overflow_x": null,
            "grid_auto_flow": null,
            "grid_area": null,
            "grid_template_columns": null,
            "flex": null,
            "_model_name": "LayoutModel",
            "justify_items": null,
            "grid_row": null,
            "max_height": null,
            "align_content": null,
            "visibility": null,
            "align_self": null,
            "height": null,
            "min_height": null,
            "padding": null,
            "grid_auto_rows": null,
            "grid_gap": null,
            "max_width": null,
            "order": null,
            "_view_module_version": "1.2.0",
            "grid_template_areas": null,
            "object_position": null,
            "object_fit": null,
            "grid_auto_columns": null,
            "margin": null,
            "display": null,
            "left": null
          }
        },
        "358d8fe8bffb4df6b59a16838a294615": {
          "model_module": "@jupyter-widgets/controls",
          "model_name": "FloatProgressModel",
          "state": {
            "_view_name": "ProgressView",
            "style": "IPY_MODEL_cc51bdcebed849deb354c5c29a9c0d4e",
            "_dom_classes": [],
            "description": "",
            "_model_name": "FloatProgressModel",
            "bar_style": "info",
            "max": 1,
            "_view_module": "@jupyter-widgets/controls",
            "_model_module_version": "1.5.0",
            "value": 1,
            "_view_count": null,
            "_view_module_version": "1.5.0",
            "orientation": "horizontal",
            "min": 0,
            "description_tooltip": null,
            "_model_module": "@jupyter-widgets/controls",
            "layout": "IPY_MODEL_15ba148edc8743b8bacb2bc27bfbc96f"
          }
        },
        "fde62288c1934811b159506ece988975": {
          "model_module": "@jupyter-widgets/controls",
          "model_name": "HTMLModel",
          "state": {
            "_view_name": "HTMLView",
            "style": "IPY_MODEL_01e0812b86ea4e17adb0a165ef884259",
            "_dom_classes": [],
            "description": "",
            "_model_name": "HTMLModel",
            "placeholder": "​",
            "_view_module": "@jupyter-widgets/controls",
            "_model_module_version": "1.5.0",
            "value": " 170500096/? [00:20&lt;00:00, 32471056.28it/s]",
            "_view_count": null,
            "_view_module_version": "1.5.0",
            "description_tooltip": null,
            "_model_module": "@jupyter-widgets/controls",
            "layout": "IPY_MODEL_ab473946957a4fefa3a90615936fc848"
          }
        },
        "cc51bdcebed849deb354c5c29a9c0d4e": {
          "model_module": "@jupyter-widgets/controls",
          "model_name": "ProgressStyleModel",
          "state": {
            "_view_name": "StyleView",
            "_model_name": "ProgressStyleModel",
            "description_width": "initial",
            "_view_module": "@jupyter-widgets/base",
            "_model_module_version": "1.5.0",
            "_view_count": null,
            "_view_module_version": "1.2.0",
            "bar_color": null,
            "_model_module": "@jupyter-widgets/controls"
          }
        },
        "15ba148edc8743b8bacb2bc27bfbc96f": {
          "model_module": "@jupyter-widgets/base",
          "model_name": "LayoutModel",
          "state": {
            "_view_name": "LayoutView",
            "grid_template_rows": null,
            "right": null,
            "justify_content": null,
            "_view_module": "@jupyter-widgets/base",
            "overflow": null,
            "_model_module_version": "1.2.0",
            "_view_count": null,
            "flex_flow": null,
            "width": null,
            "min_width": null,
            "border": null,
            "align_items": null,
            "bottom": null,
            "_model_module": "@jupyter-widgets/base",
            "top": null,
            "grid_column": null,
            "overflow_y": null,
            "overflow_x": null,
            "grid_auto_flow": null,
            "grid_area": null,
            "grid_template_columns": null,
            "flex": null,
            "_model_name": "LayoutModel",
            "justify_items": null,
            "grid_row": null,
            "max_height": null,
            "align_content": null,
            "visibility": null,
            "align_self": null,
            "height": null,
            "min_height": null,
            "padding": null,
            "grid_auto_rows": null,
            "grid_gap": null,
            "max_width": null,
            "order": null,
            "_view_module_version": "1.2.0",
            "grid_template_areas": null,
            "object_position": null,
            "object_fit": null,
            "grid_auto_columns": null,
            "margin": null,
            "display": null,
            "left": null
          }
        },
        "01e0812b86ea4e17adb0a165ef884259": {
          "model_module": "@jupyter-widgets/controls",
          "model_name": "DescriptionStyleModel",
          "state": {
            "_view_name": "StyleView",
            "_model_name": "DescriptionStyleModel",
            "description_width": "",
            "_view_module": "@jupyter-widgets/base",
            "_model_module_version": "1.5.0",
            "_view_count": null,
            "_view_module_version": "1.2.0",
            "_model_module": "@jupyter-widgets/controls"
          }
        },
        "ab473946957a4fefa3a90615936fc848": {
          "model_module": "@jupyter-widgets/base",
          "model_name": "LayoutModel",
          "state": {
            "_view_name": "LayoutView",
            "grid_template_rows": null,
            "right": null,
            "justify_content": null,
            "_view_module": "@jupyter-widgets/base",
            "overflow": null,
            "_model_module_version": "1.2.0",
            "_view_count": null,
            "flex_flow": null,
            "width": null,
            "min_width": null,
            "border": null,
            "align_items": null,
            "bottom": null,
            "_model_module": "@jupyter-widgets/base",
            "top": null,
            "grid_column": null,
            "overflow_y": null,
            "overflow_x": null,
            "grid_auto_flow": null,
            "grid_area": null,
            "grid_template_columns": null,
            "flex": null,
            "_model_name": "LayoutModel",
            "justify_items": null,
            "grid_row": null,
            "max_height": null,
            "align_content": null,
            "visibility": null,
            "align_self": null,
            "height": null,
            "min_height": null,
            "padding": null,
            "grid_auto_rows": null,
            "grid_gap": null,
            "max_width": null,
            "order": null,
            "_view_module_version": "1.2.0",
            "grid_template_areas": null,
            "object_position": null,
            "object_fit": null,
            "grid_auto_columns": null,
            "margin": null,
            "display": null,
            "left": null
          }
        }
      }
    }
  },
  "cells": [
    {
      "cell_type": "markdown",
      "metadata": {
        "id": "view-in-github",
        "colab_type": "text"
      },
      "source": [
        "<a href=\"https://colab.research.google.com/github/JonathanSum/pytorch-Deep-Learning_colab/blob/master/Ch7.ipynb\" target=\"_parent\"><img src=\"https://colab.research.google.com/assets/colab-badge.svg\" alt=\"Open In Colab\"/></a>"
      ]
    },
    {
      "cell_type": "code",
      "metadata": {
        "colab": {
          "base_uri": "https://localhost:8080/"
        },
        "id": "g9-sjfchP9If",
        "outputId": "46c7c17f-dc66-4455-84ce-883ed22fafb9"
      },
      "source": [
        "!git clone https://github.com/deep-learning-with-pytorch/dlwpt-code.git\r\n",
        "!git clone https://github.com/JonathanSum/JonathanSum.git"
      ],
      "execution_count": 1,
      "outputs": [
        {
          "output_type": "stream",
          "text": [
            "Cloning into 'dlwpt-code'...\n",
            "remote: Enumerating objects: 17, done.\u001b[K\n",
            "remote: Counting objects: 100% (17/17), done.\u001b[K\n",
            "remote: Compressing objects: 100% (16/16), done.\u001b[K\n",
            "remote: Total 703 (delta 7), reused 2 (delta 1), pack-reused 686\u001b[K\n",
            "Receiving objects: 100% (703/703), 185.80 MiB | 24.47 MiB/s, done.\n",
            "Resolving deltas: 100% (303/303), done.\n",
            "Checking out files: 100% (228/228), done.\n",
            "Cloning into 'JonathanSum'...\n",
            "remote: Enumerating objects: 90, done.\u001b[K\n",
            "remote: Counting objects: 100% (90/90), done.\u001b[K\n",
            "remote: Compressing objects: 100% (90/90), done.\u001b[K\n",
            "remote: Total 268 (delta 37), reused 0 (delta 0), pack-reused 178\u001b[K\n",
            "Receiving objects: 100% (268/268), 27.96 MiB | 18.43 MiB/s, done.\n",
            "Resolving deltas: 100% (136/136), done.\n"
          ],
          "name": "stdout"
        }
      ]
    },
    {
      "cell_type": "code",
      "metadata": {
        "colab": {
          "base_uri": "https://localhost:8080/",
          "height": 99,
          "referenced_widgets": [
            "6446c48625cd410d898248fb96f86a65",
            "e98c7fbf64124316a70b767300f89088",
            "358d8fe8bffb4df6b59a16838a294615",
            "fde62288c1934811b159506ece988975",
            "cc51bdcebed849deb354c5c29a9c0d4e",
            "15ba148edc8743b8bacb2bc27bfbc96f",
            "01e0812b86ea4e17adb0a165ef884259",
            "ab473946957a4fefa3a90615936fc848"
          ]
        },
        "id": "VsQlpru4QKts",
        "outputId": "0fc06916-aa1f-4cd2-e34e-9e1a4a28e2a5"
      },
      "source": [
        "from torchvision import datasets\r\n",
        "data_path = '/content/dlwpt-code/p1ch7'\r\n",
        "cifar10 = datasets.CIFAR10(data_path, train=True, download=True)\r\n",
        "cifar10_val = datasets.CIFAR10(data_path, train=False, download=True)"
      ],
      "execution_count": 2,
      "outputs": [
        {
          "output_type": "stream",
          "text": [
            "Downloading https://www.cs.toronto.edu/~kriz/cifar-10-python.tar.gz to /content/dlwpt-code/p1ch7/cifar-10-python.tar.gz\n"
          ],
          "name": "stdout"
        },
        {
          "output_type": "display_data",
          "data": {
            "application/vnd.jupyter.widget-view+json": {
              "model_id": "6446c48625cd410d898248fb96f86a65",
              "version_minor": 0,
              "version_major": 2
            },
            "text/plain": [
              "HBox(children=(FloatProgress(value=1.0, bar_style='info', max=1.0), HTML(value='')))"
            ]
          },
          "metadata": {
            "tags": []
          }
        },
        {
          "output_type": "stream",
          "text": [
            "Extracting /content/dlwpt-code/p1ch7/cifar-10-python.tar.gz to /content/dlwpt-code/p1ch7\n",
            "Files already downloaded and verified\n"
          ],
          "name": "stdout"
        }
      ]
    },
    {
      "cell_type": "code",
      "metadata": {
        "colab": {
          "base_uri": "https://localhost:8080/"
        },
        "id": "PQc_zMUIQ-lU",
        "outputId": "960ddb84-2267-4c8f-ebef-658c7f642107"
      },
      "source": [
        "type(cifar10).__mro__"
      ],
      "execution_count": 3,
      "outputs": [
        {
          "output_type": "execute_result",
          "data": {
            "text/plain": [
              "(torchvision.datasets.cifar.CIFAR10,\n",
              " torchvision.datasets.vision.VisionDataset,\n",
              " torch.utils.data.dataset.Dataset,\n",
              " typing.Generic,\n",
              " object)"
            ]
          },
          "metadata": {
            "tags": []
          },
          "execution_count": 3
        }
      ]
    },
    {
      "cell_type": "code",
      "metadata": {
        "colab": {
          "base_uri": "https://localhost:8080/"
        },
        "id": "E2lvFeB7Wz1F",
        "outputId": "bd8af407-1985-4760-b40c-ae5b6c3ef08f"
      },
      "source": [
        "len(cifar10)"
      ],
      "execution_count": 4,
      "outputs": [
        {
          "output_type": "execute_result",
          "data": {
            "text/plain": [
              "50000"
            ]
          },
          "metadata": {
            "tags": []
          },
          "execution_count": 4
        }
      ]
    },
    {
      "cell_type": "markdown",
      "metadata": {
        "id": "h5QQX9I1Y-rv"
      },
      "source": [
        "For some advanced uses, PyTorch also provides IterableDataset. This can be used in cases like datasets in\r\n",
        "which random access to the data is prohibitively expensive or does not make sense: for example, because data\r\n",
        "is generated on the fly."
      ]
    },
    {
      "cell_type": "code",
      "metadata": {
        "colab": {
          "base_uri": "https://localhost:8080/"
        },
        "id": "P4fqIChEY_hY",
        "outputId": "d6ecbd1e-15a6-4b5b-e759-8178e63e70dc"
      },
      "source": [
        "img, label = cifar10[99]\r\n",
        "img, label"
      ],
      "execution_count": 5,
      "outputs": [
        {
          "output_type": "execute_result",
          "data": {
            "text/plain": [
              "(<PIL.Image.Image image mode=RGB size=32x32 at 0x7FD11B116D30>, 1)"
            ]
          },
          "metadata": {
            "tags": []
          },
          "execution_count": 5
        }
      ]
    },
    {
      "cell_type": "code",
      "metadata": {
        "id": "OEXG3VXVlOTU"
      },
      "source": [
        "label_map = {0: 0, 2: 1}\r\n",
        "class_names = ['airplane', 'bird']\r\n",
        "cifar2 = [(img, label_map[label])\r\n",
        "for img, label in cifar10\r\n",
        "if label in [0, 2]]\r\n",
        "cifar2_val = [(img, label_map[label])\r\n",
        "for img, label in cifar10_val\r\n",
        "if label in [0, 2]]"
      ],
      "execution_count": 6,
      "outputs": []
    },
    {
      "cell_type": "code",
      "metadata": {
        "id": "OJ3AiH8GpCiw"
      },
      "source": [
        "import matplotlib.pyplot as plt"
      ],
      "execution_count": 7,
      "outputs": []
    },
    {
      "cell_type": "code",
      "metadata": {
        "colab": {
          "base_uri": "https://localhost:8080/",
          "height": 266
        },
        "id": "sLeKe3Tvn7H8",
        "outputId": "43dfdd3e-c979-4152-af0c-7283424ca69a"
      },
      "source": [
        "plt.imshow(img)\r\n",
        "plt.show()"
      ],
      "execution_count": 8,
      "outputs": [
        {
          "output_type": "display_data",
          "data": {
            "image/png": "[encoded data removed]",
            "text/plain": [
              "<Figure size 432x288 with 1 Axes>"
            ]
          },
          "metadata": {
            "tags": [],
            "needs_background": "light"
          }
        }
      ]
    },
    {
      "cell_type": "code",
      "metadata": {
        "colab": {
          "base_uri": "https://localhost:8080/"
        },
        "id": "OcJcYKzmxhAG",
        "outputId": "91cb3c2b-2a34-4257-df2c-faeb89ec7bb1"
      },
      "source": [
        "from torchvision import transforms\r\n",
        "dir(transforms)"
      ],
      "execution_count": 114,
      "outputs": [
        {
          "output_type": "execute_result",
          "data": {
            "text/plain": [
              "['CenterCrop',\n",
              " 'ColorJitter',\n",
              " 'Compose',\n",
              " 'ConvertImageDtype',\n",
              " 'FiveCrop',\n",
              " 'GaussianBlur',\n",
              " 'Grayscale',\n",
              " 'Lambda',\n",
              " 'LinearTransformation',\n",
              " 'Normalize',\n",
              " 'PILToTensor',\n",
              " 'Pad',\n",
              " 'RandomAffine',\n",
              " 'RandomApply',\n",
              " 'RandomChoice',\n",
              " 'RandomCrop',\n",
              " 'RandomErasing',\n",
              " 'RandomGrayscale',\n",
              " 'RandomHorizontalFlip',\n",
              " 'RandomOrder',\n",
              " 'RandomPerspective',\n",
              " 'RandomResizedCrop',\n",
              " 'RandomRotation',\n",
              " 'RandomSizedCrop',\n",
              " 'RandomVerticalFlip',\n",
              " 'Resize',\n",
              " 'Scale',\n",
              " 'TenCrop',\n",
              " 'ToPILImage',\n",
              " 'ToTensor',\n",
              " '__builtins__',\n",
              " '__cached__',\n",
              " '__doc__',\n",
              " '__file__',\n",
              " '__loader__',\n",
              " '__name__',\n",
              " '__package__',\n",
              " '__path__',\n",
              " '__spec__',\n",
              " 'functional',\n",
              " 'functional_pil',\n",
              " 'functional_tensor',\n",
              " 'transforms']"
            ]
          },
          "metadata": {
            "tags": []
          },
          "execution_count": 114
        }
      ]
    },
    {
      "cell_type": "code",
      "metadata": {
        "colab": {
          "base_uri": "https://localhost:8080/"
        },
        "id": "7HfH0zCRxhrq",
        "outputId": "5ef40571-236a-4c45-99d1-6653ab82b6f9"
      },
      "source": [
        "from torchvision import transforms\r\n",
        "\r\n",
        "to_tensor = transforms.ToTensor()\r\n",
        "img_t = to_tensor(img)\r\n",
        "img_t.shape"
      ],
      "execution_count": 10,
      "outputs": [
        {
          "output_type": "execute_result",
          "data": {
            "text/plain": [
              "torch.Size([3, 32, 32])"
            ]
          },
          "metadata": {
            "tags": []
          },
          "execution_count": 10
        }
      ]
    },
    {
      "cell_type": "code",
      "metadata": {
        "id": "1cn4tV102KkS"
      },
      "source": [
        "tensor_cifar10 = datasets.CIFAR10(data_path, train=True, download=False,\r\n",
        "                          transform=transforms.ToTensor())\r\n"
      ],
      "execution_count": 11,
      "outputs": []
    },
    {
      "cell_type": "code",
      "metadata": {
        "colab": {
          "base_uri": "https://localhost:8080/"
        },
        "id": "c6xsRfnS2sQL",
        "outputId": "2b283ae7-9a10-434d-f3b0-3cb12504dd6f"
      },
      "source": [
        "img_t, _ = tensor_cifar10[99]\r\n",
        "type(img_t)"
      ],
      "execution_count": 12,
      "outputs": [
        {
          "output_type": "execute_result",
          "data": {
            "text/plain": [
              "torch.Tensor"
            ]
          },
          "metadata": {
            "tags": []
          },
          "execution_count": 12
        }
      ]
    },
    {
      "cell_type": "code",
      "metadata": {
        "colab": {
          "base_uri": "https://localhost:8080/"
        },
        "id": "Or0ohWgZ20OF",
        "outputId": "33eca0b9-6c09-4d78-e58e-e7505641cf11"
      },
      "source": [
        "img_t.shape, img_t.dtype"
      ],
      "execution_count": 13,
      "outputs": [
        {
          "output_type": "execute_result",
          "data": {
            "text/plain": [
              "(torch.Size([3, 32, 32]), torch.float32)"
            ]
          },
          "metadata": {
            "tags": []
          },
          "execution_count": 13
        }
      ]
    },
    {
      "cell_type": "code",
      "metadata": {
        "colab": {
          "base_uri": "https://localhost:8080/"
        },
        "id": "cyrUBqIX7hMl",
        "outputId": "0378b1c0-c3a1-49e0-b4f2-64c189a758be"
      },
      "source": [
        "img_t"
      ],
      "execution_count": 14,
      "outputs": [
        {
          "output_type": "execute_result",
          "data": {
            "text/plain": [
              "tensor([[[0.2431, 0.1961, 0.1804,  ..., 0.6549, 0.7176, 0.5373],\n",
              "         [0.2471, 0.2157, 0.2039,  ..., 0.6392, 0.6706, 0.5686],\n",
              "         [0.2275, 0.2510, 0.2196,  ..., 0.6000, 0.5882, 0.4824],\n",
              "         ...,\n",
              "         [0.6745, 0.5608, 0.5098,  ..., 0.3686, 0.5529, 0.5451],\n",
              "         [0.7176, 0.5882, 0.3137,  ..., 0.3176, 0.5294, 0.5608],\n",
              "         [0.8196, 0.7137, 0.5451,  ..., 0.2314, 0.5098, 0.6627]],\n",
              "\n",
              "        [[0.2510, 0.1961, 0.1725,  ..., 0.6745, 0.7216, 0.5333],\n",
              "         [0.2549, 0.2078, 0.1961,  ..., 0.6627, 0.6824, 0.5725],\n",
              "         [0.2431, 0.2588, 0.2353,  ..., 0.6078, 0.6039, 0.5020],\n",
              "         ...,\n",
              "         [0.5294, 0.4314, 0.2196,  ..., 0.2941, 0.4235, 0.4118],\n",
              "         [0.5725, 0.4627, 0.2510,  ..., 0.2824, 0.4627, 0.4902],\n",
              "         [0.6824, 0.5922, 0.4275,  ..., 0.2118, 0.4667, 0.6118]],\n",
              "\n",
              "        [[0.1725, 0.1020, 0.0745,  ..., 0.2706, 0.2980, 0.2824],\n",
              "         [0.1451, 0.1020, 0.1059,  ..., 0.2392, 0.2941, 0.3020],\n",
              "         [0.1412, 0.1451, 0.1451,  ..., 0.2431, 0.2510, 0.2235],\n",
              "         ...,\n",
              "         [0.3882, 0.3294, 0.1647,  ..., 0.2196, 0.3373, 0.3176],\n",
              "         [0.4588, 0.3725, 0.1725,  ..., 0.2353, 0.3843, 0.4314],\n",
              "         [0.5647, 0.4824, 0.3255,  ..., 0.1843, 0.4353, 0.6275]]])"
            ]
          },
          "metadata": {
            "tags": []
          },
          "execution_count": 14
        }
      ]
    },
    {
      "cell_type": "code",
      "metadata": {
        "colab": {
          "base_uri": "https://localhost:8080/"
        },
        "id": "Qa-OYQqS8Fkv",
        "outputId": "62d35d41-7557-48e2-c45d-a2b4fb9887af"
      },
      "source": [
        "img_t.min(), img_t.max()"
      ],
      "execution_count": 15,
      "outputs": [
        {
          "output_type": "execute_result",
          "data": {
            "text/plain": [
              "(tensor(0.), tensor(1.))"
            ]
          },
          "metadata": {
            "tags": []
          },
          "execution_count": 15
        }
      ]
    },
    {
      "cell_type": "code",
      "metadata": {
        "colab": {
          "base_uri": "https://localhost:8080/",
          "height": 266
        },
        "id": "lQfdN6mf8H9W",
        "outputId": "2631d710-2855-45db-be10-37b8bc4e0298"
      },
      "source": [
        "plt.imshow(img_t.permute(1, 2, 0))\r\n",
        "plt.show()"
      ],
      "execution_count": 16,
      "outputs": [
        {
          "output_type": "display_data",
          "data": {
            "image/png": "[encoded data removed]",
            "text/plain": [
              "<Figure size 432x288 with 1 Axes>"
            ]
          },
          "metadata": {
            "tags": [],
            "needs_background": "light"
          }
        }
      ]
    },
    {
      "cell_type": "code",
      "metadata": {
        "colab": {
          "base_uri": "https://localhost:8080/"
        },
        "id": "j8x4ie1y8XYT",
        "outputId": "b43e4018-fd5f-4381-ac13-5303e255cf0e"
      },
      "source": [
        "import torch\r\n",
        "imgs = torch.stack([img_t for img_t, _ in tensor_cifar10], dim=3)\r\n",
        "imgs.shape"
      ],
      "execution_count": 17,
      "outputs": [
        {
          "output_type": "execute_result",
          "data": {
            "text/plain": [
              "torch.Size([3, 32, 32, 50000])"
            ]
          },
          "metadata": {
            "tags": []
          },
          "execution_count": 17
        }
      ]
    },
    {
      "cell_type": "code",
      "metadata": {
        "colab": {
          "base_uri": "https://localhost:8080/"
        },
        "id": "jieiZcIpEBiL",
        "outputId": "35d6b884-ec5f-4d31-fdf1-e2e45e8d36e3"
      },
      "source": [
        "imgs.view(3, -1).shape"
      ],
      "execution_count": 18,
      "outputs": [
        {
          "output_type": "execute_result",
          "data": {
            "text/plain": [
              "torch.Size([3, 51200000])"
            ]
          },
          "metadata": {
            "tags": []
          },
          "execution_count": 18
        }
      ]
    },
    {
      "cell_type": "code",
      "metadata": {
        "colab": {
          "base_uri": "https://localhost:8080/"
        },
        "id": "8UPpkzekGNWY",
        "outputId": "af0171ef-b048-46f8-8718-15372b5c020d"
      },
      "source": [
        "imgs.view(3, -1).mean(dim=1)"
      ],
      "execution_count": 19,
      "outputs": [
        {
          "output_type": "execute_result",
          "data": {
            "text/plain": [
              "tensor([0.4914, 0.4822, 0.4465])"
            ]
          },
          "metadata": {
            "tags": []
          },
          "execution_count": 19
        }
      ]
    },
    {
      "cell_type": "code",
      "metadata": {
        "colab": {
          "base_uri": "https://localhost:8080/"
        },
        "id": "m4q9N4iuGV8m",
        "outputId": "9d3f3d6c-07d0-4e67-fc1b-f6b7e743ff15"
      },
      "source": [
        "imgs.view(3, -1).std(dim=1)"
      ],
      "execution_count": 20,
      "outputs": [
        {
          "output_type": "execute_result",
          "data": {
            "text/plain": [
              "tensor([0.2470, 0.2435, 0.2616])"
            ]
          },
          "metadata": {
            "tags": []
          },
          "execution_count": 20
        }
      ]
    },
    {
      "cell_type": "code",
      "metadata": {
        "colab": {
          "base_uri": "https://localhost:8080/"
        },
        "id": "xoCaw8g3Gc33",
        "outputId": "a2a14777-c4ec-4f40-d232-d6520a58e885"
      },
      "source": [
        "transforms.Normalize((0.4915, 0.4823, 0.4468), (0.2470, 0.2435, 0.2616))"
      ],
      "execution_count": 21,
      "outputs": [
        {
          "output_type": "execute_result",
          "data": {
            "text/plain": [
              "Normalize(mean=(0.4915, 0.4823, 0.4468), std=(0.247, 0.2435, 0.2616))"
            ]
          },
          "metadata": {
            "tags": []
          },
          "execution_count": 21
        }
      ]
    },
    {
      "cell_type": "code",
      "metadata": {
        "id": "ryVb26V3HgB8"
      },
      "source": [
        "trans_am = transforms.Compose([\r\n",
        "                      transforms.ToTensor(),\r\n",
        "                      transforms.Normalize((0.4915, 0.4823, 0.4468),\r\n",
        "                      (0.2470, 0.2435, 0.2616))])"
      ],
      "execution_count": 22,
      "outputs": []
    },
    {
      "cell_type": "code",
      "metadata": {
        "id": "sI0AlN2IIELA"
      },
      "source": [
        "transformed_cifar10 = datasets.CIFAR10(data_path, train=True, download=False, transform = trans_am)"
      ],
      "execution_count": 23,
      "outputs": []
    },
    {
      "cell_type": "code",
      "metadata": {
        "id": "iKQ7nsU39Ghv"
      },
      "source": [
        "transformed_cifar10_val = datasets.CIFAR10(data_path, train=False, download=False, transform = trans_am)"
      ],
      "execution_count": 24,
      "outputs": []
    },
    {
      "cell_type": "code",
      "metadata": {
        "colab": {
          "base_uri": "https://localhost:8080/",
          "height": 300
        },
        "id": "1wKcvZh7JBCF",
        "outputId": "eed9d089-09ad-4418-bb84-bb6a6fda332b"
      },
      "source": [
        "img_t, _ = transformed_cifar10[99]\r\n",
        "plt.imshow(img_t.permute(1, 2, 0))\r\n",
        "plt.show()\r\n",
        "print(type(img_t))"
      ],
      "execution_count": 25,
      "outputs": [
        {
          "output_type": "stream",
          "text": [
            "Clipping input data to the valid range for imshow with RGB data ([0..1] for floats or [0..255] for integers).\n"
          ],
          "name": "stderr"
        },
        {
          "output_type": "display_data",
          "data": {
            "image/png": "[encoded data removed]",
            "text/plain": [
              "<Figure size 432x288 with 1 Axes>"
            ]
          },
          "metadata": {
            "tags": [],
            "needs_background": "light"
          }
        },
        {
          "output_type": "stream",
          "text": [
            "<class 'torch.Tensor'>\n"
          ],
          "name": "stdout"
        }
      ]
    },
    {
      "cell_type": "code",
      "metadata": {
        "id": "6Y6NrkmmJ2Wc"
      },
      "source": [
        "label_map = {0: 0, 2: 1}"
      ],
      "execution_count": 26,
      "outputs": []
    },
    {
      "cell_type": "code",
      "metadata": {
        "id": "XFzH2G9_JzcG"
      },
      "source": [
        "class_names = ['airplane', 'bird']"
      ],
      "execution_count": 27,
      "outputs": []
    },
    {
      "cell_type": "code",
      "metadata": {
        "id": "ty2FGr4UT2f5"
      },
      "source": [
        "cifar2 = [(img, label_map[label])\r\n",
        "          for img, label in cifar10\r\n",
        "          if label in [0, 2]]\r\n",
        "cifar2_val = [(img, label_map[label])\r\n",
        "          for img, label in cifar10_val\r\n",
        "          if label in [0, 2]]"
      ],
      "execution_count": 28,
      "outputs": []
    },
    {
      "cell_type": "code",
      "metadata": {
        "colab": {
          "base_uri": "https://localhost:8080/"
        },
        "id": "bD5ZqZNGUZBh",
        "outputId": "719d5dcb-72f1-4f32-c6bd-202fc54566bb"
      },
      "source": [
        "cifar2[0]"
      ],
      "execution_count": 29,
      "outputs": [
        {
          "output_type": "execute_result",
          "data": {
            "text/plain": [
              "(<PIL.Image.Image image mode=RGB size=32x32 at 0x7FD0CB07CEB8>, 1)"
            ]
          },
          "metadata": {
            "tags": []
          },
          "execution_count": 29
        }
      ]
    },
    {
      "cell_type": "code",
      "metadata": {
        "colab": {
          "base_uri": "https://localhost:8080/",
          "height": 266
        },
        "id": "Ax1QxkxIW7vR",
        "outputId": "b3c7d636-6a37-4bbe-e049-37d9eeb4cc30"
      },
      "source": [
        "plt.imshow(cifar2[0][0])\r\n",
        "plt.show()"
      ],
      "execution_count": 30,
      "outputs": [
        {
          "output_type": "display_data",
          "data": {
            "image/png": "[encoded data removed]",
            "text/plain": [
              "<Figure size 432x288 with 1 Axes>"
            ]
          },
          "metadata": {
            "tags": [],
            "needs_background": "light"
          }
        }
      ]
    },
    {
      "cell_type": "code",
      "metadata": {
        "id": "sOmMuwDaf9HK"
      },
      "source": [
        "import torch.nn as nn\r\n",
        "n_out = 2\r\n",
        "\r\n",
        "model = nn.Sequential(\r\n",
        "            nn.Linear(\r\n",
        "                3072,\r\n",
        "                512\r\n",
        "            ),\r\n",
        "            nn.Tanh(),\r\n",
        "            nn.Linear(\r\n",
        "                512,\r\n",
        "                n_out,\r\n",
        "            )\r\n",
        "          )"
      ],
      "execution_count": 31,
      "outputs": []
    },
    {
      "cell_type": "code",
      "metadata": {
        "id": "wtQt2stjgPQO"
      },
      "source": [
        "def softmax(x):\r\n",
        "    return torch.exp(x) / torch.exp(x).sum()"
      ],
      "execution_count": 32,
      "outputs": []
    },
    {
      "cell_type": "code",
      "metadata": {
        "id": "a2CVcnv9mEfP"
      },
      "source": [
        "x = torch.tensor([1.0, 2.0, 3.0])"
      ],
      "execution_count": 33,
      "outputs": []
    },
    {
      "cell_type": "code",
      "metadata": {
        "colab": {
          "base_uri": "https://localhost:8080/"
        },
        "id": "PJSJZVrSuEnS",
        "outputId": "4674aa14-ab22-4907-eed5-4ddbf1837dd9"
      },
      "source": [
        "softmax(x).sum()"
      ],
      "execution_count": 34,
      "outputs": [
        {
          "output_type": "execute_result",
          "data": {
            "text/plain": [
              "tensor(1.)"
            ]
          },
          "metadata": {
            "tags": []
          },
          "execution_count": 34
        }
      ]
    },
    {
      "cell_type": "code",
      "metadata": {
        "id": "cO1hpNdguFOP"
      },
      "source": [
        "softmax = nn.Softmax(dim=1)\r\n",
        "x = torch.tensor([[1.0, 2.0, 3.0],\r\n",
        "                  [1.0, 2.0, 3.0]])"
      ],
      "execution_count": 35,
      "outputs": []
    },
    {
      "cell_type": "code",
      "metadata": {
        "colab": {
          "base_uri": "https://localhost:8080/"
        },
        "id": "SABc1mj-1KeE",
        "outputId": "412d539e-b199-4ce8-a23e-642014bc193d"
      },
      "source": [
        "softmax(x)"
      ],
      "execution_count": 36,
      "outputs": [
        {
          "output_type": "execute_result",
          "data": {
            "text/plain": [
              "tensor([[0.0900, 0.2447, 0.6652],\n",
              "        [0.0900, 0.2447, 0.6652]])"
            ]
          },
          "metadata": {
            "tags": []
          },
          "execution_count": 36
        }
      ]
    },
    {
      "cell_type": "code",
      "metadata": {
        "id": "V_7FB8cL22fq"
      },
      "source": [
        "model = nn.Sequential(\r\n",
        "nn.Linear(3072, 512),\r\n",
        "nn.Tanh(),\r\n",
        "nn.Linear(512, 2),\r\n",
        "nn.Softmax(dim=1))\r\n"
      ],
      "execution_count": 37,
      "outputs": []
    },
    {
      "cell_type": "code",
      "metadata": {
        "id": "tMlYhjK644gS"
      },
      "source": [
        "label_map = {0: 0, 2: 1}\r\n",
        "class_names = ['airplane', 'bird']\r\n",
        "cifar2 = [(img, label_map[label])\r\n",
        "          for img, label in transformed_cifar10\r\n",
        "              if label in [0, 2]]"
      ],
      "execution_count": 38,
      "outputs": []
    },
    {
      "cell_type": "code",
      "metadata": {
        "id": "U8cr_-kC3L-d"
      },
      "source": [
        "img, _ = cifar2[0]"
      ],
      "execution_count": 39,
      "outputs": []
    },
    {
      "cell_type": "code",
      "metadata": {
        "colab": {
          "base_uri": "https://localhost:8080/",
          "height": 283
        },
        "id": "DGSL-eSq4p4T",
        "outputId": "7bc83085-1c04-4072-ca97-4ae95dc4f6ee"
      },
      "source": [
        "plt.imshow(img.permute(1, 2, 0))\r\n",
        "plt.show()"
      ],
      "execution_count": 40,
      "outputs": [
        {
          "output_type": "stream",
          "text": [
            "Clipping input data to the valid range for imshow with RGB data ([0..1] for floats or [0..255] for integers).\n"
          ],
          "name": "stderr"
        },
        {
          "output_type": "display_data",
          "data": {
            "image/png": "[encoded data removed]",
            "text/plain": [
              "<Figure size 432x288 with 1 Axes>"
            ]
          },
          "metadata": {
            "tags": [],
            "needs_background": "light"
          }
        }
      ]
    },
    {
      "cell_type": "code",
      "metadata": {
        "colab": {
          "base_uri": "https://localhost:8080/"
        },
        "id": "Ky2iqzaP9Szy",
        "outputId": "1011cfc4-93c1-478d-d160-31e317953e6b"
      },
      "source": [
        "img_batch = img.view(-1).unsqueeze(0)\r\n",
        "img_batch.shape"
      ],
      "execution_count": 41,
      "outputs": [
        {
          "output_type": "execute_result",
          "data": {
            "text/plain": [
              "torch.Size([1, 3072])"
            ]
          },
          "metadata": {
            "tags": []
          },
          "execution_count": 41
        }
      ]
    },
    {
      "cell_type": "code",
      "metadata": {
        "colab": {
          "base_uri": "https://localhost:8080/"
        },
        "id": "4eRw5T7N9Vf0",
        "outputId": "df7cdc27-7ec9-4f36-f23f-7897e5f52afa"
      },
      "source": [
        "model"
      ],
      "execution_count": 42,
      "outputs": [
        {
          "output_type": "execute_result",
          "data": {
            "text/plain": [
              "Sequential(\n",
              "  (0): Linear(in_features=3072, out_features=512, bias=True)\n",
              "  (1): Tanh()\n",
              "  (2): Linear(in_features=512, out_features=2, bias=True)\n",
              "  (3): Softmax(dim=1)\n",
              ")"
            ]
          },
          "metadata": {
            "tags": []
          },
          "execution_count": 42
        }
      ]
    },
    {
      "cell_type": "code",
      "metadata": {
        "colab": {
          "base_uri": "https://localhost:8080/"
        },
        "id": "22o5P-7URSFL",
        "outputId": "334a6080-b486-4784-e517-94a49d79f30f"
      },
      "source": [
        "model[0].weight.shape"
      ],
      "execution_count": 43,
      "outputs": [
        {
          "output_type": "execute_result",
          "data": {
            "text/plain": [
              "torch.Size([512, 3072])"
            ]
          },
          "metadata": {
            "tags": []
          },
          "execution_count": 43
        }
      ]
    },
    {
      "cell_type": "code",
      "metadata": {
        "colab": {
          "base_uri": "https://localhost:8080/"
        },
        "id": "UrFK-oT9RZyP",
        "outputId": "5f654cc0-80d5-4eeb-c406-346968cac870"
      },
      "source": [
        "out = model(img_batch)\r\n",
        "out"
      ],
      "execution_count": 44,
      "outputs": [
        {
          "output_type": "execute_result",
          "data": {
            "text/plain": [
              "tensor([[0.4826, 0.5174]], grad_fn=<SoftmaxBackward>)"
            ]
          },
          "metadata": {
            "tags": []
          },
          "execution_count": 44
        }
      ]
    },
    {
      "cell_type": "code",
      "metadata": {
        "colab": {
          "base_uri": "https://localhost:8080/"
        },
        "id": "Dj1AbidHRXA5",
        "outputId": "d81a4c3d-cebb-4437-fafe-085beafaec30"
      },
      "source": [
        "max_value, index = torch.max(out, dim=1)\r\n",
        "print(max_value)\r\n",
        "index"
      ],
      "execution_count": 45,
      "outputs": [
        {
          "output_type": "stream",
          "text": [
            "tensor([0.5174], grad_fn=<MaxBackward0>)\n"
          ],
          "name": "stdout"
        },
        {
          "output_type": "execute_result",
          "data": {
            "text/plain": [
              "tensor([1])"
            ]
          },
          "metadata": {
            "tags": []
          },
          "execution_count": 45
        }
      ]
    },
    {
      "cell_type": "code",
      "metadata": {
        "id": "SJGX1hPHL38N"
      },
      "source": [
        "# NLL = - sum(log(out_i[c_i])),"
      ],
      "execution_count": 46,
      "outputs": []
    },
    {
      "cell_type": "code",
      "metadata": {
        "id": "Dg-esD_db7JI"
      },
      "source": [
        "model = nn.Sequential(\r\n",
        "nn.Linear(3072, 512),\r\n",
        "nn.Tanh(),\r\n",
        "nn.Linear(512, 2),\r\n",
        "nn.LogSoftmax(dim=1))"
      ],
      "execution_count": 47,
      "outputs": []
    },
    {
      "cell_type": "code",
      "metadata": {
        "id": "umxBRG6ifLyn"
      },
      "source": [
        "loss = nn.NLLLoss()"
      ],
      "execution_count": 48,
      "outputs": []
    },
    {
      "cell_type": "code",
      "metadata": {
        "colab": {
          "base_uri": "https://localhost:8080/"
        },
        "id": "gLxdV3-SfN6I",
        "outputId": "f769f17e-94fa-44c8-8296-255bbd8a58ce"
      },
      "source": [
        "img, label = cifar2[0]\r\n",
        "\r\n",
        "out = model(img.view(-1).unsqueeze(0))\r\n",
        "\r\n",
        "loss(out, torch.tensor([label]))"
      ],
      "execution_count": 49,
      "outputs": [
        {
          "output_type": "execute_result",
          "data": {
            "text/plain": [
              "tensor(1.0922, grad_fn=<NllLossBackward>)"
            ]
          },
          "metadata": {
            "tags": []
          },
          "execution_count": 49
        }
      ]
    },
    {
      "cell_type": "code",
      "metadata": {
        "colab": {
          "base_uri": "https://localhost:8080/"
        },
        "id": "b5A6ugRIkHTu",
        "outputId": "5b86a364-ce24-4a11-e77b-1db57ea13fdb"
      },
      "source": [
        "label"
      ],
      "execution_count": 50,
      "outputs": [
        {
          "output_type": "execute_result",
          "data": {
            "text/plain": [
              "1"
            ]
          },
          "metadata": {
            "tags": []
          },
          "execution_count": 50
        }
      ]
    },
    {
      "cell_type": "code",
      "metadata": {
        "id": "_2zlFy6OobEY"
      },
      "source": [
        "import torch\r\n",
        "import torch.nn as nn\r\n",
        "import torch.optim as optim\r\n",
        "\r\n",
        "model = nn.Sequential(\r\n",
        "            nn.Linear(3072, 512),\r\n",
        "            nn.Tanh(),\r\n",
        "            nn.Linear(512, 2),\r\n",
        "            nn.LogSoftmax(dim=1))\r\n",
        "\r\n",
        "learning_rate = 1e-2\r\n",
        "\r\n",
        "optimizer = optim.SGD(model.parameters(), lr=learning_rate)"
      ],
      "execution_count": 51,
      "outputs": []
    },
    {
      "cell_type": "code",
      "metadata": {
        "colab": {
          "base_uri": "https://localhost:8080/",
          "height": 229
        },
        "id": "im1a62dVogKj",
        "outputId": "c7e539ca-0a2f-479d-e382-f3694a86c427"
      },
      "source": [
        "loss_fn = nn.NLLLoss()\r\n",
        "\r\n",
        "n_epochs = 100\r\n",
        "\r\n",
        "for epoch in range(n_epochs):\r\n",
        "    for img, label in cifar2:\r\n",
        "        out = model(img.view(-1).unsqueeze(0))\r\n",
        "        loss = loss_fn(out, torch.tensor([label]))\r\n",
        "\r\n",
        "        optimizer.zero_grad()\r\n",
        "        loss.backward()\r\n",
        "        optimizer.step()\r\n",
        "\r\n",
        "    print(\"Epoch: %d, Loss: %f\" % (epoch, float(loss)))\r\n",
        "\r\n",
        "    "
      ],
      "execution_count": 52,
      "outputs": [
        {
          "output_type": "error",
          "ename": "KeyboardInterrupt",
          "evalue": "ignored",
          "traceback": [
            "\u001b[0;31m---------------------------------------------------------------------------\u001b[0m",
            "\u001b[0;31mKeyboardInterrupt\u001b[0m                         Traceback (most recent call last)",
            "\u001b[0;32m<ipython-input-52-b22a38cc8003>\u001b[0m in \u001b[0;36m<module>\u001b[0;34m()\u001b[0m\n\u001b[1;32m      5\u001b[0m \u001b[0;32mfor\u001b[0m \u001b[0mepoch\u001b[0m \u001b[0;32min\u001b[0m \u001b[0mrange\u001b[0m\u001b[0;34m(\u001b[0m\u001b[0mn_epochs\u001b[0m\u001b[0;34m)\u001b[0m\u001b[0;34m:\u001b[0m\u001b[0;34m\u001b[0m\u001b[0;34m\u001b[0m\u001b[0m\n\u001b[1;32m      6\u001b[0m     \u001b[0;32mfor\u001b[0m \u001b[0mimg\u001b[0m\u001b[0;34m,\u001b[0m \u001b[0mlabel\u001b[0m \u001b[0;32min\u001b[0m \u001b[0mcifar2\u001b[0m\u001b[0;34m:\u001b[0m\u001b[0;34m\u001b[0m\u001b[0;34m\u001b[0m\u001b[0m\n\u001b[0;32m----> 7\u001b[0;31m         \u001b[0mout\u001b[0m \u001b[0;34m=\u001b[0m \u001b[0mmodel\u001b[0m\u001b[0;34m(\u001b[0m\u001b[0mimg\u001b[0m\u001b[0;34m.\u001b[0m\u001b[0mview\u001b[0m\u001b[0;34m(\u001b[0m\u001b[0;34m-\u001b[0m\u001b[0;36m1\u001b[0m\u001b[0;34m)\u001b[0m\u001b[0;34m.\u001b[0m\u001b[0munsqueeze\u001b[0m\u001b[0;34m(\u001b[0m\u001b[0;36m0\u001b[0m\u001b[0;34m)\u001b[0m\u001b[0;34m)\u001b[0m\u001b[0;34m\u001b[0m\u001b[0;34m\u001b[0m\u001b[0m\n\u001b[0m\u001b[1;32m      8\u001b[0m         \u001b[0mloss\u001b[0m \u001b[0;34m=\u001b[0m \u001b[0mloss_fn\u001b[0m\u001b[0;34m(\u001b[0m\u001b[0mout\u001b[0m\u001b[0;34m,\u001b[0m \u001b[0mtorch\u001b[0m\u001b[0;34m.\u001b[0m\u001b[0mtensor\u001b[0m\u001b[0;34m(\u001b[0m\u001b[0;34m[\u001b[0m\u001b[0mlabel\u001b[0m\u001b[0;34m]\u001b[0m\u001b[0;34m)\u001b[0m\u001b[0;34m)\u001b[0m\u001b[0;34m\u001b[0m\u001b[0;34m\u001b[0m\u001b[0m\n\u001b[1;32m      9\u001b[0m \u001b[0;34m\u001b[0m\u001b[0m\n",
            "\u001b[0;31mKeyboardInterrupt\u001b[0m: "
          ]
        }
      ]
    },
    {
      "cell_type": "code",
      "metadata": {
        "id": "prg_BGmjpUN0"
      },
      "source": [
        "from torchvision import datasets, transforms\r\n",
        "data_path = '/content/dlwpt-code/p1ch7'\r\n",
        "cifar10 = datasets.CIFAR10(\r\n",
        "    data_path, train=True, download=False,\r\n",
        "    transform=transforms.Compose([\r\n",
        "        transforms.ToTensor(),\r\n",
        "        transforms.Normalize((0.4915, 0.4823, 0.4468),\r\n",
        "                             (0.2470, 0.2435, 0.2616))\r\n",
        "    ]))\r\n",
        "label_map = {0: 0, 2: 1}\r\n",
        "class_names = ['airplane', 'bird']\r\n",
        "cifar2 = [(img, label_map[label])\r\n",
        "          for img, label in cifar10 \r\n",
        "          if label in [0, 2]]"
      ],
      "execution_count": null,
      "outputs": []
    },
    {
      "cell_type": "code",
      "metadata": {
        "id": "uw92KCfljZW4"
      },
      "source": [
        "import torch\r\n",
        "import torch.nn as nn\r\n",
        "import torch.optim as optim\r\n",
        "\r\n",
        "train_loader = torch.utils.data.DataLoader(cifar2, batch_size=64,\r\n",
        "                                           shuffle=True)\r\n",
        "\r\n",
        "model = nn.Sequential(\r\n",
        "            nn.Linear(3072, 512),\r\n",
        "            nn.Tanh(),\r\n",
        "            nn.Linear(512, 2),\r\n",
        "            nn.LogSoftmax(dim=1))\r\n",
        "\r\n",
        "learning_rate = 1e-2\r\n",
        "\r\n",
        "optimizer = optim.SGD(model.parameters(), lr=learning_rate)\r\n",
        "\r\n",
        "loss_fn = nn.NLLLoss()\r\n",
        "\r\n",
        "n_epochs = 100\r\n",
        "\r\n",
        "for epoch in range(n_epochs):\r\n",
        "    for imgs, labels in train_loader:\r\n",
        "        outputs = model(imgs.view(imgs.shape[0], -1))\r\n",
        "        loss = loss_fn(outputs, labels)\r\n",
        "\r\n",
        "        optimizer.zero_grad()\r\n",
        "        loss.backward()\r\n",
        "        optimizer.step()\r\n",
        "\r\n",
        "    print(\"Epoch: %d, Loss: %f\" % (epoch, float(loss)))"
      ],
      "execution_count": null,
      "outputs": []
    },
    {
      "cell_type": "code",
      "metadata": {
        "id": "H0VoTKSjCzOO"
      },
      "source": [
        ""
      ],
      "execution_count": null,
      "outputs": []
    },
    {
      "cell_type": "code",
      "metadata": {
        "id": "rzrJ6QowpHfS"
      },
      "source": [
        "cifar10_val = datasets.CIFAR10(\r\n",
        "    data_path, train=False, download=False,\r\n",
        "    transform=transforms.Compose([\r\n",
        "        transforms.ToTensor(),\r\n",
        "        transforms.Normalize((0.4915, 0.4823, 0.4468),\r\n",
        "                             (0.2470, 0.2435, 0.2616))\r\n",
        "    ]))"
      ],
      "execution_count": null,
      "outputs": []
    },
    {
      "cell_type": "code",
      "metadata": {
        "id": "mv_FdLzVm8uP"
      },
      "source": [
        "label_map = {0: 0, 2: 1}\r\n",
        "class_names = ['airplane', 'bird']\r\n",
        "cifar2 = [(img, label_map[label])\r\n",
        "          for img, label in cifar10 \r\n",
        "          if label in [0, 2]]\r\n",
        "cifar2_val = [(img, label_map[label])\r\n",
        "              for img, label in cifar10_val\r\n",
        "              if label in [0, 2]]"
      ],
      "execution_count": null,
      "outputs": []
    },
    {
      "cell_type": "code",
      "metadata": {
        "colab": {
          "base_uri": "https://localhost:8080/",
          "height": 337
        },
        "id": "m5XzZ1lpl2gS",
        "outputId": "b58ed982-17e9-4824-df05-1b2feeae1fdb"
      },
      "source": [
        "val_loader = torch.utils.data.DataLoader(cifar2_val, batch_size=64,\r\n",
        "shuffle=False)\r\n",
        "correct = 0\r\n",
        "total = 0\r\n",
        "with torch.no_grad():\r\n",
        "    for imgs, labels in val_loader:\r\n",
        "        batch_size = imgs.shape[0]\r\n",
        "        outputs = model(imgs.view(batch_size, -1))\r\n",
        "        _, predicted = torch.max(outputs, dim=1)\r\n",
        "        total += labels.shape[0]\r\n",
        "        \r\n",
        "correct += int((predicted == labels).sum())\r\n",
        "\r\n",
        "print(\"Accuracy: %f\", correct / total)\r\n"
      ],
      "execution_count": 104,
      "outputs": [
        {
          "output_type": "error",
          "ename": "TypeError",
          "evalue": "ignored",
          "traceback": [
            "\u001b[0;31m---------------------------------------------------------------------------\u001b[0m",
            "\u001b[0;31mTypeError\u001b[0m                                 Traceback (most recent call last)",
            "\u001b[0;32m<ipython-input-104-d3c0182d012c>\u001b[0m in \u001b[0;36m<module>\u001b[0;34m()\u001b[0m\n\u001b[1;32m      4\u001b[0m \u001b[0mtotal\u001b[0m \u001b[0;34m=\u001b[0m \u001b[0;36m0\u001b[0m\u001b[0;34m\u001b[0m\u001b[0;34m\u001b[0m\u001b[0m\n\u001b[1;32m      5\u001b[0m \u001b[0;32mwith\u001b[0m \u001b[0mtorch\u001b[0m\u001b[0;34m.\u001b[0m\u001b[0mno_grad\u001b[0m\u001b[0;34m(\u001b[0m\u001b[0;34m)\u001b[0m\u001b[0;34m:\u001b[0m\u001b[0;34m\u001b[0m\u001b[0;34m\u001b[0m\u001b[0m\n\u001b[0;32m----> 6\u001b[0;31m     \u001b[0;32mfor\u001b[0m \u001b[0mimgs\u001b[0m\u001b[0;34m,\u001b[0m \u001b[0mlabels\u001b[0m \u001b[0;32min\u001b[0m \u001b[0mval_loader\u001b[0m\u001b[0;34m:\u001b[0m\u001b[0;34m\u001b[0m\u001b[0;34m\u001b[0m\u001b[0m\n\u001b[0m\u001b[1;32m      7\u001b[0m         \u001b[0mbatch_size\u001b[0m \u001b[0;34m=\u001b[0m \u001b[0mimgs\u001b[0m\u001b[0;34m.\u001b[0m\u001b[0mshape\u001b[0m\u001b[0;34m[\u001b[0m\u001b[0;36m0\u001b[0m\u001b[0;34m]\u001b[0m\u001b[0;34m\u001b[0m\u001b[0;34m\u001b[0m\u001b[0m\n\u001b[1;32m      8\u001b[0m         \u001b[0moutputs\u001b[0m \u001b[0;34m=\u001b[0m \u001b[0mmodel\u001b[0m\u001b[0;34m(\u001b[0m\u001b[0mimgs\u001b[0m\u001b[0;34m.\u001b[0m\u001b[0mview\u001b[0m\u001b[0;34m(\u001b[0m\u001b[0mbatch_size\u001b[0m\u001b[0;34m,\u001b[0m \u001b[0;34m-\u001b[0m\u001b[0;36m1\u001b[0m\u001b[0;34m)\u001b[0m\u001b[0;34m)\u001b[0m\u001b[0;34m\u001b[0m\u001b[0;34m\u001b[0m\u001b[0m\n",
            "\u001b[0;32m/usr/local/lib/python3.6/dist-packages/torch/utils/data/dataloader.py\u001b[0m in \u001b[0;36m__next__\u001b[0;34m(self)\u001b[0m\n\u001b[1;32m    433\u001b[0m         \u001b[0;32mif\u001b[0m \u001b[0mself\u001b[0m\u001b[0;34m.\u001b[0m\u001b[0m_sampler_iter\u001b[0m \u001b[0;32mis\u001b[0m \u001b[0;32mNone\u001b[0m\u001b[0;34m:\u001b[0m\u001b[0;34m\u001b[0m\u001b[0;34m\u001b[0m\u001b[0m\n\u001b[1;32m    434\u001b[0m             \u001b[0mself\u001b[0m\u001b[0;34m.\u001b[0m\u001b[0m_reset\u001b[0m\u001b[0;34m(\u001b[0m\u001b[0;34m)\u001b[0m\u001b[0;34m\u001b[0m\u001b[0;34m\u001b[0m\u001b[0m\n\u001b[0;32m--> 435\u001b[0;31m         \u001b[0mdata\u001b[0m \u001b[0;34m=\u001b[0m \u001b[0mself\u001b[0m\u001b[0;34m.\u001b[0m\u001b[0m_next_data\u001b[0m\u001b[0;34m(\u001b[0m\u001b[0;34m)\u001b[0m\u001b[0;34m\u001b[0m\u001b[0;34m\u001b[0m\u001b[0m\n\u001b[0m\u001b[1;32m    436\u001b[0m         \u001b[0mself\u001b[0m\u001b[0;34m.\u001b[0m\u001b[0m_num_yielded\u001b[0m \u001b[0;34m+=\u001b[0m \u001b[0;36m1\u001b[0m\u001b[0;34m\u001b[0m\u001b[0;34m\u001b[0m\u001b[0m\n\u001b[1;32m    437\u001b[0m         \u001b[0;32mif\u001b[0m \u001b[0mself\u001b[0m\u001b[0;34m.\u001b[0m\u001b[0m_dataset_kind\u001b[0m \u001b[0;34m==\u001b[0m \u001b[0m_DatasetKind\u001b[0m\u001b[0;34m.\u001b[0m\u001b[0mIterable\u001b[0m \u001b[0;32mand\u001b[0m\u001b[0;31m \u001b[0m\u001b[0;31m\\\u001b[0m\u001b[0;34m\u001b[0m\u001b[0;34m\u001b[0m\u001b[0m\n",
            "\u001b[0;32m/usr/local/lib/python3.6/dist-packages/torch/utils/data/dataloader.py\u001b[0m in \u001b[0;36m_next_data\u001b[0;34m(self)\u001b[0m\n\u001b[1;32m    473\u001b[0m     \u001b[0;32mdef\u001b[0m \u001b[0m_next_data\u001b[0m\u001b[0;34m(\u001b[0m\u001b[0mself\u001b[0m\u001b[0;34m)\u001b[0m\u001b[0;34m:\u001b[0m\u001b[0;34m\u001b[0m\u001b[0;34m\u001b[0m\u001b[0m\n\u001b[1;32m    474\u001b[0m         \u001b[0mindex\u001b[0m \u001b[0;34m=\u001b[0m \u001b[0mself\u001b[0m\u001b[0;34m.\u001b[0m\u001b[0m_next_index\u001b[0m\u001b[0;34m(\u001b[0m\u001b[0;34m)\u001b[0m  \u001b[0;31m# may raise StopIteration\u001b[0m\u001b[0;34m\u001b[0m\u001b[0;34m\u001b[0m\u001b[0m\n\u001b[0;32m--> 475\u001b[0;31m         \u001b[0mdata\u001b[0m \u001b[0;34m=\u001b[0m \u001b[0mself\u001b[0m\u001b[0;34m.\u001b[0m\u001b[0m_dataset_fetcher\u001b[0m\u001b[0;34m.\u001b[0m\u001b[0mfetch\u001b[0m\u001b[0;34m(\u001b[0m\u001b[0mindex\u001b[0m\u001b[0;34m)\u001b[0m  \u001b[0;31m# may raise StopIteration\u001b[0m\u001b[0;34m\u001b[0m\u001b[0;34m\u001b[0m\u001b[0m\n\u001b[0m\u001b[1;32m    476\u001b[0m         \u001b[0;32mif\u001b[0m \u001b[0mself\u001b[0m\u001b[0;34m.\u001b[0m\u001b[0m_pin_memory\u001b[0m\u001b[0;34m:\u001b[0m\u001b[0;34m\u001b[0m\u001b[0;34m\u001b[0m\u001b[0m\n\u001b[1;32m    477\u001b[0m             \u001b[0mdata\u001b[0m \u001b[0;34m=\u001b[0m \u001b[0m_utils\u001b[0m\u001b[0;34m.\u001b[0m\u001b[0mpin_memory\u001b[0m\u001b[0;34m.\u001b[0m\u001b[0mpin_memory\u001b[0m\u001b[0;34m(\u001b[0m\u001b[0mdata\u001b[0m\u001b[0;34m)\u001b[0m\u001b[0;34m\u001b[0m\u001b[0;34m\u001b[0m\u001b[0m\n",
            "\u001b[0;32m/usr/local/lib/python3.6/dist-packages/torch/utils/data/_utils/fetch.py\u001b[0m in \u001b[0;36mfetch\u001b[0;34m(self, possibly_batched_index)\u001b[0m\n\u001b[1;32m     45\u001b[0m         \u001b[0;32melse\u001b[0m\u001b[0;34m:\u001b[0m\u001b[0;34m\u001b[0m\u001b[0;34m\u001b[0m\u001b[0m\n\u001b[1;32m     46\u001b[0m             \u001b[0mdata\u001b[0m \u001b[0;34m=\u001b[0m \u001b[0mself\u001b[0m\u001b[0;34m.\u001b[0m\u001b[0mdataset\u001b[0m\u001b[0;34m[\u001b[0m\u001b[0mpossibly_batched_index\u001b[0m\u001b[0;34m]\u001b[0m\u001b[0;34m\u001b[0m\u001b[0;34m\u001b[0m\u001b[0m\n\u001b[0;32m---> 47\u001b[0;31m         \u001b[0;32mreturn\u001b[0m \u001b[0mself\u001b[0m\u001b[0;34m.\u001b[0m\u001b[0mcollate_fn\u001b[0m\u001b[0;34m(\u001b[0m\u001b[0mdata\u001b[0m\u001b[0;34m)\u001b[0m\u001b[0;34m\u001b[0m\u001b[0;34m\u001b[0m\u001b[0m\n\u001b[0m",
            "\u001b[0;32m/usr/local/lib/python3.6/dist-packages/torch/utils/data/_utils/collate.py\u001b[0m in \u001b[0;36mdefault_collate\u001b[0;34m(batch)\u001b[0m\n\u001b[1;32m     81\u001b[0m             \u001b[0;32mraise\u001b[0m \u001b[0mRuntimeError\u001b[0m\u001b[0;34m(\u001b[0m\u001b[0;34m'each element in list of batch should be of equal size'\u001b[0m\u001b[0;34m)\u001b[0m\u001b[0;34m\u001b[0m\u001b[0;34m\u001b[0m\u001b[0m\n\u001b[1;32m     82\u001b[0m         \u001b[0mtransposed\u001b[0m \u001b[0;34m=\u001b[0m \u001b[0mzip\u001b[0m\u001b[0;34m(\u001b[0m\u001b[0;34m*\u001b[0m\u001b[0mbatch\u001b[0m\u001b[0;34m)\u001b[0m\u001b[0;34m\u001b[0m\u001b[0;34m\u001b[0m\u001b[0m\n\u001b[0;32m---> 83\u001b[0;31m         \u001b[0;32mreturn\u001b[0m \u001b[0;34m[\u001b[0m\u001b[0mdefault_collate\u001b[0m\u001b[0;34m(\u001b[0m\u001b[0msamples\u001b[0m\u001b[0;34m)\u001b[0m \u001b[0;32mfor\u001b[0m \u001b[0msamples\u001b[0m \u001b[0;32min\u001b[0m \u001b[0mtransposed\u001b[0m\u001b[0;34m]\u001b[0m\u001b[0;34m\u001b[0m\u001b[0;34m\u001b[0m\u001b[0m\n\u001b[0m\u001b[1;32m     84\u001b[0m \u001b[0;34m\u001b[0m\u001b[0m\n\u001b[1;32m     85\u001b[0m     \u001b[0;32mraise\u001b[0m \u001b[0mTypeError\u001b[0m\u001b[0;34m(\u001b[0m\u001b[0mdefault_collate_err_msg_format\u001b[0m\u001b[0;34m.\u001b[0m\u001b[0mformat\u001b[0m\u001b[0;34m(\u001b[0m\u001b[0melem_type\u001b[0m\u001b[0;34m)\u001b[0m\u001b[0;34m)\u001b[0m\u001b[0;34m\u001b[0m\u001b[0;34m\u001b[0m\u001b[0m\n",
            "\u001b[0;32m/usr/local/lib/python3.6/dist-packages/torch/utils/data/_utils/collate.py\u001b[0m in \u001b[0;36m<listcomp>\u001b[0;34m(.0)\u001b[0m\n\u001b[1;32m     81\u001b[0m             \u001b[0;32mraise\u001b[0m \u001b[0mRuntimeError\u001b[0m\u001b[0;34m(\u001b[0m\u001b[0;34m'each element in list of batch should be of equal size'\u001b[0m\u001b[0;34m)\u001b[0m\u001b[0;34m\u001b[0m\u001b[0;34m\u001b[0m\u001b[0m\n\u001b[1;32m     82\u001b[0m         \u001b[0mtransposed\u001b[0m \u001b[0;34m=\u001b[0m \u001b[0mzip\u001b[0m\u001b[0;34m(\u001b[0m\u001b[0;34m*\u001b[0m\u001b[0mbatch\u001b[0m\u001b[0;34m)\u001b[0m\u001b[0;34m\u001b[0m\u001b[0;34m\u001b[0m\u001b[0m\n\u001b[0;32m---> 83\u001b[0;31m         \u001b[0;32mreturn\u001b[0m \u001b[0;34m[\u001b[0m\u001b[0mdefault_collate\u001b[0m\u001b[0;34m(\u001b[0m\u001b[0msamples\u001b[0m\u001b[0;34m)\u001b[0m \u001b[0;32mfor\u001b[0m \u001b[0msamples\u001b[0m \u001b[0;32min\u001b[0m \u001b[0mtransposed\u001b[0m\u001b[0;34m]\u001b[0m\u001b[0;34m\u001b[0m\u001b[0;34m\u001b[0m\u001b[0m\n\u001b[0m\u001b[1;32m     84\u001b[0m \u001b[0;34m\u001b[0m\u001b[0m\n\u001b[1;32m     85\u001b[0m     \u001b[0;32mraise\u001b[0m \u001b[0mTypeError\u001b[0m\u001b[0;34m(\u001b[0m\u001b[0mdefault_collate_err_msg_format\u001b[0m\u001b[0;34m.\u001b[0m\u001b[0mformat\u001b[0m\u001b[0;34m(\u001b[0m\u001b[0melem_type\u001b[0m\u001b[0;34m)\u001b[0m\u001b[0;34m)\u001b[0m\u001b[0;34m\u001b[0m\u001b[0;34m\u001b[0m\u001b[0m\n",
            "\u001b[0;32m/usr/local/lib/python3.6/dist-packages/torch/utils/data/_utils/collate.py\u001b[0m in \u001b[0;36mdefault_collate\u001b[0;34m(batch)\u001b[0m\n\u001b[1;32m     83\u001b[0m         \u001b[0;32mreturn\u001b[0m \u001b[0;34m[\u001b[0m\u001b[0mdefault_collate\u001b[0m\u001b[0;34m(\u001b[0m\u001b[0msamples\u001b[0m\u001b[0;34m)\u001b[0m \u001b[0;32mfor\u001b[0m \u001b[0msamples\u001b[0m \u001b[0;32min\u001b[0m \u001b[0mtransposed\u001b[0m\u001b[0;34m]\u001b[0m\u001b[0;34m\u001b[0m\u001b[0;34m\u001b[0m\u001b[0m\n\u001b[1;32m     84\u001b[0m \u001b[0;34m\u001b[0m\u001b[0m\n\u001b[0;32m---> 85\u001b[0;31m     \u001b[0;32mraise\u001b[0m \u001b[0mTypeError\u001b[0m\u001b[0;34m(\u001b[0m\u001b[0mdefault_collate_err_msg_format\u001b[0m\u001b[0;34m.\u001b[0m\u001b[0mformat\u001b[0m\u001b[0;34m(\u001b[0m\u001b[0melem_type\u001b[0m\u001b[0;34m)\u001b[0m\u001b[0;34m)\u001b[0m\u001b[0;34m\u001b[0m\u001b[0;34m\u001b[0m\u001b[0m\n\u001b[0m",
            "\u001b[0;31mTypeError\u001b[0m: default_collate: batch must contain tensors, numpy arrays, numbers, dicts or lists; found <class 'PIL.Image.Image'>"
          ]
        }
      ]
    },
    {
      "cell_type": "code",
      "metadata": {
        "id": "_qrlCTMZsgZY"
      },
      "source": [
        "connected_model = nn.Sequential(\r\n",
        "nn.Linear(3072, 1024),\r\n",
        "nn.Tanh(),\r\n",
        "nn.Linear(1024, 512),\r\n",
        "nn.Tanh(),\r\n",
        "nn.Linear(512, 128),\r\n",
        "nn.Tanh(),\r\n",
        "nn.Linear(128, 2))\r\n",
        "loss_fn = nn.CrossEntropyLoss()"
      ],
      "execution_count": null,
      "outputs": []
    },
    {
      "cell_type": "code",
      "metadata": {
        "id": "wcgc_uf4C1x-"
      },
      "source": [
        "numel_list = [p.numel()\r\n",
        "        for p in connected_model.parameters()\r\n",
        "        if p.requires_grad == True]\r\n",
        "sum(numel_list), numel_list"
      ],
      "execution_count": null,
      "outputs": []
    },
    {
      "cell_type": "code",
      "metadata": {
        "id": "nOiv_e5LD348"
      },
      "source": [
        "numel_list = [p.numel() for p in connected_model.parameters()]\r\n",
        "sum(numel_list), numel_list"
      ],
      "execution_count": null,
      "outputs": []
    },
    {
      "cell_type": "code",
      "metadata": {
        "id": "LM7yao8PL3v3"
      },
      "source": [
        "linear = nn.Linear(3072, 1024)\r\n",
        "linear.weight.shape, linear.bias.shape"
      ],
      "execution_count": null,
      "outputs": []
    },
    {
      "cell_type": "markdown",
      "metadata": {
        "id": "j-ZRVDT1wnX3"
      },
      "source": [
        "7.4 Exercises<br>\r\n",
        "1 Use torchvision to implement random cropping of the data.<br>\r\n",
        "a How are the resulting images different from the uncropped <br>originals?<br>\r\n",
        "If it is cropped, it is smaller and cropped.<br>\r\n",
        "It will not be the same.<br>\r\n",
        "The training will be more generalized.<br>\r\n",
        "2 Switch loss functions (perhaps MSE).<br>\r\n",
        "MSE doesn't work for batch here.\r\n",
        "\r\n",
        "\r\n",
        "The provided shapes are for nn.CrossEntropyLoss and nn.MSELoss expects the tensors to have the same shape or broadcastable as explained in the first post.\r\n",
        "If you want to use nn.MSELoss for a classification use case, you could probably create a one-hot encoded tensor via:\r\n",
        "\r\n",
        "label_batch = F.one_hot(label_batch, num_classes=5)\r\n",
        "https://discuss.pytorch.org/t/only-crossentropyloss-seems-to-work-mse-and-other-fail/76941/9\r\n",
        "\r\n",
        "3 Yes.It will be worst for validation set. In below, we can see it is slightly worst than the bigger model.\r\n",
        "\r\n"
      ]
    },
    {
      "cell_type": "code",
      "metadata": {
        "id": "47fxyuYB2ODT"
      },
      "source": [
        "import torchvision\r\n",
        "t2 = torchvision.transforms.RandomCrop(7, padding=None, pad_if_needed=False, fill=0, padding_mode='constant')\r\n",
        "t1=transforms.Compose(\r\n",
        "            [transforms.Resize(256),\r\n",
        "             transforms.RandomCrop(224),\r\n",
        "            #  transforms.RandomHorizontalFlip(),\r\n",
        "             transforms.ToTensor(),\r\n",
        "    # transforms.Normalize((0.4915, 0.4823, 0.4468),        #mean\r\n",
        "    #                       (0.2470, 0.2435, 0.2616)),      #std\r\n",
        "             ])"
      ],
      "execution_count": 87,
      "outputs": []
    },
    {
      "cell_type": "code",
      "metadata": {
        "id": "KXsnhJsqw3MS"
      },
      "source": [
        "tensor_cifar10_crop = datasets.CIFAR10(data_path, train=True, download=False,\r\n",
        "                          transform=t1)\r\n"
      ],
      "execution_count": 88,
      "outputs": []
    },
    {
      "cell_type": "code",
      "metadata": {
        "colab": {
          "base_uri": "https://localhost:8080/"
        },
        "id": "E4oK5ZWq5K9P",
        "outputId": "236c2348-4601-4cb4-fc85-54bbe132328d"
      },
      "source": [
        "img_t, label = tensor_cifar10_crop[99]\r\n",
        "img_t.shape, type(img_t), img_t.min(), img_t.max()"
      ],
      "execution_count": 101,
      "outputs": [
        {
          "output_type": "execute_result",
          "data": {
            "text/plain": [
              "(torch.Size([3, 224, 224]), torch.Tensor, tensor(0.), tensor(1.))"
            ]
          },
          "metadata": {
            "tags": []
          },
          "execution_count": 101
        }
      ]
    },
    {
      "cell_type": "code",
      "metadata": {
        "colab": {
          "base_uri": "https://localhost:8080/",
          "height": 269
        },
        "id": "gjMHRzEp6H9f",
        "outputId": "ea08ca62-aaa3-453c-9071-3f6bc122d36b"
      },
      "source": [
        "plt.imshow(img_t.permute(1, 2, 0))\r\n",
        "plt.show()"
      ],
      "execution_count": 80,
      "outputs": [
        {
          "output_type": "display_data",
          "data": {
            "image/png": "[encoded data removed]",
            "text/plain": [
              "<Figure size 432x288 with 1 Axes>"
            ]
          },
          "metadata": {
            "tags": [],
            "needs_background": "light"
          }
        }
      ]
    },
    {
      "cell_type": "code",
      "metadata": {
        "colab": {
          "base_uri": "https://localhost:8080/",
          "height": 269
        },
        "id": "Y-ro4lj2_vv-",
        "outputId": "d0698ac4-841f-4145-c54e-ab5f26af432c"
      },
      "source": [
        "plt.imshow(img_t.permute(1, 2, 0))\r\n",
        "plt.show()"
      ],
      "execution_count": 100,
      "outputs": [
        {
          "output_type": "display_data",
          "data": {
            "image/png": "[encoded data removed]",
            "text/plain": [
              "<Figure size 432x288 with 1 Axes>"
            ]
          },
          "metadata": {
            "tags": [],
            "needs_background": "light"
          }
        }
      ]
    },
    {
      "cell_type": "code",
      "metadata": {
        "colab": {
          "base_uri": "https://localhost:8080/",
          "height": 269
        },
        "id": "dQqpIDKu6BYb",
        "outputId": "6f876886-cd5d-4198-bbd6-d16f39881e36"
      },
      "source": [
        "plt.imshow(img_t.permute(1, 2, 0))\r\n",
        "plt.show()"
      ],
      "execution_count": 102,
      "outputs": [
        {
          "output_type": "display_data",
          "data": {
            "image/png": "[encoded data removed]",
            "text/plain": [
              "<Figure size 432x288 with 1 Axes>"
            ]
          },
          "metadata": {
            "tags": [],
            "needs_background": "light"
          }
        }
      ]
    },
    {
      "cell_type": "code",
      "metadata": {
        "id": "O2DNkqX5G-Dm"
      },
      "source": [
        ""
      ],
      "execution_count": null,
      "outputs": []
    },
    {
      "cell_type": "code",
      "metadata": {
        "colab": {
          "base_uri": "https://localhost:8080/"
        },
        "id": "p24hNcXgGa3l",
        "outputId": "696e3347-7a1f-44b6-cbe1-5888398c8d35"
      },
      "source": [
        "model = nn.Sequential(\r\n",
        "nn.Linear(3072, 1024),\r\n",
        "nn.Tanh(),\r\n",
        "nn.Linear(1024, 512),\r\n",
        "nn.Tanh(),\r\n",
        "nn.Linear(512, 128),\r\n",
        "nn.Tanh(),\r\n",
        "nn.Linear(128, 2))\r\n",
        "\r\n",
        "\r\n",
        "import torch\r\n",
        "import torch.nn as nn\r\n",
        "import torch.optim as optim\r\n",
        "\r\n",
        "train_loader = torch.utils.data.DataLoader(cifar2, batch_size=64,\r\n",
        "                                           shuffle=True)\r\n",
        "\r\n",
        "# model = nn.Sequential(\r\n",
        "#             nn.Linear(3072, 512),\r\n",
        "#             nn.Tanh(),\r\n",
        "#             nn.Linear(512, 2),\r\n",
        "#             nn.LogSoftmax(dim=1))\r\n",
        "\r\n",
        "learning_rate = 1e-2\r\n",
        "\r\n",
        "optimizer = optim.SGD(model.parameters(), lr=learning_rate)\r\n",
        "\r\n",
        "loss_fn = nn.CrossEntropyLoss()\r\n",
        "\r\n",
        "n_epochs = 100\r\n",
        "\r\n",
        "for epoch in range(n_epochs):\r\n",
        "    for imgs, labels in train_loader:\r\n",
        "        outputs = model(imgs.view(imgs.shape[0], -1))\r\n",
        "        loss = loss_fn(outputs, labels)\r\n",
        "\r\n",
        "        optimizer.zero_grad()\r\n",
        "        loss.backward()\r\n",
        "        optimizer.step()\r\n",
        "\r\n",
        "    print(\"Epoch: %d, Loss: %f\" % (epoch, float(loss)))"
      ],
      "execution_count": 108,
      "outputs": [
        {
          "output_type": "stream",
          "text": [
            "Epoch: 0, Loss: 0.451259\n",
            "Epoch: 1, Loss: 0.375885\n",
            "Epoch: 2, Loss: 0.474497\n",
            "Epoch: 3, Loss: 0.278292\n",
            "Epoch: 4, Loss: 0.636971\n",
            "Epoch: 5, Loss: 0.334159\n",
            "Epoch: 6, Loss: 0.333039\n",
            "Epoch: 7, Loss: 0.443919\n",
            "Epoch: 8, Loss: 0.377406\n",
            "Epoch: 9, Loss: 0.613095\n",
            "Epoch: 10, Loss: 0.283816\n",
            "Epoch: 11, Loss: 0.629104\n",
            "Epoch: 12, Loss: 0.441781\n",
            "Epoch: 13, Loss: 0.469058\n",
            "Epoch: 14, Loss: 0.458037\n",
            "Epoch: 15, Loss: 0.370937\n",
            "Epoch: 16, Loss: 0.413946\n",
            "Epoch: 17, Loss: 0.582408\n",
            "Epoch: 18, Loss: 0.221009\n",
            "Epoch: 19, Loss: 0.568284\n",
            "Epoch: 20, Loss: 0.409977\n",
            "Epoch: 21, Loss: 0.306451\n",
            "Epoch: 22, Loss: 0.173832\n",
            "Epoch: 23, Loss: 0.182902\n",
            "Epoch: 24, Loss: 0.510955\n",
            "Epoch: 25, Loss: 0.320430\n",
            "Epoch: 26, Loss: 0.366148\n",
            "Epoch: 27, Loss: 0.310135\n",
            "Epoch: 28, Loss: 0.602862\n",
            "Epoch: 29, Loss: 0.451990\n",
            "Epoch: 30, Loss: 0.156399\n",
            "Epoch: 31, Loss: 0.173652\n",
            "Epoch: 32, Loss: 0.110699\n",
            "Epoch: 33, Loss: 0.351679\n",
            "Epoch: 34, Loss: 0.095026\n",
            "Epoch: 35, Loss: 0.073476\n",
            "Epoch: 36, Loss: 0.096424\n",
            "Epoch: 37, Loss: 0.159024\n",
            "Epoch: 38, Loss: 0.095295\n",
            "Epoch: 39, Loss: 0.530261\n",
            "Epoch: 40, Loss: 0.207822\n",
            "Epoch: 41, Loss: 0.393825\n",
            "Epoch: 42, Loss: 0.048109\n",
            "Epoch: 43, Loss: 0.075149\n",
            "Epoch: 44, Loss: 0.166147\n",
            "Epoch: 45, Loss: 0.022213\n",
            "Epoch: 46, Loss: 0.474270\n",
            "Epoch: 47, Loss: 0.033625\n",
            "Epoch: 48, Loss: 0.067766\n",
            "Epoch: 49, Loss: 0.044486\n",
            "Epoch: 50, Loss: 0.061557\n",
            "Epoch: 51, Loss: 0.141347\n",
            "Epoch: 52, Loss: 0.078191\n",
            "Epoch: 53, Loss: 0.007863\n",
            "Epoch: 54, Loss: 0.031349\n",
            "Epoch: 55, Loss: 0.010201\n",
            "Epoch: 56, Loss: 0.008680\n",
            "Epoch: 57, Loss: 0.050254\n",
            "Epoch: 58, Loss: 0.002270\n",
            "Epoch: 59, Loss: 0.019251\n",
            "Epoch: 60, Loss: 0.005970\n",
            "Epoch: 61, Loss: 0.031039\n",
            "Epoch: 62, Loss: 0.002713\n",
            "Epoch: 63, Loss: 0.057783\n",
            "Epoch: 64, Loss: 0.011801\n",
            "Epoch: 65, Loss: 0.005382\n",
            "Epoch: 66, Loss: 0.017455\n",
            "Epoch: 67, Loss: 0.005677\n",
            "Epoch: 68, Loss: 0.012213\n",
            "Epoch: 69, Loss: 0.001696\n",
            "Epoch: 70, Loss: 0.014301\n",
            "Epoch: 71, Loss: 0.005922\n",
            "Epoch: 72, Loss: 0.007602\n",
            "Epoch: 73, Loss: 0.055522\n",
            "Epoch: 74, Loss: 0.007873\n",
            "Epoch: 75, Loss: 0.004327\n",
            "Epoch: 76, Loss: 0.007249\n",
            "Epoch: 77, Loss: 0.005761\n",
            "Epoch: 78, Loss: 0.004807\n",
            "Epoch: 79, Loss: 0.001964\n",
            "Epoch: 80, Loss: 0.004698\n",
            "Epoch: 81, Loss: 0.006428\n",
            "Epoch: 82, Loss: 0.043708\n",
            "Epoch: 83, Loss: 0.005157\n",
            "Epoch: 84, Loss: 0.000222\n",
            "Epoch: 85, Loss: 0.001079\n",
            "Epoch: 86, Loss: 0.018842\n",
            "Epoch: 87, Loss: 0.000728\n",
            "Epoch: 88, Loss: 0.003413\n",
            "Epoch: 89, Loss: 0.000154\n",
            "Epoch: 90, Loss: 0.002517\n",
            "Epoch: 91, Loss: 0.000252\n",
            "Epoch: 92, Loss: 0.001910\n",
            "Epoch: 93, Loss: 0.005728\n",
            "Epoch: 94, Loss: 0.003016\n",
            "Epoch: 95, Loss: 0.000491\n",
            "Epoch: 96, Loss: 0.004098\n",
            "Epoch: 97, Loss: 0.003062\n",
            "Epoch: 98, Loss: 0.003087\n",
            "Epoch: 99, Loss: 0.001517\n"
          ],
          "name": "stdout"
        }
      ]
    },
    {
      "cell_type": "code",
      "metadata": {
        "colab": {
          "base_uri": "https://localhost:8080/"
        },
        "id": "khRVrGjMHOf0",
        "outputId": "b40b15a9-f6f0-49e8-c238-c582095b47f7"
      },
      "source": [
        "train_loader = torch.utils.data.DataLoader(cifar2, batch_size=64,\r\n",
        "                                           shuffle=False)\r\n",
        "\r\n",
        "correct = 0\r\n",
        "total = 0\r\n",
        "\r\n",
        "with torch.no_grad():\r\n",
        "    for imgs, labels in train_loader:\r\n",
        "        outputs = model(imgs.view(imgs.shape[0], -1))\r\n",
        "        _, predicted = torch.max(outputs, dim=1)\r\n",
        "        total += labels.shape[0]\r\n",
        "        correct += int((predicted == labels).sum())\r\n",
        "        \r\n",
        "print(\"Accuracy: %f\" % (correct / total))"
      ],
      "execution_count": 109,
      "outputs": [
        {
          "output_type": "stream",
          "text": [
            "Accuracy: 0.999900\n"
          ],
          "name": "stdout"
        }
      ]
    },
    {
      "cell_type": "code",
      "metadata": {
        "id": "Hk0dxaa0Kp8h"
      },
      "source": [
        "\r\n",
        "cifar10_val = datasets.CIFAR10(\r\n",
        "    data_path, train=False, download=False,\r\n",
        "    transform=transforms.Compose([\r\n",
        "        transforms.ToTensor(),\r\n",
        "        transforms.Normalize((0.4915, 0.4823, 0.4468),\r\n",
        "                             (0.2470, 0.2435, 0.2616))\r\n",
        "    ]))"
      ],
      "execution_count": 121,
      "outputs": []
    },
    {
      "cell_type": "code",
      "metadata": {
        "id": "JdhgWtjpKh_Y"
      },
      "source": [
        "label_map = {0: 0, 2: 1}\r\n",
        "class_names = ['airplane', 'bird']\r\n",
        "cifar2 = [(img, label_map[label])\r\n",
        "          for img, label in cifar10 \r\n",
        "          if label in [0, 2]]\r\n",
        "cifar2_val = [(img, label_map[label])\r\n",
        "              for img, label in cifar10_val\r\n",
        "              if label in [0, 2]]"
      ],
      "execution_count": 128,
      "outputs": []
    },
    {
      "cell_type": "code",
      "metadata": {
        "colab": {
          "base_uri": "https://localhost:8080/"
        },
        "id": "bk1LAKB1HQ2O",
        "outputId": "1d364d22-1dc1-49bc-df05-b2e249c8c100"
      },
      "source": [
        "t1 = transforms.ToTensor()\r\n",
        "val_loader = torch.utils.data.DataLoader(cifar2_val, batch_size=64,\r\n",
        "                                         shuffle=False)\r\n",
        "\r\n",
        "correct = 0\r\n",
        "total = 0\r\n",
        "\r\n",
        "with torch.no_grad():\r\n",
        "    for imgs, labels in val_loader:\r\n",
        "        outputs = model(imgs.view(imgs.shape[0], -1))\r\n",
        "        _, predicted = torch.max(outputs, dim=1)\r\n",
        "        total += labels.shape[0]\r\n",
        "        correct += int((predicted == labels).sum())\r\n",
        "        \r\n",
        "print(\"Accuracy: %f\" % (correct / total))"
      ],
      "execution_count": 123,
      "outputs": [
        {
          "output_type": "stream",
          "text": [
            "Accuracy: 0.819000\n"
          ],
          "name": "stdout"
        }
      ]
    },
    {
      "cell_type": "code",
      "metadata": {
        "id": "EiFjpVGfLQKJ"
      },
      "source": [
        "\r\n",
        "from torchvision import datasets, transforms\r\n",
        "data_path = '/content/dlwpt-code/p1ch7'\r\n",
        "cifar10 = datasets.CIFAR10(\r\n",
        "    data_path, train=True, download=False,\r\n",
        "    transform=transforms.Compose([\r\n",
        "        transforms.ToTensor(),\r\n",
        "        transforms.Normalize((0.4915, 0.4823, 0.4468),\r\n",
        "                             (0.2470, 0.2435, 0.2616))\r\n",
        "    ]))"
      ],
      "execution_count": 126,
      "outputs": []
    },
    {
      "cell_type": "code",
      "metadata": {
        "colab": {
          "base_uri": "https://localhost:8080/",
          "height": 162
        },
        "id": "HkcmF754LpXx",
        "outputId": "a87bd8f8-1f76-41bb-cb14-7b0443de7887"
      },
      "source": [
        "next(train_loader)"
      ],
      "execution_count": 134,
      "outputs": [
        {
          "output_type": "error",
          "ename": "TypeError",
          "evalue": "ignored",
          "traceback": [
            "\u001b[0;31m---------------------------------------------------------------------------\u001b[0m",
            "\u001b[0;31mTypeError\u001b[0m                                 Traceback (most recent call last)",
            "\u001b[0;32m<ipython-input-134-47f6a1d00e70>\u001b[0m in \u001b[0;36m<module>\u001b[0;34m()\u001b[0m\n\u001b[0;32m----> 1\u001b[0;31m \u001b[0mnext\u001b[0m\u001b[0;34m(\u001b[0m\u001b[0mtrain_loader\u001b[0m\u001b[0;34m)\u001b[0m\u001b[0;34m\u001b[0m\u001b[0;34m\u001b[0m\u001b[0m\n\u001b[0m",
            "\u001b[0;31mTypeError\u001b[0m: 'DataLoader' object is not an iterator"
          ]
        }
      ]
    },
    {
      "cell_type": "code",
      "metadata": {
        "colab": {
          "base_uri": "https://localhost:8080/"
        },
        "id": "Bl4UNW_8FctF",
        "outputId": "ba03c406-8c77-4597-fec2-b0e13afa00ee"
      },
      "source": [
        "model = nn.Sequential(\r\n",
        "nn.Linear(3072, 1024),\r\n",
        "nn.Tanh(),\r\n",
        "nn.Linear(1024, 2))\r\n",
        "\r\n",
        "\r\n",
        "import torch\r\n",
        "import torch.nn as nn\r\n",
        "import torch.optim as optim\r\n",
        "\r\n",
        "train_loader = torch.utils.data.DataLoader(cifar2, batch_size=64,\r\n",
        "                                           shuffle=True)\r\n",
        "\r\n",
        "# model = nn.Sequential(\r\n",
        "#             nn.Linear(3072, 512),\r\n",
        "#             nn.Tanh(),\r\n",
        "#             nn.Linear(512, 2),\r\n",
        "#             nn.LogSoftmax(dim=1))\r\n",
        "\r\n",
        "learning_rate = 1e-2\r\n",
        "\r\n",
        "optimizer = optim.SGD(model.parameters(), lr=learning_rate)\r\n",
        "\r\n",
        "loss_fn = nn.CrossEntropyLoss()\r\n",
        "\r\n",
        "n_epochs = 100\r\n",
        "\r\n",
        "for epoch in range(n_epochs):\r\n",
        "    for imgs, labels in train_loader:\r\n",
        "        outputs = model(imgs.view(imgs.shape[0], -1))\r\n",
        "        loss = loss_fn(outputs, labels)\r\n",
        "\r\n",
        "        optimizer.zero_grad()\r\n",
        "        loss.backward()\r\n",
        "        optimizer.step()\r\n",
        "\r\n",
        "    print(\"Epoch: %d, Loss: %f\" % (epoch, float(loss)))"
      ],
      "execution_count": 137,
      "outputs": [
        {
          "output_type": "stream",
          "text": [
            "Epoch: 0, Loss: 0.508866\n",
            "Epoch: 1, Loss: 0.435767\n",
            "Epoch: 2, Loss: 0.399114\n",
            "Epoch: 3, Loss: 0.504698\n",
            "Epoch: 4, Loss: 0.281903\n",
            "Epoch: 5, Loss: 0.528629\n",
            "Epoch: 6, Loss: 0.344176\n",
            "Epoch: 7, Loss: 0.337443\n",
            "Epoch: 8, Loss: 0.472323\n",
            "Epoch: 9, Loss: 0.346204\n",
            "Epoch: 10, Loss: 0.201039\n",
            "Epoch: 11, Loss: 0.429277\n",
            "Epoch: 12, Loss: 0.542250\n",
            "Epoch: 13, Loss: 0.227393\n",
            "Epoch: 14, Loss: 0.251673\n",
            "Epoch: 15, Loss: 0.270191\n",
            "Epoch: 16, Loss: 0.289180\n",
            "Epoch: 17, Loss: 0.222507\n",
            "Epoch: 18, Loss: 0.306741\n",
            "Epoch: 19, Loss: 0.418327\n",
            "Epoch: 20, Loss: 0.340546\n",
            "Epoch: 21, Loss: 0.267292\n",
            "Epoch: 22, Loss: 0.256979\n",
            "Epoch: 23, Loss: 0.474911\n",
            "Epoch: 24, Loss: 0.189282\n",
            "Epoch: 25, Loss: 0.466949\n",
            "Epoch: 26, Loss: 0.171352\n",
            "Epoch: 27, Loss: 0.154374\n",
            "Epoch: 28, Loss: 0.242228\n",
            "Epoch: 29, Loss: 0.137963\n",
            "Epoch: 30, Loss: 0.097903\n",
            "Epoch: 31, Loss: 0.158869\n",
            "Epoch: 32, Loss: 0.295100\n",
            "Epoch: 33, Loss: 0.118574\n",
            "Epoch: 34, Loss: 0.332272\n",
            "Epoch: 35, Loss: 0.224092\n",
            "Epoch: 36, Loss: 0.159103\n",
            "Epoch: 37, Loss: 0.111296\n",
            "Epoch: 38, Loss: 0.155892\n",
            "Epoch: 39, Loss: 0.131806\n",
            "Epoch: 40, Loss: 0.054448\n",
            "Epoch: 41, Loss: 0.180791\n",
            "Epoch: 42, Loss: 0.107850\n",
            "Epoch: 43, Loss: 0.101123\n",
            "Epoch: 44, Loss: 0.052475\n",
            "Epoch: 45, Loss: 0.173542\n",
            "Epoch: 46, Loss: 0.088922\n",
            "Epoch: 47, Loss: 0.070316\n",
            "Epoch: 48, Loss: 0.216592\n",
            "Epoch: 49, Loss: 0.046999\n",
            "Epoch: 50, Loss: 0.086030\n",
            "Epoch: 51, Loss: 0.028123\n",
            "Epoch: 52, Loss: 0.275826\n",
            "Epoch: 53, Loss: 0.120152\n",
            "Epoch: 54, Loss: 0.051944\n",
            "Epoch: 55, Loss: 0.028612\n",
            "Epoch: 56, Loss: 0.089968\n",
            "Epoch: 57, Loss: 0.075390\n",
            "Epoch: 58, Loss: 0.036828\n",
            "Epoch: 59, Loss: 0.023917\n",
            "Epoch: 60, Loss: 0.020825\n",
            "Epoch: 61, Loss: 0.107747\n",
            "Epoch: 62, Loss: 0.066098\n",
            "Epoch: 63, Loss: 0.024272\n",
            "Epoch: 64, Loss: 0.063373\n",
            "Epoch: 65, Loss: 0.033834\n",
            "Epoch: 66, Loss: 0.050009\n",
            "Epoch: 67, Loss: 0.041803\n",
            "Epoch: 68, Loss: 0.040870\n",
            "Epoch: 69, Loss: 0.028060\n",
            "Epoch: 70, Loss: 0.073872\n",
            "Epoch: 71, Loss: 0.035732\n",
            "Epoch: 72, Loss: 0.034958\n",
            "Epoch: 73, Loss: 0.037413\n",
            "Epoch: 74, Loss: 0.033113\n",
            "Epoch: 75, Loss: 0.020895\n",
            "Epoch: 76, Loss: 0.029053\n",
            "Epoch: 77, Loss: 0.013950\n",
            "Epoch: 78, Loss: 0.028641\n",
            "Epoch: 79, Loss: 0.010719\n",
            "Epoch: 80, Loss: 0.011791\n",
            "Epoch: 81, Loss: 0.050832\n",
            "Epoch: 82, Loss: 0.017640\n",
            "Epoch: 83, Loss: 0.019779\n",
            "Epoch: 84, Loss: 0.025107\n",
            "Epoch: 85, Loss: 0.040105\n",
            "Epoch: 86, Loss: 0.010347\n",
            "Epoch: 87, Loss: 0.009741\n",
            "Epoch: 88, Loss: 0.018659\n",
            "Epoch: 89, Loss: 0.030316\n",
            "Epoch: 90, Loss: 0.018173\n",
            "Epoch: 91, Loss: 0.039889\n",
            "Epoch: 92, Loss: 0.004917\n",
            "Epoch: 93, Loss: 0.005870\n",
            "Epoch: 94, Loss: 0.021687\n",
            "Epoch: 95, Loss: 0.007782\n",
            "Epoch: 96, Loss: 0.009095\n",
            "Epoch: 97, Loss: 0.028224\n",
            "Epoch: 98, Loss: 0.011113\n",
            "Epoch: 99, Loss: 0.011352\n"
          ],
          "name": "stdout"
        }
      ]
    },
    {
      "cell_type": "code",
      "metadata": {
        "colab": {
          "base_uri": "https://localhost:8080/"
        },
        "id": "uB83GHjlNjXu",
        "outputId": "ce7b1c50-0a5e-4723-9b1c-dfdee7ceeec0"
      },
      "source": [
        "train_loader = torch.utils.data.DataLoader(cifar2, batch_size=64,\r\n",
        "                                           shuffle=False)\r\n",
        "\r\n",
        "correct = 0\r\n",
        "total = 0\r\n",
        "\r\n",
        "with torch.no_grad():\r\n",
        "    for imgs, labels in train_loader:\r\n",
        "        outputs = model(imgs.view(imgs.shape[0], -1))\r\n",
        "        _, predicted = torch.max(outputs, dim=1)\r\n",
        "        total += labels.shape[0]\r\n",
        "        correct += int((predicted == labels).sum())\r\n",
        "        \r\n",
        "print(\"Accuracy: %f\" % (correct / total))"
      ],
      "execution_count": 138,
      "outputs": [
        {
          "output_type": "stream",
          "text": [
            "Accuracy: 0.999300\n"
          ],
          "name": "stdout"
        }
      ]
    },
    {
      "cell_type": "code",
      "metadata": {
        "colab": {
          "base_uri": "https://localhost:8080/"
        },
        "id": "sNE5reomF9iP",
        "outputId": "fc6013c7-342d-41d2-e454-613d607ba331"
      },
      "source": [
        "val_loader = torch.utils.data.DataLoader(cifar2_val, batch_size=64,\r\n",
        "                                         shuffle=False)\r\n",
        "\r\n",
        "correct = 0\r\n",
        "total = 0\r\n",
        "\r\n",
        "with torch.no_grad():\r\n",
        "    for imgs, labels in val_loader:\r\n",
        "        outputs = model(imgs.view(imgs.shape[0], -1))\r\n",
        "        _, predicted = torch.max(outputs, dim=1)\r\n",
        "        total += labels.shape[0]\r\n",
        "        correct += int((predicted == labels).sum())\r\n",
        "        \r\n",
        "print(\"Accuracy: %f\" % (correct / total))"
      ],
      "execution_count": 139,
      "outputs": [
        {
          "output_type": "stream",
          "text": [
            "Accuracy: 0.817000\n"
          ],
          "name": "stdout"
        }
      ]
    },
    {
      "cell_type": "markdown",
      "metadata": {
        "id": "9doKgqIn5IhV"
      },
      "source": [
        ""
      ]
    }
  ]
}