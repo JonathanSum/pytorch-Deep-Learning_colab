{
  "nbformat": 4,
  "nbformat_minor": 0,
  "metadata": {
    "celltoolbar": "Tags",
    "kernelspec": {
      "display_name": "Python 3",
      "language": "python",
      "name": "python3"
    },
    "language_info": {
      "codemirror_mode": {
        "name": "ipython",
        "version": 3
      },
      "file_extension": ".py",
      "mimetype": "text/x-python",
      "name": "python",
      "nbconvert_exporter": "python",
      "pygments_lexer": "ipython3",
      "version": "3.7.6"
    },
    "colab": {
      "name": "Ch8 1_convolution.ipynb",
      "provenance": [],
      "collapsed_sections": [],
      "machine_shape": "hm",
      "include_colab_link": true
    },
    "accelerator": "GPU",
    "widgets": {
      "application/vnd.jupyter.widget-state+json": {
        "ff26aa455ec54f88a08e5adc882e95ba": {
          "model_module": "@jupyter-widgets/controls",
          "model_name": "HBoxModel",
          "state": {
            "_view_name": "HBoxView",
            "_dom_classes": [],
            "_model_name": "HBoxModel",
            "_view_module": "@jupyter-widgets/controls",
            "_model_module_version": "1.5.0",
            "_view_count": null,
            "_view_module_version": "1.5.0",
            "box_style": "",
            "layout": "IPY_MODEL_dd865e90db644ff6b10041cd48b9f6d7",
            "_model_module": "@jupyter-widgets/controls",
            "children": [
              "IPY_MODEL_cc35256241fe4cf0b5a67f42d78f4a07",
              "IPY_MODEL_2fdf6610d9fb4030a7cef9763151ff73"
            ]
          }
        },
        "dd865e90db644ff6b10041cd48b9f6d7": {
          "model_module": "@jupyter-widgets/base",
          "model_name": "LayoutModel",
          "state": {
            "_view_name": "LayoutView",
            "grid_template_rows": null,
            "right": null,
            "justify_content": null,
            "_view_module": "@jupyter-widgets/base",
            "overflow": null,
            "_model_module_version": "1.2.0",
            "_view_count": null,
            "flex_flow": null,
            "width": null,
            "min_width": null,
            "border": null,
            "align_items": null,
            "bottom": null,
            "_model_module": "@jupyter-widgets/base",
            "top": null,
            "grid_column": null,
            "overflow_y": null,
            "overflow_x": null,
            "grid_auto_flow": null,
            "grid_area": null,
            "grid_template_columns": null,
            "flex": null,
            "_model_name": "LayoutModel",
            "justify_items": null,
            "grid_row": null,
            "max_height": null,
            "align_content": null,
            "visibility": null,
            "align_self": null,
            "height": null,
            "min_height": null,
            "padding": null,
            "grid_auto_rows": null,
            "grid_gap": null,
            "max_width": null,
            "order": null,
            "_view_module_version": "1.2.0",
            "grid_template_areas": null,
            "object_position": null,
            "object_fit": null,
            "grid_auto_columns": null,
            "margin": null,
            "display": null,
            "left": null
          }
        },
        "cc35256241fe4cf0b5a67f42d78f4a07": {
          "model_module": "@jupyter-widgets/controls",
          "model_name": "FloatProgressModel",
          "state": {
            "_view_name": "ProgressView",
            "style": "IPY_MODEL_e037b4e93c7d4c3fadb8380e5d5d76d0",
            "_dom_classes": [],
            "description": "",
            "_model_name": "FloatProgressModel",
            "bar_style": "info",
            "max": 1,
            "_view_module": "@jupyter-widgets/controls",
            "_model_module_version": "1.5.0",
            "value": 1,
            "_view_count": null,
            "_view_module_version": "1.5.0",
            "orientation": "horizontal",
            "min": 0,
            "description_tooltip": null,
            "_model_module": "@jupyter-widgets/controls",
            "layout": "IPY_MODEL_b4de4edfaf6e4e44ac4c9bbbcc05fcfc"
          }
        },
        "2fdf6610d9fb4030a7cef9763151ff73": {
          "model_module": "@jupyter-widgets/controls",
          "model_name": "HTMLModel",
          "state": {
            "_view_name": "HTMLView",
            "style": "IPY_MODEL_f235cf8aa9194a9f869684a6b092d679",
            "_dom_classes": [],
            "description": "",
            "_model_name": "HTMLModel",
            "placeholder": "​",
            "_view_module": "@jupyter-widgets/controls",
            "_model_module_version": "1.5.0",
            "value": " 170500096/? [00:20&lt;00:00, 32676052.99it/s]",
            "_view_count": null,
            "_view_module_version": "1.5.0",
            "description_tooltip": null,
            "_model_module": "@jupyter-widgets/controls",
            "layout": "IPY_MODEL_2bef75efb42549f5bac4a6bee6e1ac71"
          }
        },
        "e037b4e93c7d4c3fadb8380e5d5d76d0": {
          "model_module": "@jupyter-widgets/controls",
          "model_name": "ProgressStyleModel",
          "state": {
            "_view_name": "StyleView",
            "_model_name": "ProgressStyleModel",
            "description_width": "initial",
            "_view_module": "@jupyter-widgets/base",
            "_model_module_version": "1.5.0",
            "_view_count": null,
            "_view_module_version": "1.2.0",
            "bar_color": null,
            "_model_module": "@jupyter-widgets/controls"
          }
        },
        "b4de4edfaf6e4e44ac4c9bbbcc05fcfc": {
          "model_module": "@jupyter-widgets/base",
          "model_name": "LayoutModel",
          "state": {
            "_view_name": "LayoutView",
            "grid_template_rows": null,
            "right": null,
            "justify_content": null,
            "_view_module": "@jupyter-widgets/base",
            "overflow": null,
            "_model_module_version": "1.2.0",
            "_view_count": null,
            "flex_flow": null,
            "width": null,
            "min_width": null,
            "border": null,
            "align_items": null,
            "bottom": null,
            "_model_module": "@jupyter-widgets/base",
            "top": null,
            "grid_column": null,
            "overflow_y": null,
            "overflow_x": null,
            "grid_auto_flow": null,
            "grid_area": null,
            "grid_template_columns": null,
            "flex": null,
            "_model_name": "LayoutModel",
            "justify_items": null,
            "grid_row": null,
            "max_height": null,
            "align_content": null,
            "visibility": null,
            "align_self": null,
            "height": null,
            "min_height": null,
            "padding": null,
            "grid_auto_rows": null,
            "grid_gap": null,
            "max_width": null,
            "order": null,
            "_view_module_version": "1.2.0",
            "grid_template_areas": null,
            "object_position": null,
            "object_fit": null,
            "grid_auto_columns": null,
            "margin": null,
            "display": null,
            "left": null
          }
        },
        "f235cf8aa9194a9f869684a6b092d679": {
          "model_module": "@jupyter-widgets/controls",
          "model_name": "DescriptionStyleModel",
          "state": {
            "_view_name": "StyleView",
            "_model_name": "DescriptionStyleModel",
            "description_width": "",
            "_view_module": "@jupyter-widgets/base",
            "_model_module_version": "1.5.0",
            "_view_count": null,
            "_view_module_version": "1.2.0",
            "_model_module": "@jupyter-widgets/controls"
          }
        },
        "2bef75efb42549f5bac4a6bee6e1ac71": {
          "model_module": "@jupyter-widgets/base",
          "model_name": "LayoutModel",
          "state": {
            "_view_name": "LayoutView",
            "grid_template_rows": null,
            "right": null,
            "justify_content": null,
            "_view_module": "@jupyter-widgets/base",
            "overflow": null,
            "_model_module_version": "1.2.0",
            "_view_count": null,
            "flex_flow": null,
            "width": null,
            "min_width": null,
            "border": null,
            "align_items": null,
            "bottom": null,
            "_model_module": "@jupyter-widgets/base",
            "top": null,
            "grid_column": null,
            "overflow_y": null,
            "overflow_x": null,
            "grid_auto_flow": null,
            "grid_area": null,
            "grid_template_columns": null,
            "flex": null,
            "_model_name": "LayoutModel",
            "justify_items": null,
            "grid_row": null,
            "max_height": null,
            "align_content": null,
            "visibility": null,
            "align_self": null,
            "height": null,
            "min_height": null,
            "padding": null,
            "grid_auto_rows": null,
            "grid_gap": null,
            "max_width": null,
            "order": null,
            "_view_module_version": "1.2.0",
            "grid_template_areas": null,
            "object_position": null,
            "object_fit": null,
            "grid_auto_columns": null,
            "margin": null,
            "display": null,
            "left": null
          }
        }
      }
    }
  },
  "cells": [
    {
      "cell_type": "markdown",
      "metadata": {
        "id": "view-in-github",
        "colab_type": "text"
      },
      "source": [
        "<a href=\"https://colab.research.google.com/github/JonathanSum/pytorch-Deep-Learning_colab/blob/master/Ch8_1_convolution.ipynb\" target=\"_parent\"><img src=\"https://colab.research.google.com/assets/colab-badge.svg\" alt=\"Open In Colab\"/></a>"
      ]
    },
    {
      "cell_type": "code",
      "metadata": {
        "id": "UAulqsY_hJ0H",
        "colab": {
          "base_uri": "https://localhost:8080/"
        },
        "outputId": "c7e0ee73-5a16-4f08-fc3b-d51c2c4580ed"
      },
      "source": [
        "%matplotlib inline\n",
        "from matplotlib import pyplot as plt\n",
        "import numpy as np\n",
        "import collections\n",
        "\n",
        "import torch\n",
        "import torch.nn as nn\n",
        "import torch.nn.functional as F\n",
        "import torch.optim as optim\n",
        "\n",
        "torch.set_printoptions(edgeitems=2)\n",
        "torch.manual_seed(123)"
      ],
      "execution_count": 1,
      "outputs": [
        {
          "output_type": "execute_result",
          "data": {
            "text/plain": [
              "<torch._C.Generator at 0x7fe31453ab88>"
            ]
          },
          "metadata": {
            "tags": []
          },
          "execution_count": 1
        }
      ]
    },
    {
      "cell_type": "code",
      "metadata": {
        "id": "p2nBQeBBhJ0S"
      },
      "source": [
        "class_names = ['airplane','automobile','bird','cat','deer',\n",
        "               'dog','frog','horse','ship','truck']"
      ],
      "execution_count": 2,
      "outputs": []
    },
    {
      "cell_type": "code",
      "metadata": {
        "id": "RaxST1FThJ0T",
        "colab": {
          "base_uri": "https://localhost:8080/",
          "height": 82,
          "referenced_widgets": [
            "ff26aa455ec54f88a08e5adc882e95ba",
            "dd865e90db644ff6b10041cd48b9f6d7",
            "cc35256241fe4cf0b5a67f42d78f4a07",
            "2fdf6610d9fb4030a7cef9763151ff73",
            "e037b4e93c7d4c3fadb8380e5d5d76d0",
            "b4de4edfaf6e4e44ac4c9bbbcc05fcfc",
            "f235cf8aa9194a9f869684a6b092d679",
            "2bef75efb42549f5bac4a6bee6e1ac71"
          ]
        },
        "outputId": "29015ec2-22b6-4891-b12b-e7f4b4255f2f"
      },
      "source": [
        "from torchvision import datasets, transforms\n",
        "data_path = '../data-unversioned/p1ch6/'\n",
        "cifar10 = datasets.CIFAR10(\n",
        "    data_path, train=True, download=True,\n",
        "    transform=transforms.Compose([\n",
        "        transforms.ToTensor(),\n",
        "        transforms.Normalize((0.4915, 0.4823, 0.4468),\n",
        "                             (0.2470, 0.2435, 0.2616))\n",
        "    ]))"
      ],
      "execution_count": 3,
      "outputs": [
        {
          "output_type": "stream",
          "text": [
            "Downloading https://www.cs.toronto.edu/~kriz/cifar-10-python.tar.gz to ../data-unversioned/p1ch6/cifar-10-python.tar.gz\n"
          ],
          "name": "stdout"
        },
        {
          "output_type": "display_data",
          "data": {
            "application/vnd.jupyter.widget-view+json": {
              "model_id": "ff26aa455ec54f88a08e5adc882e95ba",
              "version_minor": 0,
              "version_major": 2
            },
            "text/plain": [
              "HBox(children=(FloatProgress(value=1.0, bar_style='info', max=1.0), HTML(value='')))"
            ]
          },
          "metadata": {
            "tags": []
          }
        },
        {
          "output_type": "stream",
          "text": [
            "Extracting ../data-unversioned/p1ch6/cifar-10-python.tar.gz to ../data-unversioned/p1ch6/\n"
          ],
          "name": "stdout"
        }
      ]
    },
    {
      "cell_type": "code",
      "metadata": {
        "id": "wVzF1daChJ0U",
        "colab": {
          "base_uri": "https://localhost:8080/"
        },
        "outputId": "f245199b-e861-4582-f491-b29ae0bd8343"
      },
      "source": [
        "cifar10_val = datasets.CIFAR10(\n",
        "    data_path, train=False, download=True,\n",
        "    transform=transforms.Compose([\n",
        "        transforms.ToTensor(),\n",
        "        transforms.Normalize((0.4915, 0.4823, 0.4468),\n",
        "                             (0.2470, 0.2435, 0.2616))\n",
        "    ]))"
      ],
      "execution_count": 4,
      "outputs": [
        {
          "output_type": "stream",
          "text": [
            "Files already downloaded and verified\n"
          ],
          "name": "stdout"
        }
      ]
    },
    {
      "cell_type": "code",
      "metadata": {
        "id": "rOrfCppxhJ0V"
      },
      "source": [
        "label_map = {0: 0, 2: 1}\n",
        "class_names = ['airplane', 'bird']\n",
        "cifar2 = [(img, label_map[label])\n",
        "          for img, label in cifar10\n",
        "          if label in [0, 2]]\n",
        "cifar2_val = [(img, label_map[label])\n",
        "              for img, label in cifar10_val\n",
        "              if label in [0, 2]]"
      ],
      "execution_count": 5,
      "outputs": []
    },
    {
      "cell_type": "code",
      "metadata": {
        "id": "UixYVRuzhJ0V"
      },
      "source": [
        "connected_model = nn.Sequential(\n",
        "            nn.Linear(3072, 1024),\n",
        "            nn.Tanh(),\n",
        "            nn.Linear(1024, 512),\n",
        "            nn.Tanh(),\n",
        "            nn.Linear(512, 128),\n",
        "            nn.Tanh(),\n",
        "            nn.Linear(128, 2))"
      ],
      "execution_count": 6,
      "outputs": []
    },
    {
      "cell_type": "code",
      "metadata": {
        "id": "Z0EUocR8hJ0W",
        "colab": {
          "base_uri": "https://localhost:8080/"
        },
        "outputId": "9eee082d-5726-476f-e176-38f91f8b6db4"
      },
      "source": [
        "numel_list = [p.numel()\n",
        "              for p in connected_model.parameters()\n",
        "              if p.requires_grad == True]\n",
        "sum(numel_list), numel_list"
      ],
      "execution_count": 7,
      "outputs": [
        {
          "output_type": "execute_result",
          "data": {
            "text/plain": [
              "(3737474, [3145728, 1024, 524288, 512, 65536, 128, 256, 2])"
            ]
          },
          "metadata": {
            "tags": []
          },
          "execution_count": 7
        }
      ]
    },
    {
      "cell_type": "code",
      "metadata": {
        "id": "R7ZmuYVihJ0W"
      },
      "source": [
        "first_model = nn.Sequential(\n",
        "                nn.Linear(3072, 512),\n",
        "                nn.Tanh(),\n",
        "                nn.Linear(512, 2),\n",
        "                nn.LogSoftmax(dim=1))"
      ],
      "execution_count": 8,
      "outputs": []
    },
    {
      "cell_type": "code",
      "metadata": {
        "id": "3eiNv5BwhJ0X",
        "colab": {
          "base_uri": "https://localhost:8080/"
        },
        "outputId": "7622da6d-17f3-46bc-eb1c-f39dc66053cb"
      },
      "source": [
        "numel_list = [p.numel() for p in first_model.parameters()]\n",
        "sum(numel_list), numel_list"
      ],
      "execution_count": 9,
      "outputs": [
        {
          "output_type": "execute_result",
          "data": {
            "text/plain": [
              "(1574402, [1572864, 512, 1024, 2])"
            ]
          },
          "metadata": {
            "tags": []
          },
          "execution_count": 9
        }
      ]
    },
    {
      "cell_type": "code",
      "metadata": {
        "id": "viwjumRkhJ0Y",
        "colab": {
          "base_uri": "https://localhost:8080/"
        },
        "outputId": "60de11c0-5f8d-47d9-e5d4-3d760ed36468"
      },
      "source": [
        "linear = nn.Linear(3072, 1024)\n",
        "\n",
        "linear.weight.shape, linear.bias.shape"
      ],
      "execution_count": 10,
      "outputs": [
        {
          "output_type": "execute_result",
          "data": {
            "text/plain": [
              "(torch.Size([1024, 3072]), torch.Size([1024]))"
            ]
          },
          "metadata": {
            "tags": []
          },
          "execution_count": 10
        }
      ]
    },
    {
      "cell_type": "code",
      "metadata": {
        "id": "JD5Q55QJhJ0Y",
        "colab": {
          "base_uri": "https://localhost:8080/"
        },
        "outputId": "9f72507f-ac14-419f-ea9f-5daa91440ae1"
      },
      "source": [
        "conv = nn.Conv2d(3, 16, kernel_size=5) # <1>\n",
        "conv"
      ],
      "execution_count": 11,
      "outputs": [
        {
          "output_type": "execute_result",
          "data": {
            "text/plain": [
              "Conv2d(3, 16, kernel_size=(5, 5), stride=(1, 1))"
            ]
          },
          "metadata": {
            "tags": []
          },
          "execution_count": 11
        }
      ]
    },
    {
      "cell_type": "code",
      "metadata": {
        "id": "TnSaPl4WhJ0Z",
        "colab": {
          "base_uri": "https://localhost:8080/"
        },
        "outputId": "a2b96101-ca88-4e3c-d9c1-cea184c704b1"
      },
      "source": [
        "conv.weight.shape, conv.bias.shape"
      ],
      "execution_count": 12,
      "outputs": [
        {
          "output_type": "execute_result",
          "data": {
            "text/plain": [
              "(torch.Size([16, 3, 5, 5]), torch.Size([16]))"
            ]
          },
          "metadata": {
            "tags": []
          },
          "execution_count": 12
        }
      ]
    },
    {
      "cell_type": "code",
      "metadata": {
        "id": "N06RU3NIhJ0Z",
        "colab": {
          "base_uri": "https://localhost:8080/"
        },
        "outputId": "8d69625e-2a2f-4bcf-88dc-b40b04df0b0b"
      },
      "source": [
        "img, _ = cifar2[0]\n",
        "output = conv(img.unsqueeze(0))\n",
        "img.unsqueeze(0).shape, output.shape"
      ],
      "execution_count": 13,
      "outputs": [
        {
          "output_type": "execute_result",
          "data": {
            "text/plain": [
              "(torch.Size([1, 3, 32, 32]), torch.Size([1, 16, 28, 28]))"
            ]
          },
          "metadata": {
            "tags": []
          },
          "execution_count": 13
        }
      ]
    },
    {
      "cell_type": "code",
      "metadata": {
        "id": "dmSWy9hnhJ0a",
        "colab": {
          "base_uri": "https://localhost:8080/",
          "height": 266
        },
        "outputId": "ad38ea47-d850-4e31-dc7f-dc38d152a0cf"
      },
      "source": [
        "plt.imshow(img.mean(0), cmap='gray')\n",
        "plt.show()"
      ],
      "execution_count": 14,
      "outputs": [
        {
          "output_type": "display_data",
          "data": {
            "image/png": "[encoded data removed]",
            "text/plain": [
              "<Figure size 432x288 with 1 Axes>"
            ]
          },
          "metadata": {
            "tags": [],
            "needs_background": "light"
          }
        }
      ]
    },
    {
      "cell_type": "code",
      "metadata": {
        "id": "nnMWeGPnhJ0a",
        "colab": {
          "base_uri": "https://localhost:8080/",
          "height": 318
        },
        "outputId": "d83883e6-8bac-43c8-a8f7-7e974b172d9f"
      },
      "source": [
        "plt.figure(figsize=(10, 4.8))  # bookskip\n",
        "ax1 = plt.subplot(1, 2, 1)   # bookskip\n",
        "plt.title('output')   # bookskip\n",
        "plt.imshow(output[0, 0].detach(), cmap='gray')\n",
        "plt.subplot(1, 2, 2, sharex=ax1, sharey=ax1)  # bookskip\n",
        "plt.imshow(img.mean(0), cmap='gray')  # bookskip\n",
        "plt.title('input')  # bookskip\n",
        "plt.savefig('Ch8_F2_PyTorch.png')  # bookskip\n",
        "plt.show()"
      ],
      "execution_count": 15,
      "outputs": [
        {
          "output_type": "display_data",
          "data": {
            "image/png": "[encoded data removed]",
            "text/plain": [
              "<Figure size 720x345.6 with 2 Axes>"
            ]
          },
          "metadata": {
            "tags": [],
            "needs_background": "light"
          }
        }
      ]
    },
    {
      "cell_type": "code",
      "metadata": {
        "id": "lb0IV2Y2hJ0a",
        "colab": {
          "base_uri": "https://localhost:8080/"
        },
        "outputId": "ee99b0a5-40cf-445d-f238-d5f0624e4345"
      },
      "source": [
        "conv = nn.Conv2d(3, 1, kernel_size=5, padding=1) # <1>\n",
        "output = conv(img.unsqueeze(0))\n",
        "img.unsqueeze(0).shape, output.shape"
      ],
      "execution_count": 16,
      "outputs": [
        {
          "output_type": "execute_result",
          "data": {
            "text/plain": [
              "(torch.Size([1, 3, 32, 32]), torch.Size([1, 1, 30, 30]))"
            ]
          },
          "metadata": {
            "tags": []
          },
          "execution_count": 16
        }
      ]
    },
    {
      "cell_type": "code",
      "metadata": {
        "id": "_-9omgsjhJ0b"
      },
      "source": [
        "with torch.no_grad():\n",
        "    conv.bias.zero_()\n",
        "    \n",
        "with torch.no_grad():\n",
        "    conv.weight.fill_(1.0 / 9.0)"
      ],
      "execution_count": 17,
      "outputs": []
    },
    {
      "cell_type": "code",
      "metadata": {
        "id": "oi_FIXd2hJ0b",
        "colab": {
          "base_uri": "https://localhost:8080/",
          "height": 318
        },
        "outputId": "4db1cd81-0830-4b89-bda7-4f5b5970524a"
      },
      "source": [
        "output = conv(img.unsqueeze(0))\n",
        "plt.figure(figsize=(10, 4.8))  # bookskip\n",
        "ax1 = plt.subplot(1, 2, 1)   # bookskip\n",
        "plt.title('output')   # bookskip\n",
        "plt.imshow(output[0, 0].detach(), cmap='gray')\n",
        "plt.subplot(1, 2, 2, sharex=ax1, sharey=ax1)  # bookskip\n",
        "plt.imshow(img.mean(0), cmap='gray')  # bookskip\n",
        "plt.title('input')  # bookskip\n",
        "plt.savefig('Ch8_F4_PyTorch.png')  # bookskip\n",
        "plt.show()"
      ],
      "execution_count": 18,
      "outputs": [
        {
          "output_type": "display_data",
          "data": {
            "image/png": "[encoded data removed]",
            "text/plain": [
              "<Figure size 720x345.6 with 2 Axes>"
            ]
          },
          "metadata": {
            "tags": [],
            "needs_background": "light"
          }
        }
      ]
    },
    {
      "cell_type": "code",
      "metadata": {
        "id": "iAG_fhZdhJ0b",
        "colab": {
          "base_uri": "https://localhost:8080/",
          "height": 229
        },
        "outputId": "a03ed817-4214-4aba-8851-3730df6def2a"
      },
      "source": [
        "# conv = nn.Conv2d(3, 1, kernel_size=5, padding=1)\n",
        "\n",
        "# with torch.no_grad():\n",
        "#     conv.weight[:] = torch.tensor([[-1.0, 0.0, 1.0],\n",
        "#                                    [-1.0, 0.0, 1.0],\n",
        "#                                    [-1.0, 0.0, 1.0]])\n",
        "#     conv.bias.zero_()"
      ],
      "execution_count": 21,
      "outputs": [
        {
          "output_type": "error",
          "ename": "RuntimeError",
          "evalue": "ignored",
          "traceback": [
            "\u001b[0;31m---------------------------------------------------------------------------\u001b[0m",
            "\u001b[0;31mRuntimeError\u001b[0m                              Traceback (most recent call last)",
            "\u001b[0;32m<ipython-input-21-e6dc3eb1a0d2>\u001b[0m in \u001b[0;36m<module>\u001b[0;34m()\u001b[0m\n\u001b[1;32m      4\u001b[0m     conv.weight[:] = torch.tensor([[-1.0, 0.0, 1.0],\n\u001b[1;32m      5\u001b[0m                                    \u001b[0;34m[\u001b[0m\u001b[0;34m-\u001b[0m\u001b[0;36m1.0\u001b[0m\u001b[0;34m,\u001b[0m \u001b[0;36m0.0\u001b[0m\u001b[0;34m,\u001b[0m \u001b[0;36m1.0\u001b[0m\u001b[0;34m]\u001b[0m\u001b[0;34m,\u001b[0m\u001b[0;34m\u001b[0m\u001b[0;34m\u001b[0m\u001b[0m\n\u001b[0;32m----> 6\u001b[0;31m                                    [-1.0, 0.0, 1.0]])\n\u001b[0m\u001b[1;32m      7\u001b[0m     \u001b[0mconv\u001b[0m\u001b[0;34m.\u001b[0m\u001b[0mbias\u001b[0m\u001b[0;34m.\u001b[0m\u001b[0mzero_\u001b[0m\u001b[0;34m(\u001b[0m\u001b[0;34m)\u001b[0m\u001b[0;34m\u001b[0m\u001b[0;34m\u001b[0m\u001b[0m\n",
            "\u001b[0;31mRuntimeError\u001b[0m: The expanded size of the tensor (5) must match the existing size (3) at non-singleton dimension 3.  Target sizes: [1, 3, 5, 5].  Tensor sizes: [3, 3]"
          ]
        }
      ]
    },
    {
      "cell_type": "code",
      "metadata": {
        "id": "lgtPrjvwhJ0b",
        "colab": {
          "base_uri": "https://localhost:8080/",
          "height": 318
        },
        "outputId": "8747f604-e48b-45d3-ffc4-c4cd8cc8feea"
      },
      "source": [
        "output = conv(img.unsqueeze(0))\n",
        "plt.figure(figsize=(10, 4.8))  # bookskip\n",
        "ax1 = plt.subplot(1, 2, 1)   # bookskip\n",
        "plt.title('output')   # bookskip\n",
        "plt.imshow(output[0, 0].detach(), cmap='gray')\n",
        "plt.subplot(1, 2, 2, sharex=ax1, sharey=ax1)  # bookskip\n",
        "plt.imshow(img.mean(0), cmap='gray')  # bookskip\n",
        "plt.title('input')  # bookskip\n",
        "plt.savefig('Ch8_F5_PyTorch.png')  # bookskip\n",
        "plt.show()"
      ],
      "execution_count": 22,
      "outputs": [
        {
          "output_type": "display_data",
          "data": {
            "image/png": "[encoded data removed]",
            "text/plain": [
              "<Figure size 720x345.6 with 2 Axes>"
            ]
          },
          "metadata": {
            "tags": [],
            "needs_background": "light"
          }
        }
      ]
    },
    {
      "cell_type": "code",
      "metadata": {
        "id": "e1ohXFXHhJ0c",
        "colab": {
          "base_uri": "https://localhost:8080/"
        },
        "outputId": "0befeb45-a44e-4093-b47d-c959737786ad"
      },
      "source": [
        "pool = nn.MaxPool2d(2)\n",
        "output = pool(img.unsqueeze(0))\n",
        "\n",
        "img.unsqueeze(0).shape, output.shape"
      ],
      "execution_count": 23,
      "outputs": [
        {
          "output_type": "execute_result",
          "data": {
            "text/plain": [
              "(torch.Size([1, 3, 32, 32]), torch.Size([1, 3, 16, 16]))"
            ]
          },
          "metadata": {
            "tags": []
          },
          "execution_count": 23
        }
      ]
    },
    {
      "cell_type": "code",
      "metadata": {
        "id": "iBZCuKLahJ0c"
      },
      "source": [
        "model = nn.Sequential(\n",
        "            nn.Conv2d(3, 16, kernel_size=5, padding=1),\n",
        "            nn.Tanh(),\n",
        "            nn.MaxPool2d(2),\n",
        "            nn.Conv2d(16, 8, kernel_size=5, padding=1),\n",
        "            nn.Tanh(),\n",
        "            nn.MaxPool2d(2),\n",
        "            # ...\n",
        "            )"
      ],
      "execution_count": 24,
      "outputs": []
    },
    {
      "cell_type": "code",
      "metadata": {
        "id": "MAukOxYQhJ0c"
      },
      "source": [
        "model = nn.Sequential(\n",
        "            nn.Conv2d(3, 16, kernel_size=5, padding=1),\n",
        "            nn.Tanh(),\n",
        "            nn.MaxPool2d(2),\n",
        "            nn.Conv2d(16, 8, kernel_size=5, padding=1),\n",
        "            nn.Tanh(),\n",
        "            nn.MaxPool2d(2),\n",
        "            # ... <1>\n",
        "            nn.Linear(8 * 6 * 6, 32),\n",
        "            nn.Tanh(),\n",
        "            nn.Linear(32, 2))"
      ],
      "execution_count": 48,
      "outputs": []
    },
    {
      "cell_type": "code",
      "metadata": {
        "id": "gFObraRhhJ0c",
        "colab": {
          "base_uri": "https://localhost:8080/"
        },
        "outputId": "4342bedf-6abc-44be-c6a5-08c309806e7d"
      },
      "source": [
        "numel_list = [p.numel() for p in model.parameters()]\n",
        "sum(numel_list), numel_list"
      ],
      "execution_count": 49,
      "outputs": [
        {
          "output_type": "execute_result",
          "data": {
            "text/plain": [
              "(13738, [1200, 16, 3200, 8, 9216, 32, 64, 2])"
            ]
          },
          "metadata": {
            "tags": []
          },
          "execution_count": 49
        }
      ]
    },
    {
      "cell_type": "code",
      "metadata": {
        "scrolled": true,
        "tags": [
          "raises-exception"
        ],
        "id": "OVY2puRPhJ0d"
      },
      "source": [
        "# model(img.unsqueeze(0))"
      ],
      "execution_count": 50,
      "outputs": []
    },
    {
      "cell_type": "code",
      "metadata": {
        "id": "EC-EJqMyhJ0e"
      },
      "source": [
        "class Net(nn.Module):\n",
        "    def __init__(self):\n",
        "        super().__init__()\n",
        "        self.conv1 = nn.Conv2d(3, 16, kernel_size=5, padding=1)\n",
        "        self.act1 = nn.Tanh()\n",
        "        self.pool1 = nn.MaxPool2d(2)\n",
        "        self.conv2 = nn.Conv2d(16, 8, kernel_size=5, padding=1)\n",
        "        self.act2 = nn.Tanh()\n",
        "        self.pool2 = nn.MaxPool2d(2)\n",
        "        self.fc1 = nn.Linear(8 * 6 * 6, 32)\n",
        "        self.act3 = nn.Tanh()\n",
        "        self.fc2 = nn.Linear(32, 2)\n",
        "\n",
        "    def forward(self, x):\n",
        "        out = self.pool1(self.act1(self.conv1(x)))\n",
        "        out = self.pool2(self.act2(self.conv2(out)))\n",
        "        out = out.view(-1, 8 * 6 * 6) # <1>\n",
        "        out = self.act3(self.fc1(out))\n",
        "        out = self.fc2(out)\n",
        "        return out"
      ],
      "execution_count": 51,
      "outputs": []
    },
    {
      "cell_type": "code",
      "metadata": {
        "id": "Fw3IbBDqhJ0e",
        "colab": {
          "base_uri": "https://localhost:8080/"
        },
        "outputId": "bb3d892b-c6ba-4f1b-8b40-ab529a84c4d1"
      },
      "source": [
        "model = Net()\n",
        "\n",
        "numel_list = [p.numel() for p in model.parameters()]\n",
        "sum(numel_list), numel_list"
      ],
      "execution_count": 52,
      "outputs": [
        {
          "output_type": "execute_result",
          "data": {
            "text/plain": [
              "(13738, [1200, 16, 3200, 8, 9216, 32, 64, 2])"
            ]
          },
          "metadata": {
            "tags": []
          },
          "execution_count": 52
        }
      ]
    },
    {
      "cell_type": "code",
      "metadata": {
        "id": "Dtft5PxXhJ0f"
      },
      "source": [
        "import torch.nn.functional as F\n",
        "\n",
        "class Net(nn.Module):\n",
        "    def __init__(self):\n",
        "        super().__init__()\n",
        "        self.conv1 = nn.Conv2d(3, 16, kernel_size=5, padding=1)\n",
        "        self.conv2 = nn.Conv2d(16, 8, kernel_size=5, padding=1)\n",
        "        self.fc1 = nn.Linear(8 * 6 * 6, 32)\n",
        "        self.fc2 = nn.Linear(32, 2)\n",
        "        \n",
        "    def forward(self, x):\n",
        "        out = F.max_pool2d(torch.tanh(self.conv1(x)), 2)\n",
        "        out = F.max_pool2d(torch.tanh(self.conv2(out)), 2)\n",
        "        out = out.view(-1, 8 * 6 * 6)\n",
        "        out = torch.tanh(self.fc1(out))\n",
        "        out = self.fc2(out)\n",
        "        return out"
      ],
      "execution_count": 53,
      "outputs": []
    },
    {
      "cell_type": "code",
      "metadata": {
        "id": "-fzZoYMkhJ0f",
        "colab": {
          "base_uri": "https://localhost:8080/"
        },
        "outputId": "fb5901df-456a-47c3-821c-269da600e189"
      },
      "source": [
        "model = Net()\n",
        "model(img.unsqueeze(0))"
      ],
      "execution_count": 54,
      "outputs": [
        {
          "output_type": "execute_result",
          "data": {
            "text/plain": [
              "tensor([[0.0805, 0.1470]], grad_fn=<AddmmBackward>)"
            ]
          },
          "metadata": {
            "tags": []
          },
          "execution_count": 54
        }
      ]
    },
    {
      "cell_type": "code",
      "metadata": {
        "id": "iYagD_E_hJ0g"
      },
      "source": [
        "import datetime  # <1>\n",
        "\n",
        "def training_loop(n_epochs, optimizer, model, loss_fn, train_loader):\n",
        "    for epoch in range(1, n_epochs + 1):  # <2>\n",
        "        loss_train = 0.0\n",
        "        for imgs, labels in train_loader:  # <3>\n",
        "            \n",
        "            outputs = model(imgs)  # <4>\n",
        "            \n",
        "            loss = loss_fn(outputs, labels)  # <5>\n",
        "\n",
        "            optimizer.zero_grad()  # <6>\n",
        "            \n",
        "            loss.backward()  # <7>\n",
        "            \n",
        "            optimizer.step()  # <8>\n",
        "\n",
        "            loss_train += loss.item()  # <9>\n",
        "\n",
        "        if epoch == 1 or epoch % 10 == 0:\n",
        "            print('{} Epoch {}, Training loss {}'.format(\n",
        "                datetime.datetime.now(), epoch,\n",
        "                loss_train / len(train_loader)))  # <10>"
      ],
      "execution_count": 55,
      "outputs": []
    },
    {
      "cell_type": "code",
      "metadata": {
        "id": "7cBTtEsjhJ0g",
        "colab": {
          "base_uri": "https://localhost:8080/"
        },
        "outputId": "467bd489-100a-44aa-adfe-5209f9b7f20d"
      },
      "source": [
        "train_loader = torch.utils.data.DataLoader(cifar2, batch_size=64,\n",
        "                                           shuffle=True)  # <1>\n",
        "\n",
        "model = Net()  #  <2>\n",
        "optimizer = optim.SGD(model.parameters(), lr=1e-2)  #  <3>\n",
        "loss_fn = nn.CrossEntropyLoss()  #  <4>\n",
        "\n",
        "training_loop(  # <5>\n",
        "    n_epochs = 100,\n",
        "    optimizer = optimizer,\n",
        "    model = model,\n",
        "    loss_fn = loss_fn,\n",
        "    train_loader = train_loader,\n",
        ")"
      ],
      "execution_count": 56,
      "outputs": [
        {
          "output_type": "stream",
          "text": [
            "2021-01-18 00:01:50.686615 Epoch 1, Training loss 0.5672086680391032\n",
            "2021-01-18 00:02:12.532253 Epoch 10, Training loss 0.3353022316079231\n",
            "2021-01-18 00:02:36.637249 Epoch 20, Training loss 0.2887068551247287\n",
            "2021-01-18 00:03:00.978459 Epoch 30, Training loss 0.26064814826485455\n",
            "2021-01-18 00:03:25.055635 Epoch 40, Training loss 0.23919134069779877\n",
            "2021-01-18 00:03:48.818240 Epoch 50, Training loss 0.21486452416439725\n",
            "2021-01-18 00:04:12.374553 Epoch 60, Training loss 0.19569989958196687\n",
            "2021-01-18 00:04:36.284742 Epoch 70, Training loss 0.17618571637067826\n",
            "2021-01-18 00:05:00.307681 Epoch 80, Training loss 0.16049717340594644\n",
            "2021-01-18 00:05:24.380392 Epoch 90, Training loss 0.13865793574672597\n",
            "2021-01-18 00:05:48.388756 Epoch 100, Training loss 0.11859998147294021\n"
          ],
          "name": "stdout"
        }
      ]
    },
    {
      "cell_type": "code",
      "metadata": {
        "id": "y-BMYst0hJ0g",
        "colab": {
          "base_uri": "https://localhost:8080/"
        },
        "outputId": "fae01206-d9f3-48da-cc69-34fd07ef8957"
      },
      "source": [
        "train_loader = torch.utils.data.DataLoader(cifar2, batch_size=64,\n",
        "                                           shuffle=False)\n",
        "val_loader = torch.utils.data.DataLoader(cifar2_val, batch_size=64,\n",
        "                                         shuffle=False)\n",
        "\n",
        "def validate(model, train_loader, val_loader):\n",
        "    for name, loader in [(\"train\", train_loader), (\"val\", val_loader)]:\n",
        "        correct = 0\n",
        "        total = 0\n",
        "\n",
        "        with torch.no_grad():  # <1>\n",
        "            for imgs, labels in loader:\n",
        "                outputs = model(imgs)\n",
        "                _, predicted = torch.max(outputs, dim=1) # <2>\n",
        "                total += labels.shape[0]  # <3>\n",
        "                correct += int((predicted == labels).sum())  # <4>\n",
        "\n",
        "        print(\"Accuracy {}: {:.2f}\".format(name , correct / total))\n",
        "\n",
        "validate(model, train_loader, val_loader)"
      ],
      "execution_count": 57,
      "outputs": [
        {
          "output_type": "stream",
          "text": [
            "Accuracy train: 0.95\n",
            "Accuracy val: 0.88\n"
          ],
          "name": "stdout"
        }
      ]
    },
    {
      "cell_type": "code",
      "metadata": {
        "id": "z4c_nuc3hJ0h"
      },
      "source": [
        "torch.save(model.state_dict(), data_path + 'birds_vs_airplanes.pt')"
      ],
      "execution_count": 58,
      "outputs": []
    },
    {
      "cell_type": "code",
      "metadata": {
        "id": "vHxuXFmNhJ0h",
        "colab": {
          "base_uri": "https://localhost:8080/"
        },
        "outputId": "da49f367-25c5-463b-bb61-7418cf1f9054"
      },
      "source": [
        "loaded_model = Net()  # <1>\n",
        "loaded_model.load_state_dict(torch.load(data_path\n",
        "                                        + 'birds_vs_airplanes.pt'))"
      ],
      "execution_count": 59,
      "outputs": [
        {
          "output_type": "execute_result",
          "data": {
            "text/plain": [
              "<All keys matched successfully>"
            ]
          },
          "metadata": {
            "tags": []
          },
          "execution_count": 59
        }
      ]
    },
    {
      "cell_type": "code",
      "metadata": {
        "id": "Wbuw4mqrhJ0h",
        "colab": {
          "base_uri": "https://localhost:8080/"
        },
        "outputId": "e84cbd0f-3015-4680-ee44-f9538c5cf0e5"
      },
      "source": [
        "device = (torch.device('cuda') if torch.cuda.is_available()\n",
        "          else torch.device('cpu'))\n",
        "print(f\"Training on device {device}.\")"
      ],
      "execution_count": 60,
      "outputs": [
        {
          "output_type": "stream",
          "text": [
            "Training on device cuda.\n"
          ],
          "name": "stdout"
        }
      ]
    },
    {
      "cell_type": "code",
      "metadata": {
        "id": "fN98-QaDhJ0h"
      },
      "source": [
        "import datetime\n",
        "\n",
        "def training_loop(n_epochs, optimizer, model, loss_fn, train_loader):\n",
        "    for epoch in range(1, n_epochs + 1):\n",
        "        loss_train = 0.0\n",
        "        for imgs, labels in train_loader:\n",
        "            imgs = imgs.to(device=device)  # <1>\n",
        "            labels = labels.to(device=device)\n",
        "            outputs = model(imgs)\n",
        "            loss = loss_fn(outputs, labels)\n",
        "\n",
        "            optimizer.zero_grad()\n",
        "            loss.backward()\n",
        "            optimizer.step()\n",
        "\n",
        "            loss_train += loss.item()\n",
        "\n",
        "        if epoch == 1 or epoch % 10 == 0:\n",
        "            print('{} Epoch {}, Training loss {}'.format(\n",
        "                datetime.datetime.now(), epoch,\n",
        "                loss_train / len(train_loader)))"
      ],
      "execution_count": 61,
      "outputs": []
    },
    {
      "cell_type": "code",
      "metadata": {
        "id": "O2MZXr7hhJ0h",
        "colab": {
          "base_uri": "https://localhost:8080/"
        },
        "outputId": "bd9c9646-cf8b-4933-a5c3-aea96638382a"
      },
      "source": [
        "train_loader = torch.utils.data.DataLoader(cifar2, batch_size=64,\n",
        "                                           shuffle=True)\n",
        "\n",
        "model = Net().to(device=device)  # <1>\n",
        "optimizer = optim.SGD(model.parameters(), lr=1e-2)\n",
        "loss_fn = nn.CrossEntropyLoss()\n",
        "\n",
        "training_loop(\n",
        "    n_epochs = 100,\n",
        "    optimizer = optimizer,\n",
        "    model = model,\n",
        "    loss_fn = loss_fn,\n",
        "    train_loader = train_loader,\n",
        ")"
      ],
      "execution_count": 62,
      "outputs": [
        {
          "output_type": "stream",
          "text": [
            "2021-01-18 00:06:04.004712 Epoch 1, Training loss 0.5574041026033414\n",
            "2021-01-18 00:06:07.695893 Epoch 10, Training loss 0.32713525244005165\n",
            "2021-01-18 00:06:11.753428 Epoch 20, Training loss 0.2847682620594456\n",
            "2021-01-18 00:06:15.830664 Epoch 30, Training loss 0.25969915144192945\n",
            "2021-01-18 00:06:19.917740 Epoch 40, Training loss 0.233723970758877\n",
            "2021-01-18 00:06:24.039158 Epoch 50, Training loss 0.21463378922195192\n",
            "2021-01-18 00:06:28.186217 Epoch 60, Training loss 0.19596342481435483\n",
            "2021-01-18 00:06:32.278925 Epoch 70, Training loss 0.17871493528223342\n",
            "2021-01-18 00:06:36.418229 Epoch 80, Training loss 0.15766142311084802\n",
            "2021-01-18 00:06:40.513620 Epoch 90, Training loss 0.14361076036788475\n",
            "2021-01-18 00:06:44.583902 Epoch 100, Training loss 0.13037010028388848\n"
          ],
          "name": "stdout"
        }
      ]
    },
    {
      "cell_type": "code",
      "metadata": {
        "id": "YKsn6HyvhJ0i",
        "colab": {
          "base_uri": "https://localhost:8080/"
        },
        "outputId": "c2959003-717d-423f-f1fb-a258257fb761"
      },
      "source": [
        "train_loader = torch.utils.data.DataLoader(cifar2, batch_size=64,\n",
        "                                           shuffle=False)\n",
        "val_loader = torch.utils.data.DataLoader(cifar2_val, batch_size=64,\n",
        "                                         shuffle=False)\n",
        "all_acc_dict = collections.OrderedDict()\n",
        "\n",
        "def validate(model, train_loader, val_loader):\n",
        "    accdict = {}\n",
        "    for name, loader in [(\"train\", train_loader), (\"val\", val_loader)]:\n",
        "        correct = 0\n",
        "        total = 0\n",
        "\n",
        "        with torch.no_grad():\n",
        "            for imgs, labels in loader:\n",
        "                imgs = imgs.to(device=device)\n",
        "                labels = labels.to(device=device)\n",
        "                outputs = model(imgs)\n",
        "                _, predicted = torch.max(outputs, dim=1) # <1>\n",
        "                total += labels.shape[0]\n",
        "                correct += int((predicted == labels).sum())\n",
        "\n",
        "        print(\"Accuracy {}: {:.2f}\".format(name , correct / total))\n",
        "        accdict[name] = correct / total\n",
        "    return accdict\n",
        "\n",
        "all_acc_dict[\"baseline\"] = validate(model, train_loader, val_loader)"
      ],
      "execution_count": 63,
      "outputs": [
        {
          "output_type": "stream",
          "text": [
            "Accuracy train: 0.95\n",
            "Accuracy val: 0.87\n"
          ],
          "name": "stdout"
        }
      ]
    },
    {
      "cell_type": "code",
      "metadata": {
        "id": "EVx5P7YChJ0j",
        "colab": {
          "base_uri": "https://localhost:8080/"
        },
        "outputId": "db2dea66-4135-4c1a-d2c9-0485faf0f7cf"
      },
      "source": [
        "loaded_model = Net().to(device=device)\n",
        "loaded_model.load_state_dict(torch.load(data_path\n",
        "                                        + 'birds_vs_airplanes.pt',\n",
        "                                        map_location=device))"
      ],
      "execution_count": 64,
      "outputs": [
        {
          "output_type": "execute_result",
          "data": {
            "text/plain": [
              "<All keys matched successfully>"
            ]
          },
          "metadata": {
            "tags": []
          },
          "execution_count": 64
        }
      ]
    },
    {
      "cell_type": "code",
      "metadata": {
        "id": "xs1ncxn_hJ0k"
      },
      "source": [
        "class NetWidth(nn.Module):\n",
        "    def __init__(self):\n",
        "        super().__init__()\n",
        "        self.conv1 = nn.Conv2d(3, 32, kernel_size=5, padding=1)\n",
        "        self.conv2 = nn.Conv2d(32, 16, kernel_size=5, padding=1)\n",
        "        self.fc1 = nn.Linear(16 * 6 * 6, 32)\n",
        "        self.fc2 = nn.Linear(32, 2)\n",
        "        \n",
        "    def forward(self, x):\n",
        "        out = F.max_pool2d(torch.tanh(self.conv1(x)), 2)\n",
        "        out = F.max_pool2d(torch.tanh(self.conv2(out)), 2)\n",
        "        out = out.view(-1, 16 * 6 * 6)\n",
        "        out = torch.tanh(self.fc1(out))\n",
        "        out = self.fc2(out)\n",
        "        return out"
      ],
      "execution_count": 77,
      "outputs": []
    },
    {
      "cell_type": "code",
      "metadata": {
        "id": "kS66aF3whJ0k",
        "colab": {
          "base_uri": "https://localhost:8080/"
        },
        "outputId": "3729e9a7-378c-4ba4-cc78-3b33c3b3c05f"
      },
      "source": [
        "model = NetWidth().to(device=device)\n",
        "optimizer = optim.SGD(model.parameters(), lr=1e-2)\n",
        "loss_fn = nn.CrossEntropyLoss()\n",
        "\n",
        "training_loop(\n",
        "    n_epochs = 100,\n",
        "    optimizer = optimizer,\n",
        "    model = model,\n",
        "    loss_fn = loss_fn,\n",
        "    train_loader = train_loader,\n",
        ")\n",
        "\n",
        "validate(model, train_loader, val_loader)"
      ],
      "execution_count": 78,
      "outputs": [
        {
          "output_type": "stream",
          "text": [
            "2021-01-18 00:28:26.663237 Epoch 1, Training loss 0.5441121757030487\n",
            "2021-01-18 00:28:30.311207 Epoch 10, Training loss 0.31785458525654614\n",
            "2021-01-18 00:28:34.355854 Epoch 20, Training loss 0.258371637410419\n",
            "2021-01-18 00:28:38.415891 Epoch 30, Training loss 0.2165413322342429\n",
            "2021-01-18 00:28:42.504123 Epoch 40, Training loss 0.18162464034880044\n",
            "2021-01-18 00:28:46.530089 Epoch 50, Training loss 0.15035483895973034\n",
            "2021-01-18 00:28:50.562983 Epoch 60, Training loss 0.12053975865102498\n",
            "2021-01-18 00:28:54.547115 Epoch 70, Training loss 0.09098500338424544\n",
            "2021-01-18 00:28:58.584680 Epoch 80, Training loss 0.0625035388537558\n",
            "2021-01-18 00:29:02.580564 Epoch 90, Training loss 0.03998039634957625\n",
            "2021-01-18 00:29:06.573807 Epoch 100, Training loss 0.024891945515658445\n",
            "Accuracy train: 0.97\n",
            "Accuracy val: 0.88\n"
          ],
          "name": "stdout"
        },
        {
          "output_type": "execute_result",
          "data": {
            "text/plain": [
              "{'train': 0.9699, 'val': 0.8775}"
            ]
          },
          "metadata": {
            "tags": []
          },
          "execution_count": 78
        }
      ]
    },
    {
      "cell_type": "code",
      "metadata": {
        "id": "vZGAE6QihJ0k"
      },
      "source": [
        "class NetWidth(nn.Module):\n",
        "    def __init__(self, n_chans1=32):\n",
        "        super().__init__()\n",
        "        self.n_chans1 = n_chans1\n",
        "        self.conv1 = nn.Conv2d(3, n_chans1, kernel_size=5, padding=1)\n",
        "        self.conv2 = nn.Conv2d(n_chans1, n_chans1 // 2, kernel_size=5,\n",
        "                               padding=1)\n",
        "        self.fc1 = nn.Linear(6 * 6 * n_chans1 // 2, 32)\n",
        "        self.fc2 = nn.Linear(32, 2)\n",
        "        \n",
        "    def forward(self, x):\n",
        "        out = F.max_pool2d(torch.tanh(self.conv1(x)), 2)\n",
        "        out = F.max_pool2d(torch.tanh(self.conv2(out)), 2)\n",
        "        out = out.view(-1, 6 * 6 * self.n_chans1 // 2)\n",
        "        out = torch.tanh(self.fc1(out))\n",
        "        out = self.fc2(out)\n",
        "        return out\n"
      ],
      "execution_count": 79,
      "outputs": []
    },
    {
      "cell_type": "code",
      "metadata": {
        "id": "ZGmx-oiAhJ0k",
        "colab": {
          "base_uri": "https://localhost:8080/"
        },
        "outputId": "6b7e2082-0a99-4561-d226-058af025e815"
      },
      "source": [
        "model = NetWidth(n_chans1=32).to(device=device)\n",
        "optimizer = optim.SGD(model.parameters(), lr=1e-2)\n",
        "loss_fn = nn.CrossEntropyLoss()\n",
        "\n",
        "training_loop(\n",
        "    n_epochs = 100,\n",
        "    optimizer = optimizer,\n",
        "    model = model,\n",
        "    loss_fn = loss_fn,\n",
        "    train_loader = train_loader,\n",
        ")\n",
        "\n",
        "all_acc_dict[\"width\"] = validate(model, train_loader, val_loader)"
      ],
      "execution_count": 80,
      "outputs": [
        {
          "output_type": "stream",
          "text": [
            "2021-01-18 00:29:08.639179 Epoch 1, Training loss 0.5411434053995048\n",
            "2021-01-18 00:29:12.338952 Epoch 10, Training loss 0.3093263991888921\n",
            "2021-01-18 00:29:16.381341 Epoch 20, Training loss 0.2562661513116709\n",
            "2021-01-18 00:29:20.466207 Epoch 30, Training loss 0.21323384638804538\n",
            "2021-01-18 00:29:24.496856 Epoch 40, Training loss 0.1781808425951156\n",
            "2021-01-18 00:29:28.563995 Epoch 50, Training loss 0.14518616827809885\n",
            "2021-01-18 00:29:32.636311 Epoch 60, Training loss 0.1124717522839642\n",
            "2021-01-18 00:29:36.645231 Epoch 70, Training loss 0.08161282655634698\n",
            "2021-01-18 00:29:40.693863 Epoch 80, Training loss 0.055176477268290745\n",
            "2021-01-18 00:29:44.756442 Epoch 90, Training loss 0.036015648727014564\n",
            "2021-01-18 00:29:48.777019 Epoch 100, Training loss 0.023472136132727573\n",
            "Accuracy train: 0.99\n",
            "Accuracy val: 0.88\n"
          ],
          "name": "stdout"
        }
      ]
    },
    {
      "cell_type": "code",
      "metadata": {
        "id": "pn4PUBjLhJ0l",
        "colab": {
          "base_uri": "https://localhost:8080/"
        },
        "outputId": "7031f5e8-56ae-4a95-d918-b65d0ce16efe"
      },
      "source": [
        "sum(p.numel() for p in model.parameters())"
      ],
      "execution_count": 81,
      "outputs": [
        {
          "output_type": "execute_result",
          "data": {
            "text/plain": [
              "33778"
            ]
          },
          "metadata": {
            "tags": []
          },
          "execution_count": 81
        }
      ]
    },
    {
      "cell_type": "code",
      "metadata": {
        "id": "Jd8w_oDohJ0l"
      },
      "source": [
        "def training_loop_l2reg(n_epochs, optimizer, model, loss_fn,\n",
        "                        train_loader):\n",
        "    for epoch in range(1, n_epochs + 1):\n",
        "        loss_train = 0.0\n",
        "        for imgs, labels in train_loader:\n",
        "            imgs = imgs.to(device=device)\n",
        "            labels = labels.to(device=device)\n",
        "            outputs = model(imgs)\n",
        "            loss = loss_fn(outputs, labels)\n",
        "\n",
        "            l2_lambda = 0.001\n",
        "            l2_norm = sum(p.pow(2.0).sum()\n",
        "                          for p in model.parameters())  # <1>\n",
        "            loss = loss + l2_lambda * l2_norm\n",
        "\n",
        "            optimizer.zero_grad()\n",
        "            loss.backward()\n",
        "            optimizer.step()\n",
        "            \n",
        "            loss_train += loss.item()\n",
        "        if epoch == 1 or epoch % 10 == 0:\n",
        "            print('{} Epoch {}, Training loss {}'.format(\n",
        "                datetime.datetime.now(), epoch,\n",
        "                loss_train / len(train_loader)))\n"
      ],
      "execution_count": 82,
      "outputs": []
    },
    {
      "cell_type": "code",
      "metadata": {
        "id": "qbHD3OUkhJ0l",
        "colab": {
          "base_uri": "https://localhost:8080/"
        },
        "outputId": "34c3aaeb-c0da-4aac-f7b0-57adaf3f399d"
      },
      "source": [
        "model = Net().to(device=device)\n",
        "optimizer = optim.SGD(model.parameters(), lr=1e-2)\n",
        "loss_fn = nn.CrossEntropyLoss()\n",
        "\n",
        "training_loop_l2reg(\n",
        "    n_epochs = 100,\n",
        "    optimizer = optimizer,\n",
        "    model = model,\n",
        "    loss_fn = loss_fn,\n",
        "    train_loader = train_loader,\n",
        ")\n",
        "all_acc_dict[\"l2 reg\"] = validate(model, train_loader, val_loader)"
      ],
      "execution_count": 83,
      "outputs": [
        {
          "output_type": "stream",
          "text": [
            "2021-01-18 00:29:49.663273 Epoch 1, Training loss 0.6081016411067574\n",
            "2021-01-18 00:29:55.064917 Epoch 10, Training loss 0.3590327417774565\n",
            "2021-01-18 00:30:01.096201 Epoch 20, Training loss 0.3162141340743205\n",
            "2021-01-18 00:30:07.112422 Epoch 30, Training loss 0.2874802004569655\n",
            "2021-01-18 00:30:13.125562 Epoch 40, Training loss 0.2653866719668079\n",
            "2021-01-18 00:30:19.148212 Epoch 50, Training loss 0.24590984565816867\n",
            "2021-01-18 00:30:25.060891 Epoch 60, Training loss 0.22884414729419028\n",
            "2021-01-18 00:30:31.081391 Epoch 70, Training loss 0.21369962470167003\n",
            "2021-01-18 00:30:37.112388 Epoch 80, Training loss 0.1993749558830717\n",
            "2021-01-18 00:30:43.099765 Epoch 90, Training loss 0.18509321000166\n",
            "2021-01-18 00:30:49.109431 Epoch 100, Training loss 0.17155906425160208\n",
            "Accuracy train: 0.86\n",
            "Accuracy val: 0.83\n"
          ],
          "name": "stdout"
        }
      ]
    },
    {
      "cell_type": "code",
      "metadata": {
        "id": "9iHGESAJhJ0m"
      },
      "source": [
        "class NetDropout(nn.Module):\n",
        "    def __init__(self, n_chans1=32):\n",
        "        super().__init__()\n",
        "        self.n_chans1 = n_chans1\n",
        "        self.conv1 = nn.Conv2d(3, n_chans1, kernel_size=5, padding=1)\n",
        "        self.conv1_dropout = nn.Dropout2d(p=0.4)\n",
        "        self.conv2 = nn.Conv2d(n_chans1, n_chans1 // 2, kernel_size=5,\n",
        "                               padding=1)\n",
        "        self.conv2_dropout = nn.Dropout2d(p=0.4)\n",
        "        self.fc1 = nn.Linear(6 * 6 * n_chans1 // 2, 32)\n",
        "        self.fc2 = nn.Linear(32, 2)\n",
        "        \n",
        "    def forward(self, x):\n",
        "        out = F.max_pool2d(torch.tanh(self.conv1(x)), 2)\n",
        "        out = self.conv1_dropout(out)\n",
        "        out = F.max_pool2d(torch.tanh(self.conv2(out)), 2)\n",
        "        out = self.conv2_dropout(out)\n",
        "        out = out.view(-1, 6 * 6 * self.n_chans1 // 2)\n",
        "        out = torch.tanh(self.fc1(out))\n",
        "        out = self.fc2(out)\n",
        "        return out"
      ],
      "execution_count": 84,
      "outputs": []
    },
    {
      "cell_type": "code",
      "metadata": {
        "id": "KduX37c_hJ0m",
        "colab": {
          "base_uri": "https://localhost:8080/"
        },
        "outputId": "2b297a33-79f7-44b8-ead9-7a9d12df0f5b"
      },
      "source": [
        "model = NetDropout(n_chans1=32).to(device=device)\n",
        "optimizer = optim.SGD(model.parameters(), lr=1e-2)\n",
        "loss_fn = nn.CrossEntropyLoss()\n",
        "\n",
        "training_loop(\n",
        "    n_epochs = 100,\n",
        "    optimizer = optimizer,\n",
        "    model = model,\n",
        "    loss_fn = loss_fn,\n",
        "    train_loader = train_loader,\n",
        ")\n",
        "all_acc_dict[\"dropout\"] = validate(model, train_loader, val_loader)"
      ],
      "execution_count": 85,
      "outputs": [
        {
          "output_type": "stream",
          "text": [
            "2021-01-18 00:30:49.845979 Epoch 1, Training loss 0.5585550121061361\n",
            "2021-01-18 00:30:53.787249 Epoch 10, Training loss 0.37839232688876473\n",
            "2021-01-18 00:30:58.129758 Epoch 20, Training loss 0.3507448516453907\n",
            "2021-01-18 00:31:02.521236 Epoch 30, Training loss 0.33142322899809307\n",
            "2021-01-18 00:31:07.026668 Epoch 40, Training loss 0.31178298791882336\n",
            "2021-01-18 00:31:11.475674 Epoch 50, Training loss 0.29267697586755087\n",
            "2021-01-18 00:31:15.948178 Epoch 60, Training loss 0.2817968895101243\n",
            "2021-01-18 00:31:20.329707 Epoch 70, Training loss 0.2718909647149645\n",
            "2021-01-18 00:31:24.705568 Epoch 80, Training loss 0.2622619166875341\n",
            "2021-01-18 00:31:29.075147 Epoch 90, Training loss 0.25345538404716805\n",
            "2021-01-18 00:31:33.427683 Epoch 100, Training loss 0.23621272153345643\n",
            "Accuracy train: 0.90\n",
            "Accuracy val: 0.87\n"
          ],
          "name": "stdout"
        }
      ]
    },
    {
      "cell_type": "code",
      "metadata": {
        "id": "MLcN8DRThJ0m"
      },
      "source": [
        "class NetBatchNorm(nn.Module):\n",
        "    def __init__(self, n_chans1=32):\n",
        "        super().__init__()\n",
        "        self.n_chans1 = n_chans1\n",
        "        self.conv1 = nn.Conv2d(3, n_chans1, kernel_size=5, padding=1)\n",
        "        self.conv1_batchnorm = nn.BatchNorm2d(num_features=n_chans1)\n",
        "        self.conv2 = nn.Conv2d(n_chans1, n_chans1 // 2, kernel_size=5, \n",
        "                               padding=1)\n",
        "        self.conv2_batchnorm = nn.BatchNorm2d(num_features=n_chans1 // 2)\n",
        "        self.fc1 = nn.Linear(6 * 6 * n_chans1 // 2, 32)\n",
        "        self.fc2 = nn.Linear(32, 2)\n",
        "        \n",
        "    def forward(self, x):\n",
        "        out = self.conv1_batchnorm(self.conv1(x))\n",
        "        out = F.max_pool2d(torch.tanh(out), 2)\n",
        "        out = self.conv2_batchnorm(self.conv2(out))\n",
        "        out = F.max_pool2d(torch.tanh(out), 2)\n",
        "        out = out.view(-1, 6 * 6 * self.n_chans1 // 2)\n",
        "        out = torch.tanh(self.fc1(out))\n",
        "        out = self.fc2(out)\n",
        "        return out"
      ],
      "execution_count": 86,
      "outputs": []
    },
    {
      "cell_type": "code",
      "metadata": {
        "id": "FR_gfCRMhJ0m",
        "colab": {
          "base_uri": "https://localhost:8080/"
        },
        "outputId": "6a570eed-1278-4b14-db69-65445112fbf0"
      },
      "source": [
        "model = NetBatchNorm(n_chans1=32).to(device=device)\n",
        "optimizer = optim.SGD(model.parameters(), lr=1e-2)\n",
        "loss_fn = nn.CrossEntropyLoss()\n",
        "\n",
        "training_loop(\n",
        "    n_epochs = 100,\n",
        "    optimizer = optimizer,\n",
        "    model = model,\n",
        "    loss_fn = loss_fn,\n",
        "    train_loader = train_loader,\n",
        ")\n",
        "all_acc_dict[\"batch_norm\"] = validate(model, train_loader, val_loader)"
      ],
      "execution_count": 87,
      "outputs": [
        {
          "output_type": "stream",
          "text": [
            "2021-01-18 00:31:43.755453 Epoch 1, Training loss 0.48176964680859996\n",
            "2021-01-18 00:31:48.197898 Epoch 10, Training loss 0.2656866928954033\n",
            "2021-01-18 00:31:53.108952 Epoch 20, Training loss 0.174078694906584\n",
            "2021-01-18 00:31:58.009940 Epoch 30, Training loss 0.0920859991697369\n",
            "2021-01-18 00:32:02.867405 Epoch 40, Training loss 0.04420129383564185\n",
            "2021-01-18 00:32:07.738338 Epoch 50, Training loss 0.013122659140996112\n",
            "2021-01-18 00:32:12.634562 Epoch 60, Training loss 0.005532573347994287\n",
            "2021-01-18 00:32:17.487566 Epoch 70, Training loss 0.0032692718694793286\n",
            "2021-01-18 00:32:22.349210 Epoch 80, Training loss 0.0022348781015462935\n",
            "2021-01-18 00:32:27.182915 Epoch 90, Training loss 0.0016593123681600068\n",
            "2021-01-18 00:32:32.069571 Epoch 100, Training loss 0.001292445373596849\n",
            "Accuracy train: 1.00\n",
            "Accuracy val: 0.89\n"
          ],
          "name": "stdout"
        }
      ]
    },
    {
      "cell_type": "code",
      "metadata": {
        "id": "vlCCRDGbhJ0m"
      },
      "source": [
        "class NetDepth(nn.Module):\n",
        "    def __init__(self, n_chans1=32):\n",
        "        super().__init__()\n",
        "        self.n_chans1 = n_chans1\n",
        "        self.conv1 = nn.Conv2d(3, n_chans1, kernel_size=5, padding=1)\n",
        "        self.conv2 = nn.Conv2d(n_chans1, n_chans1 // 2, kernel_size=5,\n",
        "                               padding=1)\n",
        "        self.conv3 = nn.Conv2d(n_chans1 // 2, n_chans1 // 2,\n",
        "                               kernel_size=5, padding=1)\n",
        "        self.fc1 = nn.Linear(2 * 2 * n_chans1 // 2, 32)\n",
        "        self.fc2 = nn.Linear(32, 2)\n",
        "        \n",
        "    def forward(self, x):\n",
        "        out = F.max_pool2d(torch.relu(self.conv1(x)), 2)\n",
        "        out = F.max_pool2d(torch.relu(self.conv2(out)), 2)\n",
        "        out = F.max_pool2d(torch.relu(self.conv3(out)), 2)\n",
        "\n",
        "        out = out.view(-1, 2 * 2 * self.n_chans1 // 2)\n",
        "\n",
        "        out = torch.relu(self.fc1(out))\n",
        "        out = self.fc2(out)\n",
        "        return out"
      ],
      "execution_count": 102,
      "outputs": []
    },
    {
      "cell_type": "code",
      "metadata": {
        "id": "4XRvDNpthJ0n",
        "colab": {
          "base_uri": "https://localhost:8080/"
        },
        "outputId": "b03538da-c0e7-4c36-d5aa-e8abb121a168"
      },
      "source": [
        "model = NetDepth(n_chans1=32).to(device=device)\n",
        "optimizer = optim.SGD(model.parameters(), lr=1e-2)\n",
        "loss_fn = nn.CrossEntropyLoss()\n",
        "\n",
        "training_loop(\n",
        "    n_epochs = 100,\n",
        "    optimizer = optimizer,\n",
        "    model = model,\n",
        "    loss_fn = loss_fn,\n",
        "    train_loader = train_loader,\n",
        ")\n",
        "all_acc_dict[\"depth\"] = validate(model, train_loader, val_loader)"
      ],
      "execution_count": 103,
      "outputs": [
        {
          "output_type": "stream",
          "text": [
            "2021-01-18 00:56:09.446833 Epoch 1, Training loss 0.649695083973514\n",
            "2021-01-18 00:56:13.693314 Epoch 10, Training loss 0.335631963553702\n",
            "2021-01-18 00:56:18.400487 Epoch 20, Training loss 0.27240916469674203\n",
            "2021-01-18 00:56:23.119719 Epoch 30, Training loss 0.22322388828560047\n",
            "2021-01-18 00:56:27.800176 Epoch 40, Training loss 0.17806443320527957\n",
            "2021-01-18 00:56:32.583713 Epoch 50, Training loss 0.13487770346699246\n",
            "2021-01-18 00:56:37.297550 Epoch 60, Training loss 0.08797431853451547\n",
            "2021-01-18 00:56:41.952431 Epoch 70, Training loss 0.07450816005610736\n",
            "2021-01-18 00:56:46.618686 Epoch 80, Training loss 0.02444857274253325\n",
            "2021-01-18 00:56:51.282777 Epoch 90, Training loss 0.009232810169760922\n",
            "2021-01-18 00:56:55.919395 Epoch 100, Training loss 0.004190350129346179\n",
            "Accuracy train: 1.00\n",
            "Accuracy val: 0.90\n"
          ],
          "name": "stdout"
        }
      ]
    },
    {
      "cell_type": "code",
      "metadata": {
        "id": "mTXyvrSchJ0n"
      },
      "source": [
        "class NetRes(nn.Module):\n",
        "    def __init__(self, n_chans1=32):\n",
        "        super().__init__()\n",
        "        self.n_chans1 = n_chans1\n",
        "        self.conv1 = nn.Conv2d(3, n_chans1, kernel_size=5, padding=1)\n",
        "        self.conv2 = nn.Conv2d(n_chans1, n_chans1 // 2, kernel_size=5,\n",
        "                               padding=1)\n",
        "        self.conv3 = nn.Conv2d(n_chans1 // 2, n_chans1 // 2,\n",
        "                               kernel_size=5, padding=2)\n",
        "        self.fc1 = nn.Linear(3 * 3 * n_chans1 // 2, 32)\n",
        "        self.fc2 = nn.Linear(32, 2)\n",
        "        \n",
        "    def forward(self, x):\n",
        "        out = F.max_pool2d(torch.relu(self.conv1(x)), 2)\n",
        "        out = F.max_pool2d(torch.relu(self.conv2(out)), 2)\n",
        "        # print(out.shape)\n",
        "        out1 = out\n",
        "\n",
        "        out = F.max_pool2d(torch.relu(self.conv3(out)) + out1, 2)\n",
        "        # print(out.shape)\n",
        "        out = out.view(-1, 3 * 3 * self.n_chans1 // 2)\n",
        "        out = torch.relu(self.fc1(out))\n",
        "        out = self.fc2(out)\n",
        "        return out"
      ],
      "execution_count": 124,
      "outputs": []
    },
    {
      "cell_type": "code",
      "metadata": {
        "id": "S53IExoohJ0n",
        "colab": {
          "base_uri": "https://localhost:8080/"
        },
        "outputId": "343cdf5b-eef0-46c6-f699-03c588006156"
      },
      "source": [
        "model = NetRes(n_chans1=32).to(device=device)\n",
        "optimizer = optim.SGD(model.parameters(), lr=1e-2)\n",
        "loss_fn = nn.CrossEntropyLoss()\n",
        "\n",
        "training_loop(\n",
        "    n_epochs = 100,\n",
        "    optimizer = optimizer,\n",
        "    model = model,\n",
        "    loss_fn = loss_fn,\n",
        "    train_loader = train_loader,\n",
        ")\n",
        "all_acc_dict[\"res\"] = validate(model, train_loader, val_loader)"
      ],
      "execution_count": 125,
      "outputs": [
        {
          "output_type": "stream",
          "text": [
            "2021-01-18 01:04:03.523116 Epoch 1, Training loss 0.6117263430622732\n",
            "2021-01-18 01:04:07.860146 Epoch 10, Training loss 0.3041455964943406\n",
            "2021-01-18 01:04:12.748363 Epoch 20, Training loss 0.24520518578541506\n",
            "2021-01-18 01:04:17.608054 Epoch 30, Training loss 0.19405303605992325\n",
            "2021-01-18 01:04:22.458602 Epoch 40, Training loss 0.13989758619647116\n",
            "2021-01-18 01:04:27.242429 Epoch 50, Training loss 0.0938817648940785\n",
            "2021-01-18 01:04:32.048067 Epoch 60, Training loss 0.05031976263946409\n",
            "2021-01-18 01:04:36.859271 Epoch 70, Training loss 0.021297352260963364\n",
            "2021-01-18 01:04:41.693076 Epoch 80, Training loss 0.007912669461339143\n",
            "2021-01-18 01:04:46.518044 Epoch 90, Training loss 0.004087905757645276\n",
            "2021-01-18 01:04:51.355538 Epoch 100, Training loss 0.0024708039831714173\n",
            "Accuracy train: 1.00\n",
            "Accuracy val: 0.90\n"
          ],
          "name": "stdout"
        }
      ]
    },
    {
      "cell_type": "code",
      "metadata": {
        "id": "ykA0RGQPhJ0o"
      },
      "source": [
        "class ResBlock(nn.Module):\n",
        "    def __init__(self, n_chans):\n",
        "        super(ResBlock, self).__init__()\n",
        "        self.conv = nn.Conv2d(n_chans, n_chans, kernel_size=5,\n",
        "                              padding=2, bias=False)  # <1>\n",
        "        self.batch_norm = nn.BatchNorm2d(num_features=n_chans)\n",
        "        torch.nn.init.kaiming_normal_(self.conv.weight,\n",
        "                                      nonlinearity='relu')  # <2>\n",
        "        torch.nn.init.constant_(self.batch_norm.weight, 0.5)\n",
        "        torch.nn.init.zeros_(self.batch_norm.bias)\n",
        "\n",
        "    def forward(self, x):\n",
        "        out = self.conv(x)\n",
        "        out = self.batch_norm(out)\n",
        "        out = torch.relu(out)\n",
        "        return out + x"
      ],
      "execution_count": 145,
      "outputs": []
    },
    {
      "cell_type": "code",
      "metadata": {
        "id": "F8anx-sThJ0o"
      },
      "source": [
        "class NetResDeep(nn.Module):\n",
        "    def __init__(self, n_chans1=32, n_blocks=10):\n",
        "        super().__init__()\n",
        "        self.n_chans1 = n_chans1\n",
        "        self.conv1 = nn.Conv2d(3, n_chans1, kernel_size=5, padding=2)\n",
        "        self.resblocks = nn.Sequential(\n",
        "            *(n_blocks * [ResBlock(n_chans=n_chans1)]))\n",
        "        self.fc1 = nn.Linear(8 * 8 * n_chans1, 32)\n",
        "        self.fc2 = nn.Linear(32, 2)\n",
        "        \n",
        "    def forward(self, x):\n",
        "        out = F.max_pool2d(torch.relu(self.conv1(x)), 2)\n",
        "        out = self.resblocks(out)\n",
        "        out = F.max_pool2d(out, 2)\n",
        "        # print(out.shape)\n",
        "        out = out.view(-1, 8 * 8 * self.n_chans1)\n",
        "        out = torch.relu(self.fc1(out))\n",
        "        out = self.fc2(out)\n",
        "        return out"
      ],
      "execution_count": 146,
      "outputs": []
    },
    {
      "cell_type": "code",
      "metadata": {
        "id": "eL-ssVYvhJ0o",
        "colab": {
          "base_uri": "https://localhost:8080/"
        },
        "outputId": "40191b41-2923-480a-9535-e90c6c898a18"
      },
      "source": [
        "model = NetResDeep(n_chans1=32, n_blocks=100).to(device=device)\n",
        "optimizer = optim.SGD(model.parameters(), lr=3e-3)\n",
        "loss_fn = nn.CrossEntropyLoss()\n",
        "\n",
        "training_loop(\n",
        "    n_epochs = 100,\n",
        "    optimizer = optimizer,\n",
        "    model = model,\n",
        "    loss_fn = loss_fn,\n",
        "    train_loader = train_loader,\n",
        ")\n",
        "all_acc_dict[\"res deep\"] = validate(model, train_loader, val_loader)"
      ],
      "execution_count": 147,
      "outputs": [
        {
          "output_type": "stream",
          "text": [
            "2021-01-18 01:14:17.904750 Epoch 1, Training loss 1.9778876494450175\n",
            "2021-01-18 01:15:21.443589 Epoch 10, Training loss 0.40238375060117926\n",
            "2021-01-18 01:16:32.511604 Epoch 20, Training loss 0.34258457913899876\n",
            "2021-01-18 01:17:42.953205 Epoch 30, Training loss 0.30300419179687077\n",
            "2021-01-18 01:18:53.161585 Epoch 40, Training loss 0.2652076621818694\n",
            "2021-01-18 01:20:03.251089 Epoch 50, Training loss 0.2293198730583024\n",
            "2021-01-18 01:21:13.110782 Epoch 60, Training loss 0.19398721480730233\n",
            "2021-01-18 01:22:22.779765 Epoch 70, Training loss 0.1642685047333028\n",
            "2021-01-18 01:23:32.763660 Epoch 80, Training loss 0.13106674730635373\n",
            "2021-01-18 01:24:42.740155 Epoch 90, Training loss 0.11255839398237551\n",
            "2021-01-18 01:25:53.307920 Epoch 100, Training loss 0.1028008643347936\n",
            "Accuracy train: 0.94\n",
            "Accuracy val: 0.86\n"
          ],
          "name": "stdout"
        }
      ]
    },
    {
      "cell_type": "code",
      "metadata": {
        "id": "nlHGgAG2CIwg"
      },
      "source": [
        "# class ResBlock5(nn.Module):\r\n",
        "#     def __init__(self, n_chans):\r\n",
        "#         super(ResBlock, self).__init__()\r\n",
        "#         self.conv = nn.Conv2d(n_chans, n_chans, kernel_size=5,\r\n",
        "#                               padding=1, bias=False)  # <1>\r\n",
        "#         self.batch_norm = nn.BatchNorm2d(num_features=n_chans)\r\n",
        "#         torch.nn.init.kaiming_normal_(self.conv.weight,\r\n",
        "#                                       nonlinearity='relu')  # <2>\r\n",
        "#         torch.nn.init.constant_(self.batch_norm.weight, 0.5)\r\n",
        "#         torch.nn.init.zeros_(self.batch_norm.bias)\r\n",
        "\r\n",
        "#     def forward(self, x):\r\n",
        "#         out = self.conv(x)\r\n",
        "#         out = self.batch_norm(out)\r\n",
        "#         out = torch.relu(out)\r\n",
        "#         return out + x"
      ],
      "execution_count": null,
      "outputs": []
    },
    {
      "cell_type": "code",
      "metadata": {
        "id": "0hwhur6kCJTq"
      },
      "source": [
        "# class NetResDeep5(nn.Module):\r\n",
        "#     def __init__(self, n_chans1=32, n_blocks=10):\r\n",
        "#         super().__init__()\r\n",
        "#         self.n_chans1 = n_chans1\r\n",
        "#         self.conv1 = nn.Conv2d(3, n_chans1, kernel_size=5, padding=1)\r\n",
        "#         self.resblocks = nn.Sequential(\r\n",
        "#             *(n_blocks * [ResBlock5(n_chans=n_chans1)]))\r\n",
        "#         self.fc1 = nn.Linear(8 * 8 * n_chans1, 32)\r\n",
        "#         self.fc2 = nn.Linear(32, 2)\r\n",
        "        \r\n",
        "#     def forward(self, x):\r\n",
        "#         out = F.max_pool2d(torch.relu(self.conv1(x)), 2)\r\n",
        "#         out = self.resblocks(out)\r\n",
        "#         out = F.max_pool2d(out, 2)\r\n",
        "#         out = out.view(-1, 8 * 8 * self.n_chans1)\r\n",
        "#         out = torch.relu(self.fc1(out))\r\n",
        "#         out = self.fc2(out)\r\n",
        "#         return out\r\n",
        "    \r\n"
      ],
      "execution_count": null,
      "outputs": []
    },
    {
      "cell_type": "code",
      "metadata": {
        "id": "6JkTljRMC0IX"
      },
      "source": [
        "# model = NetResDeep5(n_chans1=32, n_blocks=100).to(device=device)\r\n",
        "# optimizer = optim.SGD(model.parameters(), lr=3e-3)\r\n",
        "# loss_fn = nn.CrossEntropyLoss()\r\n",
        "\r\n",
        "# training_loop(\r\n",
        "#     n_epochs = 100,\r\n",
        "#     optimizer = optimizer,\r\n",
        "#     model = model,\r\n",
        "#     loss_fn = loss_fn,\r\n",
        "#     train_loader = train_loader,\r\n",
        "# )\r\n",
        "# all_acc_dict[\"res deep5\"] = validate(model, train_loader, val_loader)"
      ],
      "execution_count": null,
      "outputs": []
    },
    {
      "cell_type": "code",
      "metadata": {
        "id": "4UsXuRdehJ0p",
        "colab": {
          "base_uri": "https://localhost:8080/",
          "height": 316
        },
        "outputId": "1b0b4a5f-d8d4-4c8a-89cd-b438e4c9bfab"
      },
      "source": [
        "trn_acc = [v['train'] for k, v in all_acc_dict.items()]\n",
        "val_acc = [v['val'] for k, v in all_acc_dict.items()]\n",
        "\n",
        "width =0.3\n",
        "plt.bar(np.arange(len(trn_acc)), trn_acc, width=width, label='train')\n",
        "plt.bar(np.arange(len(val_acc))+ width, val_acc, width=width, label='val')\n",
        "plt.xticks(np.arange(len(val_acc))+ width/2, list(all_acc_dict.keys()),\n",
        "           rotation=60)\n",
        "plt.ylabel('accuracy')\n",
        "plt.legend(loc='lower right')\n",
        "plt.ylim(0.7, 1)\n",
        "plt.savefig('accuracy_comparison.png', bbox_inches='tight')\n",
        "plt.show()\n"
      ],
      "execution_count": 148,
      "outputs": [
        {
          "output_type": "display_data",
          "data": {
            "image/png": "[encoded data removed]",
            "text/plain": [
              "<Figure size 432x288 with 1 Axes>"
            ]
          },
          "metadata": {
            "tags": [],
            "needs_background": "light"
          }
        }
      ]
    },
    {
      "cell_type": "markdown",
      "metadata": {
        "id": "3FH8sV-tjBOV"
      },
      "source": [
        "![graph.png](data:image/png;base64,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)\r\n"
      ]
    },
    {
      "cell_type": "markdown",
      "metadata": {
        "id": "epxMdjHBja_h"
      },
      "source": [
        "The one in below uses kernal size of 3 by 3."
      ]
    },
    {
      "cell_type": "code",
      "metadata": {
        "id": "jWrlu-s-hJ0p"
      },
      "source": [
        "m1 = NetResDeep()"
      ],
      "execution_count": null,
      "outputs": []
    },
    {
      "cell_type": "code",
      "metadata": {
        "id": "lnmBphFVqDi1"
      },
      "source": [
        ""
      ],
      "execution_count": null,
      "outputs": []
    },
    {
      "cell_type": "code",
      "metadata": {
        "id": "rx_DNDVEpJR-"
      },
      "source": [
        "m1"
      ],
      "execution_count": null,
      "outputs": []
    },
    {
      "cell_type": "markdown",
      "metadata": {
        "id": "OlHZuVnlC78r"
      },
      "source": [
        " Exercises\r\n",
        "\r\n",
        "1 Change our model to use a 5 × 5 kernel with kernel_size=5 passed to the\r\n",
        "nn.Conv2d constructor.\r\n",
        "\r\n",
        "a What impact does this change have on the number of parameters in the\r\n",
        "model?\r\n",
        "\r\n",
        "b Does the change improve or degrade overfitting?\r\n",
        "\r\n",
        "c Read https://pytorch.org/docs/stable/nn.html#conv2d.\r\n",
        "\r\n",
        "d Can you describe what kernel_size=(1,3) will do?\r\n",
        "\r\n",
        "e How does the model behave with such a kernel?\r\n",
        "\r\n",
        "2 Can you find an image that contains neither a bird nor an airplane, but that the\r\n",
        "model claims has one or the other with more than 95% confidence?\r\n",
        "\r\n",
        "a Can you manually edit a neutral image to make it more airplane-like?\r\n",
        "\r\n",
        "b Can you manually edit an airplane image to trick the model into reporting a\r\n",
        "bird?\r\n",
        "\r\n",
        "c Do these tasks get easier with a network with less capacity? More capacity?\r\n"
      ]
    },
    {
      "cell_type": "code",
      "metadata": {
        "id": "EsxD4oQTC58G"
      },
      "source": [
        ""
      ],
      "execution_count": null,
      "outputs": []
    },
    {
      "cell_type": "code",
      "metadata": {
        "id": "uXMMoGZGpJzE"
      },
      "source": [
        ""
      ],
      "execution_count": null,
      "outputs": []
    }
  ]
}