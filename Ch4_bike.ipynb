{
  "nbformat": 4,
  "nbformat_minor": 0,
  "metadata": {
    "colab": {
      "name": "Ch4_bike.ipynb",
      "provenance": [],
      "authorship_tag": "ABX9TyPLGjmT31skR2R2zmY75/rq",
      "include_colab_link": true
    },
    "kernelspec": {
      "name": "python3",
      "display_name": "Python 3"
    },
    "accelerator": "GPU"
  },
  "cells": [
    {
      "cell_type": "markdown",
      "metadata": {
        "id": "view-in-github",
        "colab_type": "text"
      },
      "source": [
        "<a href=\"https://colab.research.google.com/github/JonathanSum/pytorch-Deep-Learning_colab/blob/master/Ch4_bike.ipynb\" target=\"_parent\"><img src=\"https://colab.research.google.com/assets/colab-badge.svg\" alt=\"Open In Colab\"/></a>"
      ]
    },
    {
      "cell_type": "code",
      "metadata": {
        "colab": {
          "base_uri": "https://localhost:8080/"
        },
        "id": "xcofrvYb09qQ",
        "outputId": "c3d5b22c-7887-4263-ef61-082a133efe28"
      },
      "source": [
        "!git clone https://github.com/deep-learning-with-pytorch/dlwpt-code.git\r\n",
        "!git clone https://github.com/JonathanSum/JonathanSum.git"
      ],
      "execution_count": 1,
      "outputs": [
        {
          "output_type": "stream",
          "text": [
            "Cloning into 'dlwpt-code'...\n",
            "remote: Enumerating objects: 17, done.\u001b[K\n",
            "remote: Counting objects: 100% (17/17), done.\u001b[K\n",
            "remote: Compressing objects: 100% (16/16), done.\u001b[K\n",
            "remote: Total 703 (delta 7), reused 2 (delta 1), pack-reused 686\u001b[K\n",
            "Receiving objects: 100% (703/703), 185.80 MiB | 24.93 MiB/s, done.\n",
            "Resolving deltas: 100% (303/303), done.\n",
            "Checking out files: 100% (228/228), done.\n",
            "Cloning into 'JonathanSum'...\n",
            "remote: Enumerating objects: 84, done.\u001b[K\n",
            "remote: Counting objects: 100% (84/84), done.\u001b[K\n",
            "remote: Compressing objects: 100% (84/84), done.\u001b[K\n",
            "remote: Total 262 (delta 33), reused 0 (delta 0), pack-reused 178\u001b[K\n",
            "Receiving objects: 100% (262/262), 27.96 MiB | 17.29 MiB/s, done.\n",
            "Resolving deltas: 100% (132/132), done.\n"
          ],
          "name": "stdout"
        }
      ]
    },
    {
      "cell_type": "code",
      "metadata": {
        "id": "0eZP2pFO3VtE"
      },
      "source": [
        "import numpy as np\r\n",
        "import torch"
      ],
      "execution_count": 2,
      "outputs": []
    },
    {
      "cell_type": "code",
      "metadata": {
        "id": "W7xEkD433g7L"
      },
      "source": [
        ""
      ],
      "execution_count": 2,
      "outputs": []
    },
    {
      "cell_type": "code",
      "metadata": {
        "id": "httiP7022wmq"
      },
      "source": [
        "#Converts date strings to\r\n",
        "#numbers corresponding to the\r\n",
        "#day of the month in column 1\r\n",
        "\r\n",
        "\r\n",
        "bikes_numpy = np.loadtxt(\r\n",
        "\"/content/dlwpt-code/data/p1ch4/bike-sharing-dataset/hour-fixed.csv\",\r\n",
        "dtype=np.float32,\r\n",
        "delimiter=\",\",\r\n",
        "skiprows=1,\r\n",
        "converters={1: lambda x: float(x[8:10])})"
      ],
      "execution_count": 3,
      "outputs": []
    },
    {
      "cell_type": "code",
      "metadata": {
        "colab": {
          "base_uri": "https://localhost:8080/"
        },
        "id": "UiaLgUN0343g",
        "outputId": "b0898097-7aea-43da-9300-4d815c38416b"
      },
      "source": [
        "bikes = torch.from_numpy(bikes_numpy)\r\n",
        "bikes"
      ],
      "execution_count": 4,
      "outputs": [
        {
          "output_type": "execute_result",
          "data": {
            "text/plain": [
              "tensor([[1.0000e+00, 1.0000e+00, 1.0000e+00,  ..., 3.0000e+00, 1.3000e+01,\n",
              "         1.6000e+01],\n",
              "        [2.0000e+00, 1.0000e+00, 1.0000e+00,  ..., 8.0000e+00, 3.2000e+01,\n",
              "         4.0000e+01],\n",
              "        [3.0000e+00, 1.0000e+00, 1.0000e+00,  ..., 5.0000e+00, 2.7000e+01,\n",
              "         3.2000e+01],\n",
              "        ...,\n",
              "        [1.7377e+04, 3.1000e+01, 1.0000e+00,  ..., 7.0000e+00, 8.3000e+01,\n",
              "         9.0000e+01],\n",
              "        [1.7378e+04, 3.1000e+01, 1.0000e+00,  ..., 1.3000e+01, 4.8000e+01,\n",
              "         6.1000e+01],\n",
              "        [1.7379e+04, 3.1000e+01, 1.0000e+00,  ..., 1.2000e+01, 3.7000e+01,\n",
              "         4.9000e+01]])"
            ]
          },
          "metadata": {
            "tags": []
          },
          "execution_count": 4
        }
      ]
    },
    {
      "cell_type": "code",
      "metadata": {
        "colab": {
          "base_uri": "https://localhost:8080/"
        },
        "id": "0h6a-bMI3RCI",
        "outputId": "3ee5b49a-4e1e-4d53-e085-f32b2611a315"
      },
      "source": [
        "bikes.shape, bikes.stride(), bikes[:24].shape"
      ],
      "execution_count": 5,
      "outputs": [
        {
          "output_type": "execute_result",
          "data": {
            "text/plain": [
              "(torch.Size([17520, 17]), (17, 1), torch.Size([24, 17]))"
            ]
          },
          "metadata": {
            "tags": []
          },
          "execution_count": 5
        }
      ]
    },
    {
      "cell_type": "code",
      "metadata": {
        "colab": {
          "base_uri": "https://localhost:8080/"
        },
        "id": "IKE3v2Rg3RMN",
        "outputId": "b3cad2fd-7924-4d4b-868b-6a969fb357b5"
      },
      "source": [
        "daily_bikes = bikes.view(-1, 24, bikes.shape[1])\r\n",
        "daily_bikes.shape, daily_bikes.stride()"
      ],
      "execution_count": 6,
      "outputs": [
        {
          "output_type": "execute_result",
          "data": {
            "text/plain": [
              "(torch.Size([730, 24, 17]), (408, 17, 1))"
            ]
          },
          "metadata": {
            "tags": []
          },
          "execution_count": 6
        }
      ]
    },
    {
      "cell_type": "code",
      "metadata": {
        "colab": {
          "base_uri": "https://localhost:8080/"
        },
        "id": "ybwYd9JY3Rm2",
        "outputId": "ed7f9f00-82dd-4b48-f9ff-8849d76e4163"
      },
      "source": [
        "daily_bikes = daily_bikes.transpose(1, 2)\r\n",
        "daily_bikes.shape, daily_bikes.stride()"
      ],
      "execution_count": 7,
      "outputs": [
        {
          "output_type": "execute_result",
          "data": {
            "text/plain": [
              "(torch.Size([730, 17, 24]), (408, 1, 17))"
            ]
          },
          "metadata": {
            "tags": []
          },
          "execution_count": 7
        }
      ]
    },
    {
      "cell_type": "code",
      "metadata": {
        "colab": {
          "base_uri": "https://localhost:8080/"
        },
        "id": "pQ0iYUIUvEQj",
        "outputId": "1d93fd97-eb37-4ab5-cf08-20f58c875d8a"
      },
      "source": [
        "bikes[:24].long()"
      ],
      "execution_count": 8,
      "outputs": [
        {
          "output_type": "execute_result",
          "data": {
            "text/plain": [
              "tensor([[  1,   1,   1,   0,   1,   0,   0,   6,   0,   1,   0,   0,   0,   0,\n",
              "           3,  13,  16],\n",
              "        [  2,   1,   1,   0,   1,   1,   0,   6,   0,   1,   0,   0,   0,   0,\n",
              "           8,  32,  40],\n",
              "        [  3,   1,   1,   0,   1,   2,   0,   6,   0,   1,   0,   0,   0,   0,\n",
              "           5,  27,  32],\n",
              "        [  4,   1,   1,   0,   1,   3,   0,   6,   0,   1,   0,   0,   0,   0,\n",
              "           3,  10,  13],\n",
              "        [  5,   1,   1,   0,   1,   4,   0,   6,   0,   1,   0,   0,   0,   0,\n",
              "           0,   1,   1],\n",
              "        [  6,   1,   1,   0,   1,   5,   0,   6,   0,   2,   0,   0,   0,   0,\n",
              "           0,   1,   1],\n",
              "        [  7,   1,   1,   0,   1,   6,   0,   6,   0,   1,   0,   0,   0,   0,\n",
              "           2,   0,   2],\n",
              "        [  8,   1,   1,   0,   1,   7,   0,   6,   0,   1,   0,   0,   0,   0,\n",
              "           1,   2,   3],\n",
              "        [  9,   1,   1,   0,   1,   8,   0,   6,   0,   1,   0,   0,   0,   0,\n",
              "           1,   7,   8],\n",
              "        [ 10,   1,   1,   0,   1,   9,   0,   6,   0,   1,   0,   0,   0,   0,\n",
              "           8,   6,  14],\n",
              "        [ 11,   1,   1,   0,   1,  10,   0,   6,   0,   1,   0,   0,   0,   0,\n",
              "          12,  24,  36],\n",
              "        [ 12,   1,   1,   0,   1,  11,   0,   6,   0,   1,   0,   0,   0,   0,\n",
              "          26,  30,  56],\n",
              "        [ 13,   1,   1,   0,   1,  12,   0,   6,   0,   1,   0,   0,   0,   0,\n",
              "          29,  55,  84],\n",
              "        [ 14,   1,   1,   0,   1,  13,   0,   6,   0,   2,   0,   0,   0,   0,\n",
              "          47,  47,  94],\n",
              "        [ 15,   1,   1,   0,   1,  14,   0,   6,   0,   2,   0,   0,   0,   0,\n",
              "          35,  71, 106],\n",
              "        [ 16,   1,   1,   0,   1,  15,   0,   6,   0,   2,   0,   0,   0,   0,\n",
              "          40,  70, 110],\n",
              "        [ 17,   1,   1,   0,   1,  16,   0,   6,   0,   2,   0,   0,   0,   0,\n",
              "          41,  52,  93],\n",
              "        [ 18,   1,   1,   0,   1,  17,   0,   6,   0,   2,   0,   0,   0,   0,\n",
              "          15,  52,  67],\n",
              "        [ 19,   1,   1,   0,   1,  18,   0,   6,   0,   3,   0,   0,   0,   0,\n",
              "           9,  26,  35],\n",
              "        [ 20,   1,   1,   0,   1,  19,   0,   6,   0,   3,   0,   0,   0,   0,\n",
              "           6,  31,  37],\n",
              "        [ 21,   1,   1,   0,   1,  20,   0,   6,   0,   2,   0,   0,   0,   0,\n",
              "          11,  25,  36],\n",
              "        [ 22,   1,   1,   0,   1,  21,   0,   6,   0,   2,   0,   0,   0,   0,\n",
              "           3,  31,  34],\n",
              "        [ 23,   1,   1,   0,   1,  22,   0,   6,   0,   2,   0,   0,   0,   0,\n",
              "          11,  17,  28],\n",
              "        [ 24,   1,   1,   0,   1,  23,   0,   6,   0,   2,   0,   0,   0,   0,\n",
              "          15,  24,  39]])"
            ]
          },
          "metadata": {
            "tags": []
          },
          "execution_count": 8
        }
      ]
    },
    {
      "cell_type": "code",
      "metadata": {
        "colab": {
          "base_uri": "https://localhost:8080/"
        },
        "id": "zF6tc3-93Rvl",
        "outputId": "5f952fae-6810-4583-c339-525db99ec1fe"
      },
      "source": [
        "first_day = bikes[:24].long()\r\n",
        "weather_onehot = torch.zeros(first_day.shape[0], 4)\r\n",
        "first_day[:,9]"
      ],
      "execution_count": 9,
      "outputs": [
        {
          "output_type": "execute_result",
          "data": {
            "text/plain": [
              "tensor([1, 1, 1, 1, 1, 2, 1, 1, 1, 1, 1, 1, 1, 2, 2, 2, 2, 2, 3, 3, 2, 2, 2, 2])"
            ]
          },
          "metadata": {
            "tags": []
          },
          "execution_count": 9
        }
      ]
    },
    {
      "cell_type": "code",
      "metadata": {
        "colab": {
          "base_uri": "https://localhost:8080/"
        },
        "id": "k5Fr_LTu3RrH",
        "outputId": "199aad93-693e-4aea-bba1-c71b91d46e99"
      },
      "source": [
        "first_day[:,9].shape"
      ],
      "execution_count": 10,
      "outputs": [
        {
          "output_type": "execute_result",
          "data": {
            "text/plain": [
              "torch.Size([24])"
            ]
          },
          "metadata": {
            "tags": []
          },
          "execution_count": 10
        }
      ]
    },
    {
      "cell_type": "code",
      "metadata": {
        "colab": {
          "base_uri": "https://localhost:8080/"
        },
        "id": "BMX6-TUe3SGo",
        "outputId": "09a7609e-b090-42b1-d159-ff8e6eb24194"
      },
      "source": [
        "weather_onehot.scatter_(\r\n",
        "    dim=1,\r\n",
        "    index=first_day[:,9].unsqueeze(1).long() - 1,\r\n",
        "    value=1.0)"
      ],
      "execution_count": 11,
      "outputs": [
        {
          "output_type": "execute_result",
          "data": {
            "text/plain": [
              "tensor([[1., 0., 0., 0.],\n",
              "        [1., 0., 0., 0.],\n",
              "        [1., 0., 0., 0.],\n",
              "        [1., 0., 0., 0.],\n",
              "        [1., 0., 0., 0.],\n",
              "        [0., 1., 0., 0.],\n",
              "        [1., 0., 0., 0.],\n",
              "        [1., 0., 0., 0.],\n",
              "        [1., 0., 0., 0.],\n",
              "        [1., 0., 0., 0.],\n",
              "        [1., 0., 0., 0.],\n",
              "        [1., 0., 0., 0.],\n",
              "        [1., 0., 0., 0.],\n",
              "        [0., 1., 0., 0.],\n",
              "        [0., 1., 0., 0.],\n",
              "        [0., 1., 0., 0.],\n",
              "        [0., 1., 0., 0.],\n",
              "        [0., 1., 0., 0.],\n",
              "        [0., 0., 1., 0.],\n",
              "        [0., 0., 1., 0.],\n",
              "        [0., 1., 0., 0.],\n",
              "        [0., 1., 0., 0.],\n",
              "        [0., 1., 0., 0.],\n",
              "        [0., 1., 0., 0.]])"
            ]
          },
          "metadata": {
            "tags": []
          },
          "execution_count": 11
        }
      ]
    },
    {
      "cell_type": "code",
      "metadata": {
        "colab": {
          "base_uri": "https://localhost:8080/"
        },
        "id": "mD69_MzQMXuE",
        "outputId": "b51858d0-d28d-44cc-ccab-01a63b004b82"
      },
      "source": [
        "weather_onehot.shape"
      ],
      "execution_count": 12,
      "outputs": [
        {
          "output_type": "execute_result",
          "data": {
            "text/plain": [
              "torch.Size([24, 4])"
            ]
          },
          "metadata": {
            "tags": []
          },
          "execution_count": 12
        }
      ]
    },
    {
      "cell_type": "code",
      "metadata": {
        "colab": {
          "base_uri": "https://localhost:8080/"
        },
        "id": "y3WggAC83SkL",
        "outputId": "9212fd34-092b-4d11-c12e-43077e3b1a98"
      },
      "source": [
        "bikes[:24].shape"
      ],
      "execution_count": 13,
      "outputs": [
        {
          "output_type": "execute_result",
          "data": {
            "text/plain": [
              "torch.Size([24, 17])"
            ]
          },
          "metadata": {
            "tags": []
          },
          "execution_count": 13
        }
      ]
    },
    {
      "cell_type": "code",
      "metadata": {
        "colab": {
          "base_uri": "https://localhost:8080/"
        },
        "id": "FzQyJRilMaCe",
        "outputId": "2675efed-ddd8-4335-ed5e-41c71b4ad95f"
      },
      "source": [
        "torch.cat((bikes[:24], weather_onehot), 1)[:1].shape"
      ],
      "execution_count": 14,
      "outputs": [
        {
          "output_type": "execute_result",
          "data": {
            "text/plain": [
              "torch.Size([1, 21])"
            ]
          },
          "metadata": {
            "tags": []
          },
          "execution_count": 14
        }
      ]
    },
    {
      "cell_type": "code",
      "metadata": {
        "colab": {
          "base_uri": "https://localhost:8080/"
        },
        "id": "PFREvGvA3SnP",
        "outputId": "50747296-3dcb-4b3d-c0e5-540eac0af5d7"
      },
      "source": [
        "torch.cat((bikes[:24], weather_onehot), 1).shape"
      ],
      "execution_count": 15,
      "outputs": [
        {
          "output_type": "execute_result",
          "data": {
            "text/plain": [
              "torch.Size([24, 21])"
            ]
          },
          "metadata": {
            "tags": []
          },
          "execution_count": 15
        }
      ]
    },
    {
      "cell_type": "code",
      "metadata": {
        "colab": {
          "base_uri": "https://localhost:8080/"
        },
        "id": "PPtiEzwZYQXF",
        "outputId": "eac4ff28-dcfe-41cc-ce48-fceb3905d105"
      },
      "source": [
        "daily_bikes.shape "
      ],
      "execution_count": 16,
      "outputs": [
        {
          "output_type": "execute_result",
          "data": {
            "text/plain": [
              "torch.Size([730, 17, 24])"
            ]
          },
          "metadata": {
            "tags": []
          },
          "execution_count": 16
        }
      ]
    },
    {
      "cell_type": "code",
      "metadata": {
        "colab": {
          "base_uri": "https://localhost:8080/"
        },
        "id": "DOnvPKhtexAs",
        "outputId": "d289229f-443c-4bce-dc94-730710332ffa"
      },
      "source": [
        "daily_weather_onehot = torch.zeros(daily_bikes.shape[0], 4,\r\n",
        "                                   daily_bikes.shape[2])\r\n",
        "daily_weather_onehot.shape"
      ],
      "execution_count": 17,
      "outputs": [
        {
          "output_type": "execute_result",
          "data": {
            "text/plain": [
              "torch.Size([730, 4, 24])"
            ]
          },
          "metadata": {
            "tags": []
          },
          "execution_count": 17
        }
      ]
    },
    {
      "cell_type": "code",
      "metadata": {
        "colab": {
          "base_uri": "https://localhost:8080/"
        },
        "id": "PyiobulIok4m",
        "outputId": "059e0662-28e5-49f9-af50-01c525928f25"
      },
      "source": [
        "daily_bikes[:,9,:].shape"
      ],
      "execution_count": 18,
      "outputs": [
        {
          "output_type": "execute_result",
          "data": {
            "text/plain": [
              "torch.Size([730, 24])"
            ]
          },
          "metadata": {
            "tags": []
          },
          "execution_count": 18
        }
      ]
    },
    {
      "cell_type": "code",
      "metadata": {
        "id": "ElVUWNdqo7ct"
      },
      "source": [
        "daily_bikes = torch.cat((daily_bikes, daily_weather_onehot), dim=1)\r\n"
      ],
      "execution_count": 19,
      "outputs": []
    },
    {
      "cell_type": "code",
      "metadata": {
        "colab": {
          "base_uri": "https://localhost:8080/"
        },
        "id": "Ovp7wIhRpUUt",
        "outputId": "b057ed79-154f-4a79-9414-e19ebb109552"
      },
      "source": [
        "daily_bikes.shape, daily_weather_onehot.shape"
      ],
      "execution_count": 20,
      "outputs": [
        {
          "output_type": "execute_result",
          "data": {
            "text/plain": [
              "(torch.Size([730, 21, 24]), torch.Size([730, 4, 24]))"
            ]
          },
          "metadata": {
            "tags": []
          },
          "execution_count": 20
        }
      ]
    },
    {
      "cell_type": "code",
      "metadata": {
        "id": "8g6XqmPwuWfQ"
      },
      "source": [
        "daily_bikes[:, 9, :] = (daily_bikes[:, 9, :] - 1.0) / 3.0"
      ],
      "execution_count": 21,
      "outputs": []
    },
    {
      "cell_type": "code",
      "metadata": {
        "colab": {
          "base_uri": "https://localhost:8080/"
        },
        "id": "wVZRrXv24K4M",
        "outputId": "1864fe8c-89dc-4e4d-e511-ee0b55235ff1"
      },
      "source": [
        "daily_bikes.shape"
      ],
      "execution_count": 22,
      "outputs": [
        {
          "output_type": "execute_result",
          "data": {
            "text/plain": [
              "torch.Size([730, 21, 24])"
            ]
          },
          "metadata": {
            "tags": []
          },
          "execution_count": 22
        }
      ]
    },
    {
      "cell_type": "code",
      "metadata": {
        "colab": {
          "base_uri": "https://localhost:8080/"
        },
        "id": "hOStayIo6YRN",
        "outputId": "f574f40f-caf0-44b3-ded2-8e0d730561ba"
      },
      "source": [
        "temp = daily_bikes[:, 10, :]\r\n",
        "temp_min = torch.min(temp)\r\n",
        "temp_max = torch.max(temp)\r\n",
        "print(temp_min, temp_max)\r\n",
        "daily_bikes[:, 10, :] = ((daily_bikes[:, 10, :] - temp_min)/ (temp_max - temp_min))"
      ],
      "execution_count": 23,
      "outputs": [
        {
          "output_type": "stream",
          "text": [
            "tensor(0.0200) tensor(1.)\n"
          ],
          "name": "stdout"
        }
      ]
    },
    {
      "cell_type": "code",
      "metadata": {
        "id": "5_tPFyhB7FJa"
      },
      "source": [
        "temp = daily_bikes[:, 10, :]\r\n",
        "daily_bikes[:, 10, :] = ((daily_bikes[:, 10, :] - torch.mean(temp)) / torch.std(temp))"
      ],
      "execution_count": 24,
      "outputs": []
    }
  ]
}