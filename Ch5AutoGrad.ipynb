{
  "nbformat": 4,
  "nbformat_minor": 0,
  "metadata": {
    "colab": {
      "name": "Ch5AutoGrad.ipynb",
      "provenance": [],
      "authorship_tag": "ABX9TyOJXXjYrZ0fDKYLMJw3xb6D",
      "include_colab_link": true
    },
    "kernelspec": {
      "name": "python3",
      "display_name": "Python 3"
    },
    "accelerator": "GPU"
  },
  "cells": [
    {
      "cell_type": "markdown",
      "metadata": {
        "id": "view-in-github",
        "colab_type": "text"
      },
      "source": [
        "<a href=\"https://colab.research.google.com/github/JonathanSum/pytorch-Deep-Learning_colab/blob/master/Ch5AutoGrad.ipynb\" target=\"_parent\"><img src=\"https://colab.research.google.com/assets/colab-badge.svg\" alt=\"Open In Colab\"/></a>"
      ]
    },
    {
      "cell_type": "code",
      "metadata": {
        "colab": {
          "base_uri": "https://localhost:8080/"
        },
        "id": "I4Eu0G8NmXqs",
        "outputId": "e1376d37-5335-4f23-f85d-dc872bb02162"
      },
      "source": [
        "!git clone https://github.com/deep-learning-with-pytorch/dlwpt-code.git\r\n",
        "!git clone https://github.com/JonathanSum/JonathanSum.git"
      ],
      "execution_count": 1,
      "outputs": [
        {
          "output_type": "stream",
          "text": [
            "Cloning into 'dlwpt-code'...\n",
            "remote: Enumerating objects: 17, done.\u001b[K\n",
            "remote: Counting objects: 100% (17/17), done.\u001b[K\n",
            "remote: Compressing objects: 100% (16/16), done.\u001b[K\n",
            "remote: Total 703 (delta 7), reused 2 (delta 1), pack-reused 686\u001b[K\n",
            "Receiving objects: 100% (703/703), 185.80 MiB | 16.88 MiB/s, done.\n",
            "Resolving deltas: 100% (303/303), done.\n",
            "Checking out files: 100% (228/228), done.\n",
            "Cloning into 'JonathanSum'...\n",
            "remote: Enumerating objects: 84, done.\u001b[K\n",
            "remote: Counting objects: 100% (84/84), done.\u001b[K\n",
            "remote: Compressing objects: 100% (84/84), done.\u001b[K\n",
            "remote: Total 262 (delta 33), reused 0 (delta 0), pack-reused 178\u001b[K\n",
            "Receiving objects: 100% (262/262), 27.96 MiB | 10.69 MiB/s, done.\n",
            "Resolving deltas: 100% (132/132), done.\n"
          ],
          "name": "stdout"
        }
      ]
    },
    {
      "cell_type": "code",
      "metadata": {
        "id": "Q9RReNPurpMx"
      },
      "source": [
        "import torch"
      ],
      "execution_count": 2,
      "outputs": []
    },
    {
      "cell_type": "code",
      "metadata": {
        "id": "dh6qNyJknVFW"
      },
      "source": [
        "t_c = [0.5, 14.0, 15.0, 28.0, 11.0, 8.0, 3.0, -4.0, 6.0, 13.0, 21.0]\r\n",
        "t_u = [35.7, 55.9, 58.2, 81.9, 56.3, 48.9, 33.9, 21.8, 48.4, 60.4, 68.4]\r\n",
        "t_c = torch.tensor(t_c)\r\n",
        "t_u = torch.tensor(t_u)"
      ],
      "execution_count": 3,
      "outputs": []
    },
    {
      "cell_type": "code",
      "metadata": {
        "id": "Pof3uOALrrhs"
      },
      "source": [
        "def model(t_u, w, b):\r\n",
        "    return w * t_u + b"
      ],
      "execution_count": 4,
      "outputs": []
    },
    {
      "cell_type": "code",
      "metadata": {
        "id": "R3qlpsauwF-1"
      },
      "source": [
        "def loss_fn(t_p, t_c):\r\n",
        "    squared_diffs = (t_p - t_c)**2\r\n",
        "    return squared_diffs.mean()"
      ],
      "execution_count": 5,
      "outputs": []
    },
    {
      "cell_type": "code",
      "metadata": {
        "colab": {
          "base_uri": "https://localhost:8080/"
        },
        "id": "Z5_BH0zRxGOT",
        "outputId": "4b551d6f-15c0-4e8c-f5a8-fcf03cb1fdd8"
      },
      "source": [
        "w = torch.ones(())\r\n",
        "b = torch.zeros(())\r\n",
        "t_p = model(t_u, w, b)\r\n",
        "t_p"
      ],
      "execution_count": 6,
      "outputs": [
        {
          "output_type": "execute_result",
          "data": {
            "text/plain": [
              "tensor([35.7000, 55.9000, 58.2000, 81.9000, 56.3000, 48.9000, 33.9000, 21.8000,\n",
              "        48.4000, 60.4000, 68.4000])"
            ]
          },
          "metadata": {
            "tags": []
          },
          "execution_count": 6
        }
      ]
    },
    {
      "cell_type": "code",
      "metadata": {
        "colab": {
          "base_uri": "https://localhost:8080/"
        },
        "id": "LoKE-m3PxItK",
        "outputId": "6eef19fb-dc00-47a3-e8c4-81c6a7358ae3"
      },
      "source": [
        "loss = loss_fn(t_p, t_c)\r\n",
        "loss"
      ],
      "execution_count": 7,
      "outputs": [
        {
          "output_type": "execute_result",
          "data": {
            "text/plain": [
              "tensor(1763.8848)"
            ]
          },
          "metadata": {
            "tags": []
          },
          "execution_count": 7
        }
      ]
    },
    {
      "cell_type": "code",
      "metadata": {
        "colab": {
          "base_uri": "https://localhost:8080/"
        },
        "id": "11oPQKtc_zS0",
        "outputId": "ddca9381-c517-4d0c-fabb-8157ff16cca0"
      },
      "source": [
        "x = torch.ones(())\r\n",
        "y = torch.ones(3,1)\r\n",
        "z = torch.ones(1,3)\r\n",
        "a = torch.ones(2, 1, 1)\r\n",
        "print(f\"shapes: x: {x.shape}, y: {y.shape}\")\r\n",
        "x"
      ],
      "execution_count": 8,
      "outputs": [
        {
          "output_type": "stream",
          "text": [
            "shapes: x: torch.Size([]), y: torch.Size([3, 1])\n"
          ],
          "name": "stdout"
        },
        {
          "output_type": "execute_result",
          "data": {
            "text/plain": [
              "tensor(1.)"
            ]
          },
          "metadata": {
            "tags": []
          },
          "execution_count": 8
        }
      ]
    },
    {
      "cell_type": "code",
      "metadata": {
        "colab": {
          "base_uri": "https://localhost:8080/"
        },
        "id": "wpxiAZ3tArbT",
        "outputId": "ee1d6d47-4c43-4552-c994-dc61bfb37e09"
      },
      "source": [
        "print(f\" z: {z.shape}, a: {a.shape}\")\r\n",
        "print(\"x * y:\", (x * y).shape)\r\n",
        "print(\"y * z:\", (y * z).shape)\r\n",
        "print(\"y * z * a:\", (y * z * a).shape)"
      ],
      "execution_count": 9,
      "outputs": [
        {
          "output_type": "stream",
          "text": [
            " z: torch.Size([1, 3]), a: torch.Size([2, 1, 1])\n",
            "x * y: torch.Size([3, 1])\n",
            "y * z: torch.Size([3, 3])\n",
            "y * z * a: torch.Size([2, 3, 3])\n"
          ],
          "name": "stdout"
        }
      ]
    },
    {
      "cell_type": "code",
      "metadata": {
        "id": "bhP5qjcIZ_Jc"
      },
      "source": [
        "delta = 0.1\r\n",
        "loss_rate_of_change_w = \\\r\n",
        "    (loss_fn(model(t_u, w + delta, b), t_c) -\r\n",
        "    loss_fn(model(t_u, w - delta, b), t_c)) / (2.0 * delta)"
      ],
      "execution_count": 10,
      "outputs": []
    },
    {
      "cell_type": "code",
      "metadata": {
        "id": "0jw5-fkpaGIH"
      },
      "source": [
        "learning_rate = 1e-2\r\n",
        "w = w- learning_rate * loss_rate_of_change_w"
      ],
      "execution_count": 11,
      "outputs": []
    },
    {
      "cell_type": "code",
      "metadata": {
        "id": "VE6sJJv2aLrB"
      },
      "source": [
        "loss_rate_of_change_b = \\\r\n",
        "    (loss_fn(model(t_u, w, b + delta), t_c) -\r\n",
        "    loss_fn(model(t_u, w, b - delta), t_c)) / (2.0 * delta)\r\n",
        "    \r\n",
        "b = b- learning_rate * loss_rate_of_change_b"
      ],
      "execution_count": 12,
      "outputs": []
    },
    {
      "cell_type": "code",
      "metadata": {
        "id": "ArZqvusqA2vC"
      },
      "source": [
        "#d loss_fn / d w = (d loss_fn / d t_p) * (d t_p / d w)\r\n",
        "def loss_fn(t_p, t_c):\r\n",
        "    squared_diffs = (t_p - t_c)**2\r\n",
        "    return squared_diffs.mean()\r\n"
      ],
      "execution_count": 13,
      "outputs": []
    },
    {
      "cell_type": "code",
      "metadata": {
        "id": "7vQYg9Hjal1O"
      },
      "source": [
        "#Remembering that d x^2 / d x = 2 x, we get\r\n",
        "# In[11]:\r\n",
        "def dloss_fn(t_p, t_c):\r\n",
        "    dsq_diffs=2* (t_p - t_c) / t_p.size(0)\r\n",
        "    return dsq_diffs"
      ],
      "execution_count": 14,
      "outputs": []
    },
    {
      "cell_type": "code",
      "metadata": {
        "id": "rnDmXWkScmwI"
      },
      "source": [
        "def model(t_u, w, b):\r\n",
        "    return w * t_u  + b"
      ],
      "execution_count": 15,
      "outputs": []
    },
    {
      "cell_type": "code",
      "metadata": {
        "id": "a5RvYn4x8WBq"
      },
      "source": [
        "def dmodel_dw(t_u, w, b):\r\n",
        "    return t_u\r\n",
        "\r\n",
        "def dmodel_db(tu, w, b):\r\n",
        "    return 1.0"
      ],
      "execution_count": 16,
      "outputs": []
    },
    {
      "cell_type": "code",
      "metadata": {
        "id": "tcmSEpXGOG_A"
      },
      "source": [
        "def grad_fn(t_u, t_c, t_p, w, b):\r\n",
        "    dloss_dtp = dloss_fn(t_p, t_c)\r\n",
        "    dloss_dw = dloss_dtp * dmodel_dw(t_u, w, b)\r\n",
        "    dloss_db = dloss_dtp * dmodel_db(t_u, w, b)\r\n",
        "    return torch.stack([dloss_dw.sum(), dloss_db.sum()])\r\n"
      ],
      "execution_count": 17,
      "outputs": []
    },
    {
      "cell_type": "code",
      "metadata": {
        "id": "f6gMmdHpSdCW"
      },
      "source": [
        "def training_loop(n_epochs, learning_rate, params, t_u, t_c, print_params=True):\r\n",
        "    for epoch in range(1, n_epochs + 1):\r\n",
        "        w, b = params\r\n",
        "        t_p = model(t_u, w, b)\r\n",
        "        loss = loss_fn(t_p, t_c)\r\n",
        "        grad = grad_fn(t_u, t_c, t_p, w, b)\r\n",
        "        params = params - learning_rate * grad\r\n",
        "        if print_params:\r\n",
        "            print('Epoch %d, Loss %f' % (epoch, float(loss)))\r\n",
        "    return params"
      ],
      "execution_count": 18,
      "outputs": []
    },
    {
      "cell_type": "code",
      "metadata": {
        "colab": {
          "base_uri": "https://localhost:8080/"
        },
        "id": "DAFGr_AKSjZV",
        "outputId": "e23311e9-67d7-4bc9-cd2a-7911ef5effd8"
      },
      "source": [
        "training_loop(\r\n",
        "    n_epochs = 100,\r\n",
        "    learning_rate = 1e-4,\r\n",
        "    params = torch.tensor([1.0, 0.0]),\r\n",
        "    t_u = t_u,\r\n",
        "    t_c = t_c)"
      ],
      "execution_count": 19,
      "outputs": [
        {
          "output_type": "stream",
          "text": [
            "Epoch 1, Loss 1763.884766\n",
            "Epoch 2, Loss 323.090515\n",
            "Epoch 3, Loss 78.929634\n",
            "Epoch 4, Loss 37.552845\n",
            "Epoch 5, Loss 30.540283\n",
            "Epoch 6, Loss 29.351154\n",
            "Epoch 7, Loss 29.148884\n",
            "Epoch 8, Loss 29.113848\n",
            "Epoch 9, Loss 29.107145\n",
            "Epoch 10, Loss 29.105247\n",
            "Epoch 11, Loss 29.104168\n",
            "Epoch 12, Loss 29.103222\n",
            "Epoch 13, Loss 29.102295\n",
            "Epoch 14, Loss 29.101379\n",
            "Epoch 15, Loss 29.100466\n",
            "Epoch 16, Loss 29.099548\n",
            "Epoch 17, Loss 29.098631\n",
            "Epoch 18, Loss 29.097717\n",
            "Epoch 19, Loss 29.096796\n",
            "Epoch 20, Loss 29.095881\n",
            "Epoch 21, Loss 29.094959\n",
            "Epoch 22, Loss 29.094049\n",
            "Epoch 23, Loss 29.093134\n",
            "Epoch 24, Loss 29.092216\n",
            "Epoch 25, Loss 29.091301\n",
            "Epoch 26, Loss 29.090385\n",
            "Epoch 27, Loss 29.089464\n",
            "Epoch 28, Loss 29.088551\n",
            "Epoch 29, Loss 29.087635\n",
            "Epoch 30, Loss 29.086714\n",
            "Epoch 31, Loss 29.085804\n",
            "Epoch 32, Loss 29.084888\n",
            "Epoch 33, Loss 29.083967\n",
            "Epoch 34, Loss 29.083057\n",
            "Epoch 35, Loss 29.082142\n",
            "Epoch 36, Loss 29.081221\n",
            "Epoch 37, Loss 29.080309\n",
            "Epoch 38, Loss 29.079390\n",
            "Epoch 39, Loss 29.078474\n",
            "Epoch 40, Loss 29.077562\n",
            "Epoch 41, Loss 29.076649\n",
            "Epoch 42, Loss 29.075731\n",
            "Epoch 43, Loss 29.074812\n",
            "Epoch 44, Loss 29.073895\n",
            "Epoch 45, Loss 29.072981\n",
            "Epoch 46, Loss 29.072069\n",
            "Epoch 47, Loss 29.071148\n",
            "Epoch 48, Loss 29.070234\n",
            "Epoch 49, Loss 29.069323\n",
            "Epoch 50, Loss 29.068401\n",
            "Epoch 51, Loss 29.067486\n",
            "Epoch 52, Loss 29.066566\n",
            "Epoch 53, Loss 29.065657\n",
            "Epoch 54, Loss 29.064741\n",
            "Epoch 55, Loss 29.063826\n",
            "Epoch 56, Loss 29.062910\n",
            "Epoch 57, Loss 29.061995\n",
            "Epoch 58, Loss 29.061079\n",
            "Epoch 59, Loss 29.060169\n",
            "Epoch 60, Loss 29.059248\n",
            "Epoch 61, Loss 29.058336\n",
            "Epoch 62, Loss 29.057415\n",
            "Epoch 63, Loss 29.056507\n",
            "Epoch 64, Loss 29.055586\n",
            "Epoch 65, Loss 29.054674\n",
            "Epoch 66, Loss 29.053761\n",
            "Epoch 67, Loss 29.052843\n",
            "Epoch 68, Loss 29.051929\n",
            "Epoch 69, Loss 29.051012\n",
            "Epoch 70, Loss 29.050098\n",
            "Epoch 71, Loss 29.049183\n",
            "Epoch 72, Loss 29.048273\n",
            "Epoch 73, Loss 29.047350\n",
            "Epoch 74, Loss 29.046442\n",
            "Epoch 75, Loss 29.045530\n",
            "Epoch 76, Loss 29.044611\n",
            "Epoch 77, Loss 29.043699\n",
            "Epoch 78, Loss 29.042784\n",
            "Epoch 79, Loss 29.041870\n",
            "Epoch 80, Loss 29.040955\n",
            "Epoch 81, Loss 29.040039\n",
            "Epoch 82, Loss 29.039122\n",
            "Epoch 83, Loss 29.038210\n",
            "Epoch 84, Loss 29.037294\n",
            "Epoch 85, Loss 29.036379\n",
            "Epoch 86, Loss 29.035463\n",
            "Epoch 87, Loss 29.034554\n",
            "Epoch 88, Loss 29.033636\n",
            "Epoch 89, Loss 29.032722\n",
            "Epoch 90, Loss 29.031811\n",
            "Epoch 91, Loss 29.030895\n",
            "Epoch 92, Loss 29.029976\n",
            "Epoch 93, Loss 29.029066\n",
            "Epoch 94, Loss 29.028151\n",
            "Epoch 95, Loss 29.027235\n",
            "Epoch 96, Loss 29.026323\n",
            "Epoch 97, Loss 29.025410\n",
            "Epoch 98, Loss 29.024492\n",
            "Epoch 99, Loss 29.023582\n",
            "Epoch 100, Loss 29.022667\n"
          ],
          "name": "stdout"
        },
        {
          "output_type": "execute_result",
          "data": {
            "text/plain": [
              "tensor([ 0.2327, -0.0438])"
            ]
          },
          "metadata": {
            "tags": []
          },
          "execution_count": 19
        }
      ]
    },
    {
      "cell_type": "code",
      "metadata": {
        "id": "TgmD5ImUShhv"
      },
      "source": [
        "t_un = 0.1 * t_u"
      ],
      "execution_count": 20,
      "outputs": []
    },
    {
      "cell_type": "code",
      "metadata": {
        "colab": {
          "base_uri": "https://localhost:8080/"
        },
        "id": "08FVMF_6anA3",
        "outputId": "7fec6981-d5e5-4092-c816-3bdd40e359e1"
      },
      "source": [
        "training_loop(\r\n",
        "    n_epochs = 100,\r\n",
        "    learning_rate = 1e-2,\r\n",
        "    params = torch.tensor([1.0, 0.0]),\r\n",
        "    t_u = t_un,\r\n",
        "    t_c = t_c,\r\n",
        "    print_params=False)"
      ],
      "execution_count": 21,
      "outputs": [
        {
          "output_type": "execute_result",
          "data": {
            "text/plain": [
              "tensor([ 2.7553, -2.5162])"
            ]
          },
          "metadata": {
            "tags": []
          },
          "execution_count": 21
        }
      ]
    },
    {
      "cell_type": "code",
      "metadata": {
        "colab": {
          "base_uri": "https://localhost:8080/"
        },
        "id": "OwSu29v2aqUh",
        "outputId": "9a22dcf4-e4ab-4dd4-c05e-c950165ea4ea"
      },
      "source": [
        "params = training_loop(\r\n",
        "n_epochs = 5000,\r\n",
        "learning_rate = 1e-2,\r\n",
        "params = torch.tensor([1.0, 0.0]),\r\n",
        "t_u = t_un,\r\n",
        "t_c = t_c,\r\n",
        "print_params = False)\r\n",
        "params"
      ],
      "execution_count": 22,
      "outputs": [
        {
          "output_type": "execute_result",
          "data": {
            "text/plain": [
              "tensor([  5.3671, -17.3012])"
            ]
          },
          "metadata": {
            "tags": []
          },
          "execution_count": 22
        }
      ]
    },
    {
      "cell_type": "code",
      "metadata": {
        "colab": {
          "base_uri": "https://localhost:8080/"
        },
        "id": "h_zVgpM0NoLS",
        "outputId": "cbb042cf-0211-4d1b-f4bb-efb1771e10db"
      },
      "source": [
        "print((t_u.numpy()))\r\n",
        "print(t_p.detach().numpy())\r\n",
        "print(t_c.numpy())\r\n",
        "print((t_u.numpy()).shape)"
      ],
      "execution_count": 23,
      "outputs": [
        {
          "output_type": "stream",
          "text": [
            "[35.7 55.9 58.2 81.9 56.3 48.9 33.9 21.8 48.4 60.4 68.4]\n",
            "[35.7 55.9 58.2 81.9 56.3 48.9 33.9 21.8 48.4 60.4 68.4]\n",
            "[ 0.5 14.  15.  28.  11.   8.   3.  -4.   6.  13.  21. ]\n",
            "(11,)\n"
          ],
          "name": "stdout"
        }
      ]
    },
    {
      "cell_type": "code",
      "metadata": {
        "colab": {
          "base_uri": "https://localhost:8080/"
        },
        "id": "NEIPgJjeib08",
        "outputId": "2232fe41-246e-436d-ac02-5ee8345ab8ee"
      },
      "source": [
        "model(t_un, *params)"
      ],
      "execution_count": 24,
      "outputs": [
        {
          "output_type": "execute_result",
          "data": {
            "text/plain": [
              "tensor([ 1.8593, 12.7008, 13.9352, 26.6552, 12.9155,  8.9439,  0.8932, -5.6009,\n",
              "         8.6755, 15.1160, 19.4097])"
            ]
          },
          "metadata": {
            "tags": []
          },
          "execution_count": 24
        }
      ]
    },
    {
      "cell_type": "code",
      "metadata": {
        "id": "nMZoBwvgOaQe",
        "colab": {
          "base_uri": "https://localhost:8080/",
          "height": 961
        },
        "outputId": "1e967820-2333-4cf7-b177-e5dc4b8f772c"
      },
      "source": [
        "%matplotlib inline\r\n",
        "from matplotlib import pyplot as plt\r\n",
        "t_p = model(t_un, *params)\r\n",
        "fig = plt.figure(dpi=600)\r\n",
        "plt.xlabel(\"Temperature (°Fahrenheit)\")\r\n",
        "plt.ylabel(\"Temperature (°Celsius)\")\r\n",
        "plt.plot(t_u.numpy(), t_p.detach().numpy())"
      ],
      "execution_count": 25,
      "outputs": [
        {
          "output_type": "execute_result",
          "data": {
            "text/plain": [
              "[<matplotlib.lines.Line2D at 0x7f701f41d668>]"
            ]
          },
          "metadata": {
            "tags": []
          },
          "execution_count": 25
        },
        {
          "output_type": "display_data",
          "data": {
            "image/png": "[encoded data removed]",
            "text/plain": [
              "<Figure size 3600x2400 with 1 Axes>"
            ]
          },
          "metadata": {
            "tags": [],
            "needs_background": "light"
          }
        }
      ]
    },
    {
      "cell_type": "code",
      "metadata": {
        "id": "vz2BDY7biSYn"
      },
      "source": [
        "def model(t_u, w, b):\r\n",
        "    return w * t_u + b\r\n",
        "\r\n",
        "def loss_fn(t_p, t_c):\r\n",
        "    squared_diffs = (t_p - t_c)**2\r\n",
        "    return squared_diffs.mean()"
      ],
      "execution_count": 26,
      "outputs": []
    },
    {
      "cell_type": "code",
      "metadata": {
        "id": "cUJxWAH7-RvJ"
      },
      "source": [
        "params = torch.tensor([1.0, 0.0], requires_grad=True)"
      ],
      "execution_count": 27,
      "outputs": []
    },
    {
      "cell_type": "code",
      "metadata": {
        "colab": {
          "base_uri": "https://localhost:8080/"
        },
        "id": "RWwPlwhC-TIk",
        "outputId": "1a832ee6-1ba7-47d2-b0ce-a5373eafe138"
      },
      "source": [
        "params.grad is None"
      ],
      "execution_count": 44,
      "outputs": [
        {
          "output_type": "execute_result",
          "data": {
            "text/plain": [
              "True"
            ]
          },
          "metadata": {
            "tags": []
          },
          "execution_count": 44
        }
      ]
    },
    {
      "cell_type": "code",
      "metadata": {
        "colab": {
          "base_uri": "https://localhost:8080/"
        },
        "id": "rwmzWBc1ZLpE",
        "outputId": "fef310d9-a5cc-47d8-be3f-1cb275c0bb24"
      },
      "source": [
        "t_u"
      ],
      "execution_count": 29,
      "outputs": [
        {
          "output_type": "execute_result",
          "data": {
            "text/plain": [
              "tensor([35.7000, 55.9000, 58.2000, 81.9000, 56.3000, 48.9000, 33.9000, 21.8000,\n",
              "        48.4000, 60.4000, 68.4000])"
            ]
          },
          "metadata": {
            "tags": []
          },
          "execution_count": 29
        }
      ]
    },
    {
      "cell_type": "markdown",
      "metadata": {
        "id": "VxUt6YIuaGKF"
      },
      "source": [
        "We can see Pytorch's auto grad is the same as our hand calculated grad."
      ]
    },
    {
      "cell_type": "code",
      "metadata": {
        "id": "6SGMMcE9ZFE_"
      },
      "source": [
        "loss = loss_fn(model(t_u, *params), t_c)\r\n",
        "loss.backward()"
      ],
      "execution_count": 45,
      "outputs": []
    },
    {
      "cell_type": "code",
      "metadata": {
        "colab": {
          "base_uri": "https://localhost:8080/"
        },
        "id": "hSbhViuwZJnm",
        "outputId": "f6fdee28-7d34-4731-fb5d-f9c284ebefad"
      },
      "source": [
        "params.grad"
      ],
      "execution_count": 46,
      "outputs": [
        {
          "output_type": "execute_result",
          "data": {
            "text/plain": [
              "tensor([4517.2969,   82.6000])"
            ]
          },
          "metadata": {
            "tags": []
          },
          "execution_count": 46
        }
      ]
    },
    {
      "cell_type": "code",
      "metadata": {
        "id": "3YEBOgqMZuY1"
      },
      "source": [
        "grad = grad_fn(t_u, t_c, model(t_u, *params), *params)"
      ],
      "execution_count": 32,
      "outputs": []
    },
    {
      "cell_type": "code",
      "metadata": {
        "colab": {
          "base_uri": "https://localhost:8080/"
        },
        "id": "r3zEA1ALZvyi",
        "outputId": "2c33512b-0b64-4df6-b5fe-970923d67235"
      },
      "source": [
        "grad"
      ],
      "execution_count": 33,
      "outputs": [
        {
          "output_type": "execute_result",
          "data": {
            "text/plain": [
              "tensor([4517.2964,   82.6000], grad_fn=<StackBackward>)"
            ]
          },
          "metadata": {
            "tags": []
          },
          "execution_count": 33
        }
      ]
    },
    {
      "cell_type": "markdown",
      "metadata": {
        "id": "umeMI0HEhLWU"
      },
      "source": [
        "But now it is not the same. That because it accumulates to be double of the old value, not storing."
      ]
    },
    {
      "cell_type": "code",
      "metadata": {
        "id": "e-rMQ1s3jE_s"
      },
      "source": [
        "loss = loss_fn(model(t_u, *params), t_c)\r\n",
        "loss.backward()"
      ],
      "execution_count": 50,
      "outputs": []
    },
    {
      "cell_type": "code",
      "metadata": {
        "colab": {
          "base_uri": "https://localhost:8080/"
        },
        "id": "RKNRLqO1jAuM",
        "outputId": "5bb67778-4cb6-4acd-ebfe-497310a58846"
      },
      "source": [
        "params.grad"
      ],
      "execution_count": 51,
      "outputs": [
        {
          "output_type": "execute_result",
          "data": {
            "text/plain": [
              "tensor([9034.5938,  165.2000])"
            ]
          },
          "metadata": {
            "tags": []
          },
          "execution_count": 51
        }
      ]
    },
    {
      "cell_type": "markdown",
      "metadata": {
        "id": "TkdyECmDl1cL"
      },
      "source": [
        "But it can be fixed by this."
      ]
    },
    {
      "cell_type": "code",
      "metadata": {
        "id": "x6_mPOa1lyLo"
      },
      "source": [
        "# if params.grad is not None:\r\n",
        "#     params.grad.zero_() "
      ],
      "execution_count": null,
      "outputs": []
    },
    {
      "cell_type": "code",
      "metadata": {
        "id": "ZrHAbMbopZFL"
      },
      "source": [
        "def training_loop(n_epochs, learning_rate, params, t_u, t_c):\r\n",
        "    for epoch in range(1, n_epochs + 1):\r\n",
        "        if params.grad is not None:\r\n",
        "            params.grad.zero_()\r\n",
        "\r\n",
        "        t_p = model(t_u, *params)\r\n",
        "        loss = loss_fn(t_p, t_c)\r\n",
        "        loss.backward()\r\n",
        "\r\n",
        "        with torch.no_grad():\r\n",
        "            params -= learning_rate * params.grad\r\n",
        "        \r\n",
        "        if epoch % 500 == 0:\r\n",
        "            print('Epoch %d, Loss %f' % (epoch, float(loss)))\r\n",
        "    return params"
      ],
      "execution_count": 52,
      "outputs": []
    },
    {
      "cell_type": "code",
      "metadata": {
        "colab": {
          "base_uri": "https://localhost:8080/"
        },
        "id": "6f2uWLZ9qrWo",
        "outputId": "28b6d5d3-33ca-49c4-9a0f-4c34a1c91efa"
      },
      "source": [
        "training_loop(\r\n",
        "    n_epochs = 5000,\r\n",
        "    learning_rate = 1e-2,\r\n",
        "    params = torch.tensor([1.0, 0.0], requires_grad=True),\r\n",
        "    t_u = t_un,\r\n",
        "    t_c = t_c)"
      ],
      "execution_count": 53,
      "outputs": [
        {
          "output_type": "stream",
          "text": [
            "Epoch 500, Loss 7.860115\n",
            "Epoch 1000, Loss 3.828538\n",
            "Epoch 1500, Loss 3.092191\n",
            "Epoch 2000, Loss 2.957698\n",
            "Epoch 2500, Loss 2.933134\n",
            "Epoch 3000, Loss 2.928648\n",
            "Epoch 3500, Loss 2.927830\n",
            "Epoch 4000, Loss 2.927679\n",
            "Epoch 4500, Loss 2.927652\n",
            "Epoch 5000, Loss 2.927647\n"
          ],
          "name": "stdout"
        },
        {
          "output_type": "execute_result",
          "data": {
            "text/plain": [
              "tensor([  5.3671, -17.3012], requires_grad=True)"
            ]
          },
          "metadata": {
            "tags": []
          },
          "execution_count": 53
        }
      ]
    },
    {
      "cell_type": "code",
      "metadata": {
        "id": "4GyZ_Ep8yIrG"
      },
      "source": [
        ""
      ],
      "execution_count": null,
      "outputs": []
    }
  ]
}