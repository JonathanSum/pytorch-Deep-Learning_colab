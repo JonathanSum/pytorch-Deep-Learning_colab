{
  "nbformat": 4,
  "nbformat_minor": 0,
  "metadata": {
    "colab": {
      "name": "Ch4_text.ipynb",
      "provenance": [],
      "collapsed_sections": [],
      "authorship_tag": "ABX9TyMtkHW0r4mKCsa7dyaYMl+z",
      "include_colab_link": true
    },
    "kernelspec": {
      "name": "python3",
      "display_name": "Python 3"
    }
  },
  "cells": [
    {
      "cell_type": "markdown",
      "metadata": {
        "id": "view-in-github",
        "colab_type": "text"
      },
      "source": [
        "<a href=\"https://colab.research.google.com/github/JonathanSum/pytorch-Deep-Learning_colab/blob/master/Ch4_text.ipynb\" target=\"_parent\"><img src=\"https://colab.research.google.com/assets/colab-badge.svg\" alt=\"Open In Colab\"/></a>"
      ]
    },
    {
      "cell_type": "code",
      "metadata": {
        "colab": {
          "base_uri": "https://localhost:8080/"
        },
        "id": "0boRn4w2kwzw",
        "outputId": "c6038c99-f5c3-435c-8313-d7b8e3f34526"
      },
      "source": [
        "!git clone https://github.com/deep-learning-with-pytorch/dlwpt-code.git\r\n",
        "!git clone https://github.com/JonathanSum/JonathanSum.git"
      ],
      "execution_count": 1,
      "outputs": [
        {
          "output_type": "stream",
          "text": [
            "Cloning into 'dlwpt-code'...\n",
            "remote: Enumerating objects: 17, done.\u001b[K\n",
            "remote: Counting objects: 100% (17/17), done.\u001b[K\n",
            "remote: Compressing objects: 100% (16/16), done.\u001b[K\n",
            "remote: Total 703 (delta 7), reused 2 (delta 1), pack-reused 686\u001b[K\n",
            "Receiving objects: 100% (703/703), 185.80 MiB | 28.93 MiB/s, done.\n",
            "Resolving deltas: 100% (303/303), done.\n",
            "Checking out files: 100% (228/228), done.\n",
            "Cloning into 'JonathanSum'...\n",
            "remote: Enumerating objects: 84, done.\u001b[K\n",
            "remote: Counting objects: 100% (84/84), done.\u001b[K\n",
            "remote: Compressing objects: 100% (84/84), done.\u001b[K\n",
            "remote: Total 262 (delta 33), reused 0 (delta 0), pack-reused 178\u001b[K\n",
            "Receiving objects: 100% (262/262), 27.96 MiB | 26.21 MiB/s, done.\n",
            "Resolving deltas: 100% (132/132), done.\n"
          ],
          "name": "stdout"
        }
      ]
    },
    {
      "cell_type": "code",
      "metadata": {
        "id": "0pjO9aB4k9BT"
      },
      "source": [
        "import numpy as np\r\n",
        "import torch"
      ],
      "execution_count": 2,
      "outputs": []
    },
    {
      "cell_type": "code",
      "metadata": {
        "id": "1_GeFq1sk-wK"
      },
      "source": [
        "with open('/content/dlwpt-code/data/p1ch4/jane-austen/1342-0.txt', encoding='utf8') as f:\r\n",
        "    text = f.read()"
      ],
      "execution_count": 3,
      "outputs": []
    },
    {
      "cell_type": "code",
      "metadata": {
        "colab": {
          "base_uri": "https://localhost:8080/",
          "height": 34
        },
        "id": "ISHPJ6pV3_5D",
        "outputId": "eaaac0d7-ec21-45de-e9c0-52107b1638f8"
      },
      "source": [
        "lines = text.split('\\n')\r\n",
        "line = lines[200]\r\n",
        "line"
      ],
      "execution_count": 4,
      "outputs": [
        {
          "output_type": "execute_result",
          "data": {
            "application/vnd.google.colaboratory.intrinsic+json": {
              "type": "string"
            },
            "text/plain": [
              "'“Impossible, Mr. Bennet, impossible, when I am not acquainted with him'"
            ]
          },
          "metadata": {
            "tags": []
          },
          "execution_count": 4
        }
      ]
    },
    {
      "cell_type": "code",
      "metadata": {
        "colab": {
          "base_uri": "https://localhost:8080/"
        },
        "id": "K_jVcc3m7VYe",
        "outputId": "21915e55-f706-4ee9-a100-3d6427cad47b"
      },
      "source": [
        "len(line)"
      ],
      "execution_count": 5,
      "outputs": [
        {
          "output_type": "execute_result",
          "data": {
            "text/plain": [
              "70"
            ]
          },
          "metadata": {
            "tags": []
          },
          "execution_count": 5
        }
      ]
    },
    {
      "cell_type": "code",
      "metadata": {
        "colab": {
          "base_uri": "https://localhost:8080/"
        },
        "id": "FDAo67Ft4GsW",
        "outputId": "5055b58d-858d-406c-9e6d-54e6e2546239"
      },
      "source": [
        "letter_t = torch.zeros(len(line), 128)\r\n",
        "letter_t.shape"
      ],
      "execution_count": 6,
      "outputs": [
        {
          "output_type": "execute_result",
          "data": {
            "text/plain": [
              "torch.Size([70, 128])"
            ]
          },
          "metadata": {
            "tags": []
          },
          "execution_count": 6
        }
      ]
    },
    {
      "cell_type": "code",
      "metadata": {
        "id": "0Af3Li9n6XGe"
      },
      "source": [
        "for i, letter in enumerate(line.lower().strip()):\r\n",
        "    letter_index = ord(letter) if ord(letter) < 128 else 0\r\n",
        "    letter_t[i][letter_index] = 1"
      ],
      "execution_count": 7,
      "outputs": []
    },
    {
      "cell_type": "code",
      "metadata": {
        "colab": {
          "base_uri": "https://localhost:8080/"
        },
        "id": "x6IZIqP2INN6",
        "outputId": "bb9df2cc-e836-48ff-aa05-1115ba5cdaee"
      },
      "source": [
        "def clean_words(input_str):\r\n",
        "    punctuation = '.,;:\"!?”“_-'\r\n",
        "    word_list = input_str.lower().replace('\\n', ' ').split()\r\n",
        "    word_list = [word.strip(punctuation) for word in word_list]\r\n",
        "    return word_list\r\n",
        "words_in_line = clean_words(line)\r\n",
        "line, words_in_line"
      ],
      "execution_count": 8,
      "outputs": [
        {
          "output_type": "execute_result",
          "data": {
            "text/plain": [
              "('“Impossible, Mr. Bennet, impossible, when I am not acquainted with him',\n",
              " ['impossible',\n",
              "  'mr',\n",
              "  'bennet',\n",
              "  'impossible',\n",
              "  'when',\n",
              "  'i',\n",
              "  'am',\n",
              "  'not',\n",
              "  'acquainted',\n",
              "  'with',\n",
              "  'him'])"
            ]
          },
          "metadata": {
            "tags": []
          },
          "execution_count": 8
        }
      ]
    },
    {
      "cell_type": "code",
      "metadata": {
        "id": "cZtSHmsMMHM8"
      },
      "source": [
        "word_list = sorted(set(clean_words(text)))"
      ],
      "execution_count": 9,
      "outputs": []
    },
    {
      "cell_type": "code",
      "metadata": {
        "colab": {
          "base_uri": "https://localhost:8080/"
        },
        "id": "PnanIjN5ITjd",
        "outputId": "8d25a406-c9a8-432e-d43f-489fcc688259"
      },
      "source": [
        "word2index_dict = {word: i for (i, word) in enumerate(word_list)}\r\n",
        "len(word2index_dict), word2index_dict['impossible']"
      ],
      "execution_count": 10,
      "outputs": [
        {
          "output_type": "execute_result",
          "data": {
            "text/plain": [
              "(7261, 3394)"
            ]
          },
          "metadata": {
            "tags": []
          },
          "execution_count": 10
        }
      ]
    },
    {
      "cell_type": "code",
      "metadata": {
        "colab": {
          "base_uri": "https://localhost:8080/"
        },
        "id": "MkBmf9lhKeHU",
        "outputId": "e676a2f5-9e95-41ca-b9df-ca01b8c6e614"
      },
      "source": [
        "word_t = torch.zeros(len(words_in_line), len(word2index_dict))\r\n",
        "for i, word in enumerate(words_in_line):\r\n",
        "    word_index = word2index_dict[word]\r\n",
        "    word_t[i][word_index] = 1\r\n",
        "    print('{:2} {:4} {}'.format(i, word_index, word))"
      ],
      "execution_count": 11,
      "outputs": [
        {
          "output_type": "stream",
          "text": [
            " 0 3394 impossible\n",
            " 1 4305 mr\n",
            " 2  813 bennet\n",
            " 3 3394 impossible\n",
            " 4 7078 when\n",
            " 5 3315 i\n",
            " 6  415 am\n",
            " 7 4436 not\n",
            " 8  239 acquainted\n",
            " 9 7148 with\n",
            "10 3215 him\n"
          ],
          "name": "stdout"
        }
      ]
    },
    {
      "cell_type": "code",
      "metadata": {
        "colab": {
          "base_uri": "https://localhost:8080/"
        },
        "id": "ej8ndTv0aoNC",
        "outputId": "afd9c79a-dd7e-46ed-d921-07ac3919f882"
      },
      "source": [
        "print(word_t.shape)"
      ],
      "execution_count": 12,
      "outputs": [
        {
          "output_type": "stream",
          "text": [
            "torch.Size([11, 7261])\n"
          ],
          "name": "stdout"
        }
      ]
    },
    {
      "cell_type": "code",
      "metadata": {
        "id": "IPgwalkparoR"
      },
      "source": [
        ""
      ],
      "execution_count": 12,
      "outputs": []
    }
  ]
}