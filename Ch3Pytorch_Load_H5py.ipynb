{
  "nbformat": 4,
  "nbformat_minor": 0,
  "metadata": {
    "colab": {
      "name": "Ch3Pytorch_Load_H5py.ipynb",
      "provenance": [],
      "collapsed_sections": [],
      "authorship_tag": "ABX9TyNBG0F/zwkK59Um0UMxf7IY",
      "include_colab_link": true
    },
    "kernelspec": {
      "name": "python3",
      "display_name": "Python 3"
    }
  },
  "cells": [
    {
      "cell_type": "markdown",
      "metadata": {
        "id": "view-in-github",
        "colab_type": "text"
      },
      "source": [
        "<a href=\"https://colab.research.google.com/github/JonathanSum/pytorch-Deep-Learning_colab/blob/master/Ch3Pytorch_Load_H5py.ipynb\" target=\"_parent\"><img src=\"https://colab.research.google.com/assets/colab-badge.svg\" alt=\"Open In Colab\"/></a>"
      ]
    },
    {
      "cell_type": "code",
      "metadata": {
        "colab": {
          "base_uri": "https://localhost:8080/"
        },
        "id": "AQsjoh_bU7af",
        "outputId": "0bef4e0d-379b-4bdb-cab6-66463878e803"
      },
      "source": [
        "!git clone https://github.com/deep-learning-with-pytorch/dlwpt-code.git"
      ],
      "execution_count": 1,
      "outputs": [
        {
          "output_type": "stream",
          "text": [
            "Cloning into 'dlwpt-code'...\n",
            "remote: Enumerating objects: 686, done.\u001b[K\n",
            "remote: Total 686 (delta 0), reused 0 (delta 0), pack-reused 686\n",
            "Receiving objects: 100% (686/686), 176.00 MiB | 22.98 MiB/s, done.\n",
            "Resolving deltas: 100% (296/296), done.\n",
            "Checking out files: 100% (228/228), done.\n"
          ],
          "name": "stdout"
        }
      ]
    },
    {
      "cell_type": "code",
      "metadata": {
        "colab": {
          "base_uri": "https://localhost:8080/"
        },
        "id": "RkDnFMelVB-Z",
        "outputId": "7d888b68-c703-4769-a15f-c7f4da52b7a6"
      },
      "source": [
        "!conda install h5py"
      ],
      "execution_count": 2,
      "outputs": [
        {
          "output_type": "stream",
          "text": [
            "/bin/bash: conda: command not found\n"
          ],
          "name": "stdout"
        }
      ]
    },
    {
      "cell_type": "code",
      "metadata": {
        "colab": {
          "base_uri": "https://localhost:8080/"
        },
        "id": "LVC6A1zwVa2a",
        "outputId": "78c337c0-e1d4-4bc3-a787-30ac2b53d351"
      },
      "source": [
        "import torch \r\n",
        "points = torch.ones(3, 4)\r\n",
        "points_np = points.numpy()\r\n",
        "points_np"
      ],
      "execution_count": 5,
      "outputs": [
        {
          "output_type": "execute_result",
          "data": {
            "text/plain": [
              "array([[1., 1., 1., 1.],\n",
              "       [1., 1., 1., 1.],\n",
              "       [1., 1., 1., 1.]], dtype=float32)"
            ]
          },
          "metadata": {
            "tags": []
          },
          "execution_count": 5
        }
      ]
    },
    {
      "cell_type": "markdown",
      "metadata": {
        "id": "7jwi0jpuWaLe"
      },
      "source": [
        "Two ways to save the points tensor"
      ]
    },
    {
      "cell_type": "code",
      "metadata": {
        "id": "VSo4ZhQOVeoh"
      },
      "source": [
        "torch.save(points, \"ourpoints.t\")"
      ],
      "execution_count": 14,
      "outputs": []
    },
    {
      "cell_type": "code",
      "metadata": {
        "id": "3YwZ-1osVvmv"
      },
      "source": [
        "with open('ourpoints.t','wb') as f:\r\n",
        "    torch.save(points, f)"
      ],
      "execution_count": 16,
      "outputs": []
    },
    {
      "cell_type": "markdown",
      "metadata": {
        "id": "aHck7lVaWTAA"
      },
      "source": [
        "Loading examples"
      ]
    },
    {
      "cell_type": "code",
      "metadata": {
        "id": "4trWj9O_WDmt"
      },
      "source": [
        "points = torch.load('ourpoints.t')\r\n",
        "#Or another way\r\n",
        "with open('ourpoints.t','rb') as f:\r\n",
        "    points = torch.load(f)  "
      ],
      "execution_count": 17,
      "outputs": []
    },
    {
      "cell_type": "code",
      "metadata": {
        "id": "fiCMQrQ8VO-t"
      },
      "source": [
        "import h5py\r\n",
        "f = h5py.File('ourpoints.hdf5', 'w')\r\n",
        "dset = f.create_dataset('coords', data=points.numpy())\r\n",
        "f.close()"
      ],
      "execution_count": 29,
      "outputs": []
    },
    {
      "cell_type": "markdown",
      "metadata": {
        "id": "_FJEH_IwXXv1"
      },
      "source": [
        "Here 'coords' is a key into the HDF5 file. We can have other keys—even nested ones.<br>\r\n",
        "One of the interesting things in HDF5 is that we can index the dataset while on disk<br>\r\n",
        "and access only the elements we’re interested in. Let’s suppose we want to load just<br>\r\n",
        "the last two points in our dataset:<br>\r\n",
        "(Cite: Pytorch deep learning book)"
      ]
    },
    {
      "cell_type": "code",
      "metadata": {
        "id": "x4YFGMfcVdu-"
      },
      "source": [
        "f = h5py.File('ourpoints.hdf5', 'r')\r\n",
        "dset = f['coords']\r\n",
        "last_points = dset[-2:]"
      ],
      "execution_count": 33,
      "outputs": []
    },
    {
      "cell_type": "code",
      "metadata": {
        "colab": {
          "base_uri": "https://localhost:8080/"
        },
        "id": "fwrEXLxHYrO6",
        "outputId": "8bf6aa78-83e0-4068-dec7-7339d14daa03"
      },
      "source": [
        "dset"
      ],
      "execution_count": 37,
      "outputs": [
        {
          "output_type": "execute_result",
          "data": {
            "text/plain": [
              "<HDF5 dataset \"coords\": shape (3, 4), type \"<f4\">"
            ]
          },
          "metadata": {
            "tags": []
          },
          "execution_count": 37
        }
      ]
    },
    {
      "cell_type": "code",
      "metadata": {
        "colab": {
          "base_uri": "https://localhost:8080/"
        },
        "id": "--C63itJYTCF",
        "outputId": "2b51dcf0-75e2-4c0e-a373-d04864aecdc5"
      },
      "source": [
        "last_points"
      ],
      "execution_count": 41,
      "outputs": [
        {
          "output_type": "execute_result",
          "data": {
            "text/plain": [
              "array([[1., 1., 1., 1.],\n",
              "       [1., 1., 1., 1.]], dtype=float32)"
            ]
          },
          "metadata": {
            "tags": []
          },
          "execution_count": 41
        }
      ]
    },
    {
      "cell_type": "code",
      "metadata": {
        "colab": {
          "base_uri": "https://localhost:8080/"
        },
        "id": "zdmM3jNiYUBf",
        "outputId": "1a93b3e4-39c2-44cb-911e-1e065eab2f22"
      },
      "source": [
        "points.numpy()"
      ],
      "execution_count": 40,
      "outputs": [
        {
          "output_type": "execute_result",
          "data": {
            "text/plain": [
              "array([[1., 1., 1., 1.],\n",
              "       [1., 1., 1., 1.],\n",
              "       [1., 1., 1., 1.]], dtype=float32)"
            ]
          },
          "metadata": {
            "tags": []
          },
          "execution_count": 40
        }
      ]
    },
    {
      "cell_type": "code",
      "metadata": {
        "id": "8_XnGNRYYc-b"
      },
      "source": [
        "f.close()"
      ],
      "execution_count": 42,
      "outputs": []
    },
    {
      "cell_type": "code",
      "metadata": {
        "colab": {
          "base_uri": "https://localhost:8080/"
        },
        "id": "PK1Z_1-9dXnz",
        "outputId": "e5abaee5-f725-4d81-b185-b0099997975a"
      },
      "source": [
        "last_points"
      ],
      "execution_count": 43,
      "outputs": [
        {
          "output_type": "execute_result",
          "data": {
            "text/plain": [
              "array([[1., 1., 1., 1.],\n",
              "       [1., 1., 1., 1.]], dtype=float32)"
            ]
          },
          "metadata": {
            "tags": []
          },
          "execution_count": 43
        }
      ]
    },
    {
      "cell_type": "code",
      "metadata": {
        "id": "r9pNy6EMm1Cr"
      },
      "source": [
        ""
      ],
      "execution_count": null,
      "outputs": []
    },
    {
      "cell_type": "code",
      "metadata": {
        "id": "lctUb9zgermr"
      },
      "source": [
        "a = torch.tensor(list(range(9))[::-1])"
      ],
      "execution_count": 79,
      "outputs": []
    },
    {
      "cell_type": "code",
      "metadata": {
        "colab": {
          "base_uri": "https://localhost:8080/"
        },
        "id": "hVg8jQQGevLP",
        "outputId": "fa45abab-a1f8-4e59-913c-e1e6133033e6"
      },
      "source": [
        "a"
      ],
      "execution_count": 80,
      "outputs": [
        {
          "output_type": "execute_result",
          "data": {
            "text/plain": [
              "tensor([8, 7, 6, 5, 4, 3, 2, 1, 0])"
            ]
          },
          "metadata": {
            "tags": []
          },
          "execution_count": 80
        }
      ]
    },
    {
      "cell_type": "code",
      "metadata": {
        "colab": {
          "base_uri": "https://localhost:8080/"
        },
        "id": "YbS6lacmfjey",
        "outputId": "ba1df798-3750-499b-c5b1-d5053790d32c"
      },
      "source": [
        "a.storage_offset()"
      ],
      "execution_count": 81,
      "outputs": [
        {
          "output_type": "execute_result",
          "data": {
            "text/plain": [
              "0"
            ]
          },
          "metadata": {
            "tags": []
          },
          "execution_count": 81
        }
      ]
    },
    {
      "cell_type": "code",
      "metadata": {
        "colab": {
          "base_uri": "https://localhost:8080/"
        },
        "id": "CEYrlMBRewMM",
        "outputId": "cdccf948-44df-4fc8-9c09-e00cf19f0330"
      },
      "source": [
        " b = a.view(3, 3)\r\n",
        " b"
      ],
      "execution_count": 88,
      "outputs": [
        {
          "output_type": "execute_result",
          "data": {
            "text/plain": [
              "tensor([[8, 7, 6],\n",
              "        [5, 4, 3],\n",
              "        [2, 1, 0]])"
            ]
          },
          "metadata": {
            "tags": []
          },
          "execution_count": 88
        }
      ]
    },
    {
      "cell_type": "code",
      "metadata": {
        "colab": {
          "base_uri": "https://localhost:8080/"
        },
        "id": "ivUkKtvLfmkJ",
        "outputId": "7ed30942-a8f3-4db4-e9f4-3d608e7ac878"
      },
      "source": [
        "b.storage_offset()"
      ],
      "execution_count": 83,
      "outputs": [
        {
          "output_type": "execute_result",
          "data": {
            "text/plain": [
              "0"
            ]
          },
          "metadata": {
            "tags": []
          },
          "execution_count": 83
        }
      ]
    },
    {
      "cell_type": "code",
      "metadata": {
        "colab": {
          "base_uri": "https://localhost:8080/"
        },
        "id": "98V2sd0OfDE9",
        "outputId": "e09e0033-3e94-4ee5-de1d-e65b1516355a"
      },
      "source": [
        "b.stride()\r\n"
      ],
      "execution_count": 84,
      "outputs": [
        {
          "output_type": "execute_result",
          "data": {
            "text/plain": [
              "(3, 1)"
            ]
          },
          "metadata": {
            "tags": []
          },
          "execution_count": 84
        }
      ]
    },
    {
      "cell_type": "code",
      "metadata": {
        "id": "I3e0wny7k1Ei"
      },
      "source": [
        ""
      ],
      "execution_count": 84,
      "outputs": []
    },
    {
      "cell_type": "code",
      "metadata": {
        "colab": {
          "base_uri": "https://localhost:8080/"
        },
        "id": "tXEh52e4eyWB",
        "outputId": "ac27a435-1374-4933-f88c-e452848b1273"
      },
      "source": [
        "c = b[2:,1:]\r\n",
        "c"
      ],
      "execution_count": 90,
      "outputs": [
        {
          "output_type": "execute_result",
          "data": {
            "text/plain": [
              "tensor([[1, 0]])"
            ]
          },
          "metadata": {
            "tags": []
          },
          "execution_count": 90
        }
      ]
    },
    {
      "cell_type": "code",
      "metadata": {
        "colab": {
          "base_uri": "https://localhost:8080/"
        },
        "id": "Z_Nq-QXTe_CG",
        "outputId": "b753fcce-1bfc-4731-c668-812374ffe201"
      },
      "source": [
        "c.storage_offset()"
      ],
      "execution_count": 91,
      "outputs": [
        {
          "output_type": "execute_result",
          "data": {
            "text/plain": [
              "7"
            ]
          },
          "metadata": {
            "tags": []
          },
          "execution_count": 91
        }
      ]
    },
    {
      "cell_type": "code",
      "metadata": {
        "id": "XA05KQa0m2WJ"
      },
      "source": [
        "t1 = torch.tensor([4,4])"
      ],
      "execution_count": 92,
      "outputs": []
    },
    {
      "cell_type": "code",
      "metadata": {
        "colab": {
          "base_uri": "https://localhost:8080/"
        },
        "id": "dhkL3_KmnTjB",
        "outputId": "2a5f8f21-3193-4f79-9c5d-33dd3be65f36"
      },
      "source": [
        "t1.float()"
      ],
      "execution_count": 97,
      "outputs": [
        {
          "output_type": "execute_result",
          "data": {
            "text/plain": [
              "tensor([4., 4.])"
            ]
          },
          "metadata": {
            "tags": []
          },
          "execution_count": 97
        }
      ]
    },
    {
      "cell_type": "code",
      "metadata": {
        "colab": {
          "base_uri": "https://localhost:8080/"
        },
        "id": "5v4naBLCm7HF",
        "outputId": "7865090d-6ce5-4d93-ad1c-345c21057bec"
      },
      "source": [
        "torch.sqrt(t1.float())"
      ],
      "execution_count": 98,
      "outputs": [
        {
          "output_type": "execute_result",
          "data": {
            "text/plain": [
              "tensor([2., 2.])"
            ]
          },
          "metadata": {
            "tags": []
          },
          "execution_count": 98
        }
      ]
    },
    {
      "cell_type": "code",
      "metadata": {
        "colab": {
          "base_uri": "https://localhost:8080/"
        },
        "id": "gECAXGeRnQEc",
        "outputId": "b974514e-498d-4a7f-d77e-e9744f7ed2de"
      },
      "source": [
        "t1"
      ],
      "execution_count": 96,
      "outputs": [
        {
          "output_type": "execute_result",
          "data": {
            "text/plain": [
              "tensor([4, 4])"
            ]
          },
          "metadata": {
            "tags": []
          },
          "execution_count": 96
        }
      ]
    },
    {
      "cell_type": "markdown",
      "metadata": {
        "id": "07IaPSCbnd4W"
      },
      "source": [
        "3.14 Exercises<br>\r\n",
        "1 Create a tensor a from list(range(9)). Predict and then check the size,<br> offset,<br>\r\n",
        "and stride.<br>\r\n",
        "a Create a new tensor using b = a.view(3, 3). What does view do? Check<br>\r\n",
        "that a and b share the same storage.<br>\r\n",
        "b Create a tensor c = b[1:,1:]. Predict and then check the size, offset, and<br>\r\n",
        "stride.<br>\r\n",
        "2 Pick a mathematical operation like cosine or square root. Can you find a<br> corresponding function in the torch library?<br>\r\n",
        "a Apply the function element-wise to a. Why does it return an error?<br>\r\n",
        "b What operation is required to make the function work?<br>\r\n",
        "c Is there a version of your function that operates in place?<br>"
      ]
    },
    {
      "cell_type": "code",
      "metadata": {
        "id": "cp-dpTCLm9Pz"
      },
      "source": [
        ""
      ],
      "execution_count": null,
      "outputs": []
    }
  ]
}